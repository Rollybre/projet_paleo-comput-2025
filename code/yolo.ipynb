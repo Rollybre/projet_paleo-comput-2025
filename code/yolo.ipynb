{
 "cells": [
  {
   "cell_type": "code",
   "execution_count": 1,
   "metadata": {
    "_cell_guid": "b1076dfc-b9ad-4769-8c92-a6c4dae69d19",
    "_uuid": "8f2839f25d086af736a60e9eeb907d3b93b6e0e5",
    "execution": {
     "iopub.execute_input": "2025-07-01T09:57:55.708693Z",
     "iopub.status.busy": "2025-07-01T09:57:55.708010Z",
     "iopub.status.idle": "2025-07-01T09:57:56.052473Z",
     "shell.execute_reply": "2025-07-01T09:57:56.051815Z",
     "shell.execute_reply.started": "2025-07-01T09:57:55.708639Z"
    },
    "trusted": true
   },
   "outputs": [
    {
     "name": "stdout",
     "output_type": "stream",
     "text": [
      "/kaggle/input/epigraphie-grecque/data_clean/Prayers + prayer invocation/1.17._Fragment_of_donors_prayer.jpg\n",
      "/kaggle/input/epigraphie-grecque/data_clean/Prayers + prayer invocation/1.34._Graffiti_names_and_prayers_A.jpg\n",
      "/kaggle/input/epigraphie-grecque/data_clean/Prayers + prayer invocation/1.19._Prayer_of_Asterios_B.jpg\n",
      "/kaggle/input/epigraphie-grecque/data_clean/Prayers + prayer invocation/1.405._Prayer.jpg\n",
      "/kaggle/input/epigraphie-grecque/data_clean/Prayers + prayer invocation/1.12._Prayer_of_Theodoretos_and_Kyriakos_A.jpg\n",
      "/kaggle/input/epigraphie-grecque/data_clean/Prayers + prayer invocation/1.12._Prayer_of_Theodoretos_and_Kyriakos_B.jpg\n",
      "/kaggle/input/epigraphie-grecque/data_clean/Prayers + prayer invocation/5.122._Donor_prayer_from_a_church.jpg\n",
      "/kaggle/input/epigraphie-grecque/data_clean/Prayers + prayer invocation/11.516._Text_at_an_entrance.jpg\n",
      "/kaggle/input/epigraphie-grecque/data_clean/Prayers + prayer invocation/1.20._Prayer_of_Theodoros.jpg\n",
      "/kaggle/input/epigraphie-grecque/data_clean/Prayers + prayer invocation/15.353._Invocation.jpg\n",
      "/kaggle/input/epigraphie-grecque/data_clean/Prayers + prayer invocation/1.13._Prayer_of_donors,_including_Theodoretos_and_Kyriakos_A.jpg\n",
      "/kaggle/input/epigraphie-grecque/data_clean/Prayers + prayer invocation/1.19._Prayer_of_Asterios_A.jpg\n",
      "/kaggle/input/epigraphie-grecque/data_clean/Prayers + prayer invocation/1.26._Name,_Philippos_(prayer_or_invocation).jpg\n",
      "/kaggle/input/epigraphie-grecque/data_clean/Prayers + prayer invocation/1.14._Prayer_of_Anastasios,_donor_B.jpg\n",
      "/kaggle/input/epigraphie-grecque/data_clean/Prayers + prayer invocation/1.3._Prayer_of_the_builders.jpg\n",
      "/kaggle/input/epigraphie-grecque/data_clean/Prayers + prayer invocation/11.67._Name.jpg\n",
      "/kaggle/input/epigraphie-grecque/data_clean/Prayers + prayer invocation/1.14._Prayer_of_Anastasios,_donor_A.jpg\n",
      "/kaggle/input/epigraphie-grecque/data_clean/Prayers + prayer invocation/1.16._Prayer_of_donor.jpg\n",
      "/kaggle/input/epigraphie-grecque/data_clean/Prayers + prayer invocation/1.22._Prayers_on_West_Door_of_Temple-Church_(north).jpg\n",
      "/kaggle/input/epigraphie-grecque/data_clean/Prayers + prayer invocation/1.14._Prayer_of_Anastasios,_donor_E.jpg\n",
      "/kaggle/input/epigraphie-grecque/data_clean/Prayers + prayer invocation/11.64._Prayer_of_Damocharis,_cursor.jpg\n",
      "/kaggle/input/epigraphie-grecque/data_clean/Prayers + prayer invocation/1.14._Prayer_of_Anastasios,_donor_C.jpg\n",
      "/kaggle/input/epigraphie-grecque/data_clean/Prayers + prayer invocation/1.14._Prayer_of_Anastasios,_donor_D.jpg\n",
      "/kaggle/input/epigraphie-grecque/data_clean/Prayers + prayer invocation/1.21._Prayers_on_West_Door_of_Temple-Church_(south).jpg\n",
      "/kaggle/input/epigraphie-grecque/data_clean/Prayers + prayer invocation/8.269._Invocation.jpg\n",
      "/kaggle/input/epigraphie-grecque/data_clean/Prayers + prayer invocation/11.225._Prayer_of_Theodoros,_the_Bell.jpg\n",
      "/kaggle/input/epigraphie-grecque/data_clean/Prayers + prayer invocation/1.34._Graffiti_names_and_prayers_B.jpg\n",
      "/kaggle/input/epigraphie-grecque/data_clean/Prayers + prayer invocation/1.32._Names.jpg\n",
      "/kaggle/input/epigraphie-grecque/data_clean/Prayers + prayer invocation/1.23._Prayer_of_or_to_Michael.jpg\n",
      "/kaggle/input/epigraphie-grecque/data_clean/Prayers + prayer invocation/1.13._Prayer_of_donors,_including_Theodoretos_and_Kyriakos_B.jpg\n",
      "/kaggle/input/epigraphie-grecque/data_clean/Honours/9.31._Honours_for_Julia,_daughter_of_Drusus.jpg\n",
      "/kaggle/input/epigraphie-grecque/data_clean/Honours/15.265._Fragmentary_honours.jpg\n",
      "/kaggle/input/epigraphie-grecque/data_clean/Honours/1.128._Honours_for_···_son_of_Hypsikles_son_of_Hypsikles.jpg\n",
      "/kaggle/input/epigraphie-grecque/data_clean/Honours/1.179._Honours_for_Marcus_Aurelius_Zenas_C.jpg\n",
      "/kaggle/input/epigraphie-grecque/data_clean/Honours/15.17._Fragmentary_honours.jpg\n",
      "/kaggle/input/epigraphie-grecque/data_clean/Honours/12.534._Honours_for_M._Aurelius_Ariston_establishment_of_a_foundation_by_Aurelia_Ammia_B.jpg\n",
      "/kaggle/input/epigraphie-grecque/data_clean/Honours/5.120._Verse_honours_for_Eupeithios.jpg\n",
      "/kaggle/input/epigraphie-grecque/data_clean/Honours/12.108._Dedication_for_Emperors_and_Caesars.jpg\n",
      "/kaggle/input/epigraphie-grecque/data_clean/Honours/8.405._Honours_for_Julian_by_Antonius_Tatianos_B.jpg\n",
      "/kaggle/input/epigraphie-grecque/data_clean/Honours/2.20._Epigram_for_Pytheas_I.jpg\n",
      "/kaggle/input/epigraphie-grecque/data_clean/Honours/1.160._Posthumous_honours_for_Dionysios,_and_a_foundation_B.jpg\n",
      "/kaggle/input/epigraphie-grecque/data_clean/Honours/5.10._i._Honours_for_Marcus_Antonius_Popillius_Andronikos_ii._Fl._Photios_gives_a_gameboard_B.jpg\n",
      "/kaggle/input/epigraphie-grecque/data_clean/Honours/12.612._Decree_of_honours_for_Dionysios_son_of_Papylos.jpg\n",
      "/kaggle/input/epigraphie-grecque/data_clean/Honours/8.83._Honours_for_Tib._Cl._Apollonios_Markianos.jpg\n",
      "/kaggle/input/epigraphie-grecque/data_clean/Honours/1.182._Honours_for_Meliton,_kitharist_G.jpg\n",
      "/kaggle/input/epigraphie-grecque/data_clean/Honours/8.405._Honours_for_Julian_by_Antonius_Tatianos_A.jpg\n",
      "/kaggle/input/epigraphie-grecque/data_clean/Honours/15.319._Honours_for_Tib._Cl._Apollonios_Aurelianos.jpg\n",
      "/kaggle/input/epigraphie-grecque/data_clean/Honours/7.8._Posthumous_honours_for_Lykidas_Zenon.jpg\n",
      "/kaggle/input/epigraphie-grecque/data_clean/Honours/1.171._Honours_for_Lucius_Antonius_Karpion_Aurelianos,_who_has_established_a_foundation_B.jpg\n",
      "/kaggle/input/epigraphie-grecque/data_clean/Honours/1.171._Honours_for_Lucius_Antonius_Karpion_Aurelianos,_who_has_established_a_foundation_A.jpg\n",
      "/kaggle/input/epigraphie-grecque/data_clean/Honours/12.201._Decree_of_honours_for_Pereitas.jpg\n",
      "/kaggle/input/epigraphie-grecque/data_clean/Honours/12.931._Honours_for_Aur(elius)_Gaius,_centurio_frumentarius.jpg\n",
      "/kaggle/input/epigraphie-grecque/data_clean/Honours/8.39._Honours_for_Hosidius_Ioulianos_B.jpg\n",
      "/kaggle/input/epigraphie-grecque/data_clean/Honours/12.711._Funerary_honours_for_anonymous,_pancratiast_E.jpg\n",
      "/kaggle/input/epigraphie-grecque/data_clean/Honours/15.257._Fragmentary_honours.jpg\n",
      "/kaggle/input/epigraphie-grecque/data_clean/Honours/1.158._Honours_for_anonymous_E.jpg\n",
      "/kaggle/input/epigraphie-grecque/data_clean/Honours/4.202._Verse_honours_i._for_Ampelios,_father_of_the_city_ii._and_iii._for_Doulkitios,_governor,_on_the_Agora_Gate_D.jpg\n",
      "/kaggle/input/epigraphie-grecque/data_clean/Honours/2.20._Epigram_for_Pytheas_F.jpg\n",
      "/kaggle/input/epigraphie-grecque/data_clean/Honours/2.110._i._Honours_for_Septimus_Severus_ii._Building_inscription_of_Antonius_Priskos_A.jpg\n",
      "/kaggle/input/epigraphie-grecque/data_clean/Honours/12.924._Honours_for_the_People_of_Keretapa.jpg\n",
      "/kaggle/input/epigraphie-grecque/data_clean/Honours/12.1102._Honours_for_Sokrates_son_of_Theophrastos.jpg\n",
      "/kaggle/input/epigraphie-grecque/data_clean/Honours/8.243._Honours.jpg\n",
      "/kaggle/input/epigraphie-grecque/data_clean/Honours/8.87._Honours_for_Kandidianos,_circuit-victor.jpg\n",
      "/kaggle/input/epigraphie-grecque/data_clean/Honours/14.12._Honours_for_the_people_of_Aphrodisias.jpg\n",
      "/kaggle/input/epigraphie-grecque/data_clean/Honours/13.105._Funerary_honours_for_Peritas_Kallimedes_and_his_wife_Tatia.jpg\n",
      "/kaggle/input/epigraphie-grecque/data_clean/Honours/12.644._Honours_for_M._Aurelius_Diogenes_B.jpg\n",
      "/kaggle/input/epigraphie-grecque/data_clean/Honours/12.502._Funerary_honours_for_Epainetos.jpg\n",
      "/kaggle/input/epigraphie-grecque/data_clean/Honours/11.222._Honours_for_Andreas,_son_of_Androneikianos,_boy_runner.jpg\n",
      "/kaggle/input/epigraphie-grecque/data_clean/Honours/4.202._Verse_honours_i._for_Ampelios,_father_of_the_city_ii._and_iii._for_Doulkitios,_governor,_on_the_Agora_Gate_F.jpg\n",
      "/kaggle/input/epigraphie-grecque/data_clean/Honours/12.417._Honours_for_Apollonios_the_high-priest.jpg\n",
      "/kaggle/input/epigraphie-grecque/data_clean/Honours/12.413._Honours_for_anonymous,_having_held_every_office_in_the_city_C.jpg\n",
      "/kaggle/input/epigraphie-grecque/data_clean/Honours/12.101._i._Honours_for_Flavius_Constantius,_governor,_for_building_the_wall_ii._Flavius_Ampelios_restores_the_gate_C.jpg\n",
      "/kaggle/input/epigraphie-grecque/data_clean/Honours/5.215._Honours_for_a_comes_A.jpg\n",
      "/kaggle/input/epigraphie-grecque/data_clean/Honours/1.158._Honours_for_anonymous_D.jpg\n",
      "/kaggle/input/epigraphie-grecque/data_clean/Honours/12.716._Honours_for_Kallimorphos,_flautist.jpg\n",
      "/kaggle/input/epigraphie-grecque/data_clean/Honours/1.179._Honours_for_Marcus_Aurelius_Zenas_D.jpg\n",
      "/kaggle/input/epigraphie-grecque/data_clean/Honours/12.27._Honours_for_C._Julius_Longianos,_poet.jpg\n",
      "/kaggle/input/epigraphie-grecque/data_clean/Honours/15.2._Fragmentary_honours.jpg\n",
      "/kaggle/input/epigraphie-grecque/data_clean/Honours/1.182._Honours_for_Meliton,_kitharist_B.jpg\n",
      "/kaggle/input/epigraphie-grecque/data_clean/Honours/6.103._Honours_for_P._Aelius_Septimius_Mannus,_governor.jpg\n",
      "/kaggle/input/epigraphie-grecque/data_clean/Honours/5.121._Verse_honours_for_Menandros,_vicar.jpg\n",
      "/kaggle/input/epigraphie-grecque/data_clean/Honours/11.214._Fragment,_from_honours.jpg\n",
      "/kaggle/input/epigraphie-grecque/data_clean/Honours/4.201._Honours_for_Antoninus_Pius.jpg\n",
      "/kaggle/input/epigraphie-grecque/data_clean/Honours/4.202._Verse_honours_i._for_Ampelios,_father_of_the_city_ii._and_iii._for_Doulkitios,_governor,_on_the_Agora_Gate_B.jpg\n",
      "/kaggle/input/epigraphie-grecque/data_clean/Honours/2.20._Epigram_for_Pytheas_E.jpg\n",
      "/kaggle/input/epigraphie-grecque/data_clean/Honours/12.410._Honours_for_Mithridates_son_of_Athenagoras.jpg\n",
      "/kaggle/input/epigraphie-grecque/data_clean/Honours/12.708._Honours_for_M._Antonius_Zenon_Ulpianos.jpg\n",
      "/kaggle/input/epigraphie-grecque/data_clean/Honours/12.711._Funerary_honours_for_anonymous,_pancratiast_D.jpg\n",
      "/kaggle/input/epigraphie-grecque/data_clean/Honours/1.118._Honours_for_anonymous,_overseen_by_Marcus_Aurelius_Zenas_B.jpg\n",
      "/kaggle/input/epigraphie-grecque/data_clean/Honours/8.203._Honours_for_Gaius_Julius_Zoilos.jpg\n",
      "/kaggle/input/epigraphie-grecque/data_clean/Honours/12.1020._Honours_for_Ulpia_Carminia_Claudiana.jpg\n",
      "/kaggle/input/epigraphie-grecque/data_clean/Honours/12.514._Honours_for_Emperor_Tiberius.jpg\n",
      "/kaggle/input/epigraphie-grecque/data_clean/Honours/11.5._Honours_for_Papulos,_contest-president.jpg\n",
      "/kaggle/input/epigraphie-grecque/data_clean/Honours/12.413._Honours_for_anonymous,_having_held_every_office_in_the_city_B.jpg\n",
      "/kaggle/input/epigraphie-grecque/data_clean/Honours/1.157._Honours_for_anonymous,_erected_by_Diodoros.jpg\n",
      "/kaggle/input/epigraphie-grecque/data_clean/Honours/12.925._Honours_for_the_People_of_Hierapolis.jpg\n",
      "/kaggle/input/epigraphie-grecque/data_clean/Honours/15.272._Honours_for···.jpg\n",
      "/kaggle/input/epigraphie-grecque/data_clean/Honours/1.179._Honours_for_Marcus_Aurelius_Zenas_B.jpg\n",
      "/kaggle/input/epigraphie-grecque/data_clean/Honours/12.203._Posthumous_honours_for_Attinas_son_of_Theodoros.jpg\n",
      "/kaggle/input/epigraphie-grecque/data_clean/Honours/1.159._Honours_for_daughter_of_Hephaistion_A.jpg\n",
      "/kaggle/input/epigraphie-grecque/data_clean/Honours/12.534._Honours_for_M._Aurelius_Ariston_establishment_of_a_foundation_by_Aurelia_Ammia_A.jpg\n",
      "/kaggle/input/epigraphie-grecque/data_clean/Honours/12.5._Posthumous_honours_for_Ammia_daughter_of_Attalos_C.jpg\n",
      "/kaggle/input/epigraphie-grecque/data_clean/Honours/2.705._Fragment_of_honours_for_Marcus_Aurelius···.jpg\n",
      "/kaggle/input/epigraphie-grecque/data_clean/Honours/12.802._Honours_for_female_stephanephorus.jpg\n",
      "/kaggle/input/epigraphie-grecque/data_clean/Honours/1.187._Honours_for_..._daughter_of_...lianos_B.jpg\n",
      "/kaggle/input/epigraphie-grecque/data_clean/Honours/2.20._Epigram_for_Pytheas_C.jpg\n",
      "/kaggle/input/epigraphie-grecque/data_clean/Honours/4.101._Honours_for_an_anonymous_benefactor,_Solon_son_of_Demetrios.jpg\n",
      "/kaggle/input/epigraphie-grecque/data_clean/Honours/12.12._Honours_probably_for_Kallikrates_son_of_Molossos.jpg\n",
      "/kaggle/input/epigraphie-grecque/data_clean/Honours/4.118._Honours_for_Julia_Faustina_by_her_husband.jpg\n",
      "/kaggle/input/epigraphie-grecque/data_clean/Honours/12.539._Honours_for_M._Aur._Cl._Ktesias.jpg\n",
      "/kaggle/input/epigraphie-grecque/data_clean/Honours/12.1011._Honours_for_Zenon_son_of_Menippos.jpg\n",
      "/kaggle/input/epigraphie-grecque/data_clean/Honours/11.104._Honours_for_an_emperor,_Augustus_Germanicus_A.jpg\n",
      "/kaggle/input/epigraphie-grecque/data_clean/Honours/2.101._Honours_by_People_for_Council_B.jpg\n",
      "/kaggle/input/epigraphie-grecque/data_clean/Honours/3.8._i._Verse_honours_for_Oikoumenios_ii._Invocation.jpg\n",
      "/kaggle/input/epigraphie-grecque/data_clean/Honours/8.39._Honours_for_Hosidius_Ioulianos_D.jpg\n",
      "/kaggle/input/epigraphie-grecque/data_clean/Honours/6.5._Verse_honours_for_Ioannes,_governor_of_Caria_A.jpg\n",
      "/kaggle/input/epigraphie-grecque/data_clean/Honours/8.84._Honours_for_Claudius_Zelos_C.jpg\n",
      "/kaggle/input/epigraphie-grecque/data_clean/Honours/15.214._Honours_for_Papias.jpg\n",
      "/kaggle/input/epigraphie-grecque/data_clean/Honours/1.182._Honours_for_Meliton,_kitharist_D.jpg\n",
      "/kaggle/input/epigraphie-grecque/data_clean/Honours/12.645._Honours_for_M._Aurelius_Diogenes.jpg\n",
      "/kaggle/input/epigraphie-grecque/data_clean/Honours/1.176._Honours_for_anonymous.jpg\n",
      "/kaggle/input/epigraphie-grecque/data_clean/Honours/11.48._Honours_for_Dionysios_son_of_Mo···.jpg\n",
      "/kaggle/input/epigraphie-grecque/data_clean/Honours/9.27._Honours_for_Lucius_Caesar.jpg\n",
      "/kaggle/input/epigraphie-grecque/data_clean/Honours/1.160._Posthumous_honours_for_Dionysios,_and_a_foundation_A.jpg\n",
      "/kaggle/input/epigraphie-grecque/data_clean/Honours/13.6._Posthumous_honours_for_Pyrrhos_son_of_Pyrrhos_A.jpg\n",
      "/kaggle/input/epigraphie-grecque/data_clean/Honours/2.16._Honours_for_Attalos_and_Diogenes,_brothers_D.jpg\n",
      "/kaggle/input/epigraphie-grecque/data_clean/Honours/12.912._Honours_for_Marcus_Aurelius_Gaitulikos.jpg\n",
      "/kaggle/input/epigraphie-grecque/data_clean/Honours/12.202._Honours_for_Adrastos_son_of_Adrastos,_sacred_victor.jpg\n",
      "/kaggle/input/epigraphie-grecque/data_clean/Honours/12.511._Fragmentary_honours.jpg\n",
      "/kaggle/input/epigraphie-grecque/data_clean/Honours/1.183._Honours_for_Aurelia_Kelesteina_B.jpg\n",
      "/kaggle/input/epigraphie-grecque/data_clean/Honours/12.1018._Honours_for_M._Fl._Karminios_Athenagoras_Livianos.jpg\n",
      "/kaggle/input/epigraphie-grecque/data_clean/Honours/2.13._a._Honours_for_Claudia_Antonia_Tatiane_b._Sculptors_signature,_of_Alexandros.jpg\n",
      "/kaggle/input/epigraphie-grecque/data_clean/Honours/11.414._Honours_for_Lucius_Egnatius_Victor_Lollianus,_proconsul.jpg\n",
      "/kaggle/input/epigraphie-grecque/data_clean/Honours/1.148._Fragmentary_honours_in_Temple.jpg\n",
      "/kaggle/input/epigraphie-grecque/data_clean/Honours/12.17._Honours_for_Publius_Aelius_Hilarianos_from_his_father.jpg\n",
      "/kaggle/input/epigraphie-grecque/data_clean/Honours/9.32._Honours_for_Agrippina,_daughter_of_Germanicus.jpg\n",
      "/kaggle/input/epigraphie-grecque/data_clean/Honours/12.804._Honours_for_anonymous.jpg\n",
      "/kaggle/input/epigraphie-grecque/data_clean/Honours/12.316._Fragmentary_honours.jpg\n",
      "/kaggle/input/epigraphie-grecque/data_clean/Honours/12.402._Restoration_of_the_honours_for_his_ancestor_by_Kallikrates.jpg\n",
      "/kaggle/input/epigraphie-grecque/data_clean/Honours/12.104._Posthumous_honours_for_Theodotos_son_of_Andronikos_A.jpg\n",
      "/kaggle/input/epigraphie-grecque/data_clean/Honours/9.38._Honours_for_Germanicus_Caesar.jpg\n",
      "/kaggle/input/epigraphie-grecque/data_clean/Honours/12.639._Honours_for_Marcus_Aurelius_...nus_son_of_Artemon.jpg\n",
      "/kaggle/input/epigraphie-grecque/data_clean/Honours/11.15._Honours_for_Tiberius_Claudius_Diogenes.jpg\n",
      "/kaggle/input/epigraphie-grecque/data_clean/Honours/1.159._Honours_for_daughter_of_Hephaistion_B.jpg\n",
      "/kaggle/input/epigraphie-grecque/data_clean/Honours/12.641._Honours_for_Caracalla.jpg\n",
      "/kaggle/input/epigraphie-grecque/data_clean/Honours/4.20._Verse_honours_for_Albinos_A.jpg\n",
      "/kaggle/input/epigraphie-grecque/data_clean/Honours/5.217._Fl._Eutolmius_Tatianos_honours_Honorius.jpg\n",
      "/kaggle/input/epigraphie-grecque/data_clean/Honours/5.17._Second_honours_for_Rhodopaios_B.jpg\n",
      "/kaggle/input/epigraphie-grecque/data_clean/Honours/12.719._Decree_of_honours_for_Kallikrates_son_of_Diogenes,pancratiast.jpg\n",
      "/kaggle/input/epigraphie-grecque/data_clean/Honours/11.18._Posthumous_honours_for_M._Quintilius_Pedukaios.jpg\n",
      "/kaggle/input/epigraphie-grecque/data_clean/Honours/11.515._Honours_for_Rhodopaios,_for_the_third_time_A.jpg\n",
      "/kaggle/input/epigraphie-grecque/data_clean/Honours/11.409._Honours_for_Chaireas.jpg\n",
      "/kaggle/input/epigraphie-grecque/data_clean/Honours/12.28._Posthumous_honours_for_Tiberius_Claudius_Ktesias,_who_established_a_foundation.jpg\n",
      "/kaggle/input/epigraphie-grecque/data_clean/Honours/12.706._Honours_for_Aristokles_Molossos.jpg\n",
      "/kaggle/input/epigraphie-grecque/data_clean/Honours/1.182._Honours_for_Meliton,_kitharist_E.jpg\n",
      "/kaggle/input/epigraphie-grecque/data_clean/Honours/11.515._Honours_for_Rhodopaios,_for_the_third_time_E.jpg\n",
      "/kaggle/input/epigraphie-grecque/data_clean/Honours/12.101._i._Honours_for_Flavius_Constantius,_governor,_for_building_the_wall_ii._Flavius_Ampelios_restores_the_gate_B.jpg\n",
      "/kaggle/input/epigraphie-grecque/data_clean/Honours/12.929._Honours_for_the_People_of_Tabae.jpg\n",
      "/kaggle/input/epigraphie-grecque/data_clean/Honours/2.20._Epigram_for_Pytheas_A.jpg\n",
      "/kaggle/input/epigraphie-grecque/data_clean/Honours/8.709._Honours_for_Flavius_Carminius_Klaudianos.jpg\n",
      "/kaggle/input/epigraphie-grecque/data_clean/Honours/13.6._Posthumous_honours_for_Pyrrhos_son_of_Pyrrhos_B.jpg\n",
      "/kaggle/input/epigraphie-grecque/data_clean/Honours/1.158._Honours_for_anonymous_A.jpg\n",
      "/kaggle/input/epigraphie-grecque/data_clean/Honours/9.29._Honours_for_Gaius_Caesar.jpg\n",
      "/kaggle/input/epigraphie-grecque/data_clean/Honours/8.407._Verse_honours_for_a_governor_A.jpg\n",
      "/kaggle/input/epigraphie-grecque/data_clean/Honours/8.407._Verse_honours_for_a_governor_B.jpg\n",
      "/kaggle/input/epigraphie-grecque/data_clean/Honours/12.308._Posthumous_honours_for_Adrastos_son_of_Nikotimos.jpg\n",
      "/kaggle/input/epigraphie-grecque/data_clean/Honours/3.4._i._Dedication_to_Patris_by_Zenon_son_of_Euthymos_and_others_ii._The_Phrygian_Metropolis_honours_Alexandros,_in_verse.jpg\n",
      "/kaggle/input/epigraphie-grecque/data_clean/Honours/15.322._Honours_for_anonymous.jpg\n",
      "/kaggle/input/epigraphie-grecque/data_clean/Honours/2.20._Epigram_for_Pytheas_H.jpg\n",
      "/kaggle/input/epigraphie-grecque/data_clean/Honours/4.311._Honours_for_an_Emperor,_Justinian.jpg\n",
      "/kaggle/input/epigraphie-grecque/data_clean/Honours/1.182._Honours_for_Meliton,_kitharist_F.jpg\n",
      "/kaggle/input/epigraphie-grecque/data_clean/Honours/12.1006._Posthumous_honours_for_Iason_son_of_Menodotos.jpg\n",
      "/kaggle/input/epigraphie-grecque/data_clean/Honours/3.101._Honours_for_Marcus_and_Publius_Vinicius.jpg\n",
      "/kaggle/input/epigraphie-grecque/data_clean/Honours/12.623._Honours_for_M._Valerius_Epaphrodeitos,_singer_to_the_kithara.jpg\n",
      "/kaggle/input/epigraphie-grecque/data_clean/Honours/15.288._Honours_for_anonymous.jpg\n",
      "/kaggle/input/epigraphie-grecque/data_clean/Honours/2.20._Epigram_for_Pytheas_G.jpg\n",
      "/kaggle/input/epigraphie-grecque/data_clean/Honours/9.30._Honours_for_Tiberius_Claudius_Drusus.jpg\n",
      "/kaggle/input/epigraphie-grecque/data_clean/Honours/8.235._Honours_for_Lucius_Antonius_Ze···.jpg\n",
      "/kaggle/input/epigraphie-grecque/data_clean/Honours/11.515._Honours_for_Rhodopaios,_for_the_third_time_D.jpg\n",
      "/kaggle/input/epigraphie-grecque/data_clean/Honours/1.189._Honours_for_Licinius_Valerianus_B.jpg\n",
      "/kaggle/input/epigraphie-grecque/data_clean/Honours/9.28._Honours_for_Drusus_Caesar.jpg\n",
      "/kaggle/input/epigraphie-grecque/data_clean/Honours/4.20._Verse_honours_for_Albinos_B.jpg\n",
      "/kaggle/input/epigraphie-grecque/data_clean/Honours/12.1008._Public_honours_for_anonymous.jpg\n",
      "/kaggle/input/epigraphie-grecque/data_clean/Honours/2.20._Epigram_for_Pytheas_B.jpg\n",
      "/kaggle/input/epigraphie-grecque/data_clean/Honours/12.319._Decree_of_honours_for_Praxiteles_son_of_Aristeas.jpg\n",
      "/kaggle/input/epigraphie-grecque/data_clean/Honours/8.84._Honours_for_Claudius_Zelos_A.jpg\n",
      "/kaggle/input/epigraphie-grecque/data_clean/Honours/2.101._Honours_by_People_for_Council_A.jpg\n",
      "/kaggle/input/epigraphie-grecque/data_clean/Honours/12.613._Honours_for_Tiberius_Claudius_Hierokles.jpg\n",
      "/kaggle/input/epigraphie-grecque/data_clean/Honours/5.214._Honours_for_Aurelius_Achilles_B.jpg\n",
      "/kaggle/input/epigraphie-grecque/data_clean/Honours/1.189._Honours_for_Licinius_Valerianus_C.jpg\n",
      "/kaggle/input/epigraphie-grecque/data_clean/Honours/11.4._Honours_for_Panphilos_Krokion.jpg\n",
      "/kaggle/input/epigraphie-grecque/data_clean/Honours/4.202._Verse_honours_i._for_Ampelios,_father_of_the_city_ii._and_iii._for_Doulkitios,_governor,_on_the_Agora_Gate_A.jpg\n",
      "/kaggle/input/epigraphie-grecque/data_clean/Honours/11.16._Honours_for_Adrastos.jpg\n",
      "/kaggle/input/epigraphie-grecque/data_clean/Honours/12.413._Honours_for_anonymous,_having_held_every_office_in_the_city_A.jpg\n",
      "/kaggle/input/epigraphie-grecque/data_clean/Honours/12.910._Fragmentary_honours.jpg\n",
      "/kaggle/input/epigraphie-grecque/data_clean/Honours/12.711._Funerary_honours_for_anonymous,_pancratiast_B.jpg\n",
      "/kaggle/input/epigraphie-grecque/data_clean/Honours/5.17._Second_honours_for_Rhodopaios_A.jpg\n",
      "/kaggle/input/epigraphie-grecque/data_clean/Honours/5.214._Honours_for_Aurelius_Achilles_A.jpg\n",
      "/kaggle/input/epigraphie-grecque/data_clean/Honours/2.110._i._Honours_for_Septimus_Severus_ii._Building_inscription_of_Antonius_Priskos_D.jpg\n",
      "/kaggle/input/epigraphie-grecque/data_clean/Honours/1.196._Verse_honours_for_Ioannes,_leader_of_the_Council_A.jpg\n",
      "/kaggle/input/epigraphie-grecque/data_clean/Honours/9.26._Honours_for_Antonia_Augusta.jpg\n",
      "/kaggle/input/epigraphie-grecque/data_clean/Honours/12.1019._Posthumous_honours_for_Tiberius_Cl(audius)_Antonius_Ammianos.jpg\n",
      "/kaggle/input/epigraphie-grecque/data_clean/Honours/1.187._Honours_for_..._daughter_of_...lianos_A.jpg\n",
      "/kaggle/input/epigraphie-grecque/data_clean/Honours/15.325._Fragmentary_honours.jpg\n",
      "/kaggle/input/epigraphie-grecque/data_clean/Honours/12.707._Honours_for_Tryphe.jpg\n",
      "/kaggle/input/epigraphie-grecque/data_clean/Honours/1.177._Honours_for_Zenon_son_of_Zenon,_wrestler_A.jpg\n",
      "/kaggle/input/epigraphie-grecque/data_clean/Honours/8.252._Honours.jpg\n",
      "/kaggle/input/epigraphie-grecque/data_clean/Honours/12.636._Opening_line_of_honours_formula.jpg\n",
      "/kaggle/input/epigraphie-grecque/data_clean/Honours/2.16._Honours_for_Attalos_and_Diogenes,_brothers_C.jpg\n",
      "/kaggle/input/epigraphie-grecque/data_clean/Honours/1.182._Honours_for_Meliton,_kitharist_C.jpg\n",
      "/kaggle/input/epigraphie-grecque/data_clean/Honours/8.406._i._Honours_for_Titus_Falvius_Sallustios_Athenagoras_ii._Honours_for_Valens_by_Antonius_Tatianos.jpg\n",
      "/kaggle/input/epigraphie-grecque/data_clean/Honours/5.216._Honours_for_Aelia_Flaccilla_B.jpg\n",
      "/kaggle/input/epigraphie-grecque/data_clean/Honours/2.110._i._Honours_for_Septimus_Severus_ii._Building_inscription_of_Antonius_Priskos_E.jpg\n",
      "/kaggle/input/epigraphie-grecque/data_clean/Honours/4.309._Honours_for_T._Oppius_Aelianus_Asklepiodotos.jpg\n",
      "/kaggle/input/epigraphie-grecque/data_clean/Honours/15.258._Honours_for_anonymous.jpg\n",
      "/kaggle/input/epigraphie-grecque/data_clean/Honours/12.534._Honours_for_M._Aurelius_Ariston_establishment_of_a_foundation_by_Aurelia_Ammia_D.jpg\n",
      "/kaggle/input/epigraphie-grecque/data_clean/Honours/11.62._Honours_for_Cornelia_Salonina.jpg\n",
      "/kaggle/input/epigraphie-grecque/data_clean/Honours/5.18._Eugenios_is_honoured_by_the_boule.jpg\n",
      "/kaggle/input/epigraphie-grecque/data_clean/Honours/2.505._Fragment,_of_honours.jpg\n",
      "/kaggle/input/epigraphie-grecque/data_clean/Honours/11.6._Posthumous_honours_for_Papylos_son_of_Iason.jpg\n",
      "/kaggle/input/epigraphie-grecque/data_clean/Honours/8.261._Honours_for_an_amicus_principum.jpg\n",
      "/kaggle/input/epigraphie-grecque/data_clean/Honours/11.50._Honours_for_Claudia_Paulina.jpg\n",
      "/kaggle/input/epigraphie-grecque/data_clean/Honours/4.10._Fl._Eutolmius_Tatianos_honours_Arcadius.jpg\n",
      "/kaggle/input/epigraphie-grecque/data_clean/Honours/12.101._i._Honours_for_Flavius_Constantius,_governor,_for_building_the_wall_ii._Flavius_Ampelios_restores_the_gate_A.jpg\n",
      "/kaggle/input/epigraphie-grecque/data_clean/Honours/8.38._Honours_for_Hosidius_Ioulianos_B.jpg\n",
      "/kaggle/input/epigraphie-grecque/data_clean/Honours/15.7._Funerary_fragment_or_honours.jpg\n",
      "/kaggle/input/epigraphie-grecque/data_clean/Honours/2.16._Honours_for_Attalos_and_Diogenes,_brothers_B.jpg\n",
      "/kaggle/input/epigraphie-grecque/data_clean/Honours/8.39._Honours_for_Hosidius_Ioulianos_C.jpg\n",
      "/kaggle/input/epigraphie-grecque/data_clean/Honours/8.88._i._Honours_for_Piseas,_circuit-victor._ii._Sculptors_signature_Polyneikes.jpg\n",
      "/kaggle/input/epigraphie-grecque/data_clean/Honours/12.31._Honours_for_,_son_of_Apollonios,_victor_in_a_contest_for_sculptors_at_the_first_celebration_of_the_Lysimachea_Tatianea.jpg\n",
      "/kaggle/input/epigraphie-grecque/data_clean/Honours/12.711._Funerary_honours_for_anonymous,_pancratiast_C.jpg\n",
      "/kaggle/input/epigraphie-grecque/data_clean/Honours/2.110._i._Honours_for_Septimus_Severus_ii._Building_inscription_of_Antonius_Priskos_B.jpg\n",
      "/kaggle/input/epigraphie-grecque/data_clean/Honours/15.260._Honours_for_Attalis_Apphion.jpg\n",
      "/kaggle/input/epigraphie-grecque/data_clean/Honours/1.182._Honours_for_Meliton,_kitharist_A.jpg\n",
      "/kaggle/input/epigraphie-grecque/data_clean/Honours/5.204._i._Honours_for_Pyrron_son_of_Itharos_ii._Verse_honours_for_Hermias,_benefactor_C.jpg\n",
      "/kaggle/input/epigraphie-grecque/data_clean/Honours/11.224._Honours_for_anonymous,_boy_runner.jpg\n",
      "/kaggle/input/epigraphie-grecque/data_clean/Honours/12.317._Honours_for_Lucius_Antonius_Zosas,_who_has_established_a_foundation.jpg\n",
      "/kaggle/input/epigraphie-grecque/data_clean/Honours/12.614._Honours_for_Titus_Caesar.jpg\n",
      "/kaggle/input/epigraphie-grecque/data_clean/Honours/1.171._Honours_for_Lucius_Antonius_Karpion_Aurelianos,_who_has_established_a_foundation_C.jpg\n",
      "/kaggle/input/epigraphie-grecque/data_clean/Honours/1.183._Honours_for_Aurelia_Kelesteina_A.jpg\n",
      "/kaggle/input/epigraphie-grecque/data_clean/Honours/11.47._Fragment_from_honours.jpg\n",
      "/kaggle/input/epigraphie-grecque/data_clean/Honours/11.23._Posthumous_honours_for_···nios,_who_has_established_a_foundation.jpg\n",
      "/kaggle/input/epigraphie-grecque/data_clean/Honours/8.236._Honours_for_Domitian.jpg\n",
      "/kaggle/input/epigraphie-grecque/data_clean/Honours/12.5._Posthumous_honours_for_Ammia_daughter_of_Attalos_A.jpg\n",
      "/kaggle/input/epigraphie-grecque/data_clean/Honours/8.84._Honours_for_Claudius_Zelos_B.jpg\n",
      "/kaggle/input/epigraphie-grecque/data_clean/Honours/12.701._Honours_for_an_anonymous_benefactor.jpg\n",
      "/kaggle/input/epigraphie-grecque/data_clean/Honours/9.40._Honours_for_Atia_mother_of_Augustus.jpg\n",
      "/kaggle/input/epigraphie-grecque/data_clean/Honours/12.646._Honours_for_Sallustius_family_A.jpg\n",
      "/kaggle/input/epigraphie-grecque/data_clean/Honours/4.202._Verse_honours_i._for_Ampelios,_father_of_the_city_ii._and_iii._for_Doulkitios,_governor,_on_the_Agora_Gate_E.jpg\n",
      "/kaggle/input/epigraphie-grecque/data_clean/Honours/15.266._Honours_or_dedication.jpg\n",
      "/kaggle/input/epigraphie-grecque/data_clean/Honours/5.16._First_honours_for_Rhodopaios,_in_verse_B.jpg\n",
      "/kaggle/input/epigraphie-grecque/data_clean/Honours/12.29._Honours_for_Attalos_son_of_Pytheas_and_Tatas_daughter_of_Diodoros_B.jpg\n",
      "/kaggle/input/epigraphie-grecque/data_clean/Honours/14.13._Honours_for_Tiberius_Claudius_Capitolinus.jpg\n",
      "/kaggle/input/epigraphie-grecque/data_clean/Honours/12.215._Honours_for_M._Aurelius_···os,_long-distance_runner.jpg\n",
      "/kaggle/input/epigraphie-grecque/data_clean/Honours/12.626._Honours_for_anonymous.jpg\n",
      "/kaggle/input/epigraphie-grecque/data_clean/Honours/12.312._Posthumous_honours_for_Attalos_son_of_Makedon.jpg\n",
      "/kaggle/input/epigraphie-grecque/data_clean/Honours/15.324._Fragmentary_honours.jpg\n",
      "/kaggle/input/epigraphie-grecque/data_clean/Honours/8.39._Honours_for_Hosidius_Ioulianos_A.jpg\n",
      "/kaggle/input/epigraphie-grecque/data_clean/Honours/12.602._Funerary_honours_for_Geis_and_Heraios.jpg\n",
      "/kaggle/input/epigraphie-grecque/data_clean/Honours/1.183._Honours_for_Aurelia_Kelesteina_C.jpg\n",
      "/kaggle/input/epigraphie-grecque/data_clean/Honours/1.118._Honours_for_anonymous,_overseen_by_Marcus_Aurelius_Zenas_A.jpg\n",
      "/kaggle/input/epigraphie-grecque/data_clean/Honours/9.36._Honours_for_Aemilia_Lepida.jpg\n",
      "/kaggle/input/epigraphie-grecque/data_clean/Honours/12.710._Fragmentary_honours,_second_or_third_century.jpg\n",
      "/kaggle/input/epigraphie-grecque/data_clean/Honours/12.644._Honours_for_M._Aurelius_Diogenes_A.jpg\n",
      "/kaggle/input/epigraphie-grecque/data_clean/Honours/13.152._Honours_for_Zenon_son_of_Zenon,_boy_runner_Victor_at_the_ninth_Philemoniea.jpg\n",
      "/kaggle/input/epigraphie-grecque/data_clean/Honours/12.920._Honours_for_Aelius_Aurelius_Menandros.jpg\n",
      "/kaggle/input/epigraphie-grecque/data_clean/Honours/5.204._i._Honours_for_Pyrron_son_of_Itharos_ii._Verse_honours_for_Hermias,_benefactor_B.jpg\n",
      "/kaggle/input/epigraphie-grecque/data_clean/Honours/12.5._Posthumous_honours_for_Ammia_daughter_of_Attalos_B.jpg\n",
      "/kaggle/input/epigraphie-grecque/data_clean/Honours/9.19._Honours_for_anonymous,_high-priest.jpg\n",
      "/kaggle/input/epigraphie-grecque/data_clean/Honours/12.711._Funerary_honours_for_anonymous,_pancratiast_A.jpg\n",
      "/kaggle/input/epigraphie-grecque/data_clean/Honours/7.14._Honours_for_anonymous.jpg\n",
      "/kaggle/input/epigraphie-grecque/data_clean/Honours/11.515._Honours_for_Rhodopaios,_for_the_third_time_B.jpg\n",
      "/kaggle/input/epigraphie-grecque/data_clean/Honours/1.177._Honours_for_Zenon_son_of_Zenon,_wrestler_B.jpg\n",
      "/kaggle/input/epigraphie-grecque/data_clean/Honours/12.535._Honours_for_Publius_Aelius_Hilarianos_from_his_mother.jpg\n",
      "/kaggle/input/epigraphie-grecque/data_clean/Honours/5.116._Honours_for_Marcus_···.jpg\n",
      "/kaggle/input/epigraphie-grecque/data_clean/Honours/1.158._Honours_for_anonymous_C.jpg\n",
      "/kaggle/input/epigraphie-grecque/data_clean/Honours/1.189._Honours_for_Licinius_Valerianus_A.jpg\n",
      "/kaggle/input/epigraphie-grecque/data_clean/Honours/1.177._Honours_for_Zenon_son_of_Zenon,_wrestler_C.jpg\n",
      "/kaggle/input/epigraphie-grecque/data_clean/Honours/1.201._Verse_honours_for_a_governor_A.jpg\n",
      "/kaggle/input/epigraphie-grecque/data_clean/Honours/13.146._Honours_for_L._Cl._Iberinos_Eudaimon.jpg\n",
      "/kaggle/input/epigraphie-grecque/data_clean/Honours/1.186._Honours_for_Aurelia_Apphia_daughter_of_Epiktetos.jpg\n",
      "/kaggle/input/epigraphie-grecque/data_clean/Honours/2.110._i._Honours_for_Septimus_Severus_ii._Building_inscription_of_Antonius_Priskos_C.jpg\n",
      "/kaggle/input/epigraphie-grecque/data_clean/Honours/12.534._Honours_for_M._Aurelius_Ariston_establishment_of_a_foundation_by_Aurelia_Ammia_C.jpg\n",
      "/kaggle/input/epigraphie-grecque/data_clean/Honours/8.39._Honours_for_Hosidius_Ioulianos_E.jpg\n",
      "/kaggle/input/epigraphie-grecque/data_clean/Honours/12.643._Honours_for_a_son_of_Gallienus_B.jpg\n",
      "/kaggle/input/epigraphie-grecque/data_clean/Honours/12.301._Honours_for_Sextus_Appuleius.jpg\n",
      "/kaggle/input/epigraphie-grecque/data_clean/Honours/8.84._Honours_for_Claudius_Zelos_D.jpg\n",
      "/kaggle/input/epigraphie-grecque/data_clean/Honours/6.5._Verse_honours_for_Ioannes,_governor_of_Caria_C.jpg\n",
      "/kaggle/input/epigraphie-grecque/data_clean/Honours/1.179._Honours_for_Marcus_Aurelius_Zenas_A.jpg\n",
      "/kaggle/input/epigraphie-grecque/data_clean/Honours/5.16._First_honours_for_Rhodopaios,_in_verse_A.jpg\n",
      "/kaggle/input/epigraphie-grecque/data_clean/Honours/11.22._Posthumous_honours_for_Zenon_son_of_Zenon.jpg\n",
      "/kaggle/input/epigraphie-grecque/data_clean/Honours/8.38._Honours_for_Hosidius_Ioulianos_A.jpg\n",
      "/kaggle/input/epigraphie-grecque/data_clean/Honours/11.104._Honours_for_an_emperor,_Augustus_Germanicus_B.jpg\n",
      "/kaggle/input/epigraphie-grecque/data_clean/Honours/5.10._i._Honours_for_Marcus_Antonius_Popillius_Andronikos_ii._Fl._Photios_gives_a_gameboard_A.jpg\n",
      "/kaggle/input/epigraphie-grecque/data_clean/Honours/8.410._The_city_honours_Fl._Palmatos,_governor.jpg\n",
      "/kaggle/input/epigraphie-grecque/data_clean/Honours/2.506._Decree_of_honours_by_Plyareis_for_Agroitas_Kallikratous.jpg\n",
      "/kaggle/input/epigraphie-grecque/data_clean/Honours/4.202._Verse_honours_i._for_Ampelios,_father_of_the_city_ii._and_iii._for_Doulkitios,_governor,_on_the_Agora_Gate_C.jpg\n",
      "/kaggle/input/epigraphie-grecque/data_clean/Honours/8.84._Honours_for_Claudius_Zelos_E.jpg\n",
      "/kaggle/input/epigraphie-grecque/data_clean/Honours/11.223._Honours_for_anonymus,_son_of_Artemidoros,_boy_boxer.jpg\n",
      "/kaggle/input/epigraphie-grecque/data_clean/Honours/12.715._Fragmentary_honours.jpg\n",
      "/kaggle/input/epigraphie-grecque/data_clean/Honours/12.534._Honours_for_M._Aurelius_Ariston_establishment_of_a_foundation_by_Aurelia_Ammia_E.jpg\n",
      "/kaggle/input/epigraphie-grecque/data_clean/Honours/12.29._Honours_for_Attalos_son_of_Pytheas_and_Tatas_daughter_of_Diodoros_A.jpg\n",
      "/kaggle/input/epigraphie-grecque/data_clean/Honours/15.219._Fragment_from_honours_(or_funerary)_for_Attalos.jpg\n",
      "/kaggle/input/epigraphie-grecque/data_clean/Honours/12.413._Honours_for_anonymous,_having_held_every_office_in_the_city_D.jpg\n",
      "/kaggle/input/epigraphie-grecque/data_clean/Honours/5.204._i._Honours_for_Pyrron_son_of_Itharos_ii._Verse_honours_for_Hermias,_benefactor_A.jpg\n",
      "/kaggle/input/epigraphie-grecque/data_clean/Honours/1.158._Honours_for_anonymous_B.jpg\n",
      "/kaggle/input/epigraphie-grecque/data_clean/Honours/12.807._Honours_for_Marcus_Antonius_Popillios_Agelaos.jpg\n",
      "/kaggle/input/epigraphie-grecque/data_clean/Honours/12.326._Honours_for_emperor_Caracalla.jpg\n",
      "/kaggle/input/epigraphie-grecque/data_clean/Honours/12.919._Honours_for_Hypsikleia_Apphia_(relative_of)_Nikotimos.jpg\n",
      "/kaggle/input/epigraphie-grecque/data_clean/Honours/5.218._Tatianos,_governor,_restores_the_statue_of_Tatianos,_PPO_verse.jpg\n",
      "/kaggle/input/epigraphie-grecque/data_clean/Honours/2.20._Epigram_for_Pytheas_D.jpg\n",
      "/kaggle/input/epigraphie-grecque/data_clean/Honours/12.646._Honours_for_Sallustius_family_B.jpg\n",
      "/kaggle/input/epigraphie-grecque/data_clean/Honours/2.16._Honours_for_Attalos_and_Diogenes,_brothers_A.jpg\n",
      "/kaggle/input/epigraphie-grecque/data_clean/Honours/1.201._Verse_honours_for_a_governor_B.jpg\n",
      "/kaggle/input/epigraphie-grecque/data_clean/Honours/12.643._Honours_for_a_son_of_Gallienus_A.jpg\n",
      "/kaggle/input/epigraphie-grecque/data_clean/Honours/6.5._Verse_honours_for_Ioannes,_governor_of_Caria_B.jpg\n",
      "/kaggle/input/epigraphie-grecque/data_clean/Honours/8.273._The_city_honours_Bitianos,_governor.jpg\n",
      "/kaggle/input/epigraphie-grecque/data_clean/Honours/8.23._Honours_for_T._Claudius_Diogenes.jpg\n",
      "/kaggle/input/epigraphie-grecque/data_clean/Honours/8.608._i._Verse_honours_for_Doulkitios_from_Balerianos_ii._Place_inscription.jpg\n",
      "/kaggle/input/epigraphie-grecque/data_clean/Honours/12.206._Decree_of_honours_for_Attinas_Meliton.jpg\n",
      "/kaggle/input/epigraphie-grecque/data_clean/Honours/1.170._Fragmentary_honours_B.jpg\n",
      "/kaggle/input/epigraphie-grecque/data_clean/Honours/11.58._Honours_for_anonymous,_boy_runner_victor_at_the_fifteenth_Philemoniea.jpg\n",
      "/kaggle/input/epigraphie-grecque/data_clean/Honours/12.307._Posthumous_honours_for_Dionysios_son_of_Artemidoros.jpg\n",
      "/kaggle/input/epigraphie-grecque/data_clean/Honours/5.216._Honours_for_Aelia_Flaccilla_A.jpg\n",
      "/kaggle/input/epigraphie-grecque/data_clean/Honours/12.520._Honours_for_Tiberius_Claudius_Attalos.jpg\n",
      "/kaggle/input/epigraphie-grecque/data_clean/Honours/5.215._Honours_for_a_comes_B.jpg\n",
      "/kaggle/input/epigraphie-grecque/data_clean/Honours/11.515._Honours_for_Rhodopaios,_for_the_third_time_C.jpg\n",
      "/kaggle/input/epigraphie-grecque/data_clean/Decree/12.205._Consolatory_decree_for_Tatia_Attalis_B.jpg\n",
      "/kaggle/input/epigraphie-grecque/data_clean/Decree/12.309._Consolatory_decree,_on_death_of_Apphia_daughter_of_Timotheos.jpg\n",
      "/kaggle/input/epigraphie-grecque/data_clean/Decree/8.26._Triumviral_decree_A.jpg\n",
      "/kaggle/input/epigraphie-grecque/data_clean/Decree/8.26._Triumviral_decree_B.jpg\n",
      "/kaggle/input/epigraphie-grecque/data_clean/Decree/8.26._Triumviral_decree_D.jpg\n",
      "/kaggle/input/epigraphie-grecque/data_clean/Decree/8.26._Triumviral_decree_F.jpg\n",
      "/kaggle/input/epigraphie-grecque/data_clean/Decree/12.207._Consolatory_decree,_on_death_of_Titus_Antonius_Lysimachos_Grypos.jpg\n",
      "/kaggle/input/epigraphie-grecque/data_clean/Decree/15.327._Second_decree_of_the_synod_of_athletes_in_honour_of_Kallikrates.jpg\n",
      "/kaggle/input/epigraphie-grecque/data_clean/Decree/2.525._Fragments_of_a_consolatory_decree.jpg\n",
      "/kaggle/input/epigraphie-grecque/data_clean/Decree/8.26._Triumviral_decree_C.jpg\n",
      "/kaggle/input/epigraphie-grecque/data_clean/Decree/8.26._Triumviral_decree_E.jpg\n",
      "/kaggle/input/epigraphie-grecque/data_clean/Decree/12.205._Consolatory_decree_for_Tatia_Attalis_A.jpg\n",
      "/kaggle/input/epigraphie-grecque/data_clean/Decree/1.503._Heading_to_decree.jpg\n",
      "/kaggle/input/epigraphie-grecque/data_clean/Decree/12.319._Decree_of_honours_for_Praxiteles_son_of_Aristeas_A.jpg\n",
      "/kaggle/input/epigraphie-grecque/data_clean/Decree/12.704._Consolatory_decree_for_three_brothers_A.jpg\n",
      "/kaggle/input/epigraphie-grecque/data_clean/Decree/12.704._Consolatory_decree_for_three_brothers_B.jpg\n",
      "/kaggle/input/epigraphie-grecque/data_clean/Decree/12.704._Consolatory_decree_for_three_brothers_C.jpg\n",
      "/kaggle/input/epigraphie-grecque/data_clean/Decree/12.605._Fragment_from_a_decree.jpg\n",
      "/kaggle/input/epigraphie-grecque/data_clean/Religious/1.17._Fragment_of_donors_prayer.jpg\n",
      "/kaggle/input/epigraphie-grecque/data_clean/Religious/4.21._1._Acclamations_for_Albinos,_clarissimus_2._Acclamation_for_the_city_C.jpg\n",
      "/kaggle/input/epigraphie-grecque/data_clean/Religious/8.276._Dedicatory_poem,_church_of_SS._Barbara_and_Anastasia_C.jpg\n",
      "/kaggle/input/epigraphie-grecque/data_clean/Religious/1.34._Graffiti_names_and_prayers_A.jpg\n",
      "/kaggle/input/epigraphie-grecque/data_clean/Religious/2.113._Statue_dedication_by_Flavius_Andronikos.jpg\n",
      "/kaggle/input/epigraphie-grecque/data_clean/Religious/8.262._Dedication_(building_inscription),_to_a_saint.jpg\n",
      "/kaggle/input/epigraphie-grecque/data_clean/Religious/5.9._Building_dedication_to_Aphrodite_and_Hadrian_D.jpg\n",
      "/kaggle/input/epigraphie-grecque/data_clean/Religious/9.25._Building_dedication_of_Sebasteion_portico_for_Aphrodite,_Emperors_and_Demos_G.jpg\n",
      "/kaggle/input/epigraphie-grecque/data_clean/Religious/5.207._Building_dedication_to_Aphrodite_and_Hadrian_by_Pereitas_Attalos.jpg\n",
      "/kaggle/input/epigraphie-grecque/data_clean/Religious/13.109._Funerary_inscription_for_Marcus_Aurelius_Alexandros_and_Aurelia_Tatia.jpg\n",
      "/kaggle/input/epigraphie-grecque/data_clean/Religious/5.301._Statue_dedication_by_Flavius_Zenon.jpg\n",
      "/kaggle/input/epigraphie-grecque/data_clean/Religious/9.15._Title_for_images_of_Rome_and_Earth.jpg\n",
      "/kaggle/input/epigraphie-grecque/data_clean/Religious/1.193._Warning_against_approaching_the_bema_(verse)_invocations_C.jpg\n",
      "/kaggle/input/epigraphie-grecque/data_clean/Religious/13.154._Funerary_inscription_for_Menippos.jpg\n",
      "/kaggle/input/epigraphie-grecque/data_clean/Religious/4.21._1._Acclamations_for_Albinos,_clarissimus_2._Acclamation_for_the_city_E.jpg\n",
      "/kaggle/input/epigraphie-grecque/data_clean/Religious/15.245._Funerary_inscription_for_Adrastos_Polychronios.jpg\n",
      "/kaggle/input/epigraphie-grecque/data_clean/Religious/8.405._Honours_for_Julian_by_Antonius_Tatianos.jpg\n",
      "/kaggle/input/epigraphie-grecque/data_clean/Religious/15.362._Funerary_verse_for_Euphemia.jpg\n",
      "/kaggle/input/epigraphie-grecque/data_clean/Religious/11.43._Funerary_inscription_for_Meltinianos.jpg\n",
      "/kaggle/input/epigraphie-grecque/data_clean/Religious/2.109._Statue_dedication_of_Aphrodite.jpg\n",
      "/kaggle/input/epigraphie-grecque/data_clean/Religious/1.34._Graffiti_names_and_prayers_C.jpg\n",
      "/kaggle/input/epigraphie-grecque/data_clean/Religious/15.5._Funerary_inscription_of_Aurelia_Dionysia_C.jpg\n",
      "/kaggle/input/epigraphie-grecque/data_clean/Religious/14.19._Funerary_inscription_for_Tatia_A.jpg\n",
      "/kaggle/input/epigraphie-grecque/data_clean/Religious/15.5._Funerary_inscription_of_Aurelia_Dionysia_B.jpg\n",
      "/kaggle/input/epigraphie-grecque/data_clean/Religious/8.82._Building_dedication_to_Nemesis_A.jpg\n",
      "/kaggle/input/epigraphie-grecque/data_clean/Religious/15.5._Funerary_inscription_of_Aurelia_Dionysia_A.jpg\n",
      "/kaggle/input/epigraphie-grecque/data_clean/Religious/9.25._Building_dedication_of_Sebasteion_portico_for_Aphrodite,_Emperors_and_Demos_C.jpg\n",
      "/kaggle/input/epigraphie-grecque/data_clean/Religious/9.25._Building_dedication_of_Sebasteion_portico_for_Aphrodite,_Emperors_and_Demos_F.jpg\n",
      "/kaggle/input/epigraphie-grecque/data_clean/Religious/12.1020._Honours_for_Ulpia_Carminia_Claudiana.jpg\n",
      "/kaggle/input/epigraphie-grecque/data_clean/Religious/4.21._1._Acclamations_for_Albinos,_clarissimus_2._Acclamation_for_the_city_G.jpg\n",
      "/kaggle/input/epigraphie-grecque/data_clean/Religious/13.101._Funerary_inscription_for_Aurelia_Tate,_also_called_Epithymia.jpg\n",
      "/kaggle/input/epigraphie-grecque/data_clean/Religious/9.25._Building_dedication_of_Sebasteion_portico_for_Aphrodite,_Emperors_and_Demos_E.jpg\n",
      "/kaggle/input/epigraphie-grecque/data_clean/Religious/8.275._Epitaph_of_Theodokios.jpg\n",
      "/kaggle/input/epigraphie-grecque/data_clean/Religious/1.187._Honours_for_..._daughter_of_...lianos_B.jpg\n",
      "/kaggle/input/epigraphie-grecque/data_clean/Religious/2.20._Epigram_for_Pytheas_C.jpg\n",
      "/kaggle/input/epigraphie-grecque/data_clean/Religious/4.4._Building_dedication_to_Aphrodite_and_emperors_A.jpg\n",
      "/kaggle/input/epigraphie-grecque/data_clean/Religious/13.111._Funerary_inscription_for_Marcus_Aurelius_Zotikos_son_of_Dionysios.jpg\n",
      "/kaggle/input/epigraphie-grecque/data_clean/Religious/8.209._Votive_offering_to_Kore_Plyarei_by_Diogenes_and_Tatias.jpg\n",
      "/kaggle/input/epigraphie-grecque/data_clean/Religious/3.2._Building_inscription_by_priest_of_Libertas.jpg\n",
      "/kaggle/input/epigraphie-grecque/data_clean/Religious/9.25._Building_dedication_of_Sebasteion_portico_for_Aphrodite,_Emperors_and_Demos_A.jpg\n",
      "/kaggle/input/epigraphie-grecque/data_clean/Religious/15.353._Invocation.jpg\n",
      "/kaggle/input/epigraphie-grecque/data_clean/Religious/5.9._Building_dedication_to_Aphrodite_and_Hadrian_A.jpg\n",
      "/kaggle/input/epigraphie-grecque/data_clean/Religious/8.276._Dedicatory_poem,_church_of_SS._Barbara_and_Anastasia_B.jpg\n",
      "/kaggle/input/epigraphie-grecque/data_clean/Religious/8.10._Graffiti_on_Theatre_stage_building_B.jpg\n",
      "/kaggle/input/epigraphie-grecque/data_clean/Religious/4.21._1._Acclamations_for_Albinos,_clarissimus_2._Acclamation_for_the_city_M.jpg\n",
      "/kaggle/input/epigraphie-grecque/data_clean/Religious/12.912._Honours_for_Marcus_Aurelius_Gaitulikos.jpg\n",
      "/kaggle/input/epigraphie-grecque/data_clean/Religious/4.113._Votive_to_Asklepios.jpg\n",
      "/kaggle/input/epigraphie-grecque/data_clean/Religious/9.25._Building_dedication_of_Sebasteion_portico_for_Aphrodite,_Emperors_and_Demos_H.jpg\n",
      "/kaggle/input/epigraphie-grecque/data_clean/Religious/8.1._i._Building_dedication_to_Aphrodite_and_Demos_ii._Invocation_to_Ourania_iii._Acclamation_for_the_City_B.jpg\n",
      "/kaggle/input/epigraphie-grecque/data_clean/Religious/9.6._Title_for_image_of_Hemera.jpg\n",
      "/kaggle/input/epigraphie-grecque/data_clean/Religious/9.43._Letter_of_Valerian_and_Gallienus_B.jpg\n",
      "/kaggle/input/epigraphie-grecque/data_clean/Religious/5.9._Building_dedication_to_Aphrodite_and_Hadrian_E.jpg\n",
      "/kaggle/input/epigraphie-grecque/data_clean/Religious/4.310._i._Verse_honours_for_Anthemios_ii._Invocation_A.jpg\n",
      "/kaggle/input/epigraphie-grecque/data_clean/Religious/4.21._1._Acclamations_for_Albinos,_clarissimus_2._Acclamation_for_the_city_L.jpg\n",
      "/kaggle/input/epigraphie-grecque/data_clean/Religious/4.21._1._Acclamations_for_Albinos,_clarissimus_2._Acclamation_for_the_city_R.jpg\n",
      "/kaggle/input/epigraphie-grecque/data_clean/Religious/1.5._Column_dedication_by_Eumachos_and_Ammias.jpg\n",
      "/kaggle/input/epigraphie-grecque/data_clean/Religious/13.108._Funerary_inscription_for_Aurelia_Zotike_and_her_father.jpg\n",
      "/kaggle/input/epigraphie-grecque/data_clean/Religious/1.154._Panel_fragment_from_Temple.jpg\n",
      "/kaggle/input/epigraphie-grecque/data_clean/Religious/11.515._Honours_for_Rhodopaios,_for_the_third_time_E.jpg\n",
      "/kaggle/input/epigraphie-grecque/data_clean/Religious/4.10._Fl._Eutolmius_Tatianos_honours_Arcadius_C.jpg\n",
      "/kaggle/input/epigraphie-grecque/data_clean/Religious/8.407._Verse_honours_for_a_governor_C.jpg\n",
      "/kaggle/input/epigraphie-grecque/data_clean/Religious/8.233._Building_dedication_for_Aphrodite,_Emperors_and_Demos_B.jpg\n",
      "/kaggle/input/epigraphie-grecque/data_clean/Religious/1.104._Fragments_of_panel.jpg\n",
      "/kaggle/input/epigraphie-grecque/data_clean/Religious/14.16._Funerary_verse_for_Stephanos.jpg\n",
      "/kaggle/input/epigraphie-grecque/data_clean/Religious/1.7._Column_dedication_by_Attalos_and_Attalis.jpg\n",
      "/kaggle/input/epigraphie-grecque/data_clean/Religious/1.14._Prayer_of_Anastasios,_donor_B.jpg\n",
      "/kaggle/input/epigraphie-grecque/data_clean/Religious/8.211._Statue_dedication_of_Hygeia_to_emperors.jpg\n",
      "/kaggle/input/epigraphie-grecque/data_clean/Religious/8.407._Verse_honours_for_a_governor_A.jpg\n",
      "/kaggle/input/epigraphie-grecque/data_clean/Religious/8.407._Verse_honours_for_a_governor_B.jpg\n",
      "/kaggle/input/epigraphie-grecque/data_clean/Religious/4.21._1._Acclamations_for_Albinos,_clarissimus_2._Acclamation_for_the_city_B.jpg\n",
      "/kaggle/input/epigraphie-grecque/data_clean/Religious/9.112._Building_dedication_to_Tiberius_and_Livia_C.jpg\n",
      "/kaggle/input/epigraphie-grecque/data_clean/Religious/5.24._Acclamations_for_imperial_family,_and_a_New_Theodosius_B.jpg\n",
      "/kaggle/input/epigraphie-grecque/data_clean/Religious/4.21._1._Acclamations_for_Albinos,_clarissimus_2._Acclamation_for_the_city_H.jpg\n",
      "/kaggle/input/epigraphie-grecque/data_clean/Religious/9.25._Building_dedication_of_Sebasteion_portico_for_Aphrodite,_Emperors_and_Demos_B.jpg\n",
      "/kaggle/input/epigraphie-grecque/data_clean/Religious/1.11._Place_inscription_of_Loukas,_philoponus.jpg\n",
      "/kaggle/input/epigraphie-grecque/data_clean/Religious/15.8._Funerary_fragment.jpg\n",
      "/kaggle/input/epigraphie-grecque/data_clean/Religious/11.51._Dedication_by_Tiberius_Claudius_Apollonios_Aurelianos.jpg\n",
      "/kaggle/input/epigraphie-grecque/data_clean/Religious/5.24._Acclamations_for_imperial_family,_and_a_New_Theodosius_A.jpg\n",
      "/kaggle/input/epigraphie-grecque/data_clean/Religious/12.902._Statue_dedication_to_the_Emperor.jpg\n",
      "/kaggle/input/epigraphie-grecque/data_clean/Religious/12.1211._Gladiator_memorial_for_familia_of_M._Antonius_Apellas_Severinos.jpg\n",
      "/kaggle/input/epigraphie-grecque/data_clean/Religious/11.515._Honours_for_Rhodopaios,_for_the_third_time_D.jpg\n",
      "/kaggle/input/epigraphie-grecque/data_clean/Religious/9.7._Title_for_image_of_Ocean.jpg\n",
      "/kaggle/input/epigraphie-grecque/data_clean/Religious/4.21._1._Acclamations_for_Albinos,_clarissimus_2._Acclamation_for_the_city_D.jpg\n",
      "/kaggle/input/epigraphie-grecque/data_clean/Religious/8.10._Graffiti_on_Theatre_stage_building_A.jpg\n",
      "/kaggle/input/epigraphie-grecque/data_clean/Religious/11.207._Heading_for_a_document.jpg\n",
      "/kaggle/input/epigraphie-grecque/data_clean/Religious/9.25._Building_dedication_of_Sebasteion_portico_for_Aphrodite,_Emperors_and_Demos_I.jpg\n",
      "/kaggle/input/epigraphie-grecque/data_clean/Religious/4.21._1._Acclamations_for_Albinos,_clarissimus_2._Acclamation_for_the_city_O.jpg\n",
      "/kaggle/input/epigraphie-grecque/data_clean/Religious/4.10._Fl._Eutolmius_Tatianos_honours_Arcadius_A.jpg\n",
      "/kaggle/input/epigraphie-grecque/data_clean/Religious/9.34._Honours_for_Aphrodite_ancestress_of_the_Augusti.jpg\n",
      "/kaggle/input/epigraphie-grecque/data_clean/Religious/4.4._Building_dedication_to_Aphrodite_and_emperors_F.jpg\n",
      "/kaggle/input/epigraphie-grecque/data_clean/Religious/1.14._Prayer_of_Anastasios,_donor_A.jpg\n",
      "/kaggle/input/epigraphie-grecque/data_clean/Religious/7.2._Dedicatory_poem_C.jpg\n",
      "/kaggle/input/epigraphie-grecque/data_clean/Religious/9.43._Letter_of_Valerian_and_Gallienus_A.jpg\n",
      "/kaggle/input/epigraphie-grecque/data_clean/Religious/5.214._Honours_for_Aurelius_Achilles_A.jpg\n",
      "/kaggle/input/epigraphie-grecque/data_clean/Religious/4.10._Fl._Eutolmius_Tatianos_honours_Arcadius_B.jpg\n",
      "/kaggle/input/epigraphie-grecque/data_clean/Religious/4.21._1._Acclamations_for_Albinos,_clarissimus_2._Acclamation_for_the_city_P.jpg\n",
      "/kaggle/input/epigraphie-grecque/data_clean/Religious/1.16._Prayer_of_donor.jpg\n",
      "/kaggle/input/epigraphie-grecque/data_clean/Religious/1.187._Honours_for_..._daughter_of_...lianos_A.jpg\n",
      "/kaggle/input/epigraphie-grecque/data_clean/Religious/5.9._Building_dedication_to_Aphrodite_and_Hadrian_B.jpg\n",
      "/kaggle/input/epigraphie-grecque/data_clean/Religious/1.4._Column_dedication_by_Eumachos_and_Amias.jpg\n",
      "/kaggle/input/epigraphie-grecque/data_clean/Religious/1.22._Prayers_on_West_Door_of_Temple-Church_(north).jpg\n",
      "/kaggle/input/epigraphie-grecque/data_clean/Religious/2.2._Invocation_of_Ourania.jpg\n",
      "/kaggle/input/epigraphie-grecque/data_clean/Religious/9.112._Building_dedication_to_Tiberius_and_Livia_A.jpg\n",
      "/kaggle/input/epigraphie-grecque/data_clean/Religious/8.276._Dedicatory_poem,_church_of_SS._Barbara_and_Anastasia_A.jpg\n",
      "/kaggle/input/epigraphie-grecque/data_clean/Religious/11.66._Dedication_by_Flavius_Eusebios.jpg\n",
      "/kaggle/input/epigraphie-grecque/data_clean/Religious/1.14._Prayer_of_Anastasios,_donor_E.jpg\n",
      "/kaggle/input/epigraphie-grecque/data_clean/Religious/4.21._1._Acclamations_for_Albinos,_clarissimus_2._Acclamation_for_the_city_J.jpg\n",
      "/kaggle/input/epigraphie-grecque/data_clean/Religious/8.708._Altar_dedication_for_Hadrian.jpg\n",
      "/kaggle/input/epigraphie-grecque/data_clean/Religious/1.14._Prayer_of_Anastasios,_donor_C.jpg\n",
      "/kaggle/input/epigraphie-grecque/data_clean/Religious/4.21._1._Acclamations_for_Albinos,_clarissimus_2._Acclamation_for_the_city_Q.jpg\n",
      "/kaggle/input/epigraphie-grecque/data_clean/Religious/1.14._Prayer_of_Anastasios,_donor_D.jpg\n",
      "/kaggle/input/epigraphie-grecque/data_clean/Religious/1.33._Graffiti_names_and_prayers.jpg\n",
      "/kaggle/input/epigraphie-grecque/data_clean/Religious/13.149._Funerary_formula_from_sarcophagus.jpg\n",
      "/kaggle/input/epigraphie-grecque/data_clean/Religious/4.4._Building_dedication_to_Aphrodite_and_emperors_B.jpg\n",
      "/kaggle/input/epigraphie-grecque/data_clean/Religious/4.4._Building_dedication_to_Aphrodite_and_emperors_E.jpg\n",
      "/kaggle/input/epigraphie-grecque/data_clean/Religious/9.25._Building_dedication_of_Sebasteion_portico_for_Aphrodite,_Emperors_and_Demos_D.jpg\n",
      "/kaggle/input/epigraphie-grecque/data_clean/Religious/8.84._Honours_for_Claudius_Zelos_B.jpg\n",
      "/kaggle/input/epigraphie-grecque/data_clean/Religious/4.4._Building_dedication_to_Aphrodite_and_emperors_C.jpg\n",
      "/kaggle/input/epigraphie-grecque/data_clean/Religious/4.4._Building_dedication_to_Aphrodite_and_emperors_D.jpg\n",
      "/kaggle/input/epigraphie-grecque/data_clean/Religious/8.110._Invocation.jpg\n",
      "/kaggle/input/epigraphie-grecque/data_clean/Religious/11.301._Statue_dedication_by_Kallikrates.jpg\n",
      "/kaggle/input/epigraphie-grecque/data_clean/Religious/1.193._Warning_against_approaching_the_bema_(verse)_invocations_A.jpg\n",
      "/kaggle/input/epigraphie-grecque/data_clean/Religious/7.2._Dedicatory_poem_B.jpg\n",
      "/kaggle/input/epigraphie-grecque/data_clean/Religious/4.21._1._Acclamations_for_Albinos,_clarissimus_2._Acclamation_for_the_city_A.jpg\n",
      "/kaggle/input/epigraphie-grecque/data_clean/Religious/11.407._Building_dedication_to_Aphrodite.jpg\n",
      "/kaggle/input/epigraphie-grecque/data_clean/Religious/1.21._Prayers_on_West_Door_of_Temple-Church_(south).jpg\n",
      "/kaggle/input/epigraphie-grecque/data_clean/Religious/14.19._Funerary_inscription_for_Tatia_B.jpg\n",
      "/kaggle/input/epigraphie-grecque/data_clean/Religious/4.21._1._Acclamations_for_Albinos,_clarissimus_2._Acclamation_for_the_city_I.jpg\n",
      "/kaggle/input/epigraphie-grecque/data_clean/Religious/12.1001._Dedication_to_Constantius_II_and_a_Caesar_by_Fl._Quint._Eros_Monaxios.jpg\n",
      "/kaggle/input/epigraphie-grecque/data_clean/Religious/11.515._Honours_for_Rhodopaios,_for_the_third_time_B.jpg\n",
      "/kaggle/input/epigraphie-grecque/data_clean/Religious/1.177._Honours_for_Zenon_son_of_Zenon,_wrestler_B.jpg\n",
      "/kaggle/input/epigraphie-grecque/data_clean/Religious/4.310._i._Verse_honours_for_Anthemios_ii._Invocation_B.jpg\n",
      "/kaggle/input/epigraphie-grecque/data_clean/Religious/4.21._1._Acclamations_for_Albinos,_clarissimus_2._Acclamation_for_the_city_K.jpg\n",
      "/kaggle/input/epigraphie-grecque/data_clean/Religious/15.352._Dedication_from_a_church_(building_inscription).jpg\n",
      "/kaggle/input/epigraphie-grecque/data_clean/Religious/8.1._i._Building_dedication_to_Aphrodite_and_Demos_ii._Invocation_to_Ourania_iii._Acclamation_for_the_City_A.jpg\n",
      "/kaggle/input/epigraphie-grecque/data_clean/Religious/1.12._Prayer_of_Theodoretos_and_Kyriakos.jpg\n",
      "/kaggle/input/epigraphie-grecque/data_clean/Religious/1.186._Honours_for_Aurelia_Apphia_daughter_of_Epiktetos.jpg\n",
      "/kaggle/input/epigraphie-grecque/data_clean/Religious/5.24._Acclamations_for_imperial_family,_and_a_New_Theodosius_C.jpg\n",
      "/kaggle/input/epigraphie-grecque/data_clean/Religious/13.104._Funerary_inscription_for_Aurelia_Meltine.jpg\n",
      "/kaggle/input/epigraphie-grecque/data_clean/Religious/15.240._Votive_offering_to_Asklepios.jpg\n",
      "/kaggle/input/epigraphie-grecque/data_clean/Religious/8.410._The_city_honours_Fl._Palmatos,_governor.jpg\n",
      "/kaggle/input/epigraphie-grecque/data_clean/Religious/1.193._Warning_against_approaching_the_bema_(verse)_invocations_B.jpg\n",
      "/kaggle/input/epigraphie-grecque/data_clean/Religious/1.34._Graffiti_names_and_prayers_B.jpg\n",
      "/kaggle/input/epigraphie-grecque/data_clean/Religious/1.109._Dedication_to_Aphrodite_by_Artemidoros.jpg\n",
      "/kaggle/input/epigraphie-grecque/data_clean/Religious/8.84._Honours_for_Claudius_Zelos_E.jpg\n",
      "/kaggle/input/epigraphie-grecque/data_clean/Religious/5.24._Acclamations_for_imperial_family,_and_a_New_Theodosius_D.jpg\n",
      "/kaggle/input/epigraphie-grecque/data_clean/Religious/5.204._i._Honours_for_Pyrron_son_of_Itharos_ii._Verse_honours_for_Hermias,_benefactor.jpg\n",
      "/kaggle/input/epigraphie-grecque/data_clean/Religious/8.233._Building_dedication_for_Aphrodite,_Emperors_and_Demos_A.jpg\n",
      "/kaggle/input/epigraphie-grecque/data_clean/Religious/8.905._Panel_fragment_funerary.jpg\n",
      "/kaggle/input/epigraphie-grecque/data_clean/Religious/2.20._Epigram_for_Pytheas_D.jpg\n",
      "/kaggle/input/epigraphie-grecque/data_clean/Religious/8.256._Panel_dedication_with_imperial_reference.jpg\n",
      "/kaggle/input/epigraphie-grecque/data_clean/Religious/7.2._Dedicatory_poem_A.jpg\n",
      "/kaggle/input/epigraphie-grecque/data_clean/Religious/13.126._Funerary_fragment.jpg\n",
      "/kaggle/input/epigraphie-grecque/data_clean/Religious/5.9._Building_dedication_to_Aphrodite_and_Hadrian_C.jpg\n",
      "/kaggle/input/epigraphie-grecque/data_clean/Religious/4.21._1._Acclamations_for_Albinos,_clarissimus_2._Acclamation_for_the_city_F.jpg\n",
      "/kaggle/input/epigraphie-grecque/data_clean/Religious/11.515._Honours_for_Rhodopaios,_for_the_third_time_C.jpg\n",
      "/kaggle/input/epigraphie-grecque/data_clean/Religious/15.217._Votive_offering_to_Kore_by_Alexandros.jpg\n",
      "/kaggle/input/epigraphie-grecque/data_clean/Religious/4.21._1._Acclamations_for_Albinos,_clarissimus_2._Acclamation_for_the_city_N.jpg\n",
      "/kaggle/input/epigraphie-grecque/data_clean/Gladiator + Gladiator memorial/12.13._Gladiator_memorial_for_Patroklos.jpg\n",
      "/kaggle/input/epigraphie-grecque/data_clean/Gladiator + Gladiator memorial/14.9._Gladiator_memorial_of_Eupithanos_A.jpg\n",
      "/kaggle/input/epigraphie-grecque/data_clean/Gladiator + Gladiator memorial/4.104._Gladiator_memorial_for_familia_of_Tiberius_Claudius_Pauleinos.jpg\n",
      "/kaggle/input/epigraphie-grecque/data_clean/Gladiator + Gladiator memorial/13.123._Gladiator_memorial,_for_Unio_A.jpg\n",
      "/kaggle/input/epigraphie-grecque/data_clean/Gladiator + Gladiator memorial/11.507._Gladiator_memorial_for_familia_of_Zenon_Hypsikles.jpg\n",
      "/kaggle/input/epigraphie-grecque/data_clean/Gladiator + Gladiator memorial/14.9._Gladiator_memorial_of_Eupithanos_B.jpg\n",
      "/kaggle/input/epigraphie-grecque/data_clean/Gladiator + Gladiator memorial/15.280._Gladiator_memorial_for_Pheropes.jpg\n",
      "/kaggle/input/epigraphie-grecque/data_clean/Gladiator + Gladiator memorial/12.615._Gladiator_memorial_for_Skirtos.jpg\n",
      "/kaggle/input/epigraphie-grecque/data_clean/Gladiator + Gladiator memorial/14.8._Gladiator_memorial_for_Euplous_A.jpg\n",
      "/kaggle/input/epigraphie-grecque/data_clean/Gladiator + Gladiator memorial/12.621._Gladiator_memorial_for_Fortis.jpg\n",
      "/kaggle/input/epigraphie-grecque/data_clean/Gladiator + Gladiator memorial/11.501._Gladiator_memorial_for_Secundus.jpg\n",
      "/kaggle/input/epigraphie-grecque/data_clean/Gladiator + Gladiator memorial/13.304._Gladiator_memorial_for_Podenemos_B.jpg\n",
      "/kaggle/input/epigraphie-grecque/data_clean/Gladiator + Gladiator memorial/13.304._Gladiator_memorial_for_Podenemos_A.jpg\n",
      "/kaggle/input/epigraphie-grecque/data_clean/Gladiator + Gladiator memorial/13.123._Gladiator_memorial,_for_Unio_B.jpg\n",
      "/kaggle/input/epigraphie-grecque/data_clean/Gladiator + Gladiator memorial/14.8._Gladiator_memorial_for_Euplous_B.jpg\n",
      "/kaggle/input/epigraphie-grecque/data_clean/Gladiator + Gladiator memorial/14.10._Gladiator_memorial_for_Kalandion.jpg\n",
      "/kaggle/input/epigraphie-grecque/data_clean/Gladiator + Gladiator memorial/12.15._Gladiator_memorial_for_Xanthos_B.jpg\n",
      "/kaggle/input/epigraphie-grecque/data_clean/Gladiator + Gladiator memorial/15.279._Gladiator_memorial_for_Narkissos.jpg\n",
      "/kaggle/input/epigraphie-grecque/data_clean/Gladiator + Gladiator memorial/12.622._Gladiator_memorial_for_Aniketos.jpg\n",
      "/kaggle/input/epigraphie-grecque/data_clean/Gladiator + Gladiator memorial/12.15._Gladiator_memorial_for_Xanthos_A.jpg\n",
      "/kaggle/input/epigraphie-grecque/data_clean/Gladiator + Gladiator memorial/11.502._Gladiator_memorial_for_Menandros,_bestiarius.jpg\n",
      "/kaggle/input/epigraphie-grecque/data_clean/Building dedication - building inscription/1.17._Fragment_of_donors_prayer.jpg\n",
      "/kaggle/input/epigraphie-grecque/data_clean/Building dedication - building inscription/1.192._Church_donors_inscription.jpg\n",
      "/kaggle/input/epigraphie-grecque/data_clean/Building dedication - building inscription/12.304._Building_dedication_to_Zeus.jpg\n",
      "/kaggle/input/epigraphie-grecque/data_clean/Building dedication - building inscription/8.405._Honours_for_Julian_by_Antonius_Tatianos_B.jpg\n",
      "/kaggle/input/epigraphie-grecque/data_clean/Building dedication - building inscription/5.303._Building_inscription_of_Pytheas,_in_verse_A.jpg\n",
      "/kaggle/input/epigraphie-grecque/data_clean/Building dedication - building inscription/8.262._Dedication_(building_inscription),_to_a_saint.jpg\n",
      "/kaggle/input/epigraphie-grecque/data_clean/Building dedication - building inscription/9.25._Building_dedication_of_Sebasteion_portico_for_Aphrodite,_Emperors_and_Demos_G.jpg\n",
      "/kaggle/input/epigraphie-grecque/data_clean/Building dedication - building inscription/8.405._Honours_for_Julian_by_Antonius_Tatianos_A.jpg\n",
      "/kaggle/input/epigraphie-grecque/data_clean/Building dedication - building inscription/5.9._Building_dedication_to_Aphrodite_and_Hadrian.jpg\n",
      "/kaggle/input/epigraphie-grecque/data_clean/Building dedication - building inscription/4.19._Philippos,_admirandissimus,_pays_for_work_in_the_South_Agora_C.jpg\n",
      "/kaggle/input/epigraphie-grecque/data_clean/Building dedication - building inscription/12.1001._Dedication_to_Constantius_II_and_a_Caesar_by_Fl._Quint._Eros_Monaxios_B.jpg\n",
      "/kaggle/input/epigraphie-grecque/data_clean/Building dedication - building inscription/2.110._i._Honours_for_Septimus_Severus_ii._Building_inscription_of_Antonius_Priskos_A.jpg\n",
      "/kaggle/input/epigraphie-grecque/data_clean/Building dedication - building inscription/1.18._Anatolios_donor.jpg\n",
      "/kaggle/input/epigraphie-grecque/data_clean/Building dedication - building inscription/1.14._Prayer_of_Anastasios,_donor.jpg\n",
      "/kaggle/input/epigraphie-grecque/data_clean/Building dedication - building inscription/12.101._i._Honours_for_Flavius_Constantius,_governor,_for_building_the_wall_ii._Flavius_Ampelios_restores_the_gate_C.jpg\n",
      "/kaggle/input/epigraphie-grecque/data_clean/Building dedication - building inscription/8.610._Building_inscription_of_Pytheas,_in_verse.jpg\n",
      "/kaggle/input/epigraphie-grecque/data_clean/Building dedication - building inscription/12.505._Building_dedication_to_Demos.jpg\n",
      "/kaggle/input/epigraphie-grecque/data_clean/Building dedication - building inscription/12.1001._Dedication_to_Constantius_II_and_a_Caesar_by_Fl._Quint._Eros_Monaxios_A.jpg\n",
      "/kaggle/input/epigraphie-grecque/data_clean/Building dedication - building inscription/12.415._Monumental_fragment_of_building_dedication.jpg\n",
      "/kaggle/input/epigraphie-grecque/data_clean/Building dedication - building inscription/1.174._Building_dedication_for_Hadrian_B.jpg\n",
      "/kaggle/input/epigraphie-grecque/data_clean/Building dedication - building inscription/8.82._Building_dedication_to_Nemesis_A.jpg\n",
      "/kaggle/input/epigraphie-grecque/data_clean/Building dedication - building inscription/9.25._Building_dedication_of_Sebasteion_portico_for_Aphrodite,_Emperors_and_Demos_C.jpg\n",
      "/kaggle/input/epigraphie-grecque/data_clean/Building dedication - building inscription/9.25._Building_dedication_of_Sebasteion_portico_for_Aphrodite,_Emperors_and_Demos_F.jpg\n",
      "/kaggle/input/epigraphie-grecque/data_clean/Building dedication - building inscription/4.19._Philippos,_admirandissimus,_pays_for_work_in_the_South_Agora_F.jpg\n",
      "/kaggle/input/epigraphie-grecque/data_clean/Building dedication - building inscription/5.22._Flavius_undertakes_building_works_in_the_Hadrianic_Baths.jpg\n",
      "/kaggle/input/epigraphie-grecque/data_clean/Building dedication - building inscription/12.1001._Dedication_to_Constantius_II_and_a_Caesar_by_Fl._Quint._Eros_Monaxios_C.jpg\n",
      "/kaggle/input/epigraphie-grecque/data_clean/Building dedication - building inscription/1.174._Building_dedication_for_Hadrian_A.jpg\n",
      "/kaggle/input/epigraphie-grecque/data_clean/Building dedication - building inscription/1.302._Eustochios,_responsible_for_building_work.jpg\n",
      "/kaggle/input/epigraphie-grecque/data_clean/Building dedication - building inscription/12.314._Building_dedication_under_Domitian..jpg\n",
      "/kaggle/input/epigraphie-grecque/data_clean/Building dedication - building inscription/4.19._Philippos,_admirandissimus,_pays_for_work_in_the_South_Agora_E.jpg\n",
      "/kaggle/input/epigraphie-grecque/data_clean/Building dedication - building inscription/4.120._Building_inscription_of_Helladios_A.jpg\n",
      "/kaggle/input/epigraphie-grecque/data_clean/Building dedication - building inscription/11.25._Building_inscription_of_Melition_son_of_Pythion_C.jpg\n",
      "/kaggle/input/epigraphie-grecque/data_clean/Building dedication - building inscription/3.2._Building_inscription_by_priest_of_Libertas.jpg\n",
      "/kaggle/input/epigraphie-grecque/data_clean/Building dedication - building inscription/9.112._Building_dedication_to_Tiberius_and_Livia_B.jpg\n",
      "/kaggle/input/epigraphie-grecque/data_clean/Building dedication - building inscription/5.118._Building_inscription_of_Helladios.jpg\n",
      "/kaggle/input/epigraphie-grecque/data_clean/Building dedication - building inscription/9.25._Building_dedication_of_Sebasteion_portico_for_Aphrodite,_Emperors_and_Demos_A.jpg\n",
      "/kaggle/input/epigraphie-grecque/data_clean/Building dedication - building inscription/1.13._Prayer_of_donors,_including_Theodoretos_and_Kyriakos_A.jpg\n",
      "/kaggle/input/epigraphie-grecque/data_clean/Building dedication - building inscription/4.19._Philippos,_admirandissimus,_pays_for_work_in_the_South_Agora_B.jpg\n",
      "/kaggle/input/epigraphie-grecque/data_clean/Building dedication - building inscription/4.120._Building_inscription_of_Helladios_B.jpg\n",
      "/kaggle/input/epigraphie-grecque/data_clean/Building dedication - building inscription/8.108._Building_dedication_by_Aristokles_Molossos.jpg\n",
      "/kaggle/input/epigraphie-grecque/data_clean/Building dedication - building inscription/9.25._Building_dedication_of_Sebasteion_portico_for_Aphrodite,_Emperors_and_Demos_H.jpg\n",
      "/kaggle/input/epigraphie-grecque/data_clean/Building dedication - building inscription/8.405._Honours_for_Julian_by_Antonius_Tatianos_D.jpg\n",
      "/kaggle/input/epigraphie-grecque/data_clean/Building dedication - building inscription/12.8._Building_inscription_by_Claudia.jpg\n",
      "/kaggle/input/epigraphie-grecque/data_clean/Building dedication - building inscription/13.508._Heliodoros,_builder_or_donor.jpg\n",
      "/kaggle/input/epigraphie-grecque/data_clean/Building dedication - building inscription/12.101._i._Honours_for_Flavius_Constantius,_governor,_for_building_the_wall_ii._Flavius_Ampelios_restores_the_gate_D.jpg\n",
      "/kaggle/input/epigraphie-grecque/data_clean/Building dedication - building inscription/12.101._i._Honours_for_Flavius_Constantius,_governor,_for_building_the_wall_ii._Flavius_Ampelios_restores_the_gate_B.jpg\n",
      "/kaggle/input/epigraphie-grecque/data_clean/Building dedication - building inscription/8.233._Building_dedication_for_Aphrodite,_Emperors_and_Demos.jpg\n",
      "/kaggle/input/epigraphie-grecque/data_clean/Building dedication - building inscription/8.82._Building_dedication_to_Nemesis_B.jpg\n",
      "/kaggle/input/epigraphie-grecque/data_clean/Building dedication - building inscription/9.112._Building_dedication_to_Tiberius_and_Livia_C.jpg\n",
      "/kaggle/input/epigraphie-grecque/data_clean/Building dedication - building inscription/9.25._Building_dedication_of_Sebasteion_portico_for_Aphrodite,_Emperors_and_Demos_B.jpg\n",
      "/kaggle/input/epigraphie-grecque/data_clean/Building dedication - building inscription/12.1001._Dedication_to_Constantius_II_and_a_Caesar_by_Fl._Quint._Eros_Monaxios_D.jpg\n",
      "/kaggle/input/epigraphie-grecque/data_clean/Building dedication - building inscription/5.12._i._Fragment_of_verse._ii._Place_inscription_of_Synodios.jpg\n",
      "/kaggle/input/epigraphie-grecque/data_clean/Building dedication - building inscription/6.4._Building_inscription_by_Fl._Constantius,_governor_A.jpg\n",
      "/kaggle/input/epigraphie-grecque/data_clean/Building dedication - building inscription/6.4._Building_inscription_by_Fl._Constantius,_governor_B.jpg\n",
      "/kaggle/input/epigraphie-grecque/data_clean/Building dedication - building inscription/7.2._Dedicatory_poem_C.jpg\n",
      "/kaggle/input/epigraphie-grecque/data_clean/Building dedication - building inscription/2.532._Building_inscription_of_bishop_Euphemius.jpg\n",
      "/kaggle/input/epigraphie-grecque/data_clean/Building dedication - building inscription/11.25._Building_inscription_of_Melition_son_of_Pythion_D.jpg\n",
      "/kaggle/input/epigraphie-grecque/data_clean/Building dedication - building inscription/11.25._Building_inscription_of_Melition_son_of_Pythion_B.jpg\n",
      "/kaggle/input/epigraphie-grecque/data_clean/Building dedication - building inscription/11.25._Building_inscription_of_Melition_son_of_Pythion_A.jpg\n",
      "/kaggle/input/epigraphie-grecque/data_clean/Building dedication - building inscription/9.112._Building_dedication_to_Tiberius_and_Livia_A.jpg\n",
      "/kaggle/input/epigraphie-grecque/data_clean/Building dedication - building inscription/12.318._Building_inscription_restoration_of_building_by_Eusebes.jpg\n",
      "/kaggle/input/epigraphie-grecque/data_clean/Building dedication - building inscription/12.101._i._Honours_for_Flavius_Constantius,_governor,_for_building_the_wall_ii._Flavius_Ampelios_restores_the_gate_A.jpg\n",
      "/kaggle/input/epigraphie-grecque/data_clean/Building dedication - building inscription/3.3._Building_dedication_to_a_god.jpg\n",
      "/kaggle/input/epigraphie-grecque/data_clean/Building dedication - building inscription/5.303._Building_inscription_of_Pytheas,_in_verse_B.jpg\n",
      "/kaggle/input/epigraphie-grecque/data_clean/Building dedication - building inscription/5.21._Flavius_undertakes_building_works_in_the_Hadrianic_Baths.jpg\n",
      "/kaggle/input/epigraphie-grecque/data_clean/Building dedication - building inscription/9.112._Building_dedication_to_Tiberius_and_Livia_D.jpg\n",
      "/kaggle/input/epigraphie-grecque/data_clean/Building dedication - building inscription/9.25._Building_dedication_of_Sebasteion_portico_for_Aphrodite,_Emperors_and_Demos_D.jpg\n",
      "/kaggle/input/epigraphie-grecque/data_clean/Building dedication - building inscription/1.15._Prayer_of_Anastasios,_donor.jpg\n",
      "/kaggle/input/epigraphie-grecque/data_clean/Building dedication - building inscription/1.507._Building_inscription.jpg\n",
      "/kaggle/input/epigraphie-grecque/data_clean/Building dedication - building inscription/7.2._Dedicatory_poem_B.jpg\n",
      "/kaggle/input/epigraphie-grecque/data_clean/Building dedication - building inscription/11.407._Building_dedication_to_Aphrodite.jpg\n",
      "/kaggle/input/epigraphie-grecque/data_clean/Building dedication - building inscription/8.113._Building_dedication_by_Aristokles_Molossos.jpg\n",
      "/kaggle/input/epigraphie-grecque/data_clean/Building dedication - building inscription/2.19._Ampelios,_father_of_the_city,_restores_the_palaestra.jpg\n",
      "/kaggle/input/epigraphie-grecque/data_clean/Building dedication - building inscription/12.302._Building_inscription,_late_Hellenistic_A.jpg\n",
      "/kaggle/input/epigraphie-grecque/data_clean/Building dedication - building inscription/12.1001._Dedication_to_Constantius_II_and_a_Caesar_by_Fl._Quint._Eros_Monaxios_E.jpg\n",
      "/kaggle/input/epigraphie-grecque/data_clean/Building dedication - building inscription/15.352._Dedication_from_a_church_(building_inscription).jpg\n",
      "/kaggle/input/epigraphie-grecque/data_clean/Building dedication - building inscription/1.12._Prayer_of_Theodoretos_and_Kyriakos.jpg\n",
      "/kaggle/input/epigraphie-grecque/data_clean/Building dedication - building inscription/6.5._Verse_honours_for_Ioannes,_governor_of_Caria_C.jpg\n",
      "/kaggle/input/epigraphie-grecque/data_clean/Building dedication - building inscription/8.405._Honours_for_Julian_by_Antonius_Tatianos_F.jpg\n",
      "/kaggle/input/epigraphie-grecque/data_clean/Building dedication - building inscription/4.19._Philippos,_admirandissimus,_pays_for_work_in_the_South_Agora_A.jpg\n",
      "/kaggle/input/epigraphie-grecque/data_clean/Building dedication - building inscription/1.13._Prayer_of_donors,_including_Theodoretos_and_Kyriakos_B.jpg\n",
      "/kaggle/input/epigraphie-grecque/data_clean/Building dedication - building inscription/5.6._Building_dedication_of_the_Eusebian_Bath_to_the_Emperors_and_Aphrodite.jpg\n",
      "/kaggle/input/epigraphie-grecque/data_clean/Building dedication - building inscription/7.2._Dedicatory_poem_A.jpg\n",
      "/kaggle/input/epigraphie-grecque/data_clean/Building dedication - building inscription/8.274._Orthagoras,_bishop,_undertakes_building_work.jpg\n",
      "/kaggle/input/epigraphie-grecque/data_clean/Building dedication - building inscription/8.405._Honours_for_Julian_by_Antonius_Tatianos_C.jpg\n",
      "/kaggle/input/epigraphie-grecque/data_clean/Building dedication - building inscription/4.19._Philippos,_admirandissimus,_pays_for_work_in_the_South_Agora_D.jpg\n",
      "/kaggle/input/epigraphie-grecque/data_clean/Letter/8.30._Letter_of_Stephanos_to_Plarasa_or_Aphrodisias_A.jpg\n",
      "/kaggle/input/epigraphie-grecque/data_clean/Letter/8.24._Letter_of_Nikomedes_IV_B.jpg\n",
      "/kaggle/input/epigraphie-grecque/data_clean/Letter/8.36._Letter_of_Severus_and_Caracalla_to_Aphrodisias_B.jpg\n",
      "/kaggle/input/epigraphie-grecque/data_clean/Letter/8.100._Letter_of_Gordian_III_to_Epaphras.jpg\n",
      "/kaggle/input/epigraphie-grecque/data_clean/Letter/8.2._Letter_of_Quintus_Oppius_A.jpg\n",
      "/kaggle/input/epigraphie-grecque/data_clean/Letter/8.35._Letter_of_Commodus_to_Aphrodisias_C.jpg\n",
      "/kaggle/input/epigraphie-grecque/data_clean/Letter/8.36._Letter_of_Severus_and_Caracalla_to_Aphrodisias_A.jpg\n",
      "/kaggle/input/epigraphie-grecque/data_clean/Letter/8.35._Letter_of_Commodus_to_Aphrodisias_A.jpg\n",
      "/kaggle/input/epigraphie-grecque/data_clean/Letter/8.24._Letter_of_Nikomedes_IV_A.jpg\n",
      "/kaggle/input/epigraphie-grecque/data_clean/Letter/8.24._Letter_of_Nikomedes_IV_D.jpg\n",
      "/kaggle/input/epigraphie-grecque/data_clean/Letter/1.189._Honours_for_Licinius_Valerianus_E.jpg\n",
      "/kaggle/input/epigraphie-grecque/data_clean/Letter/1.189._Honours_for_Licinius_Valerianus_B.jpg\n",
      "/kaggle/input/epigraphie-grecque/data_clean/Letter/1.189._Honours_for_Licinius_Valerianus_C.jpg\n",
      "/kaggle/input/epigraphie-grecque/data_clean/Letter/8.36._Letter_of_Severus_and_Caracalla_to_Aphrodisias_C.jpg\n",
      "/kaggle/input/epigraphie-grecque/data_clean/Letter/8.30._Letter_of_Stephanos_to_Plarasa_or_Aphrodisias_B.jpg\n",
      "/kaggle/input/epigraphie-grecque/data_clean/Letter/8.25._Letter_of_Octavian_to_Plarasa_or_Aphrodisias.jpg\n",
      "/kaggle/input/epigraphie-grecque/data_clean/Letter/8.114._Letter_of_Traianus_Decius_and_Herennius_Etruscus_to_Aphrodisias.jpg\n",
      "/kaggle/input/epigraphie-grecque/data_clean/Letter/1.301._i._Letter_from_a_Roman_official_(a_curator)_to_Aphrodisias._ii_Place_inscription_of_Kyriakos,_trouser-maker_B.jpg\n",
      "/kaggle/input/epigraphie-grecque/data_clean/Letter/8.99._Letter_of_Severus_Alexander_to_Aphrodisias.jpg\n",
      "/kaggle/input/epigraphie-grecque/data_clean/Letter/8.35._Letter_of_Commodus_to_Aphrodisias_B.jpg\n",
      "/kaggle/input/epigraphie-grecque/data_clean/Letter/8.2._Letter_of_Quintus_Oppius_B.jpg\n",
      "/kaggle/input/epigraphie-grecque/data_clean/Letter/8.33._Letter_subscript_of_Trajan_to_Smyrna_B.jpg\n",
      "/kaggle/input/epigraphie-grecque/data_clean/Letter/8.33._Letter_subscript_of_Trajan_to_Smyrna_A.jpg\n",
      "/kaggle/input/epigraphie-grecque/data_clean/Letter/8.29._Letter_of_Octavian_to_Stephanos_B.jpg\n",
      "/kaggle/input/epigraphie-grecque/data_clean/Letter/8.24._Letter_of_Nikomedes_IV_C.jpg\n",
      "/kaggle/input/epigraphie-grecque/data_clean/Factional/4.13._Acclamations_of_the_Greens,_the_City_and_the_Blues_B.jpg\n",
      "/kaggle/input/epigraphie-grecque/data_clean/Factional/8.61._Seat_inscriptions_Theatre,_Block_J.jpg\n",
      "/kaggle/input/epigraphie-grecque/data_clean/Factional/8.54._Seat_inscriptions_Theatre,_Block_B_A.jpg\n",
      "/kaggle/input/epigraphie-grecque/data_clean/Factional/4.13._Acclamations_of_the_Greens,_the_City_and_the_Blues_C.jpg\n",
      "/kaggle/input/epigraphie-grecque/data_clean/Factional/8.57._Seat_inscriptions_Theatre,_Block_E.jpg\n",
      "/kaggle/input/epigraphie-grecque/data_clean/Factional/4.13._Acclamations_of_the_Greens,_the_City_and_the_Blues_A.jpg\n",
      "/kaggle/input/epigraphie-grecque/data_clean/Factional/2.18._Seat_inscriptions,_Odeon_block_D.jpg\n",
      "/kaggle/input/epigraphie-grecque/data_clean/Factional/8.55._Seat_inscriptions_Theatre,_Block_C.jpg\n",
      "/kaggle/input/epigraphie-grecque/data_clean/Factional/10.4._Seat_inscriptions_Stadium_Block_18.jpg\n",
      "/kaggle/input/epigraphie-grecque/data_clean/Posthumous honors/7.8._Posthumous_honours_for_Lykidas_Zenon.jpg\n",
      "/kaggle/input/epigraphie-grecque/data_clean/Posthumous honors/11.23._Posthumous_honours_for_····nios,_who_has_established_a_foundation.jpg\n",
      "/kaggle/input/epigraphie-grecque/data_clean/Posthumous honors/12.203._Posthumous_honours_for_Attinas_son_of_Theodoros.jpg\n",
      "/kaggle/input/epigraphie-grecque/data_clean/Posthumous honors/12.1019._Posthumous_honours_for_Tiberius_Cl(audius)_Antonius_Ammianos.jpg\n",
      "/kaggle/input/epigraphie-grecque/data_clean/Posthumous honors/11.6._Posthumous_honours_for_Papylos_son_of_Iason.jpg\n",
      "/kaggle/input/epigraphie-grecque/data_clean/Posthumous honors/12.312._Posthumous_honours_for_Attalos_son_of_Makedon.jpg\n",
      "/kaggle/input/epigraphie-grecque/data_clean/Funerary + funerary verse/8.258._Funerary_inscription_of_Aurelius_Zenon.jpg\n",
      "/kaggle/input/epigraphie-grecque/data_clean/Funerary + funerary verse/13.112._Funerary_inscription_for_M._Aur._Polychronios_Charmides_B.jpg\n",
      "/kaggle/input/epigraphie-grecque/data_clean/Funerary + funerary verse/13.308._Funerary_fragment.jpg\n",
      "/kaggle/input/epigraphie-grecque/data_clean/Funerary + funerary verse/12.909._Funerary_inscription_for_Julius_Aurelius_Charidemos_Ioulianos_B.jpg\n",
      "/kaggle/input/epigraphie-grecque/data_clean/Funerary + funerary verse/12.1108._Funerary_inscription_for_Claudius_Tatianos.jpg\n",
      "/kaggle/input/epigraphie-grecque/data_clean/Funerary + funerary verse/12.306._Funerary_honours_for_Hermias_Glykon,_his_wife_Apphia,_and_their_daughter_Apphia_A.jpg\n",
      "/kaggle/input/epigraphie-grecque/data_clean/Funerary + funerary verse/8.270._Funerary_verse_for_Jordanes_B.jpg\n",
      "/kaggle/input/epigraphie-grecque/data_clean/Funerary + funerary verse/12.320._Funerary_text_for_Soteira.jpg\n",
      "/kaggle/input/epigraphie-grecque/data_clean/Funerary + funerary verse/15.334._Epitaph_of_-Bitos,_also_called_Asterios,_cursor_of_the_phylae.jpg\n",
      "/kaggle/input/epigraphie-grecque/data_clean/Funerary + funerary verse/15.347._Funerary_verse_for_Claudia_B.jpg\n",
      "/kaggle/input/epigraphie-grecque/data_clean/Funerary + funerary verse/13.307._Funerary_fragment.jpg\n",
      "/kaggle/input/epigraphie-grecque/data_clean/Funerary + funerary verse/13.502._Funerary_inscriptions_for_Tatis_and_Herodotos_(mother_and_child).jpg\n",
      "/kaggle/input/epigraphie-grecque/data_clean/Funerary + funerary verse/15.328._Funerary_fragment_for_··_-_··_and_wife.jpg\n",
      "/kaggle/input/epigraphie-grecque/data_clean/Funerary + funerary verse/13.109._Funerary_inscription_for_Marcus_Aurelius_Alexandros_and_Aurelia_Tatia.jpg\n",
      "/kaggle/input/epigraphie-grecque/data_clean/Funerary + funerary verse/12.306._Funerary_honours_for_Hermias_Glykon,_his_wife_Apphia,_and_their_daughter_Apphia_B.jpg\n",
      "/kaggle/input/epigraphie-grecque/data_clean/Funerary + funerary verse/13.155._Funerary_inscription_for_M._Aurelius_Papias_A.jpg\n",
      "/kaggle/input/epigraphie-grecque/data_clean/Funerary + funerary verse/13.206._Funerary_inscription_for_Epandios_and_his_family_B.jpg\n",
      "/kaggle/input/epigraphie-grecque/data_clean/Funerary + funerary verse/13.127._Funerary_fragment.jpg\n",
      "/kaggle/input/epigraphie-grecque/data_clean/Funerary + funerary verse/12.19._a_Funerary_inscription_and_b_consolatory_decree.jpg\n",
      "/kaggle/input/epigraphie-grecque/data_clean/Funerary + funerary verse/1.130._Funerary_panel_for_Threptos_and_Ariston.jpg\n",
      "/kaggle/input/epigraphie-grecque/data_clean/Funerary + funerary verse/12.908._Funerary_inscription_for_Achilleus_B.jpg\n",
      "/kaggle/input/epigraphie-grecque/data_clean/Funerary + funerary verse/13.154._Funerary_inscription_for_Menippos.jpg\n",
      "/kaggle/input/epigraphie-grecque/data_clean/Funerary + funerary verse/8.506._Funerary_fragment_from_Portico_East_of_Theatre.jpg\n",
      "/kaggle/input/epigraphie-grecque/data_clean/Funerary + funerary verse/12.525._Funerary_inscription_for_Zenon_son_of_Zenon_..._son_of_Kallias.jpg\n",
      "/kaggle/input/epigraphie-grecque/data_clean/Funerary + funerary verse/15.245._Funerary_inscription_for_Adrastos_Polychronios.jpg\n",
      "/kaggle/input/epigraphie-grecque/data_clean/Funerary + funerary verse/13.105._Funerary_honours_for_Peritas_Kallimedes_and_his_wife_Tatia.jpg\n",
      "/kaggle/input/epigraphie-grecque/data_clean/Funerary + funerary verse/12.502._Funerary_honours_for_Epainetos.jpg\n",
      "/kaggle/input/epigraphie-grecque/data_clean/Funerary + funerary verse/4.312._Epitaph_of_Nikolaos.jpg\n",
      "/kaggle/input/epigraphie-grecque/data_clean/Funerary + funerary verse/15.304._Funerary_formula_fragment,_II-III_cent..jpg\n",
      "/kaggle/input/epigraphie-grecque/data_clean/Funerary + funerary verse/15.362._Funerary_verse_for_Euphemia.jpg\n",
      "/kaggle/input/epigraphie-grecque/data_clean/Funerary + funerary verse/11.43._Funerary_inscription_for_Meltinianos.jpg\n",
      "/kaggle/input/epigraphie-grecque/data_clean/Funerary + funerary verse/9.101._Funerary_fragment.jpg\n",
      "/kaggle/input/epigraphie-grecque/data_clean/Funerary + funerary verse/1.188._Funerary_formula_from_sarcophagus_fragment.jpg\n",
      "/kaggle/input/epigraphie-grecque/data_clean/Funerary + funerary verse/13.615._Funerary_inscription_for_Pauleinos_and_Dionysios.jpg\n",
      "/kaggle/input/epigraphie-grecque/data_clean/Funerary + funerary verse/13.137._Funerary_inscription_of_M._Aur._Menandros.jpg\n",
      "/kaggle/input/epigraphie-grecque/data_clean/Funerary + funerary verse/13.403._Funerary_inscription_for_Publia_Calvisia_Peritiane_A.jpg\n",
      "/kaggle/input/epigraphie-grecque/data_clean/Funerary + funerary verse/13.203._Funerary_inscription_for_Marcus_Aurelius_Athenagoras_A.jpg\n",
      "/kaggle/input/epigraphie-grecque/data_clean/Funerary + funerary verse/13.501._Funerary_verse_for_Zenon_son_of_Artemidoros_A.jpg\n",
      "/kaggle/input/epigraphie-grecque/data_clean/Funerary + funerary verse/13.302._Funerary_honours_for_Kallippos,_Athenagoras_and_-_A.jpg\n",
      "/kaggle/input/epigraphie-grecque/data_clean/Funerary + funerary verse/12.714._Funerary_inscription_for_MMM._Aur._Cl._Kastor,_Papylos_and_Dionysios_B.jpg\n",
      "/kaggle/input/epigraphie-grecque/data_clean/Funerary + funerary verse/12.210._Funerary_fragment.jpg\n",
      "/kaggle/input/epigraphie-grecque/data_clean/Funerary + funerary verse/11.30._Funerary_inscription_for_Marcus_Aurelius_Kal_._._.,_a_veteran.jpg\n",
      "/kaggle/input/epigraphie-grecque/data_clean/Funerary + funerary verse/1.140._Funerary_formula_from_sarcophagus.jpg\n",
      "/kaggle/input/epigraphie-grecque/data_clean/Funerary + funerary verse/12.1016._Funerary_inscription_for_Publius_Aelius_Aurelius_A.jpg\n",
      "/kaggle/input/epigraphie-grecque/data_clean/Funerary + funerary verse/12.801._Funerary_inscription_for_Aba.jpg\n",
      "/kaggle/input/epigraphie-grecque/data_clean/Funerary + funerary verse/12.630._Funerary_inscription_for_Eutychos.jpg\n",
      "/kaggle/input/epigraphie-grecque/data_clean/Funerary + funerary verse/11.54._Funerary_inscription_for_MMM._Aurrr._Peritianos,_Eutyches_and_Herakleios_E.jpg\n",
      "/kaggle/input/epigraphie-grecque/data_clean/Funerary + funerary verse/11.511._Funerary_fragment.jpg\n",
      "/kaggle/input/epigraphie-grecque/data_clean/Funerary + funerary verse/12.211._Funerary_inscription_for_Naikos.jpg\n",
      "/kaggle/input/epigraphie-grecque/data_clean/Funerary + funerary verse/13.112._Funerary_inscription_for_M._Aur._Polychronios_Charmides_C.jpg\n",
      "/kaggle/input/epigraphie-grecque/data_clean/Funerary + funerary verse/4.305._Funerary_inscription_for_Polykrates.jpg\n",
      "/kaggle/input/epigraphie-grecque/data_clean/Funerary + funerary verse/13.203._Funerary_inscription_for_Marcus_Aurelius_Athenagoras_B.jpg\n",
      "/kaggle/input/epigraphie-grecque/data_clean/Funerary + funerary verse/15.207._Funerary_for_anonymous_and_his_family.jpg\n",
      "/kaggle/input/epigraphie-grecque/data_clean/Funerary + funerary verse/11.54._Funerary_inscription_for_MMM._Aurrr._Peritianos,_Eutyches_and_Herakleios_B.jpg\n",
      "/kaggle/input/epigraphie-grecque/data_clean/Funerary + funerary verse/12.631._Funerary_inscription_for_Aurelia_Papiane_and_family.jpg\n",
      "/kaggle/input/epigraphie-grecque/data_clean/Funerary + funerary verse/13.101._Funerary_inscription_for_Aurelia_Tate,_also_called_Epithymia.jpg\n",
      "/kaggle/input/epigraphie-grecque/data_clean/Funerary + funerary verse/13.110._Funerary_inscription_for_Marcus_Aurelius_Apollonios_and_his_son.jpg\n",
      "/kaggle/input/epigraphie-grecque/data_clean/Funerary + funerary verse/15.342._Funerary_inscription_for_Aurelius_Neikois.jpg\n",
      "/kaggle/input/epigraphie-grecque/data_clean/Funerary + funerary verse/8.275._Epitaph_of_Theodokios.jpg\n",
      "/kaggle/input/epigraphie-grecque/data_clean/Funerary + funerary verse/12.805._Funerary_inscription_for_M._Aurelius_Agathopous_B.jpg\n",
      "/kaggle/input/epigraphie-grecque/data_clean/Funerary + funerary verse/4.116._Funerary_fragment.jpg\n",
      "/kaggle/input/epigraphie-grecque/data_clean/Funerary + funerary verse/11.34._Funerary_inscription_for_-_son_of_Papias_C.jpg\n",
      "/kaggle/input/epigraphie-grecque/data_clean/Funerary + funerary verse/11.54._Funerary_inscription_for_MMM._Aurrr._Peritianos,_Eutyches_and_Herakleios_C.jpg\n",
      "/kaggle/input/epigraphie-grecque/data_clean/Funerary + funerary verse/13.106._Funerary_inscription_for_Dionysios_descendant_of_Diogenianos.jpg\n",
      "/kaggle/input/epigraphie-grecque/data_clean/Funerary + funerary verse/11.27._Funerary_formula,_II-III_cent..jpg\n",
      "/kaggle/input/epigraphie-grecque/data_clean/Funerary + funerary verse/11.8._Funerary_for_Attalos_son_of_Menippos.jpg\n",
      "/kaggle/input/epigraphie-grecque/data_clean/Funerary + funerary verse/4.115._Funerary_fragment.jpg\n",
      "/kaggle/input/epigraphie-grecque/data_clean/Funerary + funerary verse/13.618._Funerary_inscription_of_Aurelia_Tertulla.jpg\n",
      "/kaggle/input/epigraphie-grecque/data_clean/Funerary + funerary verse/13.111._Funerary_inscription_for_Marcus_Aurelius_Zotikos_son_of_Dionysios.jpg\n",
      "/kaggle/input/epigraphie-grecque/data_clean/Funerary + funerary verse/15.357._Epitaph_of_Eutychia.jpg\n",
      "/kaggle/input/epigraphie-grecque/data_clean/Funerary + funerary verse/12.1109._Funerary_inscription_for_Chares_son_of_Zenon.jpg\n",
      "/kaggle/input/epigraphie-grecque/data_clean/Funerary + funerary verse/2.308._Funerary_for_Publius_Aelius_Klaudius_Smaragdos_Julianos_and_his_father_A.jpg\n",
      "/kaggle/input/epigraphie-grecque/data_clean/Funerary + funerary verse/12.610._Funerary_for_-_son_of_Menodotos_son_of_Neikoteimos.jpg\n",
      "/kaggle/input/epigraphie-grecque/data_clean/Funerary + funerary verse/15.309._Funerary_fragment,_stray_and_undated.jpg\n",
      "/kaggle/input/epigraphie-grecque/data_clean/Funerary + funerary verse/11.307._Funerary_verse.jpg\n",
      "/kaggle/input/epigraphie-grecque/data_clean/Funerary + funerary verse/12.411._Funerary_inscription_for_T._Aelius_Epaphrodeitos.jpg\n",
      "/kaggle/input/epigraphie-grecque/data_clean/Funerary + funerary verse/15.1._Funerary_inscription_of_Alk_._._..jpg\n",
      "/kaggle/input/epigraphie-grecque/data_clean/Funerary + funerary verse/11.208._Funerary_inscription_for_a_baker.jpg\n",
      "/kaggle/input/epigraphie-grecque/data_clean/Funerary + funerary verse/1.504._ii_Epitaph_of_Biktorinos,_praefectus_vehiculorum.jpg\n",
      "/kaggle/input/epigraphie-grecque/data_clean/Funerary + funerary verse/15.250._Funerary_fragment.jpg\n",
      "/kaggle/input/epigraphie-grecque/data_clean/Funerary + funerary verse/8.270._Funerary_verse_for_Jordanes_A.jpg\n",
      "/kaggle/input/epigraphie-grecque/data_clean/Funerary + funerary verse/12.1106._Funerary_inscription_for_Marcus_Aurelius_Molossos.jpg\n",
      "/kaggle/input/epigraphie-grecque/data_clean/Funerary + funerary verse/12.806._Funerary_inscription.jpg\n",
      "/kaggle/input/epigraphie-grecque/data_clean/Funerary + funerary verse/1.184._Funerary_for_Chrysaphios_the_chief-doctor.jpg\n",
      "/kaggle/input/epigraphie-grecque/data_clean/Funerary + funerary verse/13.112._Funerary_inscription_for_M._Aur._Polychronios_Charmides_A.jpg\n",
      "/kaggle/input/epigraphie-grecque/data_clean/Funerary + funerary verse/2.312._Funerary_inscription_for_Zotikos.jpg\n",
      "/kaggle/input/epigraphie-grecque/data_clean/Funerary + funerary verse/12.918._Funerary_inscription_for_anonymous_A.jpg\n",
      "/kaggle/input/epigraphie-grecque/data_clean/Funerary + funerary verse/1.175._Funerary_text.jpg\n",
      "/kaggle/input/epigraphie-grecque/data_clean/Funerary + funerary verse/12.1015._Funerary_copy_of_a_consolatory_decree_A.jpg\n",
      "/kaggle/input/epigraphie-grecque/data_clean/Funerary + funerary verse/8.504._Funerary_inscription_for_Menekles_son_of_Dionysios_son_of_Epainetos.jpg\n",
      "/kaggle/input/epigraphie-grecque/data_clean/Funerary + funerary verse/12.805._Funerary_inscription_for_M._Aurelius_Agathopous_A.jpg\n",
      "/kaggle/input/epigraphie-grecque/data_clean/Funerary + funerary verse/13.108._Funerary_inscription_for_Aurelia_Zotike_and_her_father.jpg\n",
      "/kaggle/input/epigraphie-grecque/data_clean/Funerary + funerary verse/12.634._Funerary_text_for_Aurelii_Zenon_and_Hypsikles_C.jpg\n",
      "/kaggle/input/epigraphie-grecque/data_clean/Funerary + funerary verse/15.341._Funerary_inscription_for_Marcus_Aurelius_Sophronios,_son_of_Artemidoros.jpg\n",
      "/kaggle/input/epigraphie-grecque/data_clean/Funerary + funerary verse/13.132._Funerary_fragment.jpg\n",
      "/kaggle/input/epigraphie-grecque/data_clean/Funerary + funerary verse/12.632._Funerary_fragment_A.jpg\n",
      "/kaggle/input/epigraphie-grecque/data_clean/Funerary + funerary verse/11.34._Funerary_inscription_for_-_son_of_Papias_B.jpg\n",
      "/kaggle/input/epigraphie-grecque/data_clean/Funerary + funerary verse/13.604._Funerary_inscription_for_Aemilius_Aristeas.jpg\n",
      "/kaggle/input/epigraphie-grecque/data_clean/Funerary + funerary verse/2.308._Funerary_for_Publius_Aelius_Klaudius_Smaragdos_Julianos_and_his_father_B.jpg\n",
      "/kaggle/input/epigraphie-grecque/data_clean/Funerary + funerary verse/12.918._Funerary_inscription_for_anonymous_B.jpg\n",
      "/kaggle/input/epigraphie-grecque/data_clean/Funerary + funerary verse/14.16._Funerary_verse_for_Stephanos.jpg\n",
      "/kaggle/input/epigraphie-grecque/data_clean/Funerary + funerary verse/12.908._Funerary_inscription_for_Achilleus_D.jpg\n",
      "/kaggle/input/epigraphie-grecque/data_clean/Funerary + funerary verse/13.603._Funerary_inscription_for_Marcus_Aurelius_Attikos_A.jpg\n",
      "/kaggle/input/epigraphie-grecque/data_clean/Funerary + funerary verse/12.1112._Funerary_inscription_for_Ulpius_Claudius_Chariton.jpg\n",
      "/kaggle/input/epigraphie-grecque/data_clean/Funerary + funerary verse/11.10._Funerary_inscription_for_Alypos.jpg\n",
      "/kaggle/input/epigraphie-grecque/data_clean/Funerary + funerary verse/13.103._Funerary_fragment.jpg\n",
      "/kaggle/input/epigraphie-grecque/data_clean/Funerary + funerary verse/12.1015._Funerary_copy_of_a_consolatory_decree_B.jpg\n",
      "/kaggle/input/epigraphie-grecque/data_clean/Funerary + funerary verse/12.1017._Funerary_inscription_for_Heraklides,_Alexandros,_and_Apollonios,_sons_of_Zenon.jpg\n",
      "/kaggle/input/epigraphie-grecque/data_clean/Funerary + funerary verse/15.347._Funerary_verse_for_Claudia_A.jpg\n",
      "/kaggle/input/epigraphie-grecque/data_clean/Funerary + funerary verse/12.303._Funerary_fragment.jpg\n",
      "/kaggle/input/epigraphie-grecque/data_clean/Funerary + funerary verse/13.501._Funerary_verse_for_Zenon_son_of_Artemidoros_B.jpg\n",
      "/kaggle/input/epigraphie-grecque/data_clean/Funerary + funerary verse/9.102._Funerary_fragment.jpg\n",
      "/kaggle/input/epigraphie-grecque/data_clean/Funerary + funerary verse/11.32._Funerary_inscription_for_Chrezimos_son_of_Hermias.jpg\n",
      "/kaggle/input/epigraphie-grecque/data_clean/Funerary + funerary verse/15.316._Funerary_fragment.jpg\n",
      "/kaggle/input/epigraphie-grecque/data_clean/Funerary + funerary verse/12.634._Funerary_text_for_Aurelii_Zenon_and_Hypsikles_A.jpg\n",
      "/kaggle/input/epigraphie-grecque/data_clean/Funerary + funerary verse/2.308._Funerary_for_Publius_Aelius_Klaudius_Smaragdos_Julianos_and_his_father_D.jpg\n",
      "/kaggle/input/epigraphie-grecque/data_clean/Funerary + funerary verse/11.39._Funerary_verse_B.jpg\n",
      "/kaggle/input/epigraphie-grecque/data_clean/Funerary + funerary verse/15.356._Epitaph_of_Ioannes_and_others.jpg\n",
      "/kaggle/input/epigraphie-grecque/data_clean/Funerary + funerary verse/11.510._Funerary_fragment.jpg\n",
      "/kaggle/input/epigraphie-grecque/data_clean/Funerary + funerary verse/11.54._Funerary_inscription_for_MMM._Aurrr._Peritianos,_Eutyches_and_Herakleios_D.jpg\n",
      "/kaggle/input/epigraphie-grecque/data_clean/Funerary + funerary verse/13.302._Funerary_honours_for_Kallippos,_Athenagoras_and_-_C.jpg\n",
      "/kaggle/input/epigraphie-grecque/data_clean/Funerary + funerary verse/13.612._Funerary_inscription_for_Lucia_Antoniane_A.jpg\n",
      "/kaggle/input/epigraphie-grecque/data_clean/Funerary + funerary verse/1.195._-Fragment_of_funerary_verse.jpg\n",
      "/kaggle/input/epigraphie-grecque/data_clean/Funerary + funerary verse/15.345._Epitaph_of_-M._Aur._Leontius_Auchenios_and_M._Aur._Papaios_Polychronios_A.jpg\n",
      "/kaggle/input/epigraphie-grecque/data_clean/Funerary + funerary verse/15.354._Funerary_verse_for_Makedonios.jpg\n",
      "/kaggle/input/epigraphie-grecque/data_clean/Funerary + funerary verse/11.413._Funerary_inscription_for_Neikopolis_and_her_children.jpg\n",
      "/kaggle/input/epigraphie-grecque/data_clean/Funerary + funerary verse/13.610._Funerary_fragment.jpg\n",
      "/kaggle/input/epigraphie-grecque/data_clean/Funerary + funerary verse/13.612._Funerary_inscription_for_Lucia_Antoniane_B.jpg\n",
      "/kaggle/input/epigraphie-grecque/data_clean/Funerary + funerary verse/8.263._Epitaph_of_Athanasios_A.jpg\n",
      "/kaggle/input/epigraphie-grecque/data_clean/Funerary + funerary verse/8.230._Funerary_fragment.jpg\n",
      "/kaggle/input/epigraphie-grecque/data_clean/Funerary + funerary verse/2.315._Funerary_verse_for_Arkimos.jpg\n",
      "/kaggle/input/epigraphie-grecque/data_clean/Funerary + funerary verse/11.34._Funerary_inscription_for_-_son_of_Papias_D.jpg\n",
      "/kaggle/input/epigraphie-grecque/data_clean/Funerary + funerary verse/12.909._Funerary_inscription_for_Julius_Aurelius_Charidemos_Ioulianos_A.jpg\n",
      "/kaggle/input/epigraphie-grecque/data_clean/Funerary + funerary verse/13.156._Funerary_inscription_for_Antonius_Antiochos_and_Antonia_Eiphianassa_B.jpg\n",
      "/kaggle/input/epigraphie-grecque/data_clean/Funerary + funerary verse/12.322._Funerary_inscription_for_Neikomachos_and_others.jpg\n",
      "/kaggle/input/epigraphie-grecque/data_clean/Funerary + funerary verse/15.271._Funerary_fragment.jpg\n",
      "/kaggle/input/epigraphie-grecque/data_clean/Funerary + funerary verse/13.602._Funerary_inscription_for_Marcus_Aurelius_Zenon_A.jpg\n",
      "/kaggle/input/epigraphie-grecque/data_clean/Funerary + funerary verse/13.603._Funerary_inscription_for_Marcus_Aurelius_Attikos_B.jpg\n",
      "/kaggle/input/epigraphie-grecque/data_clean/Funerary + funerary verse/11.308._Funerary_inscription_for_Marcus_Aurelius_-_high-priest.jpg\n",
      "/kaggle/input/epigraphie-grecque/data_clean/Funerary + funerary verse/2.508._Funerary_honours_for_Kastor_son_of_Menekrates.jpg\n",
      "/kaggle/input/epigraphie-grecque/data_clean/Funerary + funerary verse/13.156._Funerary_inscription_for_Antonius_Antiochos_and_Antonia_Eiphianassa_a.jpg\n",
      "/kaggle/input/epigraphie-grecque/data_clean/Funerary + funerary verse/7.4._Funerary_inscription_for_Elpides.jpg\n",
      "/kaggle/input/epigraphie-grecque/data_clean/Funerary + funerary verse/12.212._Funerary_inscription_for_Gaius_.jpg\n",
      "/kaggle/input/epigraphie-grecque/data_clean/Funerary + funerary verse/8.904._Funerary_for_M._Aurelius_Adrastos_son_of_Deiomedes.jpg\n",
      "/kaggle/input/epigraphie-grecque/data_clean/Funerary + funerary verse/11.56._Funerary_inscription_for_Tiberius_Julius.jpg\n",
      "/kaggle/input/epigraphie-grecque/data_clean/Funerary + funerary verse/15.358._Funerary_inscription_for_Epiphanios,_bull-rearer.jpg\n",
      "/kaggle/input/epigraphie-grecque/data_clean/Funerary + funerary verse/11.59._Funerary_inscription_for_Marcus_Aurelius_Zenon.jpg\n",
      "/kaggle/input/epigraphie-grecque/data_clean/Funerary + funerary verse/15.209._Funerary_fragment.jpg\n",
      "/kaggle/input/epigraphie-grecque/data_clean/Funerary + funerary verse/13.301._Funerary_honours_for_Neaira_and_Metrodoros_A.jpg\n",
      "/kaggle/input/epigraphie-grecque/data_clean/Funerary + funerary verse/13.301._Funerary_honours_for_Neaira_and_Metrodoros_B.jpg\n",
      "/kaggle/input/epigraphie-grecque/data_clean/Funerary + funerary verse/12.908._Funerary_inscription_for_Achilleus_C.jpg\n",
      "/kaggle/input/epigraphie-grecque/data_clean/Funerary + funerary verse/13.309._Epitaph_of_Philosophia.jpg\n",
      "/kaggle/input/epigraphie-grecque/data_clean/Funerary + funerary verse/13.135._Funerary_inscription_for_Marcus_Aurelius_Hermogenes.jpg\n",
      "/kaggle/input/epigraphie-grecque/data_clean/Funerary + funerary verse/12.414._Funerary_inscription_for_Hermas_son_of_Nardos.jpg\n",
      "/kaggle/input/epigraphie-grecque/data_clean/Funerary + funerary verse/12.321._Funerary_inscription_for_Theseus.jpg\n",
      "/kaggle/input/epigraphie-grecque/data_clean/Funerary + funerary verse/11.34._Funerary_inscription_for_-_son_of_Papias_A.jpg\n",
      "/kaggle/input/epigraphie-grecque/data_clean/Funerary + funerary verse/13.302._Funerary_honours_for_Kallippos,_Athenagoras_and_-_B.jpg\n",
      "/kaggle/input/epigraphie-grecque/data_clean/Funerary + funerary verse/13.143._Funerary_inscription_for_M._Aurelius_Ioulianos.jpg\n",
      "/kaggle/input/epigraphie-grecque/data_clean/Funerary + funerary verse/12.403._Funerary_honours_by_Artemeis_for_her_brother_Bacchios.jpg\n",
      "/kaggle/input/epigraphie-grecque/data_clean/Funerary + funerary verse/12.213._Funerary_text_for_Tiberius_Claudius_M-A_(2).jpg\n",
      "/kaggle/input/epigraphie-grecque/data_clean/Funerary + funerary verse/11.39._Funerary_verse_A.jpg\n",
      "/kaggle/input/epigraphie-grecque/data_clean/Funerary + funerary verse/2.308._Funerary_for_Publius_Aelius_Klaudius_Smaragdos_Julianos_and_his_father_C.jpg\n",
      "/kaggle/input/epigraphie-grecque/data_clean/Funerary + funerary verse/11.38._Funerary_inscription_for_-_and_Aelia_Aurelia_Neike.jpg\n",
      "/kaggle/input/epigraphie-grecque/data_clean/Funerary + funerary verse/12.918._Funerary_inscription_for_anonymous_D.jpg\n",
      "/kaggle/input/epigraphie-grecque/data_clean/Funerary + funerary verse/12.918._Funerary_inscription_for_anonymous_C.jpg\n",
      "/kaggle/input/epigraphie-grecque/data_clean/Funerary + funerary verse/13.153._Funerary_inscription_for_Marcus_A-urelius.jpg\n",
      "/kaggle/input/epigraphie-grecque/data_clean/Funerary + funerary verse/13.156._Funerary_inscription_for_Antonius_Antiochos_and_Antonia_Eiphianassa_C.jpg\n",
      "/kaggle/input/epigraphie-grecque/data_clean/Funerary + funerary verse/11.512._Funerary_inscription_for_M._Aurelius_Stephanos_A.jpg\n",
      "/kaggle/input/epigraphie-grecque/data_clean/Funerary + funerary verse/12.632._Funerary_fragment_B.jpg\n",
      "/kaggle/input/epigraphie-grecque/data_clean/Funerary + funerary verse/8.263._Epitaph_of_Athanasios_B.jpg\n",
      "/kaggle/input/epigraphie-grecque/data_clean/Funerary + funerary verse/9.122._Epitaph_of_Kyriakos,_priest.jpg\n",
      "/kaggle/input/epigraphie-grecque/data_clean/Funerary + funerary verse/11.52._Funerary_inscription_of_Pereitas_and_Melition.jpg\n",
      "/kaggle/input/epigraphie-grecque/data_clean/Funerary + funerary verse/12.908._Funerary_inscription_for_Achilleus_A.jpg\n",
      "/kaggle/input/epigraphie-grecque/data_clean/Funerary + funerary verse/1.195._Fragment_of_funerary_verse.jpg\n",
      "/kaggle/input/epigraphie-grecque/data_clean/Funerary + funerary verse/12.1209._Funerary_inscription_for_-Tib._Cl._Philo-.jpg\n",
      "/kaggle/input/epigraphie-grecque/data_clean/Funerary + funerary verse/12.602._Funerary_honours_for_Geis_and_Heraios.jpg\n",
      "/kaggle/input/epigraphie-grecque/data_clean/Funerary + funerary verse/12.409._Funerary_inscription_for_Flavia_Apphia.jpg\n",
      "/kaggle/input/epigraphie-grecque/data_clean/Funerary + funerary verse/8.264._Epitaph_of_Polychronios.jpg\n",
      "/kaggle/input/epigraphie-grecque/data_clean/Funerary + funerary verse/12.634._Funerary_text_for_Aurelii_Zenon_and_Hypsikles_B.jpg\n",
      "/kaggle/input/epigraphie-grecque/data_clean/Funerary + funerary verse/13.602._Funerary_inscription_for_Marcus_Aurelius_Zenon_B.jpg\n",
      "/kaggle/input/epigraphie-grecque/data_clean/Funerary + funerary verse/9.117._Funerary_fragment.jpg\n",
      "/kaggle/input/epigraphie-grecque/data_clean/Funerary + funerary verse/15.244._Funerary_inscription_-for_Heraklide,_Thyodora,_and_Meltine.jpg\n",
      "/kaggle/input/epigraphie-grecque/data_clean/Funerary + funerary verse/11.65._Funerary_inscription_for_anonymous_B.jpg\n",
      "/kaggle/input/epigraphie-grecque/data_clean/Funerary + funerary verse/11.36._Funerary_inscription.jpg\n",
      "/kaggle/input/epigraphie-grecque/data_clean/Funerary + funerary verse/1.190._Epitaph_of_Asklepiodotos.jpg\n",
      "/kaggle/input/epigraphie-grecque/data_clean/Funerary + funerary verse/15.302._Funerary_fragment,_II-III_cent..jpg\n",
      "/kaggle/input/epigraphie-grecque/data_clean/Funerary + funerary verse/13.113._Epitaph_of_Theopropios,_bishop.jpg\n",
      "/kaggle/input/epigraphie-grecque/data_clean/Funerary + funerary verse/12.640._Funerary_inscription_for_daughter_of_-neikos_and_wife_of_Klaud-.jpg\n",
      "/kaggle/input/epigraphie-grecque/data_clean/Funerary + funerary verse/15.355._Epitaph_of_Charito.jpg\n",
      "/kaggle/input/epigraphie-grecque/data_clean/Funerary + funerary verse/12.1107._Funerary_inscription_for_Tiberius_Julius_Glykon.jpg\n",
      "/kaggle/input/epigraphie-grecque/data_clean/Funerary + funerary verse/12.523._Funerary_inscription_for_Aelia_Pauleina.jpg\n",
      "/kaggle/input/epigraphie-grecque/data_clean/Funerary + funerary verse/11.69._Funerary_verse,_for_Asklepiodotos.jpg\n",
      "/kaggle/input/epigraphie-grecque/data_clean/Funerary + funerary verse/11.512._Funerary_inscription_for_M._Aurelius_Stephanos_B.jpg\n",
      "/kaggle/input/epigraphie-grecque/data_clean/Funerary + funerary verse/15.345._Epitaph_of_-M._Aur._Leontius_Auchenios_and_M._Aur._Papaios_Polychronios_B.jpg\n",
      "/kaggle/input/epigraphie-grecque/data_clean/Funerary + funerary verse/13.507._Funerary_verse_for_a_girl,_Thea_._._..jpg\n",
      "/kaggle/input/epigraphie-grecque/data_clean/Funerary + funerary verse/12.524._Funerary_inscription_for_Aurelius_Eumachos_Apellas.jpg\n",
      "/kaggle/input/epigraphie-grecque/data_clean/Funerary + funerary verse/11.11._Funerary_inscription_for_Menandros.jpg\n",
      "/kaggle/input/epigraphie-grecque/data_clean/Funerary + funerary verse/13.104._Funerary_inscription_for_Aurelia_Meltine.jpg\n",
      "/kaggle/input/epigraphie-grecque/data_clean/Funerary + funerary verse/15.252._Funerary_fragment.jpg\n",
      "/kaggle/input/epigraphie-grecque/data_clean/Funerary + funerary verse/2.523._Funerary_formula_from_sarcophagus.jpg\n",
      "/kaggle/input/epigraphie-grecque/data_clean/Funerary + funerary verse/15.312._Funerary_fragment.jpg\n",
      "/kaggle/input/epigraphie-grecque/data_clean/Funerary + funerary verse/13.102._Funerary_inscription_for_Zenon_and_family.jpg\n",
      "/kaggle/input/epigraphie-grecque/data_clean/Funerary + funerary verse/13.403._Funerary_inscription_for_Publia_Calvisia_Peritiane_B.jpg\n",
      "/kaggle/input/epigraphie-grecque/data_clean/Funerary + funerary verse/12.213._Funerary_text_for_Tiberius_Claudius_M-A_(1).jpg\n",
      "/kaggle/input/epigraphie-grecque/data_clean/Funerary + funerary verse/15.349._Epitaph_of_Zoetos.jpg\n",
      "/kaggle/input/epigraphie-grecque/data_clean/Funerary + funerary verse/8.701._Funerary_inscription_for_Eirenion,_gladiator.jpg\n",
      "/kaggle/input/epigraphie-grecque/data_clean/Funerary + funerary verse/12.517._Funerary_inscription_for_Kallikrates.jpg\n",
      "/kaggle/input/epigraphie-grecque/data_clean/Funerary + funerary verse/12.1016._Funerary_inscription_for_Publius_Aelius_Aurelius_B.jpg\n",
      "/kaggle/input/epigraphie-grecque/data_clean/Funerary + funerary verse/15.350._Tomb_of_Chrestianos.jpg\n",
      "/kaggle/input/epigraphie-grecque/data_clean/Funerary + funerary verse/13.507._Funerary_verse_for_a_girl,_-Thea.jpg\n",
      "/kaggle/input/epigraphie-grecque/data_clean/Funerary + funerary verse/13.125._Funerary_verse_for_Eupeithios.jpg\n",
      "/kaggle/input/epigraphie-grecque/data_clean/Funerary + funerary verse/8.711._Funerary_fragment_for_Kapitoleinos.jpg\n",
      "/kaggle/input/epigraphie-grecque/data_clean/Funerary + funerary verse/12.714._Funerary_inscription_for_MMM._Aur._Cl._Kastor,_Papylos_and_Dionysios_A.jpg\n",
      "/kaggle/input/epigraphie-grecque/data_clean/Funerary + funerary verse/11.44._Funerary_inscription.jpg\n",
      "/kaggle/input/epigraphie-grecque/data_clean/Funerary + funerary verse/2.309._Funerary_formula_from_sarcophagus.jpg\n",
      "/kaggle/input/epigraphie-grecque/data_clean/Funerary + funerary verse/11.54._Funerary_inscription_for_MMM._Aurrr._Peritianos,_Eutyches_and_Herakleios_A.jpg\n",
      "/kaggle/input/epigraphie-grecque/data_clean/Funerary + funerary verse/13.155._Funerary_inscription_for_M._Aurelius_Papias_B.jpg\n",
      "/kaggle/input/epigraphie-grecque/data_clean/Funerary + funerary verse/12.311._Funerary_inscription_and_honours_for_Attalos_son_of_Attalos.jpg\n",
      "/kaggle/input/epigraphie-grecque/data_clean/Funerary + funerary verse/13.206._Funerary_inscription_for_Epandios_and_his_family_A.jpg\n",
      "/kaggle/input/epigraphie-grecque/data_clean/Funerary + funerary verse/11.65._Funerary_inscription_for_anonymous_A.jpg\n",
      "/kaggle/input/epigraphie-grecque/data_clean/Title/9.17._Title_for_image_of_people_of_the_Callaeci.jpg\n",
      "/kaggle/input/epigraphie-grecque/data_clean/Title/9.23._Title_for_image_of_People_of_the_Andizetoi.jpg\n",
      "/kaggle/input/epigraphie-grecque/data_clean/Title/9.125._Titles_on_philosopher_portraits_A.jpg\n",
      "/kaggle/input/epigraphie-grecque/data_clean/Title/9.9._Title_of_image_of_People_of_the_Bessi.jpg\n",
      "/kaggle/input/epigraphie-grecque/data_clean/Title/9.2._Title_for_image_of_people_of_the_Rhaeti.jpg\n",
      "/kaggle/input/epigraphie-grecque/data_clean/Title/9.41._Title_for_images_of_Claudius_and_Britannia.jpg\n",
      "/kaggle/input/epigraphie-grecque/data_clean/Title/9.13._Title_for_image_of_Armenia.jpg\n",
      "/kaggle/input/epigraphie-grecque/data_clean/Title/9.125._Titles_on_philosopher_portraits_E.jpg\n",
      "/kaggle/input/epigraphie-grecque/data_clean/Title/9.11._Title_for_image_of_Sicily.jpg\n",
      "/kaggle/input/epigraphie-grecque/data_clean/Title/9.14._Title_for_images_of_Armenia_and_Nero.jpg\n",
      "/kaggle/input/epigraphie-grecque/data_clean/Title/8.503._Title_for_a_statue_of_the_Council.jpg\n",
      "/kaggle/input/epigraphie-grecque/data_clean/Title/9.22._Title_for_image_of_People_of_the_Iapodes.jpg\n",
      "/kaggle/input/epigraphie-grecque/data_clean/Title/9.6._Title_for_image_of_Hemera.jpg\n",
      "/kaggle/input/epigraphie-grecque/data_clean/Title/12.10._Title_for_images_of_Troilos_and_Achilles.jpg\n",
      "/kaggle/input/epigraphie-grecque/data_clean/Title/9.12._Title_for_image_of_People_of_the_Judaeans.jpg\n",
      "/kaggle/input/epigraphie-grecque/data_clean/Title/9.20._Title_for_image_of_the_people_of_the_Dacians.jpg\n",
      "/kaggle/input/epigraphie-grecque/data_clean/Title/9.4._Title_for_image_of_the_Arabs.jpg\n",
      "/kaggle/input/epigraphie-grecque/data_clean/Title/9.21._Title_for_image_of_people_of_the_Bosporoi.jpg\n",
      "/kaggle/input/epigraphie-grecque/data_clean/Title/9.125._Titles_on_philosopher_portraits_C.jpg\n",
      "/kaggle/input/epigraphie-grecque/data_clean/Title/11.212._Titles_for_images_on_the_funerary_monument_of_Zoilos_A.jpg\n",
      "/kaggle/input/epigraphie-grecque/data_clean/Title/12.7._Title_for_images_of_the_Graces.jpg\n",
      "/kaggle/input/epigraphie-grecque/data_clean/Title/11.212._Titles_for_images_on_the_funerary_monument_of_Zoilos_C.jpg\n",
      "/kaggle/input/epigraphie-grecque/data_clean/Title/9.16._Title_for_image_of_Victory_of_the_Augusti.jpg\n",
      "/kaggle/input/epigraphie-grecque/data_clean/Title/9.125._Titles_on_philosopher_portraits_D.jpg\n",
      "/kaggle/input/epigraphie-grecque/data_clean/Title/9.125._Titles_on_philosopher_portraits_B.jpg\n",
      "/kaggle/input/epigraphie-grecque/data_clean/Title/11.212._Titles_for_images_on_the_funerary_monument_of_Zoilos_B.jpg\n",
      "/kaggle/input/epigraphie-grecque/data_clean/Title/9.24._Title_for_image_of_people_of_the_Dardanoi.jpg\n",
      "/kaggle/input/epigraphie-grecque/data_clean/Verse/9.126._Dedicatory_poem_A.jpg\n",
      "/kaggle/input/epigraphie-grecque/data_clean/Verse/1.201._Verse_honours_for_a_governor.jpg\n",
      "/kaggle/input/epigraphie-grecque/data_clean/Verse/5.121._Verse_honours_for_Menandros,_vicar_B.jpg\n",
      "/kaggle/input/epigraphie-grecque/data_clean/Verse/8.260._Funerary_verse,_fragmentary.jpg\n",
      "/kaggle/input/epigraphie-grecque/data_clean/Verse/2.20._Epigram_for_Pytheas_C.jpg\n",
      "/kaggle/input/epigraphie-grecque/data_clean/Verse/11.307._Funerary_verse.jpg\n",
      "/kaggle/input/epigraphie-grecque/data_clean/Verse/1.131._i._Fragmentary_text_ii._Verse_honours_for_Helladios.jpg\n",
      "/kaggle/input/epigraphie-grecque/data_clean/Verse/2.526._Funerary_verse.jpg\n",
      "/kaggle/input/epigraphie-grecque/data_clean/Verse/8.407._Verse_honours_for_a_governor_C.jpg\n",
      "/kaggle/input/epigraphie-grecque/data_clean/Verse/8.407._Verse_honours_for_a_governor_B.jpg\n",
      "/kaggle/input/epigraphie-grecque/data_clean/Verse/7.2._Dedicatory_poem_C.jpg\n",
      "/kaggle/input/epigraphie-grecque/data_clean/Verse/3.4._i._Dedication_to_Patris_by_Zenon_son_of_Euthymos_and_others_ii._The_Phrygian_Metropolis_honours_Alexandros,_in_verse_B.jpg\n",
      "/kaggle/input/epigraphie-grecque/data_clean/Verse/3.4._i._Dedication_to_Patris_by_Zenon_son_of_Euthymos_and_others_ii._The_Phrygian_Metropolis_honours_Alexandros,_in_verse_A.jpg\n",
      "/kaggle/input/epigraphie-grecque/data_clean/Verse/11.68._Verse_posthumous_honours,_apparently_,_for_Asclepiodotus.jpg\n",
      "/kaggle/input/epigraphie-grecque/data_clean/Verse/7.2._Dedicatory_poem_B.jpg\n",
      "/kaggle/input/epigraphie-grecque/data_clean/Verse/1.195._Fragment_of_funerary_verse.jpg\n",
      "/kaggle/input/epigraphie-grecque/data_clean/Verse/9.126._Dedicatory_poem_C.jpg\n",
      "/kaggle/input/epigraphie-grecque/data_clean/Verse/13.125._Funerary_verse_for_Eupeithios.jpg\n",
      "/kaggle/input/epigraphie-grecque/data_clean/Verse/5.204._i._Honours_for_Pyrron_son_of_Itharos_ii._Verse_honours_for_Hermias,_benefactor_A.jpg\n",
      "/kaggle/input/epigraphie-grecque/data_clean/Verse/6.5._Verse_honours_for_Ioannes,_governor_of_Caria_B.jpg\n",
      "/kaggle/input/epigraphie-grecque/data_clean/Verse/9.126._Dedicatory_poem_B.jpg\n",
      "/kaggle/input/epigraphie-grecque/data_clean/Verse/7.2._Dedicatory_poem_A.jpg\n",
      "/kaggle/input/epigraphie-grecque/data_clean/Dedication + dedication to demos + dedication to emperor donor/9.126._Dedicatory_poem_A.jpg\n",
      "/kaggle/input/epigraphie-grecque/data_clean/Dedication + dedication to demos + dedication to emperor donor/5.302._Dedication_(post_mortem)_by_Flavius_Zenon.jpg\n",
      "/kaggle/input/epigraphie-grecque/data_clean/Dedication + dedication to demos + dedication to emperor donor/5.2._Column_dedication_to_Demos_by_Artemon_son_of_Adrastos_c.jpg\n",
      "/kaggle/input/epigraphie-grecque/data_clean/Dedication + dedication to demos + dedication to emperor donor/12.108._Dedication_for_Emperors_and_Caesars.jpg\n",
      "/kaggle/input/epigraphie-grecque/data_clean/Dedication + dedication to demos + dedication to emperor donor/8.262._Dedication_(building_inscription),_to_a_saint.jpg\n",
      "/kaggle/input/epigraphie-grecque/data_clean/Dedication + dedication to demos + dedication to emperor donor/5.207._Building_dedication_to_Aphrodite_and_Hadrian_by_Pereitas_Attalos.jpg\n",
      "/kaggle/input/epigraphie-grecque/data_clean/Dedication + dedication to demos + dedication to emperor donor/12.703._Dedication_of_trapeza_by_Kallikrates_son_of_Molossos.jpg\n",
      "/kaggle/input/epigraphie-grecque/data_clean/Dedication + dedication to demos + dedication to emperor donor/5.7._Dedication_of_a_caryatid_by_Attalis.jpg\n",
      "/kaggle/input/epigraphie-grecque/data_clean/Dedication + dedication to demos + dedication to emperor donor/11.513._Dedication_by_M.._Fl._Antonius_Lysimachos.jpg\n",
      "/kaggle/input/epigraphie-grecque/data_clean/Dedication + dedication to demos + dedication to emperor donor/12.1001._Dedication_to_Constantius_II_and_a_Caesar_by_Fl._Quint._Eros_Monaxios_B.jpg\n",
      "/kaggle/input/epigraphie-grecque/data_clean/Dedication + dedication to demos + dedication to emperor donor/2.110._i._Honours_for_Septimus_Severus_ii._Building_inscription_of_Antonius_Priskos_A.jpg\n",
      "/kaggle/input/epigraphie-grecque/data_clean/Dedication + dedication to demos + dedication to emperor donor/13.116._Restoration,_by_Kallikrates_of_the_dedication_made_by_his_ancestors_A.jpg\n",
      "/kaggle/input/epigraphie-grecque/data_clean/Dedication + dedication to demos + dedication to emperor donor/5.208._Building_dedication_to_Aphrodite_and_Hadrian_by_Pereitas_Attalos_B.jpg\n",
      "/kaggle/input/epigraphie-grecque/data_clean/Dedication + dedication to demos + dedication to emperor donor/12.406._Building_dedication_to_Demos.jpg\n",
      "/kaggle/input/epigraphie-grecque/data_clean/Dedication + dedication to demos + dedication to emperor donor/13.116._Restoration,_by_Kallikrates_of_the_dedication_made_by_his_ancestors_B.jpg\n",
      "/kaggle/input/epigraphie-grecque/data_clean/Dedication + dedication to demos + dedication to emperor donor/13.402._Dedication_of_a_foundation_by_Titus_Aelius_-dianos_B.jpg\n",
      "/kaggle/input/epigraphie-grecque/data_clean/Dedication + dedication to demos + dedication to emperor donor/12.408._Building_dedication_to_Demos.jpg\n",
      "/kaggle/input/epigraphie-grecque/data_clean/Dedication + dedication to demos + dedication to emperor donor/4.109._Dedication_to_Aphrodite.jpg\n",
      "/kaggle/input/epigraphie-grecque/data_clean/Dedication + dedication to demos + dedication to emperor donor/12.305._Dedication_by_M._Iulius_Attalos,_imperial_freedman,_to_Aphrodite,_the_imperial_house,_and_the_Senate_and_People_of_Rome.jpg\n",
      "/kaggle/input/epigraphie-grecque/data_clean/Dedication + dedication to demos + dedication to emperor donor/2.531._Table-dish_fragment_Dedication.jpg\n",
      "/kaggle/input/epigraphie-grecque/data_clean/Dedication + dedication to demos + dedication to emperor donor/1.162._Fragment_of_dedication.jpg\n",
      "/kaggle/input/epigraphie-grecque/data_clean/Dedication + dedication to demos + dedication to emperor donor/5.208._Building_dedication_to_Aphrodite_and_Hadrian_by_Pereitas_Attalos_E.jpg\n",
      "/kaggle/input/epigraphie-grecque/data_clean/Dedication + dedication to demos + dedication to emperor donor/5.206._Column_dedication_to_Demos_by_Menippos_Kodios_and_Papianos_Kodios.jpg\n",
      "/kaggle/input/epigraphie-grecque/data_clean/Dedication + dedication to demos + dedication to emperor donor/4.308._Dedication_and_restoration_of_statues_after_an_earthquake,_authorised_by_Trajan,_undertaken_by_Kallikrates_Grypos_B.jpg\n",
      "/kaggle/input/epigraphie-grecque/data_clean/Dedication + dedication to demos + dedication to emperor donor/5.208._Building_dedication_to_Aphrodite_and_Hadrian_by_Pereitas_Attalos_D.jpg\n",
      "/kaggle/input/epigraphie-grecque/data_clean/Dedication + dedication to demos + dedication to emperor donor/12.1001._Dedication_to_Constantius_II_and_a_Caesar_by_Fl._Quint._Eros_Monaxios_D.jpg\n",
      "/kaggle/input/epigraphie-grecque/data_clean/Dedication + dedication to demos + dedication to emperor donor/11.51._Dedication_by_Tiberius_Claudius_Apollonios_Aurelianos.jpg\n",
      "/kaggle/input/epigraphie-grecque/data_clean/Dedication + dedication to demos + dedication to emperor donor/13.402._Dedication_of_a_foundation_by_Titus_Aelius_-dianos_A.jpg\n",
      "/kaggle/input/epigraphie-grecque/data_clean/Dedication + dedication to demos + dedication to emperor donor/15.274._Fragment_of_dedication_by_Myre_and_._._..jpg\n",
      "/kaggle/input/epigraphie-grecque/data_clean/Dedication + dedication to demos + dedication to emperor donor/11.401._Statue_and_altar_dedication_by_Titus_Flavius_Staberianos,_doctor.jpg\n",
      "/kaggle/input/epigraphie-grecque/data_clean/Dedication + dedication to demos + dedication to emperor donor/12.404._Building_dedications,_by_Antipatros_and_by_Dionysios,_to_Demos_B.jpg\n",
      "/kaggle/input/epigraphie-grecque/data_clean/Dedication + dedication to demos + dedication to emperor donor/1.6._Column_dedication_by_Eumachos_and_Amias.jpg\n",
      "/kaggle/input/epigraphie-grecque/data_clean/Dedication + dedication to demos + dedication to emperor donor/7.2._Dedicatory_poem.jpg\n",
      "/kaggle/input/epigraphie-grecque/data_clean/Dedication + dedication to demos + dedication to emperor donor/11.66._Dedication_by_Flavius_Eusebios.jpg\n",
      "/kaggle/input/epigraphie-grecque/data_clean/Dedication + dedication to demos + dedication to emperor donor/5.2._Column_dedication_to_Demos_by_Artemon_son_of_Adrastos_D.jpg\n",
      "/kaggle/input/epigraphie-grecque/data_clean/Dedication + dedication to demos + dedication to emperor donor/8.708._Altar_dedication_for_Hadrian.jpg\n",
      "/kaggle/input/epigraphie-grecque/data_clean/Dedication + dedication to demos + dedication to emperor donor/3.3._Building_dedication_to_a_god.jpg\n",
      "/kaggle/input/epigraphie-grecque/data_clean/Dedication + dedication to demos + dedication to emperor donor/4.308._Dedication_and_restoration_of_statues_after_an_earthquake,_authorised_by_Trajan,_undertaken_by_Kallikrates_Grypos_A.jpg\n",
      "/kaggle/input/epigraphie-grecque/data_clean/Dedication + dedication to demos + dedication to emperor donor/11.105._Dedication_by_Kallikles_son_of_Kallikles_via_his_brother_Molossos.jpg\n",
      "/kaggle/input/epigraphie-grecque/data_clean/Dedication + dedication to demos + dedication to emperor donor/8.276._Dedicatory_poem,_church_of_SS._Barbara_and_Anastasia.jpg\n",
      "/kaggle/input/epigraphie-grecque/data_clean/Dedication + dedication to demos + dedication to emperor donor/11.206._Dedication_by_Antipatros_son_of_Artemidoros.jpg\n",
      "/kaggle/input/epigraphie-grecque/data_clean/Dedication + dedication to demos + dedication to emperor donor/13.119._Votive_dedication_by_children_of_Hermias.jpg\n",
      "/kaggle/input/epigraphie-grecque/data_clean/Dedication + dedication to demos + dedication to emperor donor/3.4._i._Dedication_to_Patris_by_Zenon_son_of_Euthymos_and_others_ii._The_Phrygian_Metropolis_honours_Alexandros,_in_verse_A.jpg\n",
      "/kaggle/input/epigraphie-grecque/data_clean/Dedication + dedication to demos + dedication to emperor donor/12.404._Building_dedications,_by_Antipatros_and_by_Dionysios,_to_Demos_A.jpg\n",
      "/kaggle/input/epigraphie-grecque/data_clean/Dedication + dedication to demos + dedication to emperor donor/5.208._Building_dedication_to_Aphrodite_and_Hadrian_by_Pereitas_Attalos_C.jpg\n",
      "/kaggle/input/epigraphie-grecque/data_clean/Dedication + dedication to demos + dedication to emperor donor/8.212._Dedication_by_Gaius_Volousios,_mime_actor.jpg\n",
      "/kaggle/input/epigraphie-grecque/data_clean/Dedication + dedication to demos + dedication to emperor donor/5.208._Building_dedication_to_Aphrodite_and_Hadrian_by_Pereitas_Attalos_A.jpg\n",
      "/kaggle/input/epigraphie-grecque/data_clean/Dedication + dedication to demos + dedication to emperor donor/15.352._Dedication_from_a_church_(building_inscription).jpg\n",
      "/kaggle/input/epigraphie-grecque/data_clean/Dedication + dedication to demos + dedication to emperor donor/2.110._i._Honours_for_Septimus_Severus_ii._Building_inscription_of_Antonius_Priskos_C.jpg\n",
      "/kaggle/input/epigraphie-grecque/data_clean/Dedication + dedication to demos + dedication to emperor donor/9.126._Dedicatory_poem_C.jpg\n",
      "/kaggle/input/epigraphie-grecque/data_clean/Dedication + dedication to demos + dedication to emperor donor/11.3._Dedication_by_Dionysios_on_behalf_of_Ammia.jpg\n",
      "/kaggle/input/epigraphie-grecque/data_clean/Dedication + dedication to demos + dedication to emperor donor/5.119._Dedication_by_Flavius_Palladios.jpg\n",
      "/kaggle/input/epigraphie-grecque/data_clean/Dedication + dedication to demos + dedication to emperor donor/15.266._Honours_or_dedication_B.jpg\n",
      "/kaggle/input/epigraphie-grecque/data_clean/Dedication + dedication to demos + dedication to emperor donor/5.2._Column_dedication_to_Demos_by_Artemon_son_of_Adrastos_A.jpg\n",
      "/kaggle/input/epigraphie-grecque/data_clean/Dedication + dedication to demos + dedication to emperor donor/1.109._Dedication_to_Aphrodite_by_Artemidoros.jpg\n",
      "/kaggle/input/epigraphie-grecque/data_clean/Dedication + dedication to demos + dedication to emperor donor/8.256._Panel_dedication_with_imperial_reference.jpg\n",
      "/kaggle/input/epigraphie-grecque/data_clean/Dedication + dedication to demos + dedication to emperor donor/9.126._Dedicatory_poem_B.jpg\n",
      "/kaggle/input/epigraphie-grecque/data_clean/Dedication + dedication to demos + dedication to emperor donor/5.2._Column_dedication_to_Demos_by_Artemon_son_of_Adrastos_B.jpg\n",
      "/kaggle/input/epigraphie-grecque/data_clean/Agonistic/1.182._Honours_for_Meliton,_kitharist_G.jpg\n",
      "/kaggle/input/epigraphie-grecque/data_clean/Agonistic/1.182._Honours_for_Meliton,_kitharist_D.jpg\n",
      "/kaggle/input/epigraphie-grecque/data_clean/Agonistic/1.182._Honours_for_Meliton,_kitharist_E.jpg\n",
      "/kaggle/input/epigraphie-grecque/data_clean/Agonistic/1.182._Honours_for_Meliton,_kitharist_F.jpg\n",
      "/kaggle/input/epigraphie-grecque/data_clean/Agonistic/1.182._Honours_for_Meliton,_kitharist_C.jpg\n",
      "/kaggle/input/epigraphie-grecque/data_clean/Agonistic/1.177._Honours_for_Zenon_son_of_Zenon,_wrestler_C.jpg\n",
      "/kaggle/input/epigraphie-grecque/data_clean/Acclamation/Acclamation_8.jpg\n",
      "/kaggle/input/epigraphie-grecque/data_clean/Acclamation/8.61._Seat_inscriptions_Theatre_Block_J.jpg\n",
      "/kaggle/input/epigraphie-grecque/data_clean/Acclamation/4.13._Acclamations_of_the_Greens,_the_City_and_the_Blues_B.jpg\n",
      "/kaggle/input/epigraphie-grecque/data_clean/Acclamation/Acclamation_10.jpg\n",
      "/kaggle/input/epigraphie-grecque/data_clean/Acclamation/1.403._Acclamation_of_the_Greens_B.jpg\n",
      "/kaggle/input/epigraphie-grecque/data_clean/Acclamation/4.21._1._Acclamations_for_Albinos,_clarissimus_2._Acclamation_for_the_city_G.jpg\n",
      "/kaggle/input/epigraphie-grecque/data_clean/Acclamation/1.102._Building_dedication_to_the_Divine_Augustus_by_Eusebes_son_of_Menandros.jpg\n",
      "/kaggle/input/epigraphie-grecque/data_clean/Acclamation/8.906._Acclamation_for_Theopompos,_magnificentissimus,_pater_civitatis.jpg\n",
      "/kaggle/input/epigraphie-grecque/data_clean/Acclamation/4.21._1._Acclamations_for_Albinos,_clarissimus_2._Acclamation_for_the_city_W.jpg\n",
      "/kaggle/input/epigraphie-grecque/data_clean/Acclamation/Acclamation_13.jpg\n",
      "/kaggle/input/epigraphie-grecque/data_clean/Acclamation/4.21._1._Acclamations_for_Albinos,_clarissimus_2._Acclamation_for_the_city_M.jpg\n",
      "/kaggle/input/epigraphie-grecque/data_clean/Acclamation/Acclamation_3.jpg\n",
      "/kaggle/input/epigraphie-grecque/data_clean/Acclamation/8.1._i._Building_dedication_to_Aphrodite_and_Demos_ii._Invocation_to_Ourania_iii._Acclamation_for_the_City_B.jpg\n",
      "/kaggle/input/epigraphie-grecque/data_clean/Acclamation/Acclamation_1.jpg\n",
      "/kaggle/input/epigraphie-grecque/data_clean/Acclamation/8.104._Acclamation_for_the_Greens_and_their_mimes_A.jpg\n",
      "/kaggle/input/epigraphie-grecque/data_clean/Acclamation/Acclamation_7.jpg\n",
      "/kaggle/input/epigraphie-grecque/data_clean/Acclamation/4.21._1._Acclamations_for_Albinos,_clarissimus_2._Acclamation_for_the_city_D.jpg\n",
      "/kaggle/input/epigraphie-grecque/data_clean/Acclamation/Acclamation_11.jpg\n",
      "/kaggle/input/epigraphie-grecque/data_clean/Acclamation/4.21._1._Acclamations_for_Albinos,_clarissimus_2._Acclamation_for_the_city_O.jpg\n",
      "/kaggle/input/epigraphie-grecque/data_clean/Acclamation/Acclamation_5_(A).jpg\n",
      "/kaggle/input/epigraphie-grecque/data_clean/Acclamation/8.107._Seat_inscriptions_Theatre,_loose_block_acclamation_for_the_Greens.jpg\n",
      "/kaggle/input/epigraphie-grecque/data_clean/Acclamation/Acclamation_16.jpg\n",
      "/kaggle/input/epigraphie-grecque/data_clean/Acclamation/5.24._Acclamations_for_imperial_family,_and_a_New_Theodosius.jpg\n",
      "/kaggle/input/epigraphie-grecque/data_clean/Acclamation/Acclamation_5_(B).jpg\n",
      "/kaggle/input/epigraphie-grecque/data_clean/Acclamation/Acclamation_12.jpg\n",
      "/kaggle/input/epigraphie-grecque/data_clean/Acclamation/11.70._Acclamation_for_Pytheas.jpg\n",
      "/kaggle/input/epigraphie-grecque/data_clean/Acclamation/Acclamation_2.jpg\n",
      "/kaggle/input/epigraphie-grecque/data_clean/Acclamation/Acclamation_14.jpg\n",
      "/kaggle/input/epigraphie-grecque/data_clean/Acclamation/Acclamation_6.jpg\n",
      "/kaggle/input/epigraphie-grecque/data_clean/Acclamation/Acclamation_9.jpg\n",
      "/kaggle/input/epigraphie-grecque/data_clean/Acclamation/2.3._Graffiti_-_insults_and_acclamations.jpg\n",
      "/kaggle/input/epigraphie-grecque/data_clean/Acclamation/Acclamation_4_(A).jpg\n",
      "/kaggle/input/epigraphie-grecque/data_clean/Acclamation/4.21._1._Acclamations_for_Albinos,_clarissimus_2._Acclamation_for_the_city_K.jpg\n",
      "/kaggle/input/epigraphie-grecque/data_clean/Acclamation/Acclamation_4_(B).jpg\n",
      "/kaggle/input/epigraphie-grecque/data_clean/Acclamation/8.1._i._Building_dedication_to_Aphrodite_and_Demos_ii._Invocation_to_Ourania_iii._Acclamation_for_the_City_A.jpg\n",
      "/kaggle/input/epigraphie-grecque/data_clean/Acclamation/4.12._Acclamation_of_the_sellophoroi_A.jpg\n",
      "/kaggle/input/epigraphie-grecque/data_clean/Acclamation/4.12._Acclamation_of_the_sellophoroi_C.jpg\n",
      "/kaggle/input/epigraphie-grecque/data_clean/Acclamation/Acclamation_15.jpg\n",
      "/kaggle/input/epigraphie-grecque/data_clean/Acclamation/8.106._Acclamation_of_city_Tyche_and_the_Greens.jpg\n",
      "/kaggle/input/epigraphie-grecque/data_clean/Acclamation/4.21._1._Acclamations_for_Albinos,_clarissimus_2._Acclamation_for_the_city_A2.jpg\n",
      "/kaggle/input/epigraphie-grecque/data_clean/Acclamation/1.403._Acclamation_of_the_Greens_A.jpg\n",
      "/kaggle/input/epigraphie-grecque/data_clean/Place inscription/8.21._Place_inscription_of_Demetrios,_homerist_B.jpg\n",
      "/kaggle/input/epigraphie-grecque/data_clean/Place inscription/5.12._i._Fragment_of_verse._ii._Place_inscription_of_Synodios_B.jpg\n",
      "/kaggle/input/epigraphie-grecque/data_clean/Place inscription/8.9._Place_inscription_of_Pardalas,_mimologos_B.jpg\n",
      "/kaggle/input/epigraphie-grecque/data_clean/Place inscription/5.12._i._Fragment_of_verse._ii._Place_inscription_of_Synodios_A.jpg\n",
      "/kaggle/input/epigraphie-grecque/data_clean/Place inscription/8.265._Reserved_benches_for_associations_B.jpg\n",
      "/kaggle/input/epigraphie-grecque/data_clean/Place inscription/5.11._Place_inscription_of_Epiktetos,_cloakroom-attendant.jpg\n",
      "/kaggle/input/epigraphie-grecque/data_clean/Place inscription/4.9._Place_inscription_of_Zotikos,_peddlar.jpg\n",
      "/kaggle/input/epigraphie-grecque/data_clean/Place inscription/8.265._Reserved_benches_for_associations_D.jpg\n",
      "/kaggle/input/epigraphie-grecque/data_clean/Place inscription/4.7._i_Place_inscription_of_Eugraphios_phylarchos_ii_Place_inscription_of_Zotikos_C.jpg\n",
      "/kaggle/input/epigraphie-grecque/data_clean/Place inscription/4.18._Place_inscription_of_Ioan(nes)_A.jpg\n",
      "/kaggle/input/epigraphie-grecque/data_clean/Place inscription/8.265._Reserved_benches_for_associations_C.jpg\n",
      "/kaggle/input/epigraphie-grecque/data_clean/Place inscription/4.18._Place_inscription_of_Ioan(nes)_B.jpg\n",
      "/kaggle/input/epigraphie-grecque/data_clean/Place inscription/8.17._Place_inscription_of_Kapuras_and_Philologos_C.jpg\n",
      "/kaggle/input/epigraphie-grecque/data_clean/Place inscription/1.301._i._Letter_from_a_Roman_official_(a_curator)_to_Aphrodisias._ii_Place_inscription_of_Kyriakos,_trouser-maker_A.jpg\n",
      "/kaggle/input/epigraphie-grecque/data_clean/Place inscription/8.21._Place_inscription_of_Demetrios,_homerist_A.jpg\n",
      "/kaggle/input/epigraphie-grecque/data_clean/Place inscription/8.18._Place_inscription_of_Neikanor.jpg\n",
      "/kaggle/input/epigraphie-grecque/data_clean/Place inscription/4.7._i_Place_inscription_of_Eugraphios_phylarchos_ii_Place_inscription_of_Zotikos_A.jpg\n",
      "/kaggle/input/epigraphie-grecque/data_clean/Place inscription/1.11._Place_inscription_of_Loukas,_philoponus.jpg\n",
      "/kaggle/input/epigraphie-grecque/data_clean/Place inscription/8.16._Place_inscription_of_Autolykos.jpg\n",
      "/kaggle/input/epigraphie-grecque/data_clean/Place inscription/1.402._Place_inscription_of_Heptamenios_et_al..jpg\n",
      "/kaggle/input/epigraphie-grecque/data_clean/Place inscription/8.22._Place_inscription_of_a_biologos.jpg\n",
      "/kaggle/input/epigraphie-grecque/data_clean/Place inscription/8.17._Place_inscription_of_Kapuras_and_Philologos_B.jpg\n",
      "/kaggle/input/epigraphie-grecque/data_clean/Place inscription/8.15._Place_inscription_of_archeologoi.jpg\n",
      "/kaggle/input/epigraphie-grecque/data_clean/Place inscription/3.5._Place_inscription_of_Philip(pos).jpg\n",
      "/kaggle/input/epigraphie-grecque/data_clean/Place inscription/12.516._Place_inscription_of_Philotheos.jpg\n",
      "/kaggle/input/epigraphie-grecque/data_clean/Place inscription/8.265._Reserved_benches_for_associations_A.jpg\n",
      "/kaggle/input/epigraphie-grecque/data_clean/Place inscription/8.265._Reserved_benches_for_associations_E.jpg\n",
      "/kaggle/input/epigraphie-grecque/data_clean/Place inscription/8.606._Place_inscription_of_Theodoros.jpg\n",
      "/kaggle/input/epigraphie-grecque/data_clean/Place inscription/4.16._Place_inscription_of_Theoktistos_B.jpg\n",
      "/kaggle/input/epigraphie-grecque/data_clean/Place inscription/8.602._Place_inscription_of_Aelianos.jpg\n",
      "/kaggle/input/epigraphie-grecque/data_clean/Place inscription/1.301._i._Letter_from_a_Roman_official_(a_curator)_to_Aphrodisias._ii_Place_inscription_of_Kyriakos,_trouser-maker_B.jpg\n",
      "/kaggle/input/epigraphie-grecque/data_clean/Place inscription/4.16._Place_inscription_of_Theoktistos_A.jpg\n",
      "/kaggle/input/epigraphie-grecque/data_clean/Place inscription/8.19._Place_inscription_of_Bassos_invocation.jpg\n",
      "/kaggle/input/epigraphie-grecque/data_clean/Place inscription/8.507._Place_inscription_of_Heortasios.jpg\n",
      "/kaggle/input/epigraphie-grecque/data_clean/Place inscription/4.8._Place_inscription_of_Kes.jpg\n",
      "/kaggle/input/epigraphie-grecque/data_clean/Place inscription/8.9._Place_inscription_of_Pardalas,_mimologos_A.jpg\n",
      "/kaggle/input/epigraphie-grecque/data_clean/Place inscription/8.17._Place_inscription_of_Kapuras_and_Philologos_A.jpg\n",
      "/kaggle/input/epigraphie-grecque/data_clean/Place inscription/8.255._Place_inscription_for_Aelius_Benouseinos.jpg\n",
      "/kaggle/input/epigraphie-grecque/data_clean/Place inscription/4.7._i_Place_inscription_of_Eugraphios_phylarchos_ii_Place_inscription_of_Zotikos_B.jpg\n",
      "/kaggle/input/epigraphie-grecque/data_clean/Place inscription/8.9._Place_inscription_of_Pardalas,_mimologos_C.jpg\n",
      "/kaggle/input/epigraphie-grecque/data_clean/Place inscription/8.20._Place_inscriptions_of_Ioulianos_and_Bassos.jpg\n",
      "/kaggle/input/epigraphie-grecque/data_clean/Place inscription/8.265._Reserved_benches_for_associations_F.jpg\n",
      "/kaggle/input/epigraphie-grecque/data_clean/Place inscription/4.15._Place_inscription_of_Kallinikos.jpg\n",
      "/kaggle/input/epigraphie-grecque/data_clean/Place inscription/8.8._Place_inscription_of_Philistion.jpg\n",
      "/kaggle/input/epigraphie-grecque/data_clean/Graffiti/2.402._Graffiti_Prayers_and_names_B.jpg\n",
      "/kaggle/input/epigraphie-grecque/data_clean/Graffiti/2.402._Graffiti_Prayers_and_names_C.jpg\n",
      "/kaggle/input/epigraphie-grecque/data_clean/Graffiti/2.402._Graffiti_Prayers_and_names_D.jpg\n",
      "/kaggle/input/epigraphie-grecque/data_clean/Graffiti/8.12._Graffiti_on_Theatre_stage.jpg\n",
      "/kaggle/input/epigraphie-grecque/data_clean/Graffiti/13.107._-Jewish_graffiti_in_a_bath-building.jpg\n",
      "/kaggle/input/epigraphie-grecque/data_clean/Graffiti/2.402._Graffiti_Prayers_and_names_A.jpg\n",
      "/kaggle/input/epigraphie-grecque/data_clean/Graffiti/8.11._Graffiti_of_a_-pyrrhic_dancer_B.jpg\n",
      "/kaggle/input/epigraphie-grecque/data_clean/Graffiti/8.11._Graffiti_of_a_-pyrrhic_dancer_A.jpg\n",
      "/kaggle/input/epigraphie-grecque/data_clean/Graffiti/2.3._Graffiti_insults_and_acclamations_A.jpg\n",
      "/kaggle/input/epigraphie-grecque/data_clean/Graffiti/1.33._Graffiti_names_and_prayers_A.jpg\n",
      "/kaggle/input/epigraphie-grecque/data_clean/Graffiti/8.95._Graffiti.jpg\n",
      "/kaggle/input/epigraphie-grecque/data_clean/Imperial + imperial letter/12.108._Dedication_for_Emperors_and_Caesars.jpg\n",
      "/kaggle/input/epigraphie-grecque/data_clean/Imperial + imperial letter/2.110._i._Honours_for_Septimus_Severus_ii._Building_inscription_of_Antonius_Priskos_A.jpg\n",
      "/kaggle/input/epigraphie-grecque/data_clean/Imperial + imperial letter/8.405._Honours_for_Julian_by_Antonius_Tatianos.jpg\n",
      "/kaggle/input/epigraphie-grecque/data_clean/Imperial + imperial letter/12.515._Statue_dedication_for_emperor_Claudius.jpg\n",
      "/kaggle/input/epigraphie-grecque/data_clean/Imperial + imperial letter/4.10._Fl._Eutolmius_Tatianos_honours_Arcadius_C.jpg\n",
      "/kaggle/input/epigraphie-grecque/data_clean/Imperial + imperial letter/8.211._Statue_dedication_of_Hygeia_to_emperors.jpg\n",
      "/kaggle/input/epigraphie-grecque/data_clean/Imperial + imperial letter/9.112._Building_dedication_to_Tiberius_and_Livia_C.jpg\n",
      "/kaggle/input/epigraphie-grecque/data_clean/Imperial + imperial letter/12.642._Statue_dedication_to_empress_Julia_Domna.jpg\n",
      "/kaggle/input/epigraphie-grecque/data_clean/Imperial + imperial letter/4.10._Fl._Eutolmius_Tatianos_honours_Arcadius_A.jpg\n",
      "/kaggle/input/epigraphie-grecque/data_clean/Imperial + imperial letter/2.110._i._Honours_for_Septimus_Severus_ii._Building_inscription_of_Antonius_Priskos_D.jpg\n",
      "/kaggle/input/epigraphie-grecque/data_clean/Imperial + imperial letter/4.10._Fl._Eutolmius_Tatianos_honours_Arcadius_B.jpg\n",
      "/kaggle/input/epigraphie-grecque/data_clean/Imperial + imperial letter/9.112._Building_dedication_to_Tiberius_and_Livia_A.jpg\n",
      "/kaggle/input/epigraphie-grecque/data_clean/Imperial + imperial letter/5.216._Honours_for_Aelia_Flaccilla_B.jpg\n",
      "/kaggle/input/epigraphie-grecque/data_clean/Imperial + imperial letter/2.110._i._Honours_for_Septimus_Severus_ii._Building_inscription_of_Antonius_Priskos_E.jpg\n",
      "/kaggle/input/epigraphie-grecque/data_clean/Imperial + imperial letter/9.112._Building_dedication_to_Tiberius_and_Livia_D.jpg\n",
      "/kaggle/input/epigraphie-grecque/data_clean/Imperial + imperial letter/9.40._Honours_for_Atia_mother_of_Augustus.jpg\n",
      "/kaggle/input/epigraphie-grecque/data_clean/Imperial + imperial letter/12.643._Honours_for_a_son_of_Gallienus_A.jpg\n"
     ]
    }
   ],
   "source": [
    "# This Python 3 environment comes with many helpful analytics libraries installed\n",
    "# It is defined by the kaggle/python Docker image: https://github.com/kaggle/docker-python\n",
    "# For example, here's several helpful packages to load\n",
    "\n",
    "import numpy as np # linear algebra\n",
    "import pandas as pd # data processing, CSV file I/O (e.g. pd.read_csv)\n",
    "\n",
    "# Input data files are available in the read-only \"../input/\" directory\n",
    "# For example, running this (by clicking run or pressing Shift+Enter) will list all files under the input directory\n",
    "\n",
    "import os\n",
    "for dirname, _, filenames in os.walk('/kaggle/input'):\n",
    "    for filename in filenames:\n",
    "        print(os.path.join(dirname, filename))\n",
    "\n",
    "# You can write up to 20GB to the current directory (/kaggle/working/) that gets preserved as output when you create a version using \"Save & Run All\" \n",
    "# You can also write temporary files to /kaggle/temp/, but they won't be saved outside of the current session"
   ]
  },
  {
   "cell_type": "code",
   "execution_count": 2,
   "metadata": {
    "execution": {
     "iopub.execute_input": "2025-07-01T09:57:56.053882Z",
     "iopub.status.busy": "2025-07-01T09:57:56.053568Z",
     "iopub.status.idle": "2025-07-01T09:57:58.733169Z",
     "shell.execute_reply": "2025-07-01T09:57:58.732489Z",
     "shell.execute_reply.started": "2025-07-01T09:57:56.053863Z"
    },
    "trusted": true
   },
   "outputs": [
    {
     "name": "stdout",
     "output_type": "stream",
     "text": [
      "✅ Split terminé avec succès !\n"
     ]
    }
   ],
   "source": [
    "import os\n",
    "import shutil\n",
    "from sklearn.model_selection import train_test_split\n",
    "\n",
    "DOSSIER_SOURCE = \"/kaggle/input/epigraphie-grecque/data_clean\"       # ← à adapter\n",
    "DOSSIER_DEST = \"split\"   # ← ex. ./dataset_split\n",
    "RATIO_TEST = 0.2                                  # 20% pour test\n",
    "\n",
    "# 1. Rassembler tous les fichiers par classe\n",
    "fichiers = []\n",
    "labels = []\n",
    "\n",
    "for classe in os.listdir(DOSSIER_SOURCE):\n",
    "    chemin_classe = os.path.join(DOSSIER_SOURCE, classe)\n",
    "    if os.path.isdir(chemin_classe):\n",
    "        for nom_fichier in os.listdir(chemin_classe):\n",
    "            chemin_fichier = os.path.join(chemin_classe, nom_fichier)\n",
    "            if os.path.isfile(chemin_fichier):\n",
    "                fichiers.append(chemin_fichier)\n",
    "                labels.append(classe)\n",
    "\n",
    "# 2. Split train/test\n",
    "X_train, X_test, y_train, y_test = train_test_split(\n",
    "    fichiers, labels, test_size=RATIO_TEST, stratify=labels, random_state=42\n",
    ")\n",
    "\n",
    "# 3. Copier les fichiers dans une nouvelle structure train/test\n",
    "for split_name, X, y in [('train', X_train, y_train), ('test', X_test, y_test)]:\n",
    "    for chemin_source, classe in zip(X, y):\n",
    "        dossier_cible = os.path.join(DOSSIER_DEST, split_name, classe)\n",
    "        os.makedirs(dossier_cible, exist_ok=True)\n",
    "        shutil.copy(chemin_source, os.path.join(dossier_cible, os.path.basename(chemin_source)))\n",
    "\n",
    "print(\"✅ Split terminé avec succès !\")"
   ]
  },
  {
   "cell_type": "code",
   "execution_count": 3,
   "metadata": {
    "execution": {
     "iopub.execute_input": "2025-07-01T09:57:58.734465Z",
     "iopub.status.busy": "2025-07-01T09:57:58.733915Z",
     "iopub.status.idle": "2025-07-01T09:58:09.708112Z",
     "shell.execute_reply": "2025-07-01T09:58:09.707134Z",
     "shell.execute_reply.started": "2025-07-01T09:57:58.734434Z"
    },
    "trusted": true
   },
   "outputs": [
    {
     "name": "stdout",
     "output_type": "stream",
     "text": [
      "\u001b[33mWARNING: Ignoring invalid distribution ~vidia-cublas-cu12 (/usr/local/lib/python3.11/dist-packages)\u001b[0m\u001b[33m\n",
      "\u001b[0m\u001b[33mWARNING: Ignoring invalid distribution ~vidia-cublas-cu12 (/usr/local/lib/python3.11/dist-packages)\u001b[0m\u001b[33m\n",
      "\u001b[0mRequirement already satisfied: ultralytics in /usr/local/lib/python3.11/dist-packages (8.3.161)\n",
      "Requirement already satisfied: numpy>=1.23.0 in /usr/local/lib/python3.11/dist-packages (from ultralytics) (1.26.4)\n",
      "Requirement already satisfied: matplotlib>=3.3.0 in /usr/local/lib/python3.11/dist-packages (from ultralytics) (3.7.2)\n",
      "Requirement already satisfied: opencv-python>=4.6.0 in /usr/local/lib/python3.11/dist-packages (from ultralytics) (4.11.0.86)\n",
      "Requirement already satisfied: pillow>=7.1.2 in /usr/local/lib/python3.11/dist-packages (from ultralytics) (11.1.0)\n",
      "Requirement already satisfied: pyyaml>=5.3.1 in /usr/local/lib/python3.11/dist-packages (from ultralytics) (6.0.2)\n",
      "Requirement already satisfied: requests>=2.23.0 in /usr/local/lib/python3.11/dist-packages (from ultralytics) (2.32.3)\n",
      "Requirement already satisfied: scipy>=1.4.1 in /usr/local/lib/python3.11/dist-packages (from ultralytics) (1.15.2)\n",
      "Requirement already satisfied: torch>=1.8.0 in /usr/local/lib/python3.11/dist-packages (from ultralytics) (2.6.0+cu124)\n",
      "Requirement already satisfied: torchvision>=0.9.0 in /usr/local/lib/python3.11/dist-packages (from ultralytics) (0.21.0+cu124)\n",
      "Requirement already satisfied: tqdm>=4.64.0 in /usr/local/lib/python3.11/dist-packages (from ultralytics) (4.67.1)\n",
      "Requirement already satisfied: psutil in /usr/local/lib/python3.11/dist-packages (from ultralytics) (7.0.0)\n",
      "Requirement already satisfied: py-cpuinfo in /usr/local/lib/python3.11/dist-packages (from ultralytics) (9.0.0)\n",
      "Requirement already satisfied: pandas>=1.1.4 in /usr/local/lib/python3.11/dist-packages (from ultralytics) (2.2.3)\n",
      "Requirement already satisfied: ultralytics-thop>=2.0.0 in /usr/local/lib/python3.11/dist-packages (from ultralytics) (2.0.14)\n",
      "Requirement already satisfied: contourpy>=1.0.1 in /usr/local/lib/python3.11/dist-packages (from matplotlib>=3.3.0->ultralytics) (1.3.1)\n",
      "Requirement already satisfied: cycler>=0.10 in /usr/local/lib/python3.11/dist-packages (from matplotlib>=3.3.0->ultralytics) (0.12.1)\n",
      "Requirement already satisfied: fonttools>=4.22.0 in /usr/local/lib/python3.11/dist-packages (from matplotlib>=3.3.0->ultralytics) (4.57.0)\n",
      "Requirement already satisfied: kiwisolver>=1.0.1 in /usr/local/lib/python3.11/dist-packages (from matplotlib>=3.3.0->ultralytics) (1.4.8)\n",
      "Requirement already satisfied: packaging>=20.0 in /usr/local/lib/python3.11/dist-packages (from matplotlib>=3.3.0->ultralytics) (25.0)\n",
      "Requirement already satisfied: pyparsing<3.1,>=2.3.1 in /usr/local/lib/python3.11/dist-packages (from matplotlib>=3.3.0->ultralytics) (3.0.9)\n",
      "Requirement already satisfied: python-dateutil>=2.7 in /usr/local/lib/python3.11/dist-packages (from matplotlib>=3.3.0->ultralytics) (2.9.0.post0)\n",
      "Requirement already satisfied: mkl_fft in /usr/local/lib/python3.11/dist-packages (from numpy>=1.23.0->ultralytics) (1.3.8)\n",
      "Requirement already satisfied: mkl_random in /usr/local/lib/python3.11/dist-packages (from numpy>=1.23.0->ultralytics) (1.2.4)\n",
      "Requirement already satisfied: mkl_umath in /usr/local/lib/python3.11/dist-packages (from numpy>=1.23.0->ultralytics) (0.1.1)\n",
      "Requirement already satisfied: mkl in /usr/local/lib/python3.11/dist-packages (from numpy>=1.23.0->ultralytics) (2025.1.0)\n",
      "Requirement already satisfied: tbb4py in /usr/local/lib/python3.11/dist-packages (from numpy>=1.23.0->ultralytics) (2022.1.0)\n",
      "Requirement already satisfied: mkl-service in /usr/local/lib/python3.11/dist-packages (from numpy>=1.23.0->ultralytics) (2.4.1)\n",
      "Requirement already satisfied: pytz>=2020.1 in /usr/local/lib/python3.11/dist-packages (from pandas>=1.1.4->ultralytics) (2025.2)\n",
      "Requirement already satisfied: tzdata>=2022.7 in /usr/local/lib/python3.11/dist-packages (from pandas>=1.1.4->ultralytics) (2025.2)\n",
      "Requirement already satisfied: charset-normalizer<4,>=2 in /usr/local/lib/python3.11/dist-packages (from requests>=2.23.0->ultralytics) (3.4.2)\n",
      "Requirement already satisfied: idna<4,>=2.5 in /usr/local/lib/python3.11/dist-packages (from requests>=2.23.0->ultralytics) (3.10)\n",
      "Requirement already satisfied: urllib3<3,>=1.21.1 in /usr/local/lib/python3.11/dist-packages (from requests>=2.23.0->ultralytics) (2.4.0)\n",
      "Requirement already satisfied: certifi>=2017.4.17 in /usr/local/lib/python3.11/dist-packages (from requests>=2.23.0->ultralytics) (2025.4.26)\n",
      "Requirement already satisfied: filelock in /usr/local/lib/python3.11/dist-packages (from torch>=1.8.0->ultralytics) (3.18.0)\n",
      "Requirement already satisfied: typing-extensions>=4.10.0 in /usr/local/lib/python3.11/dist-packages (from torch>=1.8.0->ultralytics) (4.13.2)\n",
      "Requirement already satisfied: networkx in /usr/local/lib/python3.11/dist-packages (from torch>=1.8.0->ultralytics) (3.4.2)\n",
      "Requirement already satisfied: jinja2 in /usr/local/lib/python3.11/dist-packages (from torch>=1.8.0->ultralytics) (3.1.6)\n",
      "Requirement already satisfied: fsspec in /usr/local/lib/python3.11/dist-packages (from torch>=1.8.0->ultralytics) (2025.3.2)\n",
      "Requirement already satisfied: nvidia-cuda-nvrtc-cu12==12.4.127 in /usr/local/lib/python3.11/dist-packages (from torch>=1.8.0->ultralytics) (12.4.127)\n",
      "Requirement already satisfied: nvidia-cuda-runtime-cu12==12.4.127 in /usr/local/lib/python3.11/dist-packages (from torch>=1.8.0->ultralytics) (12.4.127)\n",
      "Requirement already satisfied: nvidia-cuda-cupti-cu12==12.4.127 in /usr/local/lib/python3.11/dist-packages (from torch>=1.8.0->ultralytics) (12.4.127)\n",
      "Requirement already satisfied: nvidia-cudnn-cu12==9.1.0.70 in /usr/local/lib/python3.11/dist-packages (from torch>=1.8.0->ultralytics) (9.1.0.70)\n",
      "Collecting nvidia-cublas-cu12==12.4.5.8 (from torch>=1.8.0->ultralytics)\n",
      "  Using cached nvidia_cublas_cu12-12.4.5.8-py3-none-manylinux2014_x86_64.whl.metadata (1.5 kB)\n",
      "Requirement already satisfied: nvidia-cufft-cu12==11.2.1.3 in /usr/local/lib/python3.11/dist-packages (from torch>=1.8.0->ultralytics) (11.2.1.3)\n",
      "Requirement already satisfied: nvidia-curand-cu12==10.3.5.147 in /usr/local/lib/python3.11/dist-packages (from torch>=1.8.0->ultralytics) (10.3.5.147)\n",
      "Requirement already satisfied: nvidia-cusolver-cu12==11.6.1.9 in /usr/local/lib/python3.11/dist-packages (from torch>=1.8.0->ultralytics) (11.6.1.9)\n",
      "Requirement already satisfied: nvidia-cusparse-cu12==12.3.1.170 in /usr/local/lib/python3.11/dist-packages (from torch>=1.8.0->ultralytics) (12.3.1.170)\n",
      "Requirement already satisfied: nvidia-cusparselt-cu12==0.6.2 in /usr/local/lib/python3.11/dist-packages (from torch>=1.8.0->ultralytics) (0.6.2)\n",
      "Requirement already satisfied: nvidia-nccl-cu12==2.21.5 in /usr/local/lib/python3.11/dist-packages (from torch>=1.8.0->ultralytics) (2.21.5)\n",
      "Requirement already satisfied: nvidia-nvtx-cu12==12.4.127 in /usr/local/lib/python3.11/dist-packages (from torch>=1.8.0->ultralytics) (12.4.127)\n",
      "Requirement already satisfied: nvidia-nvjitlink-cu12==12.4.127 in /usr/local/lib/python3.11/dist-packages (from torch>=1.8.0->ultralytics) (12.4.127)\n",
      "Requirement already satisfied: triton==3.2.0 in /usr/local/lib/python3.11/dist-packages (from torch>=1.8.0->ultralytics) (3.2.0)\n",
      "Requirement already satisfied: sympy==1.13.1 in /usr/local/lib/python3.11/dist-packages (from torch>=1.8.0->ultralytics) (1.13.1)\n",
      "Requirement already satisfied: mpmath<1.4,>=1.1.0 in /usr/local/lib/python3.11/dist-packages (from sympy==1.13.1->torch>=1.8.0->ultralytics) (1.3.0)\n",
      "Requirement already satisfied: six>=1.5 in /usr/local/lib/python3.11/dist-packages (from python-dateutil>=2.7->matplotlib>=3.3.0->ultralytics) (1.17.0)\n",
      "Requirement already satisfied: MarkupSafe>=2.0 in /usr/local/lib/python3.11/dist-packages (from jinja2->torch>=1.8.0->ultralytics) (3.0.2)\n",
      "Requirement already satisfied: intel-openmp<2026,>=2024 in /usr/local/lib/python3.11/dist-packages (from mkl->numpy>=1.23.0->ultralytics) (2024.2.0)\n",
      "Requirement already satisfied: tbb==2022.* in /usr/local/lib/python3.11/dist-packages (from mkl->numpy>=1.23.0->ultralytics) (2022.1.0)\n",
      "Requirement already satisfied: tcmlib==1.* in /usr/local/lib/python3.11/dist-packages (from tbb==2022.*->mkl->numpy>=1.23.0->ultralytics) (1.3.0)\n",
      "Requirement already satisfied: intel-cmplr-lib-rt in /usr/local/lib/python3.11/dist-packages (from mkl_umath->numpy>=1.23.0->ultralytics) (2024.2.0)\n",
      "Requirement already satisfied: intel-cmplr-lib-ur==2024.2.0 in /usr/local/lib/python3.11/dist-packages (from intel-openmp<2026,>=2024->mkl->numpy>=1.23.0->ultralytics) (2024.2.0)\n",
      "Using cached nvidia_cublas_cu12-12.4.5.8-py3-none-manylinux2014_x86_64.whl (363.4 MB)\n",
      "\u001b[33mWARNING: Ignoring invalid distribution ~vidia-cublas-cu12 (/usr/local/lib/python3.11/dist-packages)\u001b[0m\u001b[33m\n",
      "\u001b[0mInstalling collected packages: nvidia-cublas-cu12\n",
      "\u001b[33mWARNING: Ignoring invalid distribution ~vidia-cublas-cu12 (/usr/local/lib/python3.11/dist-packages)\u001b[0m\u001b[33m\n",
      "\u001b[0mSuccessfully installed nvidia-cublas-cu12\n"
     ]
    }
   ],
   "source": [
    "### YOLO\n",
    "!pip install ultralytics"
   ]
  },
  {
   "cell_type": "markdown",
   "metadata": {},
   "source": [
    "Pour voir, utilisation du code fourni par ultralytics pour personnaliser l'entraînement, avec commentaire et adaptation de GPT pour m'aider à comprendre torch"
   ]
  },
  {
   "cell_type": "code",
   "execution_count": null,
   "metadata": {
    "execution": {
     "iopub.execute_input": "2025-07-01T09:58:09.710188Z",
     "iopub.status.busy": "2025-07-01T09:58:09.709930Z",
     "iopub.status.idle": "2025-07-01T10:12:42.229257Z",
     "shell.execute_reply": "2025-07-01T10:12:42.228474Z",
     "shell.execute_reply.started": "2025-07-01T09:58:09.710164Z"
    },
    "trusted": true
   },
   "outputs": [
    {
     "name": "stdout",
     "output_type": "stream",
     "text": [
      "Ultralytics 8.3.161 🚀 Python-3.11.11 torch-2.6.0+cu124 CUDA:0 (Tesla P100-PCIE-16GB, 16269MiB)\n",
      "\u001b[34m\u001b[1mengine/trainer: \u001b[0magnostic_nms=False, amp=True, augment=False, auto_augment=randaugment, batch=64, bgr=0.0, box=7.5, cache=False, cfg=None, classes=None, close_mosaic=10, cls=0.5, conf=None, copy_paste=0.0, copy_paste_mode=flip, cos_lr=False, cutmix=0.0, data=/kaggle/working/split, degrees=0.0, deterministic=True, device=0, dfl=1.5, dnn=False, dropout=0.0, dynamic=False, embed=None, epochs=100, erasing=0.4, exist_ok=False, fliplr=0.5, flipud=0.0, format=torchscript, fraction=1.0, freeze=None, half=False, hsv_h=0.015, hsv_s=0.7, hsv_v=0.4, imgsz=224, int8=False, iou=0.7, keras=False, kobj=1.0, line_width=None, lr0=0.01, lrf=0.01, mask_ratio=4, max_det=300, mixup=0.0, mode=train, model=yolo11s-cls.pt, momentum=0.937, mosaic=1.0, multi_scale=False, name=train2, nbs=64, nms=False, opset=None, optimize=False, optimizer=auto, overlap_mask=True, patience=100, perspective=0.0, plots=True, pose=12.0, pretrained=True, profile=False, project=None, rect=False, resume=False, retina_masks=False, save=True, save_conf=False, save_crop=False, save_dir=runs/classify/train2, save_frames=False, save_json=False, save_period=-1, save_txt=False, scale=0.5, seed=0, shear=0.0, show=False, show_boxes=True, show_conf=True, show_labels=True, simplify=True, single_cls=False, source=None, split=val, stream_buffer=False, task=classify, time=None, tracker=botsort.yaml, translate=0.1, val=True, verbose=True, vid_stride=1, visualize=False, warmup_bias_lr=0.1, warmup_epochs=3.0, warmup_momentum=0.8, weight_decay=0.0005, workers=8, workspace=None\n",
      "\u001b[34m\u001b[1mtrain:\u001b[0m /kaggle/working/split/train... found 876 images in 18 classes ✅ \n",
      "\u001b[34m\u001b[1mval:\u001b[0m None...\n",
      "\u001b[34m\u001b[1mtest:\u001b[0m /kaggle/working/split/test... found 220 images in 18 classes ✅ \n",
      "Overriding model.yaml nc=80 with nc=18\n",
      "\n",
      "                   from  n    params  module                                       arguments                     \n",
      "  0                  -1  1       928  ultralytics.nn.modules.conv.Conv             [3, 32, 3, 2]                 \n",
      "  1                  -1  1     18560  ultralytics.nn.modules.conv.Conv             [32, 64, 3, 2]                \n",
      "  2                  -1  1     26080  ultralytics.nn.modules.block.C3k2            [64, 128, 1, False, 0.25]     \n",
      "  3                  -1  1    147712  ultralytics.nn.modules.conv.Conv             [128, 128, 3, 2]              \n",
      "  4                  -1  1    103360  ultralytics.nn.modules.block.C3k2            [128, 256, 1, False, 0.25]    \n",
      "  5                  -1  1    590336  ultralytics.nn.modules.conv.Conv             [256, 256, 3, 2]              \n",
      "  6                  -1  1    346112  ultralytics.nn.modules.block.C3k2            [256, 256, 1, True]           \n",
      "  7                  -1  1   1180672  ultralytics.nn.modules.conv.Conv             [256, 512, 3, 2]              \n",
      "  8                  -1  1   1380352  ultralytics.nn.modules.block.C3k2            [512, 512, 1, True]           \n",
      "  9                  -1  1    990976  ultralytics.nn.modules.block.C2PSA           [512, 512, 1]                 \n",
      " 10                  -1  1    680978  ultralytics.nn.modules.head.Classify         [512, 18]                     \n",
      "YOLO11s-cls summary: 86 layers, 5,466,066 parameters, 5,466,066 gradients, 12.2 GFLOPs\n",
      "Transferred 234/236 items from pretrained weights\n",
      "\u001b[34m\u001b[1mAMP: \u001b[0mrunning Automatic Mixed Precision (AMP) checks...\n",
      "\u001b[34m\u001b[1mAMP: \u001b[0mchecks passed ✅\n",
      "\u001b[34m\u001b[1mtrain: \u001b[0mFast image access ✅ (ping: 0.0±0.0 ms, read: 3791.5±1138.2 MB/s, size: 537.5 KB)\n"
     ]
    },
    {
     "name": "stderr",
     "output_type": "stream",
     "text": [
      "\u001b[34m\u001b[1mtrain: \u001b[0mScanning /kaggle/working/split/train... 876 images, 0 corrupt: 100%|██████████| 876/876 [00:00<00:00, 2799.81it/s]"
     ]
    },
    {
     "name": "stdout",
     "output_type": "stream",
     "text": [
      "\u001b[34m\u001b[1mtrain: \u001b[0mNew cache created: /kaggle/working/split/train.cache\n"
     ]
    },
    {
     "name": "stderr",
     "output_type": "stream",
     "text": [
      "\n"
     ]
    },
    {
     "name": "stdout",
     "output_type": "stream",
     "text": [
      "\u001b[34m\u001b[1mval: \u001b[0mFast image access ✅ (ping: 0.0±0.0 ms, read: 1156.0±1148.7 MB/s, size: 548.0 KB)\n"
     ]
    },
    {
     "name": "stderr",
     "output_type": "stream",
     "text": [
      "\u001b[34m\u001b[1mval: \u001b[0mScanning /kaggle/working/split/test... 220 images, 0 corrupt: 100%|██████████| 220/220 [00:00<00:00, 1877.99it/s]"
     ]
    },
    {
     "name": "stdout",
     "output_type": "stream",
     "text": [
      "\u001b[34m\u001b[1mval: \u001b[0mNew cache created: /kaggle/working/split/test.cache\n"
     ]
    },
    {
     "name": "stderr",
     "output_type": "stream",
     "text": [
      "\n"
     ]
    },
    {
     "name": "stdout",
     "output_type": "stream",
     "text": [
      "\u001b[34m\u001b[1moptimizer:\u001b[0m 'optimizer=auto' found, ignoring 'lr0=0.01' and 'momentum=0.937' and determining best 'optimizer', 'lr0' and 'momentum' automatically... \n",
      "\u001b[34m\u001b[1moptimizer:\u001b[0m AdamW(lr=0.000455, momentum=0.9) with parameter groups 39 weight(decay=0.0), 40 weight(decay=0.0005), 40 bias(decay=0.0)\n",
      "Image sizes 224 train, 224 val\n",
      "Using 4 dataloader workers\n",
      "Logging results to \u001b[1mruns/classify/train2\u001b[0m\n",
      "Starting training for 100 epochs...\n",
      "\n",
      "      Epoch    GPU_mem       loss  Instances       Size\n"
     ]
    },
    {
     "name": "stderr",
     "output_type": "stream",
     "text": [
      "      1/100      1.65G      3.016         64        224:  14%|█▍        | 2/14 [00:05<00:30,  2.54s/it]"
     ]
    },
    {
     "name": "stdout",
     "output_type": "stream",
     "text": [
      "Downloading https://ultralytics.com/assets/Arial.ttf to '/root/.config/Ultralytics/Arial.ttf'...\n"
     ]
    },
    {
     "name": "stderr",
     "output_type": "stream",
     "text": [
      "      1/100      1.66G      2.972         64        224:  29%|██▊       | 4/14 [00:06<00:10,  1.07s/it]\n",
      "100%|██████████| 755k/755k [00:00<00:00, 28.4MB/s]\n",
      "      1/100      1.66G      2.855         44        224: 100%|██████████| 14/14 [00:13<00:00,  1.03it/s]\n",
      "               classes   top1_acc   top5_acc: 100%|██████████| 2/2 [00:00<00:00,  6.24it/s]"
     ]
    },
    {
     "name": "stdout",
     "output_type": "stream",
     "text": [
      "                   all     0.0818      0.509\n"
     ]
    },
    {
     "name": "stderr",
     "output_type": "stream",
     "text": [
      "\n"
     ]
    },
    {
     "name": "stdout",
     "output_type": "stream",
     "text": [
      "\n",
      "      Epoch    GPU_mem       loss  Instances       Size\n"
     ]
    },
    {
     "name": "stderr",
     "output_type": "stream",
     "text": [
      "      2/100      1.67G      2.395         44        224: 100%|██████████| 14/14 [00:07<00:00,  1.80it/s]\n",
      "               classes   top1_acc   top5_acc: 100%|██████████| 2/2 [00:00<00:00, 21.86it/s]"
     ]
    },
    {
     "name": "stdout",
     "output_type": "stream",
     "text": [
      "                   all      0.291      0.736\n"
     ]
    },
    {
     "name": "stderr",
     "output_type": "stream",
     "text": [
      "\n"
     ]
    },
    {
     "name": "stdout",
     "output_type": "stream",
     "text": [
      "\n",
      "      Epoch    GPU_mem       loss  Instances       Size\n"
     ]
    },
    {
     "name": "stderr",
     "output_type": "stream",
     "text": [
      "      3/100      1.69G       2.02         44        224: 100%|██████████| 14/14 [00:07<00:00,  1.78it/s]\n",
      "               classes   top1_acc   top5_acc: 100%|██████████| 2/2 [00:00<00:00, 20.22it/s]"
     ]
    },
    {
     "name": "stdout",
     "output_type": "stream",
     "text": [
      "                   all      0.327      0.768\n"
     ]
    },
    {
     "name": "stderr",
     "output_type": "stream",
     "text": [
      "\n"
     ]
    },
    {
     "name": "stdout",
     "output_type": "stream",
     "text": [
      "\n",
      "      Epoch    GPU_mem       loss  Instances       Size\n"
     ]
    },
    {
     "name": "stderr",
     "output_type": "stream",
     "text": [
      "      4/100      1.71G       1.77         44        224: 100%|██████████| 14/14 [00:07<00:00,  1.86it/s]\n",
      "               classes   top1_acc   top5_acc: 100%|██████████| 2/2 [00:00<00:00, 21.89it/s]"
     ]
    },
    {
     "name": "stdout",
     "output_type": "stream",
     "text": [
      "                   all      0.359      0.795\n"
     ]
    },
    {
     "name": "stderr",
     "output_type": "stream",
     "text": [
      "\n"
     ]
    },
    {
     "name": "stdout",
     "output_type": "stream",
     "text": [
      "\n",
      "      Epoch    GPU_mem       loss  Instances       Size\n"
     ]
    },
    {
     "name": "stderr",
     "output_type": "stream",
     "text": [
      "      5/100      1.72G       1.51         44        224: 100%|██████████| 14/14 [00:08<00:00,  1.74it/s]\n",
      "               classes   top1_acc   top5_acc: 100%|██████████| 2/2 [00:00<00:00, 20.87it/s]"
     ]
    },
    {
     "name": "stdout",
     "output_type": "stream",
     "text": [
      "                   all      0.368      0.809\n"
     ]
    },
    {
     "name": "stderr",
     "output_type": "stream",
     "text": [
      "\n"
     ]
    },
    {
     "name": "stdout",
     "output_type": "stream",
     "text": [
      "\n",
      "      Epoch    GPU_mem       loss  Instances       Size\n"
     ]
    },
    {
     "name": "stderr",
     "output_type": "stream",
     "text": [
      "      6/100      1.74G      1.247         44        224: 100%|██████████| 14/14 [00:07<00:00,  1.81it/s]\n",
      "               classes   top1_acc   top5_acc: 100%|██████████| 2/2 [00:00<00:00, 21.42it/s]"
     ]
    },
    {
     "name": "stdout",
     "output_type": "stream",
     "text": [
      "                   all      0.382      0.782\n"
     ]
    },
    {
     "name": "stderr",
     "output_type": "stream",
     "text": [
      "\n"
     ]
    },
    {
     "name": "stdout",
     "output_type": "stream",
     "text": [
      "\n",
      "      Epoch    GPU_mem       loss  Instances       Size\n"
     ]
    },
    {
     "name": "stderr",
     "output_type": "stream",
     "text": [
      "      7/100      1.76G       1.06         44        224: 100%|██████████| 14/14 [00:08<00:00,  1.73it/s]\n",
      "               classes   top1_acc   top5_acc: 100%|██████████| 2/2 [00:00<00:00, 21.11it/s]"
     ]
    },
    {
     "name": "stdout",
     "output_type": "stream",
     "text": [
      "                   all      0.382      0.827\n"
     ]
    },
    {
     "name": "stderr",
     "output_type": "stream",
     "text": [
      "\n"
     ]
    },
    {
     "name": "stdout",
     "output_type": "stream",
     "text": [
      "\n",
      "      Epoch    GPU_mem       loss  Instances       Size\n"
     ]
    },
    {
     "name": "stderr",
     "output_type": "stream",
     "text": [
      "      8/100      1.78G     0.8677         44        224: 100%|██████████| 14/14 [00:06<00:00,  2.04it/s]\n",
      "               classes   top1_acc   top5_acc: 100%|██████████| 2/2 [00:00<00:00, 21.89it/s]"
     ]
    },
    {
     "name": "stdout",
     "output_type": "stream",
     "text": [
      "                   all      0.373      0.814\n"
     ]
    },
    {
     "name": "stderr",
     "output_type": "stream",
     "text": [
      "\n"
     ]
    },
    {
     "name": "stdout",
     "output_type": "stream",
     "text": [
      "\n",
      "      Epoch    GPU_mem       loss  Instances       Size\n"
     ]
    },
    {
     "name": "stderr",
     "output_type": "stream",
     "text": [
      "      9/100      1.79G     0.7281         44        224: 100%|██████████| 14/14 [00:08<00:00,  1.56it/s]\n",
      "               classes   top1_acc   top5_acc: 100%|██████████| 2/2 [00:00<00:00, 18.42it/s]"
     ]
    },
    {
     "name": "stdout",
     "output_type": "stream",
     "text": [
      "                   all      0.382      0.818\n"
     ]
    },
    {
     "name": "stderr",
     "output_type": "stream",
     "text": [
      "\n"
     ]
    },
    {
     "name": "stdout",
     "output_type": "stream",
     "text": [
      "\n",
      "      Epoch    GPU_mem       loss  Instances       Size\n"
     ]
    },
    {
     "name": "stderr",
     "output_type": "stream",
     "text": [
      "     10/100      1.81G     0.6243         44        224: 100%|██████████| 14/14 [00:07<00:00,  1.98it/s]\n",
      "               classes   top1_acc   top5_acc: 100%|██████████| 2/2 [00:00<00:00, 20.82it/s]"
     ]
    },
    {
     "name": "stdout",
     "output_type": "stream",
     "text": [
      "                   all      0.391      0.836\n"
     ]
    },
    {
     "name": "stderr",
     "output_type": "stream",
     "text": [
      "\n"
     ]
    },
    {
     "name": "stdout",
     "output_type": "stream",
     "text": [
      "\n",
      "      Epoch    GPU_mem       loss  Instances       Size\n"
     ]
    },
    {
     "name": "stderr",
     "output_type": "stream",
     "text": [
      "     11/100      1.83G     0.5945         44        224: 100%|██████████| 14/14 [00:08<00:00,  1.64it/s]\n",
      "               classes   top1_acc   top5_acc: 100%|██████████| 2/2 [00:00<00:00, 17.86it/s]"
     ]
    },
    {
     "name": "stdout",
     "output_type": "stream",
     "text": [
      "                   all      0.314      0.773\n"
     ]
    },
    {
     "name": "stderr",
     "output_type": "stream",
     "text": [
      "\n"
     ]
    },
    {
     "name": "stdout",
     "output_type": "stream",
     "text": [
      "\n",
      "      Epoch    GPU_mem       loss  Instances       Size\n"
     ]
    },
    {
     "name": "stderr",
     "output_type": "stream",
     "text": [
      "     12/100      1.84G     0.5038         44        224: 100%|██████████| 14/14 [00:07<00:00,  1.98it/s]\n",
      "               classes   top1_acc   top5_acc: 100%|██████████| 2/2 [00:00<00:00, 22.03it/s]"
     ]
    },
    {
     "name": "stdout",
     "output_type": "stream",
     "text": [
      "                   all      0.391      0.809\n"
     ]
    },
    {
     "name": "stderr",
     "output_type": "stream",
     "text": [
      "\n"
     ]
    },
    {
     "name": "stdout",
     "output_type": "stream",
     "text": [
      "\n",
      "      Epoch    GPU_mem       loss  Instances       Size\n"
     ]
    },
    {
     "name": "stderr",
     "output_type": "stream",
     "text": [
      "     13/100      1.86G     0.4642         44        224: 100%|██████████| 14/14 [00:09<00:00,  1.54it/s]\n",
      "               classes   top1_acc   top5_acc: 100%|██████████| 2/2 [00:00<00:00, 21.09it/s]"
     ]
    },
    {
     "name": "stdout",
     "output_type": "stream",
     "text": [
      "                   all      0.345      0.795\n"
     ]
    },
    {
     "name": "stderr",
     "output_type": "stream",
     "text": [
      "\n"
     ]
    },
    {
     "name": "stdout",
     "output_type": "stream",
     "text": [
      "\n",
      "      Epoch    GPU_mem       loss  Instances       Size\n"
     ]
    },
    {
     "name": "stderr",
     "output_type": "stream",
     "text": [
      "     14/100      1.88G     0.4287         44        224: 100%|██████████| 14/14 [00:06<00:00,  2.03it/s]\n",
      "               classes   top1_acc   top5_acc: 100%|██████████| 2/2 [00:00<00:00, 21.86it/s]"
     ]
    },
    {
     "name": "stdout",
     "output_type": "stream",
     "text": [
      "                   all      0.368      0.823\n"
     ]
    },
    {
     "name": "stderr",
     "output_type": "stream",
     "text": [
      "\n"
     ]
    },
    {
     "name": "stdout",
     "output_type": "stream",
     "text": [
      "\n",
      "      Epoch    GPU_mem       loss  Instances       Size\n"
     ]
    },
    {
     "name": "stderr",
     "output_type": "stream",
     "text": [
      "     15/100      1.89G     0.4401         44        224: 100%|██████████| 14/14 [00:08<00:00,  1.75it/s]\n",
      "               classes   top1_acc   top5_acc: 100%|██████████| 2/2 [00:00<00:00, 21.07it/s]"
     ]
    },
    {
     "name": "stdout",
     "output_type": "stream",
     "text": [
      "                   all       0.35      0.786\n"
     ]
    },
    {
     "name": "stderr",
     "output_type": "stream",
     "text": [
      "\n"
     ]
    },
    {
     "name": "stdout",
     "output_type": "stream",
     "text": [
      "\n",
      "      Epoch    GPU_mem       loss  Instances       Size\n"
     ]
    },
    {
     "name": "stderr",
     "output_type": "stream",
     "text": [
      "     16/100      1.91G      0.381         44        224: 100%|██████████| 14/14 [00:07<00:00,  1.95it/s]\n",
      "               classes   top1_acc   top5_acc: 100%|██████████| 2/2 [00:00<00:00, 22.83it/s]"
     ]
    },
    {
     "name": "stdout",
     "output_type": "stream",
     "text": [
      "                   all      0.377      0.823\n"
     ]
    },
    {
     "name": "stderr",
     "output_type": "stream",
     "text": [
      "\n"
     ]
    },
    {
     "name": "stdout",
     "output_type": "stream",
     "text": [
      "\n",
      "      Epoch    GPU_mem       loss  Instances       Size\n"
     ]
    },
    {
     "name": "stderr",
     "output_type": "stream",
     "text": [
      "     17/100      1.93G      0.376         44        224: 100%|██████████| 14/14 [00:08<00:00,  1.56it/s]\n",
      "               classes   top1_acc   top5_acc: 100%|██████████| 2/2 [00:00<00:00, 21.26it/s]"
     ]
    },
    {
     "name": "stdout",
     "output_type": "stream",
     "text": [
      "                   all      0.386      0.795\n"
     ]
    },
    {
     "name": "stderr",
     "output_type": "stream",
     "text": [
      "\n"
     ]
    },
    {
     "name": "stdout",
     "output_type": "stream",
     "text": [
      "\n",
      "      Epoch    GPU_mem       loss  Instances       Size\n"
     ]
    },
    {
     "name": "stderr",
     "output_type": "stream",
     "text": [
      "     18/100      1.95G     0.3426         44        224: 100%|██████████| 14/14 [00:07<00:00,  1.97it/s]\n",
      "               classes   top1_acc   top5_acc: 100%|██████████| 2/2 [00:00<00:00, 22.60it/s]"
     ]
    },
    {
     "name": "stdout",
     "output_type": "stream",
     "text": [
      "                   all       0.35      0.832\n"
     ]
    },
    {
     "name": "stderr",
     "output_type": "stream",
     "text": [
      "\n"
     ]
    },
    {
     "name": "stdout",
     "output_type": "stream",
     "text": [
      "\n",
      "      Epoch    GPU_mem       loss  Instances       Size\n"
     ]
    },
    {
     "name": "stderr",
     "output_type": "stream",
     "text": [
      "     19/100      1.96G     0.3264         44        224: 100%|██████████| 14/14 [00:08<00:00,  1.67it/s]\n",
      "               classes   top1_acc   top5_acc: 100%|██████████| 2/2 [00:00<00:00, 21.47it/s]"
     ]
    },
    {
     "name": "stdout",
     "output_type": "stream",
     "text": [
      "                   all      0.359      0.805\n"
     ]
    },
    {
     "name": "stderr",
     "output_type": "stream",
     "text": [
      "\n"
     ]
    },
    {
     "name": "stdout",
     "output_type": "stream",
     "text": [
      "\n",
      "      Epoch    GPU_mem       loss  Instances       Size\n"
     ]
    },
    {
     "name": "stderr",
     "output_type": "stream",
     "text": [
      "     20/100      1.98G      0.359         44        224: 100%|██████████| 14/14 [00:06<00:00,  2.04it/s]\n",
      "               classes   top1_acc   top5_acc: 100%|██████████| 2/2 [00:00<00:00, 21.00it/s]"
     ]
    },
    {
     "name": "stdout",
     "output_type": "stream",
     "text": [
      "                   all      0.391      0.795\n"
     ]
    },
    {
     "name": "stderr",
     "output_type": "stream",
     "text": [
      "\n"
     ]
    },
    {
     "name": "stdout",
     "output_type": "stream",
     "text": [
      "\n",
      "      Epoch    GPU_mem       loss  Instances       Size\n"
     ]
    },
    {
     "name": "stderr",
     "output_type": "stream",
     "text": [
      "     21/100       2.4G     0.3121         44        224: 100%|██████████| 14/14 [00:08<00:00,  1.56it/s]\n",
      "               classes   top1_acc   top5_acc: 100%|██████████| 2/2 [00:00<00:00, 21.03it/s]"
     ]
    },
    {
     "name": "stdout",
     "output_type": "stream",
     "text": [
      "                   all      0.395      0.809\n"
     ]
    },
    {
     "name": "stderr",
     "output_type": "stream",
     "text": [
      "\n"
     ]
    },
    {
     "name": "stdout",
     "output_type": "stream",
     "text": [
      "\n",
      "      Epoch    GPU_mem       loss  Instances       Size\n"
     ]
    },
    {
     "name": "stderr",
     "output_type": "stream",
     "text": [
      "     22/100      2.42G     0.3052         44        224: 100%|██████████| 14/14 [00:06<00:00,  2.02it/s]\n",
      "               classes   top1_acc   top5_acc: 100%|██████████| 2/2 [00:00<00:00, 21.20it/s]"
     ]
    },
    {
     "name": "stdout",
     "output_type": "stream",
     "text": [
      "                   all      0.395        0.8\n"
     ]
    },
    {
     "name": "stderr",
     "output_type": "stream",
     "text": [
      "\n"
     ]
    },
    {
     "name": "stdout",
     "output_type": "stream",
     "text": [
      "\n",
      "      Epoch    GPU_mem       loss  Instances       Size\n"
     ]
    },
    {
     "name": "stderr",
     "output_type": "stream",
     "text": [
      "     23/100      2.44G     0.2926         44        224: 100%|██████████| 14/14 [00:08<00:00,  1.70it/s]\n",
      "               classes   top1_acc   top5_acc: 100%|██████████| 2/2 [00:00<00:00, 21.65it/s]"
     ]
    },
    {
     "name": "stdout",
     "output_type": "stream",
     "text": [
      "                   all      0.359      0.818\n"
     ]
    },
    {
     "name": "stderr",
     "output_type": "stream",
     "text": [
      "\n"
     ]
    },
    {
     "name": "stdout",
     "output_type": "stream",
     "text": [
      "\n",
      "      Epoch    GPU_mem       loss  Instances       Size\n"
     ]
    },
    {
     "name": "stderr",
     "output_type": "stream",
     "text": [
      "     24/100      2.46G     0.2858         44        224: 100%|██████████| 14/14 [00:06<00:00,  2.04it/s]\n",
      "               classes   top1_acc   top5_acc: 100%|██████████| 2/2 [00:00<00:00, 20.42it/s]"
     ]
    },
    {
     "name": "stdout",
     "output_type": "stream",
     "text": [
      "                   all      0.364      0.845\n"
     ]
    },
    {
     "name": "stderr",
     "output_type": "stream",
     "text": [
      "\n"
     ]
    },
    {
     "name": "stdout",
     "output_type": "stream",
     "text": [
      "\n",
      "      Epoch    GPU_mem       loss  Instances       Size\n"
     ]
    },
    {
     "name": "stderr",
     "output_type": "stream",
     "text": [
      "     25/100      2.47G     0.2594         44        224: 100%|██████████| 14/14 [00:09<00:00,  1.52it/s]\n",
      "               classes   top1_acc   top5_acc: 100%|██████████| 2/2 [00:00<00:00, 21.46it/s]"
     ]
    },
    {
     "name": "stdout",
     "output_type": "stream",
     "text": [
      "                   all      0.391      0.823\n"
     ]
    },
    {
     "name": "stderr",
     "output_type": "stream",
     "text": [
      "\n"
     ]
    },
    {
     "name": "stdout",
     "output_type": "stream",
     "text": [
      "\n",
      "      Epoch    GPU_mem       loss  Instances       Size\n"
     ]
    },
    {
     "name": "stderr",
     "output_type": "stream",
     "text": [
      "     26/100      2.49G      0.299         44        224: 100%|██████████| 14/14 [00:06<00:00,  2.02it/s]\n",
      "               classes   top1_acc   top5_acc: 100%|██████████| 2/2 [00:00<00:00, 21.25it/s]"
     ]
    },
    {
     "name": "stdout",
     "output_type": "stream",
     "text": [
      "                   all      0.368      0.818\n"
     ]
    },
    {
     "name": "stderr",
     "output_type": "stream",
     "text": [
      "\n"
     ]
    },
    {
     "name": "stdout",
     "output_type": "stream",
     "text": [
      "\n",
      "      Epoch    GPU_mem       loss  Instances       Size\n"
     ]
    },
    {
     "name": "stderr",
     "output_type": "stream",
     "text": [
      "     27/100      2.51G     0.2765         44        224: 100%|██████████| 14/14 [00:08<00:00,  1.72it/s]\n",
      "               classes   top1_acc   top5_acc: 100%|██████████| 2/2 [00:00<00:00, 21.63it/s]"
     ]
    },
    {
     "name": "stdout",
     "output_type": "stream",
     "text": [
      "                   all      0.373      0.823\n"
     ]
    },
    {
     "name": "stderr",
     "output_type": "stream",
     "text": [
      "\n"
     ]
    },
    {
     "name": "stdout",
     "output_type": "stream",
     "text": [
      "\n",
      "      Epoch    GPU_mem       loss  Instances       Size\n"
     ]
    },
    {
     "name": "stderr",
     "output_type": "stream",
     "text": [
      "     28/100      2.52G      0.293         44        224: 100%|██████████| 14/14 [00:06<00:00,  2.09it/s]\n",
      "               classes   top1_acc   top5_acc: 100%|██████████| 2/2 [00:00<00:00, 18.25it/s]"
     ]
    },
    {
     "name": "stdout",
     "output_type": "stream",
     "text": [
      "                   all      0.373      0.823\n"
     ]
    },
    {
     "name": "stderr",
     "output_type": "stream",
     "text": [
      "\n"
     ]
    },
    {
     "name": "stdout",
     "output_type": "stream",
     "text": [
      "\n",
      "      Epoch    GPU_mem       loss  Instances       Size\n"
     ]
    },
    {
     "name": "stderr",
     "output_type": "stream",
     "text": [
      "     29/100      2.54G     0.2772         44        224: 100%|██████████| 14/14 [00:08<00:00,  1.65it/s]\n",
      "               classes   top1_acc   top5_acc: 100%|██████████| 2/2 [00:00<00:00, 21.47it/s]"
     ]
    },
    {
     "name": "stdout",
     "output_type": "stream",
     "text": [
      "                   all      0.382      0.823\n"
     ]
    },
    {
     "name": "stderr",
     "output_type": "stream",
     "text": [
      "\n"
     ]
    },
    {
     "name": "stdout",
     "output_type": "stream",
     "text": [
      "\n",
      "      Epoch    GPU_mem       loss  Instances       Size\n"
     ]
    },
    {
     "name": "stderr",
     "output_type": "stream",
     "text": [
      "     30/100      2.56G     0.2715         44        224: 100%|██████████| 14/14 [00:06<00:00,  2.04it/s]\n",
      "               classes   top1_acc   top5_acc: 100%|██████████| 2/2 [00:00<00:00, 22.09it/s]"
     ]
    },
    {
     "name": "stdout",
     "output_type": "stream",
     "text": [
      "                   all      0.364      0.832\n"
     ]
    },
    {
     "name": "stderr",
     "output_type": "stream",
     "text": [
      "\n"
     ]
    },
    {
     "name": "stdout",
     "output_type": "stream",
     "text": [
      "\n",
      "      Epoch    GPU_mem       loss  Instances       Size\n"
     ]
    },
    {
     "name": "stderr",
     "output_type": "stream",
     "text": [
      "     31/100      2.57G     0.2399         44        224: 100%|██████████| 14/14 [00:07<00:00,  1.75it/s]\n",
      "               classes   top1_acc   top5_acc: 100%|██████████| 2/2 [00:00<00:00, 21.60it/s]"
     ]
    },
    {
     "name": "stdout",
     "output_type": "stream",
     "text": [
      "                   all      0.391      0.845\n"
     ]
    },
    {
     "name": "stderr",
     "output_type": "stream",
     "text": [
      "\n"
     ]
    },
    {
     "name": "stdout",
     "output_type": "stream",
     "text": [
      "\n",
      "      Epoch    GPU_mem       loss  Instances       Size\n"
     ]
    },
    {
     "name": "stderr",
     "output_type": "stream",
     "text": [
      "     32/100      2.59G     0.2576         44        224: 100%|██████████| 14/14 [00:07<00:00,  1.90it/s]\n",
      "               classes   top1_acc   top5_acc: 100%|██████████| 2/2 [00:00<00:00, 20.18it/s]"
     ]
    },
    {
     "name": "stdout",
     "output_type": "stream",
     "text": [
      "                   all      0.355      0.827\n"
     ]
    },
    {
     "name": "stderr",
     "output_type": "stream",
     "text": [
      "\n"
     ]
    },
    {
     "name": "stdout",
     "output_type": "stream",
     "text": [
      "\n",
      "      Epoch    GPU_mem       loss  Instances       Size\n"
     ]
    },
    {
     "name": "stderr",
     "output_type": "stream",
     "text": [
      "     33/100      2.61G     0.2224         44        224: 100%|██████████| 14/14 [00:08<00:00,  1.60it/s]\n",
      "               classes   top1_acc   top5_acc: 100%|██████████| 2/2 [00:00<00:00, 21.83it/s]"
     ]
    },
    {
     "name": "stdout",
     "output_type": "stream",
     "text": [
      "                   all      0.336      0.841\n"
     ]
    },
    {
     "name": "stderr",
     "output_type": "stream",
     "text": [
      "\n"
     ]
    },
    {
     "name": "stdout",
     "output_type": "stream",
     "text": [
      "\n",
      "      Epoch    GPU_mem       loss  Instances       Size\n"
     ]
    },
    {
     "name": "stderr",
     "output_type": "stream",
     "text": [
      "     34/100      2.63G     0.2348         44        224: 100%|██████████| 14/14 [00:06<00:00,  2.06it/s]\n",
      "               classes   top1_acc   top5_acc: 100%|██████████| 2/2 [00:00<00:00, 20.89it/s]"
     ]
    },
    {
     "name": "stdout",
     "output_type": "stream",
     "text": [
      "                   all      0.386      0.827\n"
     ]
    },
    {
     "name": "stderr",
     "output_type": "stream",
     "text": [
      "\n"
     ]
    },
    {
     "name": "stdout",
     "output_type": "stream",
     "text": [
      "\n",
      "      Epoch    GPU_mem       loss  Instances       Size\n"
     ]
    },
    {
     "name": "stderr",
     "output_type": "stream",
     "text": [
      "     35/100      2.64G     0.2411         44        224: 100%|██████████| 14/14 [00:08<00:00,  1.65it/s]\n",
      "               classes   top1_acc   top5_acc: 100%|██████████| 2/2 [00:00<00:00, 20.19it/s]"
     ]
    },
    {
     "name": "stdout",
     "output_type": "stream",
     "text": [
      "                   all      0.395        0.8\n"
     ]
    },
    {
     "name": "stderr",
     "output_type": "stream",
     "text": [
      "\n"
     ]
    },
    {
     "name": "stdout",
     "output_type": "stream",
     "text": [
      "\n",
      "      Epoch    GPU_mem       loss  Instances       Size\n"
     ]
    },
    {
     "name": "stderr",
     "output_type": "stream",
     "text": [
      "     36/100      2.66G     0.2468         44        224: 100%|██████████| 14/14 [00:07<00:00,  1.82it/s]\n",
      "               classes   top1_acc   top5_acc: 100%|██████████| 2/2 [00:00<00:00, 19.40it/s]"
     ]
    },
    {
     "name": "stdout",
     "output_type": "stream",
     "text": [
      "                   all      0.364      0.809\n"
     ]
    },
    {
     "name": "stderr",
     "output_type": "stream",
     "text": [
      "\n"
     ]
    },
    {
     "name": "stdout",
     "output_type": "stream",
     "text": [
      "\n",
      "      Epoch    GPU_mem       loss  Instances       Size\n"
     ]
    },
    {
     "name": "stderr",
     "output_type": "stream",
     "text": [
      "     37/100      2.68G     0.2225         44        224: 100%|██████████| 14/14 [00:08<00:00,  1.71it/s]\n",
      "               classes   top1_acc   top5_acc: 100%|██████████| 2/2 [00:00<00:00, 21.35it/s]"
     ]
    },
    {
     "name": "stdout",
     "output_type": "stream",
     "text": [
      "                   all      0.382        0.8\n"
     ]
    },
    {
     "name": "stderr",
     "output_type": "stream",
     "text": [
      "\n"
     ]
    },
    {
     "name": "stdout",
     "output_type": "stream",
     "text": [
      "\n",
      "      Epoch    GPU_mem       loss  Instances       Size\n"
     ]
    },
    {
     "name": "stderr",
     "output_type": "stream",
     "text": [
      "     38/100       2.7G     0.2306         44        224: 100%|██████████| 14/14 [00:07<00:00,  2.00it/s]\n",
      "               classes   top1_acc   top5_acc: 100%|██████████| 2/2 [00:00<00:00, 20.79it/s]"
     ]
    },
    {
     "name": "stdout",
     "output_type": "stream",
     "text": [
      "                   all      0.391      0.818\n"
     ]
    },
    {
     "name": "stderr",
     "output_type": "stream",
     "text": [
      "\n"
     ]
    },
    {
     "name": "stdout",
     "output_type": "stream",
     "text": [
      "\n",
      "      Epoch    GPU_mem       loss  Instances       Size\n"
     ]
    },
    {
     "name": "stderr",
     "output_type": "stream",
     "text": [
      "     39/100      2.71G     0.2123         44        224: 100%|██████████| 14/14 [00:08<00:00,  1.67it/s]\n",
      "               classes   top1_acc   top5_acc: 100%|██████████| 2/2 [00:00<00:00, 22.34it/s]"
     ]
    },
    {
     "name": "stdout",
     "output_type": "stream",
     "text": [
      "                   all      0.391        0.8\n"
     ]
    },
    {
     "name": "stderr",
     "output_type": "stream",
     "text": [
      "\n"
     ]
    },
    {
     "name": "stdout",
     "output_type": "stream",
     "text": [
      "\n",
      "      Epoch    GPU_mem       loss  Instances       Size\n"
     ]
    },
    {
     "name": "stderr",
     "output_type": "stream",
     "text": [
      "     40/100      2.73G     0.2179         44        224: 100%|██████████| 14/14 [00:06<00:00,  2.02it/s]\n",
      "               classes   top1_acc   top5_acc: 100%|██████████| 2/2 [00:00<00:00, 22.79it/s]"
     ]
    },
    {
     "name": "stdout",
     "output_type": "stream",
     "text": [
      "                   all      0.373      0.782\n"
     ]
    },
    {
     "name": "stderr",
     "output_type": "stream",
     "text": [
      "\n"
     ]
    },
    {
     "name": "stdout",
     "output_type": "stream",
     "text": [
      "\n",
      "      Epoch    GPU_mem       loss  Instances       Size\n"
     ]
    },
    {
     "name": "stderr",
     "output_type": "stream",
     "text": [
      "     41/100      2.75G     0.1952         44        224: 100%|██████████| 14/14 [00:08<00:00,  1.66it/s]\n",
      "               classes   top1_acc   top5_acc: 100%|██████████| 2/2 [00:00<00:00, 20.52it/s]"
     ]
    },
    {
     "name": "stdout",
     "output_type": "stream",
     "text": [
      "                   all      0.368        0.8\n"
     ]
    },
    {
     "name": "stderr",
     "output_type": "stream",
     "text": [
      "\n"
     ]
    },
    {
     "name": "stdout",
     "output_type": "stream",
     "text": [
      "\n",
      "      Epoch    GPU_mem       loss  Instances       Size\n"
     ]
    },
    {
     "name": "stderr",
     "output_type": "stream",
     "text": [
      "     42/100      2.76G     0.1993         44        224: 100%|██████████| 14/14 [00:06<00:00,  2.14it/s]\n",
      "               classes   top1_acc   top5_acc: 100%|██████████| 2/2 [00:00<00:00, 21.38it/s]"
     ]
    },
    {
     "name": "stdout",
     "output_type": "stream",
     "text": [
      "                   all      0.355      0.795\n"
     ]
    },
    {
     "name": "stderr",
     "output_type": "stream",
     "text": [
      "\n"
     ]
    },
    {
     "name": "stdout",
     "output_type": "stream",
     "text": [
      "\n",
      "      Epoch    GPU_mem       loss  Instances       Size\n"
     ]
    },
    {
     "name": "stderr",
     "output_type": "stream",
     "text": [
      "     43/100      2.78G     0.2271         44        224: 100%|██████████| 14/14 [00:08<00:00,  1.68it/s]\n",
      "               classes   top1_acc   top5_acc: 100%|██████████| 2/2 [00:00<00:00, 22.06it/s]"
     ]
    },
    {
     "name": "stdout",
     "output_type": "stream",
     "text": [
      "                   all      0.364        0.8\n"
     ]
    },
    {
     "name": "stderr",
     "output_type": "stream",
     "text": [
      "\n"
     ]
    },
    {
     "name": "stdout",
     "output_type": "stream",
     "text": [
      "\n",
      "      Epoch    GPU_mem       loss  Instances       Size\n"
     ]
    },
    {
     "name": "stderr",
     "output_type": "stream",
     "text": [
      "     44/100       2.8G     0.2055         44        224: 100%|██████████| 14/14 [00:07<00:00,  1.87it/s]\n",
      "               classes   top1_acc   top5_acc: 100%|██████████| 2/2 [00:00<00:00, 21.81it/s]"
     ]
    },
    {
     "name": "stdout",
     "output_type": "stream",
     "text": [
      "                   all      0.327      0.809\n"
     ]
    },
    {
     "name": "stderr",
     "output_type": "stream",
     "text": [
      "\n"
     ]
    },
    {
     "name": "stdout",
     "output_type": "stream",
     "text": [
      "\n",
      "      Epoch    GPU_mem       loss  Instances       Size\n"
     ]
    },
    {
     "name": "stderr",
     "output_type": "stream",
     "text": [
      "     45/100      2.81G      0.201         44        224: 100%|██████████| 14/14 [00:08<00:00,  1.64it/s]\n",
      "               classes   top1_acc   top5_acc: 100%|██████████| 2/2 [00:00<00:00, 21.27it/s]"
     ]
    },
    {
     "name": "stdout",
     "output_type": "stream",
     "text": [
      "                   all       0.35      0.818\n"
     ]
    },
    {
     "name": "stderr",
     "output_type": "stream",
     "text": [
      "\n"
     ]
    },
    {
     "name": "stdout",
     "output_type": "stream",
     "text": [
      "\n",
      "      Epoch    GPU_mem       loss  Instances       Size\n"
     ]
    },
    {
     "name": "stderr",
     "output_type": "stream",
     "text": [
      "     46/100      2.83G     0.1949         44        224: 100%|██████████| 14/14 [00:06<00:00,  2.00it/s]\n",
      "               classes   top1_acc   top5_acc: 100%|██████████| 2/2 [00:00<00:00, 21.42it/s]"
     ]
    },
    {
     "name": "stdout",
     "output_type": "stream",
     "text": [
      "                   all      0.359      0.818\n"
     ]
    },
    {
     "name": "stderr",
     "output_type": "stream",
     "text": [
      "\n"
     ]
    },
    {
     "name": "stdout",
     "output_type": "stream",
     "text": [
      "\n",
      "      Epoch    GPU_mem       loss  Instances       Size\n"
     ]
    },
    {
     "name": "stderr",
     "output_type": "stream",
     "text": [
      "     47/100      2.85G      0.218         44        224: 100%|██████████| 14/14 [00:08<00:00,  1.66it/s]\n",
      "               classes   top1_acc   top5_acc: 100%|██████████| 2/2 [00:00<00:00, 21.34it/s]"
     ]
    },
    {
     "name": "stdout",
     "output_type": "stream",
     "text": [
      "                   all      0.368      0.823\n"
     ]
    },
    {
     "name": "stderr",
     "output_type": "stream",
     "text": [
      "\n"
     ]
    },
    {
     "name": "stdout",
     "output_type": "stream",
     "text": [
      "\n",
      "      Epoch    GPU_mem       loss  Instances       Size\n"
     ]
    },
    {
     "name": "stderr",
     "output_type": "stream",
     "text": [
      "     48/100      2.87G     0.1974         44        224: 100%|██████████| 14/14 [00:07<00:00,  1.95it/s]\n",
      "               classes   top1_acc   top5_acc: 100%|██████████| 2/2 [00:00<00:00, 21.39it/s]"
     ]
    },
    {
     "name": "stdout",
     "output_type": "stream",
     "text": [
      "                   all      0.382      0.814\n"
     ]
    },
    {
     "name": "stderr",
     "output_type": "stream",
     "text": [
      "\n"
     ]
    },
    {
     "name": "stdout",
     "output_type": "stream",
     "text": [
      "\n",
      "      Epoch    GPU_mem       loss  Instances       Size\n"
     ]
    },
    {
     "name": "stderr",
     "output_type": "stream",
     "text": [
      "     49/100      2.88G     0.2051         44        224: 100%|██████████| 14/14 [00:08<00:00,  1.66it/s]\n",
      "               classes   top1_acc   top5_acc: 100%|██████████| 2/2 [00:00<00:00, 21.10it/s]"
     ]
    },
    {
     "name": "stdout",
     "output_type": "stream",
     "text": [
      "                   all      0.382      0.841\n"
     ]
    },
    {
     "name": "stderr",
     "output_type": "stream",
     "text": [
      "\n"
     ]
    },
    {
     "name": "stdout",
     "output_type": "stream",
     "text": [
      "\n",
      "      Epoch    GPU_mem       loss  Instances       Size\n"
     ]
    },
    {
     "name": "stderr",
     "output_type": "stream",
     "text": [
      "     50/100      3.31G     0.1981         44        224: 100%|██████████| 14/14 [00:07<00:00,  1.97it/s]\n",
      "               classes   top1_acc   top5_acc: 100%|██████████| 2/2 [00:00<00:00, 22.73it/s]"
     ]
    },
    {
     "name": "stdout",
     "output_type": "stream",
     "text": [
      "                   all      0.377      0.832\n"
     ]
    },
    {
     "name": "stderr",
     "output_type": "stream",
     "text": [
      "\n"
     ]
    },
    {
     "name": "stdout",
     "output_type": "stream",
     "text": [
      "\n",
      "      Epoch    GPU_mem       loss  Instances       Size\n"
     ]
    },
    {
     "name": "stderr",
     "output_type": "stream",
     "text": [
      "     51/100      3.32G     0.1844         44        224: 100%|██████████| 14/14 [00:07<00:00,  1.82it/s]\n",
      "               classes   top1_acc   top5_acc: 100%|██████████| 2/2 [00:00<00:00, 21.21it/s]"
     ]
    },
    {
     "name": "stdout",
     "output_type": "stream",
     "text": [
      "                   all      0.373      0.823\n"
     ]
    },
    {
     "name": "stderr",
     "output_type": "stream",
     "text": [
      "\n"
     ]
    },
    {
     "name": "stdout",
     "output_type": "stream",
     "text": [
      "\n",
      "      Epoch    GPU_mem       loss  Instances       Size\n"
     ]
    },
    {
     "name": "stderr",
     "output_type": "stream",
     "text": [
      "     52/100      3.34G     0.1876         44        224: 100%|██████████| 14/14 [00:08<00:00,  1.71it/s]\n",
      "               classes   top1_acc   top5_acc: 100%|██████████| 2/2 [00:00<00:00, 21.37it/s]"
     ]
    },
    {
     "name": "stdout",
     "output_type": "stream",
     "text": [
      "                   all      0.364        0.8\n"
     ]
    },
    {
     "name": "stderr",
     "output_type": "stream",
     "text": [
      "\n"
     ]
    },
    {
     "name": "stdout",
     "output_type": "stream",
     "text": [
      "\n",
      "      Epoch    GPU_mem       loss  Instances       Size\n"
     ]
    },
    {
     "name": "stderr",
     "output_type": "stream",
     "text": [
      "     53/100      3.36G     0.1914         44        224: 100%|██████████| 14/14 [00:07<00:00,  1.76it/s]\n",
      "               classes   top1_acc   top5_acc: 100%|██████████| 2/2 [00:00<00:00, 22.65it/s]"
     ]
    },
    {
     "name": "stdout",
     "output_type": "stream",
     "text": [
      "                   all      0.364      0.809\n"
     ]
    },
    {
     "name": "stderr",
     "output_type": "stream",
     "text": [
      "\n"
     ]
    },
    {
     "name": "stdout",
     "output_type": "stream",
     "text": [
      "\n",
      "      Epoch    GPU_mem       loss  Instances       Size\n"
     ]
    },
    {
     "name": "stderr",
     "output_type": "stream",
     "text": [
      "     54/100      3.38G     0.2171         44        224: 100%|██████████| 14/14 [00:07<00:00,  1.83it/s]\n",
      "               classes   top1_acc   top5_acc: 100%|██████████| 2/2 [00:00<00:00, 20.35it/s]"
     ]
    },
    {
     "name": "stdout",
     "output_type": "stream",
     "text": [
      "                   all      0.373      0.809\n"
     ]
    },
    {
     "name": "stderr",
     "output_type": "stream",
     "text": [
      "\n"
     ]
    },
    {
     "name": "stdout",
     "output_type": "stream",
     "text": [
      "\n",
      "      Epoch    GPU_mem       loss  Instances       Size\n"
     ]
    },
    {
     "name": "stderr",
     "output_type": "stream",
     "text": [
      "     55/100      3.39G     0.2006         44        224: 100%|██████████| 14/14 [00:08<00:00,  1.71it/s]\n",
      "               classes   top1_acc   top5_acc: 100%|██████████| 2/2 [00:00<00:00, 20.80it/s]"
     ]
    },
    {
     "name": "stdout",
     "output_type": "stream",
     "text": [
      "                   all      0.368      0.805\n"
     ]
    },
    {
     "name": "stderr",
     "output_type": "stream",
     "text": [
      "\n"
     ]
    },
    {
     "name": "stdout",
     "output_type": "stream",
     "text": [
      "\n",
      "      Epoch    GPU_mem       loss  Instances       Size\n"
     ]
    },
    {
     "name": "stderr",
     "output_type": "stream",
     "text": [
      "     56/100      3.41G     0.1904         44        224: 100%|██████████| 14/14 [00:07<00:00,  1.85it/s]\n",
      "               classes   top1_acc   top5_acc: 100%|██████████| 2/2 [00:00<00:00, 21.72it/s]"
     ]
    },
    {
     "name": "stdout",
     "output_type": "stream",
     "text": [
      "                   all      0.359      0.809\n"
     ]
    },
    {
     "name": "stderr",
     "output_type": "stream",
     "text": [
      "\n"
     ]
    },
    {
     "name": "stdout",
     "output_type": "stream",
     "text": [
      "\n",
      "      Epoch    GPU_mem       loss  Instances       Size\n"
     ]
    },
    {
     "name": "stderr",
     "output_type": "stream",
     "text": [
      "     57/100      3.43G     0.1682         44        224: 100%|██████████| 14/14 [00:08<00:00,  1.68it/s]\n",
      "               classes   top1_acc   top5_acc: 100%|██████████| 2/2 [00:00<00:00, 22.25it/s]"
     ]
    },
    {
     "name": "stdout",
     "output_type": "stream",
     "text": [
      "                   all      0.355      0.814\n"
     ]
    },
    {
     "name": "stderr",
     "output_type": "stream",
     "text": [
      "\n"
     ]
    },
    {
     "name": "stdout",
     "output_type": "stream",
     "text": [
      "\n",
      "      Epoch    GPU_mem       loss  Instances       Size\n"
     ]
    },
    {
     "name": "stderr",
     "output_type": "stream",
     "text": [
      "     58/100      3.44G     0.1888         44        224: 100%|██████████| 14/14 [00:06<00:00,  2.06it/s]\n",
      "               classes   top1_acc   top5_acc: 100%|██████████| 2/2 [00:00<00:00, 20.34it/s]"
     ]
    },
    {
     "name": "stdout",
     "output_type": "stream",
     "text": [
      "                   all      0.382      0.814\n"
     ]
    },
    {
     "name": "stderr",
     "output_type": "stream",
     "text": [
      "\n"
     ]
    },
    {
     "name": "stdout",
     "output_type": "stream",
     "text": [
      "\n",
      "      Epoch    GPU_mem       loss  Instances       Size\n"
     ]
    },
    {
     "name": "stderr",
     "output_type": "stream",
     "text": [
      "     59/100      3.46G     0.1767         44        224: 100%|██████████| 14/14 [00:08<00:00,  1.58it/s]\n",
      "               classes   top1_acc   top5_acc: 100%|██████████| 2/2 [00:00<00:00, 21.50it/s]"
     ]
    },
    {
     "name": "stdout",
     "output_type": "stream",
     "text": [
      "                   all      0.368      0.818\n"
     ]
    },
    {
     "name": "stderr",
     "output_type": "stream",
     "text": [
      "\n"
     ]
    },
    {
     "name": "stdout",
     "output_type": "stream",
     "text": [
      "\n",
      "      Epoch    GPU_mem       loss  Instances       Size\n"
     ]
    },
    {
     "name": "stderr",
     "output_type": "stream",
     "text": [
      "     60/100      3.48G     0.1688         44        224: 100%|██████████| 14/14 [00:07<00:00,  1.93it/s]\n",
      "               classes   top1_acc   top5_acc: 100%|██████████| 2/2 [00:00<00:00, 21.48it/s]"
     ]
    },
    {
     "name": "stdout",
     "output_type": "stream",
     "text": [
      "                   all      0.359      0.795\n"
     ]
    },
    {
     "name": "stderr",
     "output_type": "stream",
     "text": [
      "\n"
     ]
    },
    {
     "name": "stdout",
     "output_type": "stream",
     "text": [
      "\n",
      "      Epoch    GPU_mem       loss  Instances       Size\n"
     ]
    },
    {
     "name": "stderr",
     "output_type": "stream",
     "text": [
      "     61/100      3.49G     0.1786         44        224: 100%|██████████| 14/14 [00:08<00:00,  1.65it/s]\n",
      "               classes   top1_acc   top5_acc: 100%|██████████| 2/2 [00:00<00:00, 21.19it/s]"
     ]
    },
    {
     "name": "stdout",
     "output_type": "stream",
     "text": [
      "                   all      0.345      0.809\n"
     ]
    },
    {
     "name": "stderr",
     "output_type": "stream",
     "text": [
      "\n"
     ]
    },
    {
     "name": "stdout",
     "output_type": "stream",
     "text": [
      "\n",
      "      Epoch    GPU_mem       loss  Instances       Size\n"
     ]
    },
    {
     "name": "stderr",
     "output_type": "stream",
     "text": [
      "     62/100      3.51G     0.1729         44        224: 100%|██████████| 14/14 [00:07<00:00,  1.93it/s]\n",
      "               classes   top1_acc   top5_acc: 100%|██████████| 2/2 [00:00<00:00, 21.45it/s]"
     ]
    },
    {
     "name": "stdout",
     "output_type": "stream",
     "text": [
      "                   all      0.364      0.818\n"
     ]
    },
    {
     "name": "stderr",
     "output_type": "stream",
     "text": [
      "\n"
     ]
    },
    {
     "name": "stdout",
     "output_type": "stream",
     "text": [
      "\n",
      "      Epoch    GPU_mem       loss  Instances       Size\n"
     ]
    },
    {
     "name": "stderr",
     "output_type": "stream",
     "text": [
      "     63/100      3.53G     0.1721         44        224: 100%|██████████| 14/14 [00:08<00:00,  1.61it/s]\n",
      "               classes   top1_acc   top5_acc: 100%|██████████| 2/2 [00:00<00:00, 21.65it/s]"
     ]
    },
    {
     "name": "stdout",
     "output_type": "stream",
     "text": [
      "                   all      0.368      0.818\n"
     ]
    },
    {
     "name": "stderr",
     "output_type": "stream",
     "text": [
      "\n"
     ]
    },
    {
     "name": "stdout",
     "output_type": "stream",
     "text": [
      "\n",
      "      Epoch    GPU_mem       loss  Instances       Size\n"
     ]
    },
    {
     "name": "stderr",
     "output_type": "stream",
     "text": [
      "     64/100      3.54G      0.175         44        224: 100%|██████████| 14/14 [00:07<00:00,  1.97it/s]\n",
      "               classes   top1_acc   top5_acc: 100%|██████████| 2/2 [00:00<00:00, 22.35it/s]"
     ]
    },
    {
     "name": "stdout",
     "output_type": "stream",
     "text": [
      "                   all      0.368      0.814\n"
     ]
    },
    {
     "name": "stderr",
     "output_type": "stream",
     "text": [
      "\n"
     ]
    },
    {
     "name": "stdout",
     "output_type": "stream",
     "text": [
      "\n",
      "      Epoch    GPU_mem       loss  Instances       Size\n"
     ]
    },
    {
     "name": "stderr",
     "output_type": "stream",
     "text": [
      "     65/100      3.56G     0.1798         44        224: 100%|██████████| 14/14 [00:08<00:00,  1.70it/s]\n",
      "               classes   top1_acc   top5_acc: 100%|██████████| 2/2 [00:00<00:00, 20.75it/s]"
     ]
    },
    {
     "name": "stdout",
     "output_type": "stream",
     "text": [
      "                   all       0.35      0.818\n"
     ]
    },
    {
     "name": "stderr",
     "output_type": "stream",
     "text": [
      "\n"
     ]
    },
    {
     "name": "stdout",
     "output_type": "stream",
     "text": [
      "\n",
      "      Epoch    GPU_mem       loss  Instances       Size\n"
     ]
    },
    {
     "name": "stderr",
     "output_type": "stream",
     "text": [
      "     66/100      3.58G      0.167         44        224: 100%|██████████| 14/14 [00:06<00:00,  2.00it/s]\n",
      "               classes   top1_acc   top5_acc: 100%|██████████| 2/2 [00:00<00:00, 20.75it/s]"
     ]
    },
    {
     "name": "stdout",
     "output_type": "stream",
     "text": [
      "                   all      0.359      0.823\n"
     ]
    },
    {
     "name": "stderr",
     "output_type": "stream",
     "text": [
      "\n"
     ]
    },
    {
     "name": "stdout",
     "output_type": "stream",
     "text": [
      "\n",
      "      Epoch    GPU_mem       loss  Instances       Size\n"
     ]
    },
    {
     "name": "stderr",
     "output_type": "stream",
     "text": [
      "     67/100       3.6G     0.1532         44        224: 100%|██████████| 14/14 [00:09<00:00,  1.54it/s]\n",
      "               classes   top1_acc   top5_acc: 100%|██████████| 2/2 [00:00<00:00, 18.59it/s]"
     ]
    },
    {
     "name": "stdout",
     "output_type": "stream",
     "text": [
      "                   all      0.382      0.818\n"
     ]
    },
    {
     "name": "stderr",
     "output_type": "stream",
     "text": [
      "\n"
     ]
    },
    {
     "name": "stdout",
     "output_type": "stream",
     "text": [
      "\n",
      "      Epoch    GPU_mem       loss  Instances       Size\n"
     ]
    },
    {
     "name": "stderr",
     "output_type": "stream",
     "text": [
      "     68/100      3.61G     0.1665         44        224: 100%|██████████| 14/14 [00:07<00:00,  1.98it/s]\n",
      "               classes   top1_acc   top5_acc: 100%|██████████| 2/2 [00:00<00:00, 21.53it/s]"
     ]
    },
    {
     "name": "stdout",
     "output_type": "stream",
     "text": [
      "                   all      0.364      0.823\n"
     ]
    },
    {
     "name": "stderr",
     "output_type": "stream",
     "text": [
      "\n"
     ]
    },
    {
     "name": "stdout",
     "output_type": "stream",
     "text": [
      "\n",
      "      Epoch    GPU_mem       loss  Instances       Size\n"
     ]
    },
    {
     "name": "stderr",
     "output_type": "stream",
     "text": [
      "     69/100      3.63G     0.1524         44        224: 100%|██████████| 14/14 [00:08<00:00,  1.67it/s]\n",
      "               classes   top1_acc   top5_acc: 100%|██████████| 2/2 [00:00<00:00, 21.44it/s]"
     ]
    },
    {
     "name": "stdout",
     "output_type": "stream",
     "text": [
      "                   all      0.368      0.814\n"
     ]
    },
    {
     "name": "stderr",
     "output_type": "stream",
     "text": [
      "\n"
     ]
    },
    {
     "name": "stdout",
     "output_type": "stream",
     "text": [
      "\n",
      "      Epoch    GPU_mem       loss  Instances       Size\n"
     ]
    },
    {
     "name": "stderr",
     "output_type": "stream",
     "text": [
      "     70/100      3.65G     0.1652         44        224: 100%|██████████| 14/14 [00:07<00:00,  1.94it/s]\n",
      "               classes   top1_acc   top5_acc: 100%|██████████| 2/2 [00:00<00:00, 20.31it/s]"
     ]
    },
    {
     "name": "stdout",
     "output_type": "stream",
     "text": [
      "                   all       0.35      0.814\n"
     ]
    },
    {
     "name": "stderr",
     "output_type": "stream",
     "text": [
      "\n"
     ]
    },
    {
     "name": "stdout",
     "output_type": "stream",
     "text": [
      "\n",
      "      Epoch    GPU_mem       loss  Instances       Size\n"
     ]
    },
    {
     "name": "stderr",
     "output_type": "stream",
     "text": [
      "     71/100      3.67G     0.1698         44        224: 100%|██████████| 14/14 [00:08<00:00,  1.59it/s]\n",
      "               classes   top1_acc   top5_acc: 100%|██████████| 2/2 [00:00<00:00, 19.86it/s]"
     ]
    },
    {
     "name": "stdout",
     "output_type": "stream",
     "text": [
      "                   all      0.345      0.814\n"
     ]
    },
    {
     "name": "stderr",
     "output_type": "stream",
     "text": [
      "\n"
     ]
    },
    {
     "name": "stdout",
     "output_type": "stream",
     "text": [
      "\n",
      "      Epoch    GPU_mem       loss  Instances       Size\n"
     ]
    },
    {
     "name": "stderr",
     "output_type": "stream",
     "text": [
      "     72/100      3.68G     0.1612         44        224: 100%|██████████| 14/14 [00:06<00:00,  2.02it/s]\n",
      "               classes   top1_acc   top5_acc: 100%|██████████| 2/2 [00:00<00:00, 22.44it/s]"
     ]
    },
    {
     "name": "stdout",
     "output_type": "stream",
     "text": [
      "                   all      0.359      0.814\n"
     ]
    },
    {
     "name": "stderr",
     "output_type": "stream",
     "text": [
      "\n"
     ]
    },
    {
     "name": "stdout",
     "output_type": "stream",
     "text": [
      "\n",
      "      Epoch    GPU_mem       loss  Instances       Size\n"
     ]
    },
    {
     "name": "stderr",
     "output_type": "stream",
     "text": [
      "     73/100       3.7G     0.1529         44        224: 100%|██████████| 14/14 [00:08<00:00,  1.70it/s]\n",
      "               classes   top1_acc   top5_acc: 100%|██████████| 2/2 [00:00<00:00, 20.72it/s]"
     ]
    },
    {
     "name": "stdout",
     "output_type": "stream",
     "text": [
      "                   all      0.364      0.814\n"
     ]
    },
    {
     "name": "stderr",
     "output_type": "stream",
     "text": [
      "\n"
     ]
    },
    {
     "name": "stdout",
     "output_type": "stream",
     "text": [
      "\n",
      "      Epoch    GPU_mem       loss  Instances       Size\n"
     ]
    },
    {
     "name": "stderr",
     "output_type": "stream",
     "text": [
      "     74/100      3.72G     0.1506         44        224: 100%|██████████| 14/14 [00:06<00:00,  2.10it/s]\n",
      "               classes   top1_acc   top5_acc: 100%|██████████| 2/2 [00:00<00:00, 21.46it/s]"
     ]
    },
    {
     "name": "stdout",
     "output_type": "stream",
     "text": [
      "                   all      0.368      0.827\n"
     ]
    },
    {
     "name": "stderr",
     "output_type": "stream",
     "text": [
      "\n"
     ]
    },
    {
     "name": "stdout",
     "output_type": "stream",
     "text": [
      "\n",
      "      Epoch    GPU_mem       loss  Instances       Size\n"
     ]
    },
    {
     "name": "stderr",
     "output_type": "stream",
     "text": [
      "     75/100      3.73G     0.1496         44        224: 100%|██████████| 14/14 [00:08<00:00,  1.62it/s]\n",
      "               classes   top1_acc   top5_acc: 100%|██████████| 2/2 [00:00<00:00, 22.72it/s]"
     ]
    },
    {
     "name": "stdout",
     "output_type": "stream",
     "text": [
      "                   all      0.368      0.827\n"
     ]
    },
    {
     "name": "stderr",
     "output_type": "stream",
     "text": [
      "\n"
     ]
    },
    {
     "name": "stdout",
     "output_type": "stream",
     "text": [
      "\n",
      "      Epoch    GPU_mem       loss  Instances       Size\n"
     ]
    },
    {
     "name": "stderr",
     "output_type": "stream",
     "text": [
      "     76/100      3.75G     0.1595         44        224: 100%|██████████| 14/14 [00:07<00:00,  1.98it/s]\n",
      "               classes   top1_acc   top5_acc: 100%|██████████| 2/2 [00:00<00:00, 20.90it/s]"
     ]
    },
    {
     "name": "stdout",
     "output_type": "stream",
     "text": [
      "                   all      0.386      0.818\n"
     ]
    },
    {
     "name": "stderr",
     "output_type": "stream",
     "text": [
      "\n"
     ]
    },
    {
     "name": "stdout",
     "output_type": "stream",
     "text": [
      "\n",
      "      Epoch    GPU_mem       loss  Instances       Size\n"
     ]
    },
    {
     "name": "stderr",
     "output_type": "stream",
     "text": [
      "     77/100      3.77G     0.1668         44        224: 100%|██████████| 14/14 [00:08<00:00,  1.62it/s]\n",
      "               classes   top1_acc   top5_acc: 100%|██████████| 2/2 [00:00<00:00, 21.90it/s]"
     ]
    },
    {
     "name": "stdout",
     "output_type": "stream",
     "text": [
      "                   all      0.382      0.814\n"
     ]
    },
    {
     "name": "stderr",
     "output_type": "stream",
     "text": [
      "\n"
     ]
    },
    {
     "name": "stdout",
     "output_type": "stream",
     "text": [
      "\n",
      "      Epoch    GPU_mem       loss  Instances       Size\n"
     ]
    },
    {
     "name": "stderr",
     "output_type": "stream",
     "text": [
      "     78/100      3.98G     0.1534         44        224: 100%|██████████| 14/14 [00:06<00:00,  2.09it/s]\n",
      "               classes   top1_acc   top5_acc: 100%|██████████| 2/2 [00:00<00:00, 19.18it/s]"
     ]
    },
    {
     "name": "stdout",
     "output_type": "stream",
     "text": [
      "                   all      0.364      0.823\n"
     ]
    },
    {
     "name": "stderr",
     "output_type": "stream",
     "text": [
      "\n"
     ]
    },
    {
     "name": "stdout",
     "output_type": "stream",
     "text": [
      "\n",
      "      Epoch    GPU_mem       loss  Instances       Size\n"
     ]
    },
    {
     "name": "stderr",
     "output_type": "stream",
     "text": [
      "     79/100         4G     0.1555         44        224: 100%|██████████| 14/14 [00:08<00:00,  1.73it/s]\n",
      "               classes   top1_acc   top5_acc: 100%|██████████| 2/2 [00:00<00:00, 19.79it/s]"
     ]
    },
    {
     "name": "stdout",
     "output_type": "stream",
     "text": [
      "                   all       0.35      0.823\n"
     ]
    },
    {
     "name": "stderr",
     "output_type": "stream",
     "text": [
      "\n"
     ]
    },
    {
     "name": "stdout",
     "output_type": "stream",
     "text": [
      "\n",
      "      Epoch    GPU_mem       loss  Instances       Size\n"
     ]
    },
    {
     "name": "stderr",
     "output_type": "stream",
     "text": [
      "     80/100      4.02G      0.168         44        224: 100%|██████████| 14/14 [00:07<00:00,  1.99it/s]\n",
      "               classes   top1_acc   top5_acc: 100%|██████████| 2/2 [00:00<00:00, 20.49it/s]"
     ]
    },
    {
     "name": "stdout",
     "output_type": "stream",
     "text": [
      "                   all      0.359      0.827\n"
     ]
    },
    {
     "name": "stderr",
     "output_type": "stream",
     "text": [
      "\n"
     ]
    },
    {
     "name": "stdout",
     "output_type": "stream",
     "text": [
      "\n",
      "      Epoch    GPU_mem       loss  Instances       Size\n"
     ]
    },
    {
     "name": "stderr",
     "output_type": "stream",
     "text": [
      "     81/100      4.04G     0.1533         44        224: 100%|██████████| 14/14 [00:07<00:00,  1.81it/s]\n",
      "               classes   top1_acc   top5_acc: 100%|██████████| 2/2 [00:00<00:00, 19.08it/s]"
     ]
    },
    {
     "name": "stdout",
     "output_type": "stream",
     "text": [
      "                   all      0.373      0.823\n"
     ]
    },
    {
     "name": "stderr",
     "output_type": "stream",
     "text": [
      "\n"
     ]
    },
    {
     "name": "stdout",
     "output_type": "stream",
     "text": [
      "\n",
      "      Epoch    GPU_mem       loss  Instances       Size\n"
     ]
    },
    {
     "name": "stderr",
     "output_type": "stream",
     "text": [
      "     82/100      4.05G     0.1524         44        224: 100%|██████████| 14/14 [00:08<00:00,  1.70it/s]\n",
      "               classes   top1_acc   top5_acc: 100%|██████████| 2/2 [00:00<00:00, 21.73it/s]"
     ]
    },
    {
     "name": "stdout",
     "output_type": "stream",
     "text": [
      "                   all      0.364      0.818\n"
     ]
    },
    {
     "name": "stderr",
     "output_type": "stream",
     "text": [
      "\n"
     ]
    },
    {
     "name": "stdout",
     "output_type": "stream",
     "text": [
      "\n",
      "      Epoch    GPU_mem       loss  Instances       Size\n"
     ]
    },
    {
     "name": "stderr",
     "output_type": "stream",
     "text": [
      "     83/100      4.07G     0.1526         44        224: 100%|██████████| 14/14 [00:07<00:00,  1.99it/s]\n",
      "               classes   top1_acc   top5_acc: 100%|██████████| 2/2 [00:00<00:00, 21.55it/s]"
     ]
    },
    {
     "name": "stdout",
     "output_type": "stream",
     "text": [
      "                   all      0.377      0.823\n"
     ]
    },
    {
     "name": "stderr",
     "output_type": "stream",
     "text": [
      "\n"
     ]
    },
    {
     "name": "stdout",
     "output_type": "stream",
     "text": [
      "\n",
      "      Epoch    GPU_mem       loss  Instances       Size\n"
     ]
    },
    {
     "name": "stderr",
     "output_type": "stream",
     "text": [
      "     84/100      4.09G     0.1479         44        224: 100%|██████████| 14/14 [00:08<00:00,  1.71it/s]\n",
      "               classes   top1_acc   top5_acc: 100%|██████████| 2/2 [00:00<00:00, 20.50it/s]"
     ]
    },
    {
     "name": "stdout",
     "output_type": "stream",
     "text": [
      "                   all      0.368      0.836\n"
     ]
    },
    {
     "name": "stderr",
     "output_type": "stream",
     "text": [
      "\n"
     ]
    },
    {
     "name": "stdout",
     "output_type": "stream",
     "text": [
      "\n",
      "      Epoch    GPU_mem       loss  Instances       Size\n"
     ]
    },
    {
     "name": "stderr",
     "output_type": "stream",
     "text": [
      "     85/100       4.1G     0.1424         44        224: 100%|██████████| 14/14 [00:06<00:00,  2.08it/s]\n",
      "               classes   top1_acc   top5_acc: 100%|██████████| 2/2 [00:00<00:00, 20.37it/s]"
     ]
    },
    {
     "name": "stdout",
     "output_type": "stream",
     "text": [
      "                   all      0.368      0.832\n"
     ]
    },
    {
     "name": "stderr",
     "output_type": "stream",
     "text": [
      "\n"
     ]
    },
    {
     "name": "stdout",
     "output_type": "stream",
     "text": [
      "\n",
      "      Epoch    GPU_mem       loss  Instances       Size\n"
     ]
    },
    {
     "name": "stderr",
     "output_type": "stream",
     "text": [
      "     86/100      4.12G     0.1536         44        224: 100%|██████████| 14/14 [00:08<00:00,  1.68it/s]\n",
      "               classes   top1_acc   top5_acc: 100%|██████████| 2/2 [00:00<00:00, 22.47it/s]"
     ]
    },
    {
     "name": "stdout",
     "output_type": "stream",
     "text": [
      "                   all      0.373      0.832\n"
     ]
    },
    {
     "name": "stderr",
     "output_type": "stream",
     "text": [
      "\n"
     ]
    },
    {
     "name": "stdout",
     "output_type": "stream",
     "text": [
      "\n",
      "      Epoch    GPU_mem       loss  Instances       Size\n"
     ]
    },
    {
     "name": "stderr",
     "output_type": "stream",
     "text": [
      "     87/100      4.14G     0.1465         44        224: 100%|██████████| 14/14 [00:07<00:00,  1.81it/s]\n",
      "               classes   top1_acc   top5_acc: 100%|██████████| 2/2 [00:00<00:00, 20.52it/s]"
     ]
    },
    {
     "name": "stdout",
     "output_type": "stream",
     "text": [
      "                   all      0.368      0.823\n"
     ]
    },
    {
     "name": "stderr",
     "output_type": "stream",
     "text": [
      "\n"
     ]
    },
    {
     "name": "stdout",
     "output_type": "stream",
     "text": [
      "\n",
      "      Epoch    GPU_mem       loss  Instances       Size\n"
     ]
    },
    {
     "name": "stderr",
     "output_type": "stream",
     "text": [
      "     88/100      4.16G     0.1532         44        224: 100%|██████████| 14/14 [00:07<00:00,  1.86it/s]\n",
      "               classes   top1_acc   top5_acc: 100%|██████████| 2/2 [00:00<00:00, 21.18it/s]"
     ]
    },
    {
     "name": "stdout",
     "output_type": "stream",
     "text": [
      "                   all      0.364      0.827\n"
     ]
    },
    {
     "name": "stderr",
     "output_type": "stream",
     "text": [
      "\n"
     ]
    },
    {
     "name": "stdout",
     "output_type": "stream",
     "text": [
      "\n",
      "      Epoch    GPU_mem       loss  Instances       Size\n"
     ]
    },
    {
     "name": "stderr",
     "output_type": "stream",
     "text": [
      "     89/100      4.17G     0.1437         44        224: 100%|██████████| 14/14 [00:07<00:00,  1.79it/s]\n",
      "               classes   top1_acc   top5_acc: 100%|██████████| 2/2 [00:00<00:00, 21.27it/s]\n"
     ]
    },
    {
     "name": "stdout",
     "output_type": "stream",
     "text": [
      "                   all      0.373      0.823\n",
      "\n",
      "      Epoch    GPU_mem       loss  Instances       Size\n"
     ]
    },
    {
     "name": "stderr",
     "output_type": "stream",
     "text": [
      "     90/100      4.19G     0.1366         44        224: 100%|██████████| 14/14 [00:07<00:00,  1.84it/s]\n",
      "               classes   top1_acc   top5_acc: 100%|██████████| 2/2 [00:00<00:00, 21.40it/s]"
     ]
    },
    {
     "name": "stdout",
     "output_type": "stream",
     "text": [
      "                   all      0.373      0.809\n"
     ]
    },
    {
     "name": "stderr",
     "output_type": "stream",
     "text": [
      "\n"
     ]
    },
    {
     "name": "stdout",
     "output_type": "stream",
     "text": [
      "\n",
      "      Epoch    GPU_mem       loss  Instances       Size\n"
     ]
    },
    {
     "name": "stderr",
     "output_type": "stream",
     "text": [
      "     91/100      4.21G     0.1489         44        224: 100%|██████████| 14/14 [00:07<00:00,  1.95it/s]\n",
      "               classes   top1_acc   top5_acc: 100%|██████████| 2/2 [00:00<00:00, 19.04it/s]"
     ]
    },
    {
     "name": "stdout",
     "output_type": "stream",
     "text": [
      "                   all      0.359      0.823\n"
     ]
    },
    {
     "name": "stderr",
     "output_type": "stream",
     "text": [
      "\n"
     ]
    },
    {
     "name": "stdout",
     "output_type": "stream",
     "text": [
      "\n",
      "      Epoch    GPU_mem       loss  Instances       Size\n"
     ]
    },
    {
     "name": "stderr",
     "output_type": "stream",
     "text": [
      "     92/100      4.42G     0.1465         44        224: 100%|██████████| 14/14 [00:06<00:00,  2.04it/s]\n",
      "               classes   top1_acc   top5_acc: 100%|██████████| 2/2 [00:00<00:00, 22.36it/s]"
     ]
    },
    {
     "name": "stdout",
     "output_type": "stream",
     "text": [
      "                   all      0.364      0.814\n"
     ]
    },
    {
     "name": "stderr",
     "output_type": "stream",
     "text": [
      "\n"
     ]
    },
    {
     "name": "stdout",
     "output_type": "stream",
     "text": [
      "\n",
      "      Epoch    GPU_mem       loss  Instances       Size\n"
     ]
    },
    {
     "name": "stderr",
     "output_type": "stream",
     "text": [
      "     93/100      4.44G     0.1479         44        224: 100%|██████████| 14/14 [00:08<00:00,  1.70it/s]\n",
      "               classes   top1_acc   top5_acc: 100%|██████████| 2/2 [00:00<00:00, 15.45it/s]"
     ]
    },
    {
     "name": "stdout",
     "output_type": "stream",
     "text": [
      "                   all      0.377      0.814\n"
     ]
    },
    {
     "name": "stderr",
     "output_type": "stream",
     "text": [
      "\n"
     ]
    },
    {
     "name": "stdout",
     "output_type": "stream",
     "text": [
      "\n",
      "      Epoch    GPU_mem       loss  Instances       Size\n"
     ]
    },
    {
     "name": "stderr",
     "output_type": "stream",
     "text": [
      "     94/100      4.46G     0.1379         44        224: 100%|██████████| 14/14 [00:07<00:00,  1.91it/s]\n",
      "               classes   top1_acc   top5_acc: 100%|██████████| 2/2 [00:00<00:00, 19.86it/s]"
     ]
    },
    {
     "name": "stdout",
     "output_type": "stream",
     "text": [
      "                   all      0.364      0.818\n"
     ]
    },
    {
     "name": "stderr",
     "output_type": "stream",
     "text": [
      "\n"
     ]
    },
    {
     "name": "stdout",
     "output_type": "stream",
     "text": [
      "\n",
      "      Epoch    GPU_mem       loss  Instances       Size\n"
     ]
    },
    {
     "name": "stderr",
     "output_type": "stream",
     "text": [
      "     95/100      4.47G     0.1503         44        224: 100%|██████████| 14/14 [00:07<00:00,  1.75it/s]\n",
      "               classes   top1_acc   top5_acc: 100%|██████████| 2/2 [00:00<00:00, 21.66it/s]"
     ]
    },
    {
     "name": "stdout",
     "output_type": "stream",
     "text": [
      "                   all      0.382      0.823\n"
     ]
    },
    {
     "name": "stderr",
     "output_type": "stream",
     "text": [
      "\n"
     ]
    },
    {
     "name": "stdout",
     "output_type": "stream",
     "text": [
      "\n",
      "      Epoch    GPU_mem       loss  Instances       Size\n"
     ]
    },
    {
     "name": "stderr",
     "output_type": "stream",
     "text": [
      "     96/100      4.49G     0.1462         44        224: 100%|██████████| 14/14 [00:06<00:00,  2.05it/s]\n",
      "               classes   top1_acc   top5_acc: 100%|██████████| 2/2 [00:00<00:00, 21.46it/s]"
     ]
    },
    {
     "name": "stdout",
     "output_type": "stream",
     "text": [
      "                   all      0.373      0.805\n"
     ]
    },
    {
     "name": "stderr",
     "output_type": "stream",
     "text": [
      "\n"
     ]
    },
    {
     "name": "stdout",
     "output_type": "stream",
     "text": [
      "\n",
      "      Epoch    GPU_mem       loss  Instances       Size\n"
     ]
    },
    {
     "name": "stderr",
     "output_type": "stream",
     "text": [
      "     97/100      4.51G     0.1333         44        224: 100%|██████████| 14/14 [00:08<00:00,  1.69it/s]\n",
      "               classes   top1_acc   top5_acc: 100%|██████████| 2/2 [00:00<00:00, 20.63it/s]"
     ]
    },
    {
     "name": "stdout",
     "output_type": "stream",
     "text": [
      "                   all      0.373        0.8\n"
     ]
    },
    {
     "name": "stderr",
     "output_type": "stream",
     "text": [
      "\n"
     ]
    },
    {
     "name": "stdout",
     "output_type": "stream",
     "text": [
      "\n",
      "      Epoch    GPU_mem       loss  Instances       Size\n"
     ]
    },
    {
     "name": "stderr",
     "output_type": "stream",
     "text": [
      "     98/100      4.53G     0.1445         44        224: 100%|██████████| 14/14 [00:06<00:00,  2.04it/s]\n",
      "               classes   top1_acc   top5_acc: 100%|██████████| 2/2 [00:00<00:00, 20.29it/s]"
     ]
    },
    {
     "name": "stdout",
     "output_type": "stream",
     "text": [
      "                   all      0.382      0.809\n"
     ]
    },
    {
     "name": "stderr",
     "output_type": "stream",
     "text": [
      "\n"
     ]
    },
    {
     "name": "stdout",
     "output_type": "stream",
     "text": [
      "\n",
      "      Epoch    GPU_mem       loss  Instances       Size\n"
     ]
    },
    {
     "name": "stderr",
     "output_type": "stream",
     "text": [
      "     99/100      4.54G     0.1385         44        224: 100%|██████████| 14/14 [00:08<00:00,  1.66it/s]\n",
      "               classes   top1_acc   top5_acc: 100%|██████████| 2/2 [00:00<00:00, 21.51it/s]"
     ]
    },
    {
     "name": "stdout",
     "output_type": "stream",
     "text": [
      "                   all      0.386      0.805\n"
     ]
    },
    {
     "name": "stderr",
     "output_type": "stream",
     "text": [
      "\n"
     ]
    },
    {
     "name": "stdout",
     "output_type": "stream",
     "text": [
      "\n",
      "      Epoch    GPU_mem       loss  Instances       Size\n"
     ]
    },
    {
     "name": "stderr",
     "output_type": "stream",
     "text": [
      "    100/100      4.56G     0.1375         44        224: 100%|██████████| 14/14 [00:06<00:00,  2.04it/s]\n",
      "               classes   top1_acc   top5_acc: 100%|██████████| 2/2 [00:00<00:00, 21.32it/s]"
     ]
    },
    {
     "name": "stdout",
     "output_type": "stream",
     "text": [
      "                   all      0.382      0.814\n"
     ]
    },
    {
     "name": "stderr",
     "output_type": "stream",
     "text": [
      "\n"
     ]
    },
    {
     "name": "stdout",
     "output_type": "stream",
     "text": [
      "\n",
      "100 epochs completed in 0.237 hours.\n",
      "Optimizer stripped from runs/classify/train2/weights/last.pt, 11.1MB\n",
      "Optimizer stripped from runs/classify/train2/weights/best.pt, 11.1MB\n",
      "\n",
      "Validating runs/classify/train2/weights/best.pt...\n",
      "Ultralytics 8.3.161 🚀 Python-3.11.11 torch-2.6.0+cu124 CUDA:0 (Tesla P100-PCIE-16GB, 16269MiB)\n",
      "YOLO11s-cls summary (fused): 47 layers, 5,457,186 parameters, 0 gradients, 12.0 GFLOPs\n",
      "WARNING ⚠️ Dataset 'split=val' not found, using 'split=test' instead.\n",
      "\u001b[34m\u001b[1mtrain:\u001b[0m /kaggle/working/split/train... found 876 images in 18 classes ✅ \n",
      "\u001b[34m\u001b[1mval:\u001b[0m /kaggle/working/split/test... found 220 images in 18 classes ✅ \n",
      "\u001b[34m\u001b[1mtest:\u001b[0m /kaggle/working/split/test... found 220 images in 18 classes ✅ \n"
     ]
    },
    {
     "name": "stderr",
     "output_type": "stream",
     "text": [
      "               classes   top1_acc   top5_acc: 100%|██████████| 2/2 [00:00<00:00, 14.52it/s]\n",
      "/usr/local/lib/python3.11/dist-packages/matplotlib/colors.py:721: RuntimeWarning: invalid value encountered in less\n",
      "  xa[xa < 0] = -1\n",
      "/usr/local/lib/python3.11/dist-packages/matplotlib/colors.py:721: RuntimeWarning: invalid value encountered in less\n",
      "  xa[xa < 0] = -1\n"
     ]
    },
    {
     "name": "stdout",
     "output_type": "stream",
     "text": [
      "                   all      0.391      0.845\n",
      "Speed: 0.1ms preprocess, 0.3ms inference, 0.0ms loss, 0.0ms postprocess per image\n",
      "Results saved to \u001b[1mruns/classify/train2\u001b[0m\n",
      "Ultralytics 8.3.161 🚀 Python-3.11.11 torch-2.6.0+cu124 CUDA:0 (Tesla P100-PCIE-16GB, 16269MiB)\n",
      "YOLO11s-cls summary (fused): 47 layers, 5,457,186 parameters, 0 gradients, 12.0 GFLOPs\n",
      "WARNING ⚠️ Dataset 'split=val' not found, using 'split=test' instead.\n",
      "\u001b[34m\u001b[1mtrain:\u001b[0m /kaggle/working/split/train... found 876 images in 18 classes ✅ \n",
      "\u001b[34m\u001b[1mval:\u001b[0m /kaggle/working/split/test... found 220 images in 18 classes ✅ \n",
      "\u001b[34m\u001b[1mtest:\u001b[0m /kaggle/working/split/test... found 220 images in 18 classes ✅ \n",
      "\u001b[34m\u001b[1mval: \u001b[0mFast image access ✅ (ping: 0.0±0.0 ms, read: 3472.4±1606.5 MB/s, size: 548.0 KB)\n"
     ]
    },
    {
     "name": "stderr",
     "output_type": "stream",
     "text": [
      "\u001b[34m\u001b[1mval: \u001b[0mScanning /kaggle/working/split/test... 220 images, 0 corrupt: 100%|██████████| 220/220 [00:00<?, ?it/s]\n",
      "               classes   top1_acc   top5_acc: 100%|██████████| 4/4 [00:03<00:00,  1.30it/s]\n",
      "/usr/local/lib/python3.11/dist-packages/matplotlib/colors.py:721: RuntimeWarning: invalid value encountered in less\n",
      "  xa[xa < 0] = -1\n",
      "/usr/local/lib/python3.11/dist-packages/matplotlib/colors.py:721: RuntimeWarning: invalid value encountered in less\n",
      "  xa[xa < 0] = -1\n"
     ]
    },
    {
     "name": "stdout",
     "output_type": "stream",
     "text": [
      "                   all      0.355      0.836\n",
      "Speed: 1.0ms preprocess, 2.2ms inference, 0.0ms loss, 0.0ms postprocess per image\n",
      "Results saved to \u001b[1mruns/classify/train22\u001b[0m\n"
     ]
    },
    {
     "data": {
      "text/plain": [
       "ultralytics.utils.metrics.ClassifyMetrics object with attributes:\n",
       "\n",
       "confusion_matrix: <ultralytics.utils.metrics.ConfusionMatrix object at 0x7b0699512ed0>\n",
       "curves: []\n",
       "curves_results: []\n",
       "fitness: 0.595454528927803\n",
       "keys: ['metrics/accuracy_top1', 'metrics/accuracy_top5']\n",
       "results_dict: {'metrics/accuracy_top1': 0.3545454442501068, 'metrics/accuracy_top5': 0.8363636136054993, 'fitness': 0.595454528927803}\n",
       "save_dir: PosixPath('runs/classify/train22')\n",
       "speed: {'preprocess': 0.9991254636350856, 'inference': 2.2191947863647825, 'loss': 0.00034161818120992393, 'postprocess': 0.0005397863643255814}\n",
       "task: 'classify'\n",
       "top1: 0.3545454442501068\n",
       "top5: 0.8363636136054993"
      ]
     },
     "execution_count": 4,
     "metadata": {},
     "output_type": "execute_result"
    }
   ],
   "source": [
    "import torch\n",
    "import torchvision.transforms as T\n",
    "\n",
    "from ultralytics import YOLO\n",
    "from ultralytics.data.dataset import ClassificationDataset\n",
    "from ultralytics.models.yolo.classify import ClassificationTrainer\n",
    "from ultralytics.models.yolo.classify import ClassificationValidator  # N'oublie pas d'importer cela aussi\n",
    "\n",
    "# -----------------------------\n",
    "# 💾 Définition du Dataset personnalisé\n",
    "# -----------------------------\n",
    "class CustomizedDataset(ClassificationDataset):\n",
    "    \"\"\"\n",
    "    Dataset personnalisé pour la classification avec des transformations spécifiques à l'entraînement et à la validation.\n",
    "    Hérite de ClassificationDataset d'Ultralytics.\n",
    "    \"\"\"\n",
    "\n",
    "    def __init__(self, root: str, args, augment: bool = False, prefix: str = \"\"):\n",
    "        # Initialise le dataset parent (chargement des fichiers, structure de dossier, etc.)\n",
    "        super().__init__(root, args, augment, prefix)\n",
    "\n",
    "        # 🧪 Transformations utilisées pendant l'entraînement\n",
    "        train_transforms = T.Compose([\n",
    "            T.Resize((args.imgsz, args.imgsz)),  # Redimensionnement uniforme\n",
    "            T.RandomHorizontalFlip(p=args.fliplr),  # Flip horizontal\n",
    "            T.RandomVerticalFlip(p=args.flipud),    # Flip vertical\n",
    "            T.RandAugment(interpolation=T.InterpolationMode.BILINEAR),  # Augmentation aléatoire\n",
    "            T.ColorJitter(  # Changements aléatoires de couleur\n",
    "                brightness=args.hsv_v,\n",
    "                contrast=args.hsv_v,\n",
    "                saturation=args.hsv_s,\n",
    "                hue=args.hsv_h\n",
    "            ),\n",
    "            T.ToTensor(),  # Conversion en tenseur PyTorch\n",
    "            T.Normalize(mean=[0.5], std=[0.5]),  # Normalisation (adaptée si images en niveaux de gris ou RGB)\n",
    "            T.RandomErasing(p=args.erasing, inplace=True),  # Supprime des parties aléatoires de l’image\n",
    "        ])\n",
    "\n",
    "        # 🧪 Transformations pour la validation (plus simples, pas d'augmentation)\n",
    "        val_transforms = T.Compose([\n",
    "            T.Resize((args.imgsz, args.imgsz)),\n",
    "            T.ToTensor(),\n",
    "            T.Normalize(mean=[0.5], std=[0.5]),\n",
    "        ])\n",
    "\n",
    "        # On affecte la bonne transformation selon le mode (train/val)\n",
    "        self.torch_transforms = train_transforms if augment else val_transforms\n",
    "\n",
    "\n",
    "# -----------------------------\n",
    "# 🚂 Entraîneur personnalisé\n",
    "# -----------------------------\n",
    "class CustomizedTrainer(ClassificationTrainer):\n",
    "    \"\"\"\n",
    "    Entraîneur personnalisé qui utilise notre dataset avec les transformations définies ci-dessus.\n",
    "    \"\"\"\n",
    "\n",
    "    def build_dataset(self, img_path: str, mode: str = \"train\", batch=None):\n",
    "        return CustomizedDataset(\n",
    "            root=img_path,\n",
    "            args=self.args,\n",
    "            augment=(mode == \"train\"),  # Appliquer l'augmentation uniquement à l'entraînement\n",
    "            prefix=mode\n",
    "        )\n",
    "\n",
    "\n",
    "# -----------------------------\n",
    "# 📊 Validateur personnalisé\n",
    "# -----------------------------\n",
    "class CustomizedValidator(ClassificationValidator):\n",
    "    \"\"\"\n",
    "    Validateur personnalisé utilisant les mêmes transformations que celles prévues pour la validation.\n",
    "    \"\"\"\n",
    "\n",
    "    def build_dataset(self, img_path: str, mode: str = \"train\"):\n",
    "        return CustomizedDataset(\n",
    "            root=img_path,\n",
    "            args=self.args,\n",
    "            augment=(mode == \"train\"),\n",
    "            prefix=self.args.split\n",
    "        )\n",
    "\n",
    "\n",
    "# -----------------------------\n",
    "# 📦 Chargement du modèle et entraînement\n",
    "# -----------------------------\n",
    "model = YOLO(\"yolo11s-cls.pt\")  # ← Choisis un modèle de classification YOLO pré-entraîné\n",
    "\n",
    "# Démarre l'entraînement avec le CustomizedTrainer\n",
    "model.train(\n",
    "    data=\"/kaggle/working/split\",  # Dossier contenant les sous-dossiers par classe\n",
    "    trainer=CustomizedTrainer,\n",
    "    epochs=100,\n",
    "    imgsz=224,\n",
    "    batch=64,\n",
    "    device='0',\n",
    "    amp = True,\n",
    "    workers = 8\n",
    "    \n",
    ")\n",
    "\n",
    "# Évaluation avec le validateur personnalisé\n",
    "model.val(\n",
    "    data=\"/kaggle/working/split\",\n",
    "    validator=CustomizedValidator,\n",
    "    imgsz=224,\n",
    "    batch=64,\n",
    "     device='0',\n",
    "    amp = True,\n",
    "    workers = 8\n",
    "    \n",
    ")"
   ]
  },
  {
   "cell_type": "code",
   "execution_count": null,
   "metadata": {},
   "outputs": [],
   "source": []
  },
  {
   "cell_type": "code",
   "execution_count": null,
   "metadata": {
    "trusted": true
   },
   "outputs": [
    {
     "ename": "NameError",
     "evalue": "name 'model' is not defined",
     "output_type": "error",
     "traceback": [
      "\u001b[0;31m---------------------------------------------------------------------------\u001b[0m",
      "\u001b[0;31mNameError\u001b[0m                                 Traceback (most recent call last)",
      "Cell \u001b[0;32mIn[1], line 1\u001b[0m\n\u001b[0;32m----> 1\u001b[0m \u001b[43mmodel\u001b[49m\u001b[38;5;241m.\u001b[39mresults_dict()\n",
      "\u001b[0;31mNameError\u001b[0m: name 'model' is not defined"
     ]
    }
   ],
   "source": [
    "# Évaluation avec le validateur personnalisé\n",
    "\n",
    "model.val(\n",
    "    data=\"/kaggle/working/split\",\n",
    "    validator=CustomizedValidator,\n",
    "    imgsz=224,\n",
    "    batch=64,\n",
    "     device='0',\n",
    "    amp = True,\n",
    "    workers = 8\n",
    ")\n",
    "# Affichage des résultats\n",
    "print(model.results_dict())"
   ]
  },
  {
   "cell_type": "code",
   "execution_count": null,
   "metadata": {
    "trusted": true
   },
   "outputs": [],
   "source": [
    "## regression multimodale avec embeddings d'image\n"
   ]
  }
 ],
 "metadata": {
  "kernelspec": {
   "display_name": "python-S2",
   "language": "python",
   "name": "python3"
  },
  "language_info": {
   "codemirror_mode": {
    "name": "ipython",
    "version": 3
   },
   "file_extension": ".py",
   "mimetype": "text/x-python",
   "name": "python",
   "nbconvert_exporter": "python",
   "pygments_lexer": "ipython3",
   "version": "3.8.20"
  }
 },
 "nbformat": 4,
 "nbformat_minor": 4
}
