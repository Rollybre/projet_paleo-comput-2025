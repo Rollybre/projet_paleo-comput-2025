{
 "cells": [
  {
   "cell_type": "code",
   "execution_count": 6,
   "id": "7e2014a9",
   "metadata": {},
   "outputs": [],
   "source": [
    "import requests\n",
    "#import xml.etree.ElementTree as ET\n",
    "#!pip install lxml\n",
    "from lxml import etree as ET\n",
    "import json \n",
    "import os \n",
    "import shutil\n",
    "\n"
   ]
  },
  {
   "cell_type": "markdown",
   "id": "74192b2f",
   "metadata": {},
   "source": [
    "## C'est l'heure du pseudo code  ! \n",
    "\n",
    "Parcourir les dossiers de données et récupérer les identifiants de chaque fichier\n",
    "E.g. : ```1.177. Honours for Zenon son of Zenon, wrestler A.jpg```\n",
    "\n",
    "\n",
    "Dans le même temps, stocker les chemins(dictionnaire / json ?  )\n",
    "\n",
    "Une fois les des identirifiants récupérés, parcourir les xml du site pour aller chercher l'image à étudier\n",
    "\n",
    "\n",
    "Dans le XML, aller chercher l'URL de l'image ``` Xpath : //div[@type='figure' and @n='photographs']//figure/@href```\n",
    "\n",
    "\n",
    "On le concatène avec l'URL de base du site : ``` https://insaph.kcl.ac.uk/images/photo/full/ + id + .jpg```\n",
    "\n",
    "On scrape l'image et on la stocke suivante le même nom que le fichier d'origine\n",
    "\n",
    "\n",
    "\n",
    "Une fois toutes les images récupéréées, on fait un train test split sur toutes les classes, puis on lance un YOLOv11 classifier pour l'entraînement\n",
    "(Est-ce qu'on garde unsplit 80 20 ou est-ce qu'on ajoute une classe de valisation pour avoir un split 70 20 10 ?)\n",
    "\n"
   ]
  },
  {
   "cell_type": "code",
   "execution_count": 7,
   "id": "e1b84055",
   "metadata": {},
   "outputs": [],
   "source": [
    "import os\n",
    "\n",
    "def get_id(file_name):\n",
    "    # On récupère l'identifiant de l'image\n",
    "    elem1, elem2 = file_name.split(\".\")[:2]\n",
    "    if len(elem1) +len(elem2)== 6:\n",
    "        return elem1 + elem2\n",
    "    if len(elem1) == 1:\n",
    "        elem1 = '0' + elem1 + '0'\n",
    "    else:\n",
    "        elem1 += '0'\n",
    "    if len(elem2) == 1:\n",
    "        elem2 = '00' + elem2\n",
    "    elif len(elem2) == 2:\n",
    "        elem2 = '0' + elem2\n",
    "    return elem1 + elem2\n"
   ]
  },
  {
   "cell_type": "code",
   "execution_count": 8,
   "id": "be16ac72",
   "metadata": {},
   "outputs": [],
   "source": [
    "def get_img_link(xml_path):\n",
    "     tree = ET.parse(xml_path)\n",
    "     root = tree.getroot()\n",
    "     return  [f'https://insaph.kcl.ac.uk/images/photo/full/{href}.jpg' for href in root.xpath(\"//div[@type='figure' and @n='photographs']//figure[@href]/@href\")]\n",
    "\n",
    "def get_image(url,path) : \n",
    "    img_data = requests.get(url).content\n",
    "    with open(path, 'wb') as handler:\n",
    "        handler.write(img_data)\n",
    "        \n"
   ]
  },
  {
   "cell_type": "code",
   "execution_count": 9,
   "id": "5faeff4b",
   "metadata": {},
   "outputs": [],
   "source": [
    "import cv2\n",
    "from sklearn.metrics.pairwise import cosine_similarity\n",
    "def get_img_sim(img1, img2):\n",
    "    try:\n",
    "        # Vérification des chemins\n",
    "        if not os.path.exists(img1):\n",
    "            raise FileNotFoundError(f\"Fichier introuvable : {img1}\")\n",
    "        if not os.path.exists(img2):\n",
    "            raise FileNotFoundError(f\"Fichier introuvable : {img2}\")\n",
    "\n",
    "        # Chargement des images\n",
    "        image1 = cv2.imread(img1)\n",
    "        image2 = cv2.imread(img2)\n",
    "\n",
    "        if image1 is None:\n",
    "            raise ValueError(f\"Échec du chargement de l'image : {img1}\")\n",
    "        if image2 is None:\n",
    "            raise ValueError(f\"Échec du chargement de l'image : {img2}\")\n",
    "\n",
    "        # Redimensionnement aux dimensions minimales\n",
    "        min_height = min(image1.shape[0], image2.shape[0])\n",
    "        min_width = min(image1.shape[1], image2.shape[1])\n",
    "\n",
    "        if min_height == 0 or min_width == 0:\n",
    "            raise ValueError(\"Une des images a une dimension invalide (hauteur ou largeur = 0)\")\n",
    "\n",
    "        image1 = cv2.resize(image1, (min_width, min_height))\n",
    "        image2 = cv2.resize(image2, (min_width, min_height))\n",
    "\n",
    "        # Conversion en vecteurs\n",
    "        vector1 = image1.flatten()\n",
    "        vector2 = image2.flatten()\n",
    "\n",
    "        # Calcul de la similarité cosinus\n",
    "        similarity = cosine_similarity([vector1], [vector2])[0][0]\n",
    "\n",
    "        return similarity\n",
    "\n",
    "    except Exception as e:\n",
    "        print(f\"[Erreur] {e}\")\n",
    "        return None"
   ]
  },
  {
   "cell_type": "markdown",
   "id": "72a81ae7",
   "metadata": {},
   "source": []
  },
  {
   "cell_type": "code",
   "execution_count": 10,
   "id": "cc8b8264",
   "metadata": {},
   "outputs": [
    {
     "name": "stderr",
     "output_type": "stream",
     "text": [
      "Traitement des images:   1%|          | 8/1300 [00:10<27:28,  1.28s/it]"
     ]
    },
    {
     "name": "stdout",
     "output_type": "stream",
     "text": [
      "[Erreur] Échec du chargement de l'image : temp/2_010403.jpg\n"
     ]
    },
    {
     "name": "stderr",
     "output_type": "stream",
     "text": [
      "Traitement des images:   1%|          | 10/1300 [00:15<35:15,  1.64s/it]"
     ]
    },
    {
     "name": "stdout",
     "output_type": "stream",
     "text": [
      "[Erreur] Échec du chargement de l'image : temp/2_010403.jpg\n"
     ]
    },
    {
     "name": "stderr",
     "output_type": "stream",
     "text": [
      "Traitement des images:   1%|          | 14/1300 [00:21<30:08,  1.41s/it]"
     ]
    },
    {
     "name": "stdout",
     "output_type": "stream",
     "text": [
      "[Erreur] Échec du chargement de l'image : temp/3_110068.jpg\n"
     ]
    },
    {
     "name": "stderr",
     "output_type": "stream",
     "text": [
      "Traitement des images:   2%|▏         | 23/1300 [00:28<18:30,  1.15it/s]"
     ]
    },
    {
     "name": "stdout",
     "output_type": "stream",
     "text": [
      "[Erreur] Échec du chargement de l'image : temp/2_121019.jpg\n"
     ]
    },
    {
     "name": "stderr",
     "output_type": "stream",
     "text": [
      "Traitement des images:   3%|▎         | 35/1300 [00:39<23:58,  1.14s/it]"
     ]
    },
    {
     "name": "stdout",
     "output_type": "stream",
     "text": [
      "[Erreur] Échec du chargement de l'image : temp/0_080095.jpg\n"
     ]
    },
    {
     "name": "stderr",
     "output_type": "stream",
     "text": [
      "Traitement des images:   4%|▍         | 50/1300 [01:04<47:43,  2.29s/it]"
     ]
    },
    {
     "name": "stdout",
     "output_type": "stream",
     "text": [
      "[Erreur] Échec du chargement de l'image : temp/5_010022.jpg\n"
     ]
    },
    {
     "name": "stderr",
     "output_type": "stream",
     "text": [
      "Traitement des images:   5%|▍         | 61/1300 [01:21<30:44,  1.49s/it]  "
     ]
    },
    {
     "name": "stdout",
     "output_type": "stream",
     "text": [
      "[Erreur] Échec du chargement de l'image : temp/6_010021.jpg\n"
     ]
    },
    {
     "name": "stderr",
     "output_type": "stream",
     "text": [
      "Traitement des images:   5%|▍         | 64/1300 [01:25<24:21,  1.18s/it]"
     ]
    },
    {
     "name": "stdout",
     "output_type": "stream",
     "text": [
      "[Erreur] Échec du chargement de l'image : temp/3_010003.jpg\n",
      "[Erreur] Échec du chargement de l'image : temp/2_010003.jpg\n"
     ]
    },
    {
     "name": "stderr",
     "output_type": "stream",
     "text": [
      "Traitement des images:   5%|▌         | 65/1300 [01:26<26:45,  1.30s/it]"
     ]
    },
    {
     "name": "stdout",
     "output_type": "stream",
     "text": [
      "[Erreur] Échec du chargement de l'image : temp/4_010019.jpg\n",
      "[Erreur] Échec du chargement de l'image : temp/3_010019.jpg\n"
     ]
    },
    {
     "name": "stderr",
     "output_type": "stream",
     "text": [
      "Traitement des images:   5%|▌         | 66/1300 [01:28<28:30,  1.39s/it]"
     ]
    },
    {
     "name": "stdout",
     "output_type": "stream",
     "text": [
      "[Erreur] Échec du chargement de l'image : temp/4_010019.jpg\n",
      "[Erreur] Échec du chargement de l'image : temp/3_010019.jpg\n"
     ]
    },
    {
     "name": "stderr",
     "output_type": "stream",
     "text": [
      "Traitement des images:   5%|▌         | 67/1300 [01:28<23:23,  1.14s/it]"
     ]
    },
    {
     "name": "stdout",
     "output_type": "stream",
     "text": [
      "[Erreur] Échec du chargement de l'image : temp/0_110225.jpg\n"
     ]
    },
    {
     "name": "stderr",
     "output_type": "stream",
     "text": [
      "Traitement des images:   6%|▌         | 74/1300 [01:32<15:23,  1.33it/s]"
     ]
    },
    {
     "name": "stdout",
     "output_type": "stream",
     "text": [
      "[Erreur] Échec du chargement de l'image : temp/2_010020.jpg\n",
      "[Erreur] Échec du chargement de l'image : temp/3_010020.jpg\n"
     ]
    },
    {
     "name": "stderr",
     "output_type": "stream",
     "text": [
      "Traitement des images:   6%|▋         | 84/1300 [01:40<17:30,  1.16it/s]"
     ]
    },
    {
     "name": "stdout",
     "output_type": "stream",
     "text": [
      "[Erreur] Échec du chargement de l'image : temp/3_010405.jpg\n"
     ]
    },
    {
     "name": "stderr",
     "output_type": "stream",
     "text": [
      "Traitement des images:   7%|▋         | 85/1300 [01:41<16:44,  1.21it/s]"
     ]
    },
    {
     "name": "stdout",
     "output_type": "stream",
     "text": [
      "[Erreur] ID de l'image invalide : Acclamation 60jpg pour le fichier Acclamation 6.jpg\n"
     ]
    },
    {
     "name": "stderr",
     "output_type": "stream",
     "text": [
      "Traitement des images:   7%|▋         | 87/1300 [01:42<17:15,  1.17it/s]"
     ]
    },
    {
     "name": "stdout",
     "output_type": "stream",
     "text": [
      "[Erreur] ID de l'image invalide : Acclamation 70jpg pour le fichier Acclamation 7.jpg\n"
     ]
    },
    {
     "name": "stderr",
     "output_type": "stream",
     "text": [
      "Traitement des images:   7%|▋         | 89/1300 [01:43<13:31,  1.49it/s]"
     ]
    },
    {
     "name": "stdout",
     "output_type": "stream",
     "text": [
      "[Erreur] ID de l'image invalide : Acclamation 30jpg pour le fichier Acclamation 3.jpg\n"
     ]
    },
    {
     "name": "stderr",
     "output_type": "stream",
     "text": [
      "Traitement des images:   7%|▋         | 91/1300 [01:45<13:43,  1.47it/s]"
     ]
    },
    {
     "name": "stdout",
     "output_type": "stream",
     "text": [
      "[Erreur] ID de l'image invalide : Acclamation 20jpg pour le fichier Acclamation 2.jpg\n"
     ]
    },
    {
     "name": "stderr",
     "output_type": "stream",
     "text": [
      "Traitement des images:   7%|▋         | 93/1300 [01:46<13:20,  1.51it/s]"
     ]
    },
    {
     "name": "stdout",
     "output_type": "stream",
     "text": [
      "[Erreur] ID de l'image invalide : Acclamation 10jpg pour le fichier Acclamation 1.jpg\n"
     ]
    },
    {
     "name": "stderr",
     "output_type": "stream",
     "text": [
      "Traitement des images:   7%|▋         | 95/1300 [01:46<10:58,  1.83it/s]"
     ]
    },
    {
     "name": "stdout",
     "output_type": "stream",
     "text": [
      "[Erreur] ID de l'image invalide : Acclamation 5 (A)0jpg pour le fichier Acclamation 5 (A).jpg\n"
     ]
    },
    {
     "name": "stderr",
     "output_type": "stream",
     "text": [
      "Traitement des images:   8%|▊         | 98/1300 [01:50<16:02,  1.25it/s]"
     ]
    },
    {
     "name": "stdout",
     "output_type": "stream",
     "text": [
      "[Erreur] Échec du chargement de l'image : temp/2_010403.jpg\n"
     ]
    },
    {
     "name": "stderr",
     "output_type": "stream",
     "text": [
      "Traitement des images:   8%|▊         | 101/1300 [02:08<55:57,  2.80s/it]  "
     ]
    },
    {
     "name": "stdout",
     "output_type": "stream",
     "text": [
      "[Erreur] Échec du chargement de l'image : temp/2_010403.jpg\n"
     ]
    },
    {
     "name": "stderr",
     "output_type": "stream",
     "text": [
      "Traitement des images:   8%|▊         | 107/1300 [03:12<2:26:54,  7.39s/it]"
     ]
    },
    {
     "name": "stdout",
     "output_type": "stream",
     "text": [
      "[Erreur] ID de l'image invalide : Acclamation 4 (A)0jpg pour le fichier Acclamation 4 (A).jpg\n"
     ]
    },
    {
     "name": "stderr",
     "output_type": "stream",
     "text": [
      "Traitement des images:   9%|▊         | 112/1300 [03:42<1:57:37,  5.94s/it]"
     ]
    },
    {
     "name": "stdout",
     "output_type": "stream",
     "text": [
      "[Erreur] ID de l'image invalide : Acclamation 4 (B)0jpg pour le fichier Acclamation 4 (B).jpg\n"
     ]
    },
    {
     "name": "stderr",
     "output_type": "stream",
     "text": [
      "Traitement des images:   9%|▉         | 117/1300 [04:21<2:36:38,  7.94s/it]"
     ]
    },
    {
     "name": "stdout",
     "output_type": "stream",
     "text": [
      "[Erreur] ID de l'image invalide : Acclamation 5 (B)0jpg pour le fichier Acclamation 5 (B).jpg\n"
     ]
    },
    {
     "name": "stderr",
     "output_type": "stream",
     "text": [
      "Traitement des images:   9%|▉         | 121/1300 [04:31<1:29:57,  4.58s/it]"
     ]
    },
    {
     "name": "stdout",
     "output_type": "stream",
     "text": [
      "[Erreur] Échec du chargement de l'image : temp/5_080001.jpg\n",
      "[Erreur] ID de l'image invalide : Acclamation 130jpg pour le fichier Acclamation 13.jpg\n",
      "[Erreur] ID de l'image invalide : Acclamation 120jpg pour le fichier Acclamation 12.jpg\n"
     ]
    },
    {
     "name": "stderr",
     "output_type": "stream",
     "text": [
      "Traitement des images:  10%|▉         | 124/1300 [04:33<48:57,  2.50s/it]  "
     ]
    },
    {
     "name": "stdout",
     "output_type": "stream",
     "text": [
      "[Erreur] Échec du chargement de l'image : temp/5_080001.jpg\n",
      "[Erreur] ID de l'image invalide : Acclamation 100jpg pour le fichier Acclamation 10.jpg\n",
      "[Erreur] ID de l'image invalide : Acclamation 110jpg pour le fichier Acclamation 11.jpg\n",
      "[Erreur] ID de l'image invalide : Acclamation 150jpg pour le fichier Acclamation 15.jpg\n",
      "[Erreur] ID de l'image invalide : Acclamation 140jpg pour le fichier Acclamation 14.jpg\n",
      "[Erreur] ID de l'image invalide : Acclamation 90jpg pour le fichier Acclamation 9.jpg\n"
     ]
    },
    {
     "name": "stderr",
     "output_type": "stream",
     "text": [
      "Traitement des images:  10%|█         | 131/1300 [04:44<42:06,  2.16s/it]"
     ]
    },
    {
     "name": "stdout",
     "output_type": "stream",
     "text": [
      "[Erreur] ID de l'image invalide : Acclamation 160jpg pour le fichier Acclamation 16.jpg\n",
      "[Erreur] ID de l'image invalide : Acclamation 80jpg pour le fichier Acclamation 8.jpg\n"
     ]
    },
    {
     "name": "stderr",
     "output_type": "stream",
     "text": [
      "Traitement des images:  11%|█         | 138/1300 [04:46<16:30,  1.17it/s]"
     ]
    },
    {
     "name": "stdout",
     "output_type": "stream",
     "text": [
      "[Erreur] Échec du chargement de l'image : temp/1_121211.jpg\n"
     ]
    },
    {
     "name": "stderr",
     "output_type": "stream",
     "text": [
      "Traitement des images:  11%|█         | 142/1300 [04:48<12:18,  1.57it/s]"
     ]
    },
    {
     "name": "stdout",
     "output_type": "stream",
     "text": [
      "[Erreur] Échec du chargement de l'image : temp/2_120615.jpg\n"
     ]
    },
    {
     "name": "stderr",
     "output_type": "stream",
     "text": [
      "Traitement des images:  11%|█         | 144/1300 [04:49<10:25,  1.85it/s]"
     ]
    },
    {
     "name": "stdout",
     "output_type": "stream",
     "text": [
      "[Erreur] Échec du chargement de l'image : temp/2_120015.jpg\n"
     ]
    },
    {
     "name": "stderr",
     "output_type": "stream",
     "text": [
      "Traitement des images:  11%|█         | 146/1300 [04:49<08:51,  2.17it/s]"
     ]
    },
    {
     "name": "stdout",
     "output_type": "stream",
     "text": [
      "[Erreur] Échec du chargement de l'image : temp/2_120015.jpg\n"
     ]
    },
    {
     "name": "stderr",
     "output_type": "stream",
     "text": [
      "Traitement des images:  12%|█▏        | 151/1300 [04:51<07:19,  2.61it/s]"
     ]
    },
    {
     "name": "stdout",
     "output_type": "stream",
     "text": [
      "[Erreur] Échec du chargement de l'image : temp/2_120621.jpg\n"
     ]
    },
    {
     "name": "stderr",
     "output_type": "stream",
     "text": [
      "Traitement des images:  12%|█▏        | 156/1300 [04:53<07:52,  2.42it/s]"
     ]
    },
    {
     "name": "stdout",
     "output_type": "stream",
     "text": [
      "[Erreur] Échec du chargement de l'image : temp/1_140010.jpg\n"
     ]
    },
    {
     "name": "stderr",
     "output_type": "stream",
     "text": [
      "Traitement des images:  15%|█▌        | 198/1300 [05:27<17:31,  1.05it/s]"
     ]
    },
    {
     "name": "stdout",
     "output_type": "stream",
     "text": [
      "[Erreur] Échec du chargement de l'image : temp/2_090043.jpg\n",
      "[Erreur] Échec du chargement de l'image : temp/3_090043.jpg\n"
     ]
    },
    {
     "name": "stderr",
     "output_type": "stream",
     "text": [
      "Traitement des images:  16%|█▌        | 202/1300 [05:31<16:33,  1.11it/s]"
     ]
    },
    {
     "name": "stdout",
     "output_type": "stream",
     "text": [
      "[Erreur] Échec du chargement de l'image : temp/2_090043.jpg\n",
      "[Erreur] Échec du chargement de l'image : temp/3_090043.jpg\n"
     ]
    },
    {
     "name": "stderr",
     "output_type": "stream",
     "text": [
      "Traitement des images:  16%|█▌        | 204/1300 [05:33<13:33,  1.35it/s]"
     ]
    },
    {
     "name": "stdout",
     "output_type": "stream",
     "text": [
      "[Erreur] Échec du chargement de l'image : temp/2_120641.jpg\n"
     ]
    },
    {
     "name": "stderr",
     "output_type": "stream",
     "text": [
      "Traitement des images:  16%|█▌        | 205/1300 [05:35<21:01,  1.15s/it]"
     ]
    },
    {
     "name": "stdout",
     "output_type": "stream",
     "text": [
      "[Erreur] Échec du chargement de l'image : temp/10_020110.jpg\n"
     ]
    },
    {
     "name": "stderr",
     "output_type": "stream",
     "text": [
      "Traitement des images:  16%|█▌        | 208/1300 [05:37<21:23,  1.17s/it]"
     ]
    },
    {
     "name": "stdout",
     "output_type": "stream",
     "text": [
      "[Erreur] Échec du chargement de l'image : temp/10_020110.jpg\n"
     ]
    },
    {
     "name": "stderr",
     "output_type": "stream",
     "text": [
      "Traitement des images:  16%|█▌        | 209/1300 [05:38<18:09,  1.00it/s]"
     ]
    },
    {
     "name": "stdout",
     "output_type": "stream",
     "text": [
      "[Erreur] Échec du chargement de l'image : temp/2_120642.jpg\n"
     ]
    },
    {
     "name": "stderr",
     "output_type": "stream",
     "text": [
      "Traitement des images:  16%|█▌        | 210/1300 [05:38<14:48,  1.23it/s]"
     ]
    },
    {
     "name": "stdout",
     "output_type": "stream",
     "text": [
      "[Erreur] Échec du chargement de l'image : temp/1_090038.jpg\n"
     ]
    },
    {
     "name": "stderr",
     "output_type": "stream",
     "text": [
      "Traitement des images:  16%|█▋        | 212/1300 [05:41<19:32,  1.08s/it]"
     ]
    },
    {
     "name": "stdout",
     "output_type": "stream",
     "text": [
      "[Erreur] Échec du chargement de l'image : temp/10_020110.jpg\n"
     ]
    },
    {
     "name": "stderr",
     "output_type": "stream",
     "text": [
      "Traitement des images:  16%|█▋        | 213/1300 [05:43<25:11,  1.39s/it]"
     ]
    },
    {
     "name": "stdout",
     "output_type": "stream",
     "text": [
      "[Erreur] Échec du chargement de l'image : temp/10_020110.jpg\n"
     ]
    },
    {
     "name": "stderr",
     "output_type": "stream",
     "text": [
      "Traitement des images:  16%|█▋        | 214/1300 [05:45<29:14,  1.62s/it]"
     ]
    },
    {
     "name": "stdout",
     "output_type": "stream",
     "text": [
      "[Erreur] Échec du chargement de l'image : temp/10_020110.jpg\n"
     ]
    },
    {
     "name": "stderr",
     "output_type": "stream",
     "text": [
      "Traitement des images:  17%|█▋        | 217/1300 [05:47<19:53,  1.10s/it]"
     ]
    },
    {
     "name": "stdout",
     "output_type": "stream",
     "text": [
      "[Erreur] Échec du chargement de l'image : temp/5_050217.jpg\n"
     ]
    },
    {
     "name": "stderr",
     "output_type": "stream",
     "text": [
      "Traitement des images:  18%|█▊        | 228/1300 [05:59<18:12,  1.02s/it]"
     ]
    },
    {
     "name": "stdout",
     "output_type": "stream",
     "text": [
      "[Erreur] Échec du chargement de l'image : temp/3_110068.jpg\n"
     ]
    },
    {
     "name": "stderr",
     "output_type": "stream",
     "text": [
      "Traitement des images:  19%|█▉        | 249/1300 [06:23<20:28,  1.17s/it]"
     ]
    },
    {
     "name": "stdout",
     "output_type": "stream",
     "text": [
      "[Erreur] Échec du chargement de l'image : temp/3_010201.jpg\n",
      "[Erreur] Échec du chargement de l'image : temp/6_010201.jpg\n",
      "[Erreur] Échec du chargement de l'image : temp/4_010201.jpg\n",
      "[Erreur] Échec du chargement de l'image : temp/2_010201.jpg\n",
      "[Erreur] Échec du chargement de l'image : temp/5_010201.jpg\n"
     ]
    },
    {
     "name": "stderr",
     "output_type": "stream",
     "text": [
      "Traitement des images:  20%|█▉        | 256/1300 [06:28<12:04,  1.44it/s]"
     ]
    },
    {
     "name": "stdout",
     "output_type": "stream",
     "text": [
      "[Erreur] Échec du chargement de l'image : temp/2_110069.jpg\n",
      "[Erreur] Échec du chargement de l'image : temp/3_110069.jpg\n",
      "[Erreur] Échec du chargement de l'image : temp/4_110069.jpg\n"
     ]
    },
    {
     "name": "stderr",
     "output_type": "stream",
     "text": [
      "Traitement des images:  20%|█▉        | 258/1300 [06:30<16:32,  1.05it/s]"
     ]
    },
    {
     "name": "stdout",
     "output_type": "stream",
     "text": [
      "[Erreur] Échec du chargement de l'image : temp/4_050204.jpg\n"
     ]
    },
    {
     "name": "stderr",
     "output_type": "stream",
     "text": [
      "Traitement des images:  20%|██        | 262/1300 [06:35<19:37,  1.13s/it]"
     ]
    },
    {
     "name": "stdout",
     "output_type": "stream",
     "text": [
      "[Erreur] Échec du chargement de l'image : temp/4_050204.jpg\n"
     ]
    },
    {
     "name": "stderr",
     "output_type": "stream",
     "text": [
      "Traitement des images:  20%|██        | 263/1300 [06:36<16:39,  1.04it/s]"
     ]
    },
    {
     "name": "stdout",
     "output_type": "stream",
     "text": [
      "[Erreur] Échec du chargement de l'image : temp/2_010196.jpg\n"
     ]
    },
    {
     "name": "stderr",
     "output_type": "stream",
     "text": [
      "Traitement des images:  21%|██        | 275/1300 [06:45<12:47,  1.34it/s]"
     ]
    },
    {
     "name": "stdout",
     "output_type": "stream",
     "text": [
      "[Erreur] Échec du chargement de l'image : temp/0_080024.jpg\n"
     ]
    },
    {
     "name": "stderr",
     "output_type": "stream",
     "text": [
      "Traitement des images:  21%|██▏       | 277/1300 [06:46<11:42,  1.46it/s]"
     ]
    },
    {
     "name": "stdout",
     "output_type": "stream",
     "text": [
      "[Erreur] Échec du chargement de l'image : temp/2_080029.jpg\n"
     ]
    },
    {
     "name": "stderr",
     "output_type": "stream",
     "text": [
      "Traitement des images:  22%|██▏       | 280/1300 [06:49<12:08,  1.40it/s]"
     ]
    },
    {
     "name": "stdout",
     "output_type": "stream",
     "text": [
      "[Erreur] Échec du chargement de l'image : temp/2_080029.jpg\n"
     ]
    },
    {
     "name": "stderr",
     "output_type": "stream",
     "text": [
      "Traitement des images:  22%|██▏       | 283/1300 [06:52<14:50,  1.14it/s]"
     ]
    },
    {
     "name": "stdout",
     "output_type": "stream",
     "text": [
      "[Erreur] Échec du chargement de l'image : temp/0_080024.jpg\n"
     ]
    },
    {
     "name": "stderr",
     "output_type": "stream",
     "text": [
      "Traitement des images:  22%|██▏       | 284/1300 [06:52<13:05,  1.29it/s]"
     ]
    },
    {
     "name": "stdout",
     "output_type": "stream",
     "text": [
      "[Erreur] Échec du chargement de l'image : temp/2_080102.jpg\n"
     ]
    },
    {
     "name": "stderr",
     "output_type": "stream",
     "text": [
      "Traitement des images:  22%|██▏       | 285/1300 [06:53<13:01,  1.30it/s]"
     ]
    },
    {
     "name": "stdout",
     "output_type": "stream",
     "text": [
      "[Erreur] Échec du chargement de l'image : temp/3_080033.jpg\n"
     ]
    },
    {
     "name": "stderr",
     "output_type": "stream",
     "text": [
      "Traitement des images:  22%|██▏       | 286/1300 [06:54<14:17,  1.18it/s]"
     ]
    },
    {
     "name": "stdout",
     "output_type": "stream",
     "text": [
      "[Erreur] Échec du chargement de l'image : temp/0_080024.jpg\n"
     ]
    },
    {
     "name": "stderr",
     "output_type": "stream",
     "text": [
      "Traitement des images:  22%|██▏       | 289/1300 [06:56<13:44,  1.23it/s]"
     ]
    },
    {
     "name": "stdout",
     "output_type": "stream",
     "text": [
      "[Erreur] Échec du chargement de l'image : temp/3_080033.jpg\n"
     ]
    },
    {
     "name": "stderr",
     "output_type": "stream",
     "text": [
      "Traitement des images:  22%|██▏       | 290/1300 [06:57<14:29,  1.16it/s]"
     ]
    },
    {
     "name": "stdout",
     "output_type": "stream",
     "text": [
      "[Erreur] Échec du chargement de l'image : temp/0_080024.jpg\n"
     ]
    },
    {
     "name": "stderr",
     "output_type": "stream",
     "text": [
      "Traitement des images:  23%|██▎       | 293/1300 [07:00<13:19,  1.26it/s]"
     ]
    },
    {
     "name": "stdout",
     "output_type": "stream",
     "text": [
      "[Erreur] Échec du chargement de l'image : temp/2_080099.jpg\n"
     ]
    },
    {
     "name": "stderr",
     "output_type": "stream",
     "text": [
      "Traitement des images:  23%|██▎       | 294/1300 [07:01<12:46,  1.31it/s]"
     ]
    },
    {
     "name": "stdout",
     "output_type": "stream",
     "text": [
      "[Erreur] Échec du chargement de l'image : temp/2_090043.jpg\n",
      "[Erreur] Échec du chargement de l'image : temp/3_090043.jpg\n"
     ]
    },
    {
     "name": "stderr",
     "output_type": "stream",
     "text": [
      "Traitement des images:  23%|██▎       | 295/1300 [07:02<15:35,  1.07it/s]"
     ]
    },
    {
     "name": "stdout",
     "output_type": "stream",
     "text": [
      "[Erreur] Échec du chargement de l'image : temp/6_080035.jpg\n"
     ]
    },
    {
     "name": "stderr",
     "output_type": "stream",
     "text": [
      "Traitement des images:  23%|██▎       | 296/1300 [07:03<16:56,  1.01s/it]"
     ]
    },
    {
     "name": "stdout",
     "output_type": "stream",
     "text": [
      "[Erreur] Échec du chargement de l'image : temp/6_080035.jpg\n"
     ]
    },
    {
     "name": "stderr",
     "output_type": "stream",
     "text": [
      "Traitement des images:  23%|██▎       | 297/1300 [07:04<14:50,  1.13it/s]"
     ]
    },
    {
     "name": "stdout",
     "output_type": "stream",
     "text": [
      "[Erreur] Échec du chargement de l'image : temp/2_080034.jpg\n"
     ]
    },
    {
     "name": "stderr",
     "output_type": "stream",
     "text": [
      "Traitement des images:  23%|██▎       | 298/1300 [07:04<13:33,  1.23it/s]"
     ]
    },
    {
     "name": "stdout",
     "output_type": "stream",
     "text": [
      "[Erreur] Échec du chargement de l'image : temp/2_090043.jpg\n",
      "[Erreur] Échec du chargement de l'image : temp/3_090043.jpg\n"
     ]
    },
    {
     "name": "stderr",
     "output_type": "stream",
     "text": [
      "Traitement des images:  23%|██▎       | 299/1300 [07:06<16:07,  1.03it/s]"
     ]
    },
    {
     "name": "stdout",
     "output_type": "stream",
     "text": [
      "[Erreur] Échec du chargement de l'image : temp/6_080035.jpg\n"
     ]
    },
    {
     "name": "stderr",
     "output_type": "stream",
     "text": [
      "Traitement des images:  23%|██▎       | 300/1300 [07:06<13:58,  1.19it/s]"
     ]
    },
    {
     "name": "stdout",
     "output_type": "stream",
     "text": [
      "[Erreur] Échec du chargement de l'image : temp/2_080031.jpg\n"
     ]
    },
    {
     "name": "stderr",
     "output_type": "stream",
     "text": [
      "Traitement des images:  23%|██▎       | 301/1300 [07:07<12:45,  1.30it/s]"
     ]
    },
    {
     "name": "stdout",
     "output_type": "stream",
     "text": [
      "[Erreur] Échec du chargement de l'image : temp/2_080030.jpg\n"
     ]
    },
    {
     "name": "stderr",
     "output_type": "stream",
     "text": [
      "Traitement des images:  23%|██▎       | 302/1300 [07:07<11:51,  1.40it/s]"
     ]
    },
    {
     "name": "stdout",
     "output_type": "stream",
     "text": [
      "[Erreur] Échec du chargement de l'image : temp/2_080030.jpg\n"
     ]
    },
    {
     "name": "stderr",
     "output_type": "stream",
     "text": [
      "Traitement des images:  23%|██▎       | 303/1300 [07:09<14:44,  1.13it/s]"
     ]
    },
    {
     "name": "stdout",
     "output_type": "stream",
     "text": [
      "[Erreur] Échec du chargement de l'image : temp/6_080035.jpg\n"
     ]
    },
    {
     "name": "stderr",
     "output_type": "stream",
     "text": [
      "Traitement des images:  23%|██▎       | 305/1300 [07:09<09:40,  1.71it/s]"
     ]
    },
    {
     "name": "stdout",
     "output_type": "stream",
     "text": [
      "[Erreur] Échec du chargement de l'image : temp/1_080100.jpg\n"
     ]
    },
    {
     "name": "stderr",
     "output_type": "stream",
     "text": [
      "Traitement des images:  24%|██▎       | 306/1300 [07:11<13:47,  1.20it/s]"
     ]
    },
    {
     "name": "stdout",
     "output_type": "stream",
     "text": [
      "[Erreur] Échec du chargement de l'image : temp/6_080036.jpg\n"
     ]
    },
    {
     "name": "stderr",
     "output_type": "stream",
     "text": [
      "Traitement des images:  24%|██▎       | 307/1300 [07:12<16:23,  1.01it/s]"
     ]
    },
    {
     "name": "stdout",
     "output_type": "stream",
     "text": [
      "[Erreur] Échec du chargement de l'image : temp/6_080036.jpg\n"
     ]
    },
    {
     "name": "stderr",
     "output_type": "stream",
     "text": [
      "Traitement des images:  24%|██▎       | 308/1300 [07:17<34:58,  2.12s/it]"
     ]
    },
    {
     "name": "stdout",
     "output_type": "stream",
     "text": [
      "[Erreur] Échec du chargement de l'image : temp/6_080036.jpg\n"
     ]
    },
    {
     "name": "stderr",
     "output_type": "stream",
     "text": [
      "Traitement des images:  25%|██▍       | 321/1300 [07:32<33:30,  2.05s/it]"
     ]
    },
    {
     "name": "stdout",
     "output_type": "stream",
     "text": [
      "[Erreur] Échec du chargement de l'image : temp/2_080602.jpg\n"
     ]
    },
    {
     "name": "stderr",
     "output_type": "stream",
     "text": [
      "Traitement des images:  27%|██▋       | 346/1300 [07:48<09:16,  1.71it/s]"
     ]
    },
    {
     "name": "stdout",
     "output_type": "stream",
     "text": [
      "[Erreur] Échec du chargement de l'image : temp/3_080606.jpg\n"
     ]
    },
    {
     "name": "stderr",
     "output_type": "stream",
     "text": [
      "Traitement des images:  27%|██▋       | 349/1300 [07:50<08:28,  1.87it/s]"
     ]
    },
    {
     "name": "stdout",
     "output_type": "stream",
     "text": [
      "[Erreur] Échec du chargement de l'image : temp/1_010402.jpg\n"
     ]
    },
    {
     "name": "stderr",
     "output_type": "stream",
     "text": [
      "Traitement des images:  28%|██▊       | 360/1300 [07:54<05:17,  2.97it/s]"
     ]
    },
    {
     "name": "stdout",
     "output_type": "stream",
     "text": [
      "[Erreur] Échec du chargement de l'image : temp/1_120206.jpg\n",
      "[Erreur] Échec du chargement de l'image : temp/0_120206.jpg\n"
     ]
    },
    {
     "name": "stderr",
     "output_type": "stream",
     "text": [
      "Traitement des images:  28%|██▊       | 369/1300 [08:01<09:32,  1.62it/s]"
     ]
    },
    {
     "name": "stdout",
     "output_type": "stream",
     "text": [
      "[Erreur] Échec du chargement de l'image : temp/2_010503.jpg\n"
     ]
    },
    {
     "name": "stderr",
     "output_type": "stream",
     "text": [
      "Traitement des images:  29%|██▊       | 371/1300 [08:04<20:31,  1.33s/it]"
     ]
    },
    {
     "name": "stdout",
     "output_type": "stream",
     "text": [
      "[Erreur] Échec du chargement de l'image : temp/6_080026.jpg\n"
     ]
    },
    {
     "name": "stderr",
     "output_type": "stream",
     "text": [
      "Traitement des images:  29%|██▊       | 373/1300 [08:07<23:05,  1.50s/it]"
     ]
    },
    {
     "name": "stdout",
     "output_type": "stream",
     "text": [
      "[Erreur] Échec du chargement de l'image : temp/6_080026.jpg\n"
     ]
    },
    {
     "name": "stderr",
     "output_type": "stream",
     "text": [
      "Traitement des images:  29%|██▉       | 374/1300 [08:10<29:31,  1.91s/it]"
     ]
    },
    {
     "name": "stdout",
     "output_type": "stream",
     "text": [
      "[Erreur] Échec du chargement de l'image : temp/6_080026.jpg\n"
     ]
    },
    {
     "name": "stderr",
     "output_type": "stream",
     "text": [
      "Traitement des images:  29%|██▉       | 376/1300 [08:12<23:04,  1.50s/it]"
     ]
    },
    {
     "name": "stdout",
     "output_type": "stream",
     "text": [
      "[Erreur] Échec du chargement de l'image : temp/6_080026.jpg\n"
     ]
    },
    {
     "name": "stderr",
     "output_type": "stream",
     "text": [
      "Traitement des images:  29%|██▉       | 377/1300 [08:13<21:28,  1.40s/it]"
     ]
    },
    {
     "name": "stdout",
     "output_type": "stream",
     "text": [
      "[Erreur] Échec du chargement de l'image : temp/0_120205.jpg\n"
     ]
    },
    {
     "name": "stderr",
     "output_type": "stream",
     "text": [
      "Traitement des images:  29%|██▉       | 378/1300 [08:15<23:41,  1.54s/it]"
     ]
    },
    {
     "name": "stdout",
     "output_type": "stream",
     "text": [
      "[Erreur] Échec du chargement de l'image : temp/6_080026.jpg\n"
     ]
    },
    {
     "name": "stderr",
     "output_type": "stream",
     "text": [
      "Traitement des images:  29%|██▉       | 379/1300 [08:17<24:39,  1.61s/it]"
     ]
    },
    {
     "name": "stdout",
     "output_type": "stream",
     "text": [
      "[Erreur] Échec du chargement de l'image : temp/6_080026.jpg\n"
     ]
    },
    {
     "name": "stderr",
     "output_type": "stream",
     "text": [
      "Traitement des images:  29%|██▉       | 380/1300 [08:18<22:57,  1.50s/it]"
     ]
    },
    {
     "name": "stdout",
     "output_type": "stream",
     "text": [
      "[Erreur] Échec du chargement de l'image : temp/0_120205.jpg\n"
     ]
    },
    {
     "name": "stderr",
     "output_type": "stream",
     "text": [
      "Traitement des images:  30%|██▉       | 385/1300 [08:23<20:13,  1.33s/it]"
     ]
    },
    {
     "name": "stdout",
     "output_type": "stream",
     "text": [
      "[Erreur] Échec du chargement de l'image : temp/8_010182.jpg\n",
      "[Erreur] Échec du chargement de l'image : temp/9_010182.jpg\n",
      "[Erreur] Échec du chargement de l'image : temp/3_010182.jpg\n"
     ]
    },
    {
     "name": "stderr",
     "output_type": "stream",
     "text": [
      "Traitement des images:  30%|██▉       | 386/1300 [08:26<24:52,  1.63s/it]"
     ]
    },
    {
     "name": "stdout",
     "output_type": "stream",
     "text": [
      "[Erreur] Échec du chargement de l'image : temp/8_010182.jpg\n",
      "[Erreur] Échec du chargement de l'image : temp/9_010182.jpg\n",
      "[Erreur] Échec du chargement de l'image : temp/3_010182.jpg\n"
     ]
    },
    {
     "name": "stderr",
     "output_type": "stream",
     "text": [
      "Traitement des images:  30%|██▉       | 387/1300 [08:28<26:52,  1.77s/it]"
     ]
    },
    {
     "name": "stdout",
     "output_type": "stream",
     "text": [
      "[Erreur] Échec du chargement de l'image : temp/8_010182.jpg\n",
      "[Erreur] Échec du chargement de l'image : temp/9_010182.jpg\n",
      "[Erreur] Échec du chargement de l'image : temp/3_010182.jpg\n"
     ]
    },
    {
     "name": "stderr",
     "output_type": "stream",
     "text": [
      "Traitement des images:  30%|██▉       | 388/1300 [08:30<29:00,  1.91s/it]"
     ]
    },
    {
     "name": "stdout",
     "output_type": "stream",
     "text": [
      "[Erreur] Échec du chargement de l'image : temp/8_010182.jpg\n",
      "[Erreur] Échec du chargement de l'image : temp/9_010182.jpg\n",
      "[Erreur] Échec du chargement de l'image : temp/3_010182.jpg\n",
      "[Erreur] Échec du chargement de l'image : temp/8_010182.jpg\n",
      "[Erreur] Échec du chargement de l'image : temp/9_010182.jpg\n",
      "[Erreur] Échec du chargement de l'image : temp/3_010182.jpg\n"
     ]
    },
    {
     "name": "stderr",
     "output_type": "stream",
     "text": [
      "Traitement des images:  30%|██▉       | 389/1300 [08:33<32:33,  2.14s/it]"
     ]
    },
    {
     "name": "stdout",
     "output_type": "stream",
     "text": [
      "[Erreur] Échec du chargement de l'image : temp/8_010182.jpg\n",
      "[Erreur] Échec du chargement de l'image : temp/9_010182.jpg\n",
      "[Erreur] Échec du chargement de l'image : temp/3_010182.jpg\n"
     ]
    },
    {
     "name": "stderr",
     "output_type": "stream",
     "text": [
      "Traitement des images:  30%|███       | 390/1300 [08:35<34:02,  2.24s/it]"
     ]
    },
    {
     "name": "stdout",
     "output_type": "stream",
     "text": [
      "[Erreur] Échec du chargement de l'image : temp/8_010182.jpg\n"
     ]
    },
    {
     "name": "stderr",
     "output_type": "stream",
     "text": [
      "Traitement des images:  30%|███       | 391/1300 [08:38<35:13,  2.32s/it]"
     ]
    },
    {
     "name": "stdout",
     "output_type": "stream",
     "text": [
      "[Erreur] Échec du chargement de l'image : temp/9_010182.jpg\n",
      "[Erreur] Échec du chargement de l'image : temp/3_010182.jpg\n"
     ]
    },
    {
     "name": "stderr",
     "output_type": "stream",
     "text": [
      "Traitement des images:  30%|███       | 396/1300 [08:40<13:26,  1.12it/s]"
     ]
    },
    {
     "name": "stdout",
     "output_type": "stream",
     "text": [
      "[Erreur] Échec du chargement de l'image : temp/4_140019.jpg\n"
     ]
    },
    {
     "name": "stderr",
     "output_type": "stream",
     "text": [
      "Traitement des images:  31%|███       | 399/1300 [08:42<13:18,  1.13it/s]"
     ]
    },
    {
     "name": "stdout",
     "output_type": "stream",
     "text": [
      "[Erreur] Échec du chargement de l'image : temp/5_010022.jpg\n"
     ]
    },
    {
     "name": "stderr",
     "output_type": "stream",
     "text": [
      "Traitement des images:  31%|███       | 405/1300 [08:48<13:33,  1.10it/s]"
     ]
    },
    {
     "name": "stdout",
     "output_type": "stream",
     "text": [
      "[Erreur] Échec du chargement de l'image : temp/4_140019.jpg\n"
     ]
    },
    {
     "name": "stderr",
     "output_type": "stream",
     "text": [
      "Traitement des images:  32%|███▏      | 410/1300 [08:51<09:35,  1.55it/s]"
     ]
    },
    {
     "name": "stdout",
     "output_type": "stream",
     "text": [
      "[Erreur] Échec du chargement de l'image : temp/1_121211.jpg\n"
     ]
    },
    {
     "name": "stderr",
     "output_type": "stream",
     "text": [
      "Traitement des images:  33%|███▎      | 435/1300 [09:17<22:51,  1.59s/it]"
     ]
    },
    {
     "name": "stdout",
     "output_type": "stream",
     "text": [
      "[Erreur] Échec du chargement de l'image : temp/1_050006.jpg\n"
     ]
    },
    {
     "name": "stderr",
     "output_type": "stream",
     "text": [
      "Traitement des images:  34%|███▍      | 446/1300 [09:52<33:07,  2.33s/it]  "
     ]
    },
    {
     "name": "stdout",
     "output_type": "stream",
     "text": [
      "[Erreur] Échec du chargement de l'image : temp/2_090043.jpg\n",
      "[Erreur] Échec du chargement de l'image : temp/3_090043.jpg\n"
     ]
    },
    {
     "name": "stderr",
     "output_type": "stream",
     "text": [
      "Traitement des images:  35%|███▍      | 452/1300 [10:02<21:50,  1.55s/it]"
     ]
    },
    {
     "name": "stdout",
     "output_type": "stream",
     "text": [
      "[Erreur] Échec du chargement de l'image : temp/1_010004.jpg\n"
     ]
    },
    {
     "name": "stderr",
     "output_type": "stream",
     "text": [
      "Traitement des images:  36%|███▌      | 466/1300 [10:42<16:05,  1.16s/it]  "
     ]
    },
    {
     "name": "stdout",
     "output_type": "stream",
     "text": [
      "[Erreur] Échec du chargement de l'image : temp/2_090043.jpg\n",
      "[Erreur] Échec du chargement de l'image : temp/3_090043.jpg\n"
     ]
    },
    {
     "name": "stderr",
     "output_type": "stream",
     "text": [
      "Traitement des images:  37%|███▋      | 483/1300 [11:13<16:22,  1.20s/it]"
     ]
    },
    {
     "name": "stdout",
     "output_type": "stream",
     "text": [
      "[Erreur] Échec du chargement de l'image : temp/6_010021.jpg\n"
     ]
    },
    {
     "name": "stderr",
     "output_type": "stream",
     "text": [
      "Traitement des images:  42%|████▏     | 548/1300 [14:50<13:11,  1.05s/it]  "
     ]
    },
    {
     "name": "stdout",
     "output_type": "stream",
     "text": [
      "[Erreur] Échec du chargement de l'image : temp/3_130156.jpg\n",
      "[Erreur] Échec du chargement de l'image : temp/4_130156.jpg\n"
     ]
    },
    {
     "name": "stderr",
     "output_type": "stream",
     "text": [
      "Traitement des images:  43%|████▎     | 562/1300 [15:35<20:50,  1.70s/it]  "
     ]
    },
    {
     "name": "stdout",
     "output_type": "stream",
     "text": [
      "[Erreur] Échec du chargement de l'image : temp/2_110401.jpg\n"
     ]
    },
    {
     "name": "stderr",
     "output_type": "stream",
     "text": [
      "Traitement des images:  43%|████▎     | 563/1300 [15:36<20:31,  1.67s/it]"
     ]
    },
    {
     "name": "stdout",
     "output_type": "stream",
     "text": [
      "[Erreur] Échec du chargement de l'image : temp/5_080001.jpg\n"
     ]
    },
    {
     "name": "stderr",
     "output_type": "stream",
     "text": [
      "Traitement des images:  43%|████▎     | 564/1300 [15:37<18:41,  1.52s/it]"
     ]
    },
    {
     "name": "stdout",
     "output_type": "stream",
     "text": [
      "[Erreur] Échec du chargement de l'image : temp/1_050009.jpg\n"
     ]
    },
    {
     "name": "stderr",
     "output_type": "stream",
     "text": [
      "Traitement des images:  44%|████▍     | 572/1300 [15:43<09:17,  1.30it/s]"
     ]
    },
    {
     "name": "stdout",
     "output_type": "stream",
     "text": [
      "[Erreur] Échec du chargement de l'image : temp/1_050009.jpg\n"
     ]
    },
    {
     "name": "stderr",
     "output_type": "stream",
     "text": [
      "Traitement des images:  44%|████▍     | 578/1300 [15:48<13:09,  1.09s/it]"
     ]
    },
    {
     "name": "stdout",
     "output_type": "stream",
     "text": [
      "[Erreur] Échec du chargement de l'image : temp/5_080001.jpg\n"
     ]
    },
    {
     "name": "stderr",
     "output_type": "stream",
     "text": [
      "Traitement des images:  45%|████▍     | 580/1300 [15:50<11:35,  1.03it/s]"
     ]
    },
    {
     "name": "stdout",
     "output_type": "stream",
     "text": [
      "[Erreur] Échec du chargement de l'image : temp/1_010005.jpg\n",
      "[Erreur] Échec du chargement de l'image : temp/2_010005.jpg\n"
     ]
    },
    {
     "name": "stderr",
     "output_type": "stream",
     "text": [
      "Traitement des images:  45%|████▌     | 588/1300 [15:59<12:05,  1.02s/it]"
     ]
    },
    {
     "name": "stdout",
     "output_type": "stream",
     "text": [
      "[Erreur] Échec du chargement de l'image : temp/1_050009.jpg\n"
     ]
    },
    {
     "name": "stderr",
     "output_type": "stream",
     "text": [
      "Traitement des images:  45%|████▌     | 589/1300 [16:00<13:31,  1.14s/it]"
     ]
    },
    {
     "name": "stdout",
     "output_type": "stream",
     "text": [
      "[Erreur] Échec du chargement de l'image : temp/4_050204.jpg\n"
     ]
    },
    {
     "name": "stderr",
     "output_type": "stream",
     "text": [
      "Traitement des images:  46%|████▌     | 594/1300 [16:06<15:04,  1.28s/it]"
     ]
    },
    {
     "name": "stdout",
     "output_type": "stream",
     "text": [
      "[Erreur] Échec du chargement de l'image : temp/1_050009.jpg\n"
     ]
    },
    {
     "name": "stderr",
     "output_type": "stream",
     "text": [
      "Traitement des images:  46%|████▌     | 601/1300 [16:14<15:40,  1.35s/it]"
     ]
    },
    {
     "name": "stdout",
     "output_type": "stream",
     "text": [
      "[Erreur] Échec du chargement de l'image : temp/1_050009.jpg\n"
     ]
    },
    {
     "name": "stderr",
     "output_type": "stream",
     "text": [
      "Traitement des images:  47%|████▋     | 611/1300 [16:26<12:51,  1.12s/it]"
     ]
    },
    {
     "name": "stdout",
     "output_type": "stream",
     "text": [
      "[Erreur] Échec du chargement de l'image : temp/2_110401.jpg\n"
     ]
    },
    {
     "name": "stderr",
     "output_type": "stream",
     "text": [
      "Traitement des images:  49%|████▉     | 634/1300 [16:54<08:28,  1.31it/s]"
     ]
    },
    {
     "name": "stdout",
     "output_type": "stream",
     "text": [
      "[Erreur] Échec du chargement de l'image : temp/0_110003.jpg\n"
     ]
    },
    {
     "name": "stderr",
     "output_type": "stream",
     "text": [
      "Traitement des images:  49%|████▉     | 636/1300 [16:55<07:03,  1.57it/s]"
     ]
    },
    {
     "name": "stdout",
     "output_type": "stream",
     "text": [
      "[Erreur] Échec du chargement de l'image : temp/1_130402.jpg\n"
     ]
    },
    {
     "name": "stderr",
     "output_type": "stream",
     "text": [
      "Traitement des images:  49%|████▉     | 639/1300 [16:56<05:27,  2.02it/s]"
     ]
    },
    {
     "name": "stdout",
     "output_type": "stream",
     "text": [
      "[Erreur] Échec du chargement de l'image : temp/1_130402.jpg\n"
     ]
    },
    {
     "name": "stderr",
     "output_type": "stream",
     "text": [
      "Traitement des images:  50%|█████     | 656/1300 [17:19<24:49,  2.31s/it]"
     ]
    },
    {
     "name": "stdout",
     "output_type": "stream",
     "text": [
      "[Erreur] Échec du chargement de l'image : temp/10_020110.jpg\n"
     ]
    },
    {
     "name": "stderr",
     "output_type": "stream",
     "text": [
      "Traitement des images:  51%|█████     | 659/1300 [17:24<20:24,  1.91s/it]"
     ]
    },
    {
     "name": "stdout",
     "output_type": "stream",
     "text": [
      "[Erreur] Échec du chargement de l'image : temp/3_120505.jpg\n",
      "[Erreur] Échec du chargement de l'image : temp/1_120505.jpg\n"
     ]
    },
    {
     "name": "stderr",
     "output_type": "stream",
     "text": [
      "Traitement des images:  51%|█████     | 664/1300 [17:35<21:04,  1.99s/it]"
     ]
    },
    {
     "name": "stdout",
     "output_type": "stream",
     "text": [
      "[Erreur] Échec du chargement de l'image : temp/10_020110.jpg\n"
     ]
    },
    {
     "name": "stderr",
     "output_type": "stream",
     "text": [
      "Traitement des images:  51%|█████     | 665/1300 [17:37<23:05,  2.18s/it]"
     ]
    },
    {
     "name": "stdout",
     "output_type": "stream",
     "text": [
      "[Erreur] Échec du chargement de l'image : temp/10_020110.jpg\n"
     ]
    },
    {
     "name": "stderr",
     "output_type": "stream",
     "text": [
      "Traitement des images:  52%|█████▏    | 680/1300 [17:55<13:02,  1.26s/it]"
     ]
    },
    {
     "name": "stdout",
     "output_type": "stream",
     "text": [
      "[Erreur] Échec du chargement de l'image : temp/1_050009.jpg\n"
     ]
    },
    {
     "name": "stderr",
     "output_type": "stream",
     "text": [
      "Traitement des images:  53%|█████▎    | 686/1300 [18:10<23:30,  2.30s/it]"
     ]
    },
    {
     "name": "stdout",
     "output_type": "stream",
     "text": [
      "[Erreur] Échec du chargement de l'image : temp/1_050006.jpg\n"
     ]
    },
    {
     "name": "stderr",
     "output_type": "stream",
     "text": [
      "Traitement des images:  53%|█████▎    | 690/1300 [18:17<17:59,  1.77s/it]"
     ]
    },
    {
     "name": "stdout",
     "output_type": "stream",
     "text": [
      "[Erreur] Échec du chargement de l'image : temp/1_080113.jpg\n"
     ]
    },
    {
     "name": "stderr",
     "output_type": "stream",
     "text": [
      "Traitement des images:  53%|█████▎    | 695/1300 [18:26<16:27,  1.63s/it]"
     ]
    },
    {
     "name": "stdout",
     "output_type": "stream",
     "text": [
      "[Erreur] Échec du chargement de l'image : temp/3_120505.jpg\n",
      "[Erreur] Échec du chargement de l'image : temp/1_120505.jpg\n"
     ]
    },
    {
     "name": "stderr",
     "output_type": "stream",
     "text": [
      "Traitement des images:  55%|█████▍    | 714/1300 [18:37<06:14,  1.56it/s]"
     ]
    },
    {
     "name": "stdout",
     "output_type": "stream",
     "text": [
      "[Erreur] Échec du chargement de l'image : temp/4_120101.jpg\n",
      "[Erreur] Échec du chargement de l'image : temp/5_120101.jpg\n"
     ]
    },
    {
     "name": "stderr",
     "output_type": "stream",
     "text": [
      "Traitement des images:  55%|█████▌    | 715/1300 [18:39<07:57,  1.23it/s]"
     ]
    },
    {
     "name": "stdout",
     "output_type": "stream",
     "text": [
      "[Erreur] Échec du chargement de l'image : temp/4_120101.jpg\n",
      "[Erreur] Échec du chargement de l'image : temp/5_120101.jpg\n"
     ]
    },
    {
     "name": "stderr",
     "output_type": "stream",
     "text": [
      "Traitement des images:  55%|█████▌    | 716/1300 [18:40<08:02,  1.21it/s]"
     ]
    },
    {
     "name": "stdout",
     "output_type": "stream",
     "text": [
      "[Erreur] Échec du chargement de l'image : temp/2_060004.jpg\n",
      "[Erreur] Échec du chargement de l'image : temp/3_060004.jpg\n"
     ]
    },
    {
     "name": "stderr",
     "output_type": "stream",
     "text": [
      "Traitement des images:  55%|█████▌    | 718/1300 [18:41<08:09,  1.19it/s]"
     ]
    },
    {
     "name": "stdout",
     "output_type": "stream",
     "text": [
      "[Erreur] Échec du chargement de l'image : temp/4_120101.jpg\n",
      "[Erreur] Échec du chargement de l'image : temp/5_120101.jpg\n"
     ]
    },
    {
     "name": "stderr",
     "output_type": "stream",
     "text": [
      "Traitement des images:  55%|█████▌    | 719/1300 [18:42<08:04,  1.20it/s]"
     ]
    },
    {
     "name": "stdout",
     "output_type": "stream",
     "text": [
      "[Erreur] Échec du chargement de l'image : temp/2_060004.jpg\n",
      "[Erreur] Échec du chargement de l'image : temp/3_060004.jpg\n"
     ]
    },
    {
     "name": "stderr",
     "output_type": "stream",
     "text": [
      "Traitement des images:  55%|█████▌    | 720/1300 [18:43<09:25,  1.03it/s]"
     ]
    },
    {
     "name": "stdout",
     "output_type": "stream",
     "text": [
      "[Erreur] Échec du chargement de l'image : temp/4_120101.jpg\n",
      "[Erreur] Échec du chargement de l'image : temp/5_120101.jpg\n"
     ]
    },
    {
     "name": "stderr",
     "output_type": "stream",
     "text": [
      "Traitement des images:  57%|█████▋    | 737/1300 [19:03<12:28,  1.33s/it]"
     ]
    },
    {
     "name": "stdout",
     "output_type": "stream",
     "text": [
      "[Erreur] Échec du chargement de l'image : temp/10_020110.jpg\n"
     ]
    },
    {
     "name": "stderr",
     "output_type": "stream",
     "text": [
      "Traitement des images:  57%|█████▋    | 744/1300 [19:21<19:08,  2.07s/it]"
     ]
    },
    {
     "name": "stdout",
     "output_type": "stream",
     "text": [
      "[Erreur] Échec du chargement de l'image : temp/10_020110.jpg\n"
     ]
    },
    {
     "name": "stderr",
     "output_type": "stream",
     "text": [
      "Traitement des images:  59%|█████▉    | 773/1300 [19:45<06:46,  1.30it/s]"
     ]
    },
    {
     "name": "stdout",
     "output_type": "stream",
     "text": [
      "[Erreur] Échec du chargement de l'image : temp/0_010179.jpg\n",
      "[Erreur] Échec du chargement de l'image : temp/1_010179.jpg\n"
     ]
    },
    {
     "name": "stderr",
     "output_type": "stream",
     "text": [
      "Traitement des images:  60%|██████    | 782/1300 [19:49<04:51,  1.78it/s]"
     ]
    },
    {
     "name": "stdout",
     "output_type": "stream",
     "text": [
      "[Erreur] Échec du chargement de l'image : temp/3_120701.jpg\n",
      "[Erreur] Échec du chargement de l'image : temp/2_120701.jpg\n"
     ]
    },
    {
     "name": "stderr",
     "output_type": "stream",
     "text": [
      "Traitement des images:  61%|██████    | 790/1300 [19:56<10:39,  1.25s/it]"
     ]
    },
    {
     "name": "stdout",
     "output_type": "stream",
     "text": [
      "[Erreur] Échec du chargement de l'image : temp/0_010179.jpg\n",
      "[Erreur] Échec du chargement de l'image : temp/1_010179.jpg\n"
     ]
    },
    {
     "name": "stderr",
     "output_type": "stream",
     "text": [
      "Traitement des images:  61%|██████    | 794/1300 [20:00<08:42,  1.03s/it]"
     ]
    },
    {
     "name": "stdout",
     "output_type": "stream",
     "text": [
      "[Erreur] Échec du chargement de l'image : temp/1_080406.jpg\n",
      "[Erreur] Échec du chargement de l'image : temp/2_080406.jpg\n"
     ]
    },
    {
     "name": "stderr",
     "output_type": "stream",
     "text": [
      "Traitement des images:  62%|██████▏   | 803/1300 [20:06<07:26,  1.11it/s]"
     ]
    },
    {
     "name": "stdout",
     "output_type": "stream",
     "text": [
      "[Erreur] Échec du chargement de l'image : temp/0_010179.jpg\n",
      "[Erreur] Échec du chargement de l'image : temp/1_010179.jpg\n"
     ]
    },
    {
     "name": "stderr",
     "output_type": "stream",
     "text": [
      "Traitement des images:  63%|██████▎   | 825/1300 [20:21<07:15,  1.09it/s]"
     ]
    },
    {
     "name": "stdout",
     "output_type": "stream",
     "text": [
      "[Erreur] Échec du chargement de l'image : temp/0_010179.jpg\n",
      "[Erreur] Échec du chargement de l'image : temp/1_010179.jpg\n"
     ]
    },
    {
     "name": "stderr",
     "output_type": "stream",
     "text": [
      "Traitement des images:  64%|██████▍   | 833/1300 [20:29<06:26,  1.21it/s]"
     ]
    },
    {
     "name": "stdout",
     "output_type": "stream",
     "text": [
      "[Erreur] Échec du chargement de l'image : temp/0_150219.jpg\n"
     ]
    },
    {
     "name": "stderr",
     "output_type": "stream",
     "text": [
      "Traitement des images:  64%|██████▍   | 836/1300 [20:31<07:22,  1.05it/s]"
     ]
    },
    {
     "name": "stdout",
     "output_type": "stream",
     "text": [
      "[Erreur] Échec du chargement de l'image : temp/3_010171.jpg\n",
      "[Erreur] Échec du chargement de l'image : temp/2_010171.jpg\n"
     ]
    },
    {
     "name": "stderr",
     "output_type": "stream",
     "text": [
      "Traitement des images:  65%|██████▍   | 841/1300 [20:36<07:01,  1.09it/s]"
     ]
    },
    {
     "name": "stdout",
     "output_type": "stream",
     "text": [
      "[Erreur] Échec du chargement de l'image : temp/0_120413.jpg\n"
     ]
    },
    {
     "name": "stderr",
     "output_type": "stream",
     "text": [
      "Traitement des images:  65%|██████▌   | 847/1300 [20:43<09:52,  1.31s/it]"
     ]
    },
    {
     "name": "stdout",
     "output_type": "stream",
     "text": [
      "[Erreur] Échec du chargement de l'image : temp/8_040201.jpg\n"
     ]
    },
    {
     "name": "stderr",
     "output_type": "stream",
     "text": [
      "Traitement des images:  65%|██████▌   | 850/1300 [20:47<09:26,  1.26s/it]"
     ]
    },
    {
     "name": "stdout",
     "output_type": "stream",
     "text": [
      "[Erreur] Échec du chargement de l'image : temp/0_120413.jpg\n"
     ]
    },
    {
     "name": "stderr",
     "output_type": "stream",
     "text": [
      "Traitement des images:  66%|██████▌   | 855/1300 [20:52<08:08,  1.10s/it]"
     ]
    },
    {
     "name": "stdout",
     "output_type": "stream",
     "text": [
      "[Erreur] Échec du chargement de l'image : temp/3_010171.jpg\n",
      "[Erreur] Échec du chargement de l'image : temp/2_010171.jpg\n"
     ]
    },
    {
     "name": "stderr",
     "output_type": "stream",
     "text": [
      "Traitement des images:  66%|██████▌   | 856/1300 [20:53<08:34,  1.16s/it]"
     ]
    },
    {
     "name": "stdout",
     "output_type": "stream",
     "text": [
      "[Erreur] Échec du chargement de l'image : temp/3_010171.jpg\n",
      "[Erreur] Échec du chargement de l'image : temp/2_010171.jpg\n"
     ]
    },
    {
     "name": "stderr",
     "output_type": "stream",
     "text": [
      "Traitement des images:  66%|██████▌   | 860/1300 [20:56<06:19,  1.16it/s]"
     ]
    },
    {
     "name": "stdout",
     "output_type": "stream",
     "text": [
      "[Erreur] Échec du chargement de l'image : temp/1_120925.jpg\n"
     ]
    },
    {
     "name": "stderr",
     "output_type": "stream",
     "text": [
      "Traitement des images:  66%|██████▋   | 864/1300 [21:00<06:52,  1.06it/s]"
     ]
    },
    {
     "name": "stdout",
     "output_type": "stream",
     "text": [
      "[Erreur] Échec du chargement de l'image : temp/0_120413.jpg\n"
     ]
    },
    {
     "name": "stderr",
     "output_type": "stream",
     "text": [
      "Traitement des images:  67%|██████▋   | 868/1300 [21:05<08:02,  1.12s/it]"
     ]
    },
    {
     "name": "stdout",
     "output_type": "stream",
     "text": [
      "[Erreur] Échec du chargement de l'image : temp/2_120641.jpg\n"
     ]
    },
    {
     "name": "stderr",
     "output_type": "stream",
     "text": [
      "Traitement des images:  68%|██████▊   | 879/1300 [21:17<09:00,  1.28s/it]"
     ]
    },
    {
     "name": "stdout",
     "output_type": "stream",
     "text": [
      "[Erreur] Échec du chargement de l'image : temp/4_120101.jpg\n",
      "[Erreur] Échec du chargement de l'image : temp/5_120101.jpg\n"
     ]
    },
    {
     "name": "stderr",
     "output_type": "stream",
     "text": [
      "Traitement des images:  68%|██████▊   | 886/1300 [21:28<08:04,  1.17s/it]"
     ]
    },
    {
     "name": "stdout",
     "output_type": "stream",
     "text": [
      "[Erreur] Échec du chargement de l'image : temp/1_120206.jpg\n",
      "[Erreur] Échec du chargement de l'image : temp/0_120206.jpg\n"
     ]
    },
    {
     "name": "stderr",
     "output_type": "stream",
     "text": [
      "Traitement des images:  69%|██████▉   | 901/1300 [21:48<10:21,  1.56s/it]"
     ]
    },
    {
     "name": "stdout",
     "output_type": "stream",
     "text": [
      "[Erreur] Échec du chargement de l'image : temp/2_120535.jpg\n"
     ]
    },
    {
     "name": "stderr",
     "output_type": "stream",
     "text": [
      "Traitement des images:  69%|██████▉   | 903/1300 [21:50<08:36,  1.30s/it]"
     ]
    },
    {
     "name": "stdout",
     "output_type": "stream",
     "text": [
      "[Erreur] Échec du chargement de l'image : temp/4_120101.jpg\n",
      "[Erreur] Échec du chargement de l'image : temp/5_120101.jpg\n"
     ]
    },
    {
     "name": "stderr",
     "output_type": "stream",
     "text": [
      "Traitement des images:  70%|██████▉   | 907/1300 [21:57<09:44,  1.49s/it]"
     ]
    },
    {
     "name": "stdout",
     "output_type": "stream",
     "text": [
      "[Erreur] Échec du chargement de l'image : temp/4_120101.jpg\n",
      "[Erreur] Échec du chargement de l'image : temp/5_120101.jpg\n"
     ]
    },
    {
     "name": "stderr",
     "output_type": "stream",
     "text": [
      "Traitement des images:  70%|██████▉   | 908/1300 [21:57<08:08,  1.25s/it]"
     ]
    },
    {
     "name": "stdout",
     "output_type": "stream",
     "text": [
      "[Erreur] Échec du chargement de l'image : temp/1_120802.jpg\n"
     ]
    },
    {
     "name": "stderr",
     "output_type": "stream",
     "text": [
      "Traitement des images:  70%|███████   | 910/1300 [22:01<10:25,  1.60s/it]"
     ]
    },
    {
     "name": "stdout",
     "output_type": "stream",
     "text": [
      "[Erreur] Échec du chargement de l'image : temp/0_120413.jpg\n"
     ]
    },
    {
     "name": "stderr",
     "output_type": "stream",
     "text": [
      "Traitement des images:  70%|███████   | 913/1300 [22:05<08:50,  1.37s/it]"
     ]
    },
    {
     "name": "stdout",
     "output_type": "stream",
     "text": [
      "[Erreur] Échec du chargement de l'image : temp/1_080088.jpg\n",
      "[Erreur] Échec du chargement de l'image : temp/3_080088.jpg\n",
      "[Erreur] Échec du chargement de l'image : temp/2_080088.jpg\n"
     ]
    },
    {
     "name": "stderr",
     "output_type": "stream",
     "text": [
      "Traitement des images:  71%|███████   | 917/1300 [22:10<10:10,  1.59s/it]"
     ]
    },
    {
     "name": "stdout",
     "output_type": "stream",
     "text": [
      "[Erreur] Échec du chargement de l'image : temp/10_020110.jpg\n"
     ]
    },
    {
     "name": "stderr",
     "output_type": "stream",
     "text": [
      "Traitement des images:  71%|███████   | 924/1300 [22:17<04:46,  1.31it/s]"
     ]
    },
    {
     "name": "stdout",
     "output_type": "stream",
     "text": [
      "[Erreur] Échec du chargement de l'image : temp/1_150017.jpg\n"
     ]
    },
    {
     "name": "stderr",
     "output_type": "stream",
     "text": [
      "Traitement des images:  72%|███████▏  | 934/1300 [22:30<11:20,  1.86s/it]"
     ]
    },
    {
     "name": "stdout",
     "output_type": "stream",
     "text": [
      "[Erreur] Échec du chargement de l'image : temp/10_020110.jpg\n"
     ]
    },
    {
     "name": "stderr",
     "output_type": "stream",
     "text": [
      "Traitement des images:  72%|███████▏  | 936/1300 [22:31<08:18,  1.37s/it]"
     ]
    },
    {
     "name": "stdout",
     "output_type": "stream",
     "text": [
      "[Erreur] Échec du chargement de l'image : temp/3_010201.jpg\n",
      "[Erreur] Échec du chargement de l'image : temp/6_010201.jpg\n",
      "[Erreur] Échec du chargement de l'image : temp/4_010201.jpg\n",
      "[Erreur] Échec du chargement de l'image : temp/2_010201.jpg\n",
      "[Erreur] Échec du chargement de l'image : temp/5_010201.jpg\n"
     ]
    },
    {
     "name": "stderr",
     "output_type": "stream",
     "text": [
      "Traitement des images:  72%|███████▏  | 940/1300 [22:35<04:44,  1.27it/s]"
     ]
    },
    {
     "name": "stdout",
     "output_type": "stream",
     "text": [
      "[Erreur] Échec du chargement de l'image : temp/1_120804.jpg\n"
     ]
    },
    {
     "name": "stderr",
     "output_type": "stream",
     "text": [
      "Traitement des images:  72%|███████▏  | 942/1300 [22:36<04:58,  1.20it/s]"
     ]
    },
    {
     "name": "stdout",
     "output_type": "stream",
     "text": [
      "[Erreur] Échec du chargement de l'image : temp/1_090038.jpg\n"
     ]
    },
    {
     "name": "stderr",
     "output_type": "stream",
     "text": [
      "Traitement des images:  74%|███████▎  | 957/1300 [22:54<05:01,  1.14it/s]"
     ]
    },
    {
     "name": "stdout",
     "output_type": "stream",
     "text": [
      "[Erreur] Échec du chargement de l'image : temp/2_121019.jpg\n"
     ]
    },
    {
     "name": "stderr",
     "output_type": "stream",
     "text": [
      "Traitement des images:  74%|███████▍  | 959/1300 [22:57<06:57,  1.22s/it]"
     ]
    },
    {
     "name": "stdout",
     "output_type": "stream",
     "text": [
      "[Erreur] Échec du chargement de l'image : temp/3_010201.jpg\n",
      "[Erreur] Échec du chargement de l'image : temp/6_010201.jpg\n",
      "[Erreur] Échec du chargement de l'image : temp/4_010201.jpg\n",
      "[Erreur] Échec du chargement de l'image : temp/2_010201.jpg\n",
      "[Erreur] Échec du chargement de l'image : temp/5_010201.jpg\n"
     ]
    },
    {
     "name": "stderr",
     "output_type": "stream",
     "text": [
      "Traitement des images:  74%|███████▍  | 960/1300 [23:00<10:41,  1.89s/it]"
     ]
    },
    {
     "name": "stdout",
     "output_type": "stream",
     "text": [
      "[Erreur] Échec du chargement de l'image : temp/10_020110.jpg\n"
     ]
    },
    {
     "name": "stderr",
     "output_type": "stream",
     "text": [
      "Traitement des images:  74%|███████▍  | 962/1300 [23:03<08:50,  1.57s/it]"
     ]
    },
    {
     "name": "stdout",
     "output_type": "stream",
     "text": [
      "[Erreur] Échec du chargement de l'image : temp/4_050204.jpg\n"
     ]
    },
    {
     "name": "stderr",
     "output_type": "stream",
     "text": [
      "Traitement des images:  75%|███████▍  | 971/1300 [23:17<09:51,  1.80s/it]"
     ]
    },
    {
     "name": "stdout",
     "output_type": "stream",
     "text": [
      "[Erreur] Échec du chargement de l'image : temp/10_020110.jpg\n"
     ]
    },
    {
     "name": "stderr",
     "output_type": "stream",
     "text": [
      "Traitement des images:  75%|███████▍  | 972/1300 [23:20<12:14,  2.24s/it]"
     ]
    },
    {
     "name": "stdout",
     "output_type": "stream",
     "text": [
      "[Erreur] Échec du chargement de l'image : temp/10_020110.jpg\n"
     ]
    },
    {
     "name": "stderr",
     "output_type": "stream",
     "text": [
      "Traitement des images:  75%|███████▌  | 975/1300 [23:22<06:31,  1.20s/it]"
     ]
    },
    {
     "name": "stdout",
     "output_type": "stream",
     "text": [
      "[Erreur] Échec du chargement de l'image : temp/1_080243.jpg\n"
     ]
    },
    {
     "name": "stderr",
     "output_type": "stream",
     "text": [
      "Traitement des images:  75%|███████▌  | 976/1300 [23:24<08:12,  1.52s/it]"
     ]
    },
    {
     "name": "stdout",
     "output_type": "stream",
     "text": [
      "[Erreur] Échec du chargement de l'image : temp/4_050204.jpg\n"
     ]
    },
    {
     "name": "stderr",
     "output_type": "stream",
     "text": [
      "Traitement des images:  76%|███████▌  | 982/1300 [23:28<03:58,  1.33it/s]"
     ]
    },
    {
     "name": "stdout",
     "output_type": "stream",
     "text": [
      "[Erreur] Échec du chargement de l'image : temp/0_080203.jpg\n"
     ]
    },
    {
     "name": "stderr",
     "output_type": "stream",
     "text": [
      "Traitement des images:  76%|███████▌  | 984/1300 [23:30<04:52,  1.08it/s]"
     ]
    },
    {
     "name": "stdout",
     "output_type": "stream",
     "text": [
      "[Erreur] Échec du chargement de l'image : temp/4_050204.jpg\n"
     ]
    },
    {
     "name": "stderr",
     "output_type": "stream",
     "text": [
      "Traitement des images:  76%|███████▌  | 988/1300 [23:34<06:16,  1.21s/it]"
     ]
    },
    {
     "name": "stdout",
     "output_type": "stream",
     "text": [
      "[Erreur] Échec du chargement de l'image : temp/8_010182.jpg\n",
      "[Erreur] Échec du chargement de l'image : temp/9_010182.jpg\n",
      "[Erreur] Échec du chargement de l'image : temp/3_010182.jpg\n"
     ]
    },
    {
     "name": "stderr",
     "output_type": "stream",
     "text": [
      "Traitement des images:  77%|███████▋  | 1003/1300 [23:56<08:34,  1.73s/it]"
     ]
    },
    {
     "name": "stdout",
     "output_type": "stream",
     "text": [
      "[Erreur] Échec du chargement de l'image : temp/8_010182.jpg\n",
      "[Erreur] Échec du chargement de l'image : temp/9_010182.jpg\n",
      "[Erreur] Échec du chargement de l'image : temp/3_010182.jpg\n"
     ]
    },
    {
     "name": "stderr",
     "output_type": "stream",
     "text": [
      "Traitement des images:  77%|███████▋  | 1004/1300 [23:59<10:56,  2.22s/it]"
     ]
    },
    {
     "name": "stdout",
     "output_type": "stream",
     "text": [
      "[Erreur] Échec du chargement de l'image : temp/8_010182.jpg\n",
      "[Erreur] Échec du chargement de l'image : temp/9_010182.jpg\n",
      "[Erreur] Échec du chargement de l'image : temp/3_010182.jpg\n"
     ]
    },
    {
     "name": "stderr",
     "output_type": "stream",
     "text": [
      "Traitement des images:  78%|███████▊  | 1020/1300 [24:20<06:22,  1.37s/it]"
     ]
    },
    {
     "name": "stdout",
     "output_type": "stream",
     "text": [
      "[Erreur] Échec du chargement de l'image : temp/5_050217.jpg\n"
     ]
    },
    {
     "name": "stderr",
     "output_type": "stream",
     "text": [
      "Traitement des images:  79%|███████▊  | 1021/1300 [24:24<09:13,  1.98s/it]"
     ]
    },
    {
     "name": "stdout",
     "output_type": "stream",
     "text": [
      "[Erreur] Échec du chargement de l'image : temp/8_010182.jpg\n",
      "[Erreur] Échec du chargement de l'image : temp/9_010182.jpg\n",
      "[Erreur] Échec du chargement de l'image : temp/3_010182.jpg\n"
     ]
    },
    {
     "name": "stderr",
     "output_type": "stream",
     "text": [
      "Traitement des images:  80%|████████  | 1041/1300 [24:55<06:33,  1.52s/it]"
     ]
    },
    {
     "name": "stdout",
     "output_type": "stream",
     "text": [
      "[Erreur] Échec du chargement de l'image : temp/8_010182.jpg\n",
      "[Erreur] Échec du chargement de l'image : temp/9_010182.jpg\n",
      "[Erreur] Échec du chargement de l'image : temp/3_010182.jpg\n"
     ]
    },
    {
     "name": "stderr",
     "output_type": "stream",
     "text": [
      "Traitement des images:  80%|████████  | 1044/1300 [25:01<08:44,  2.05s/it]"
     ]
    },
    {
     "name": "stdout",
     "output_type": "stream",
     "text": [
      "[Erreur] Échec du chargement de l'image : temp/8_010182.jpg\n",
      "[Erreur] Échec du chargement de l'image : temp/9_010182.jpg\n",
      "[Erreur] Échec du chargement de l'image : temp/3_010182.jpg\n"
     ]
    },
    {
     "name": "stderr",
     "output_type": "stream",
     "text": [
      "Traitement des images:  81%|████████  | 1050/1300 [25:08<05:12,  1.25s/it]"
     ]
    },
    {
     "name": "stdout",
     "output_type": "stream",
     "text": [
      "[Erreur] Échec du chargement de l'image : temp/1_080087.jpg\n"
     ]
    },
    {
     "name": "stderr",
     "output_type": "stream",
     "text": [
      "Traitement des images:  82%|████████▏ | 1068/1300 [25:27<03:51,  1.00it/s]"
     ]
    },
    {
     "name": "stdout",
     "output_type": "stream",
     "text": [
      "[Erreur] Échec du chargement de l'image : temp/2_010196.jpg\n"
     ]
    },
    {
     "name": "stderr",
     "output_type": "stream",
     "text": [
      "Traitement des images:  82%|████████▏ | 1070/1300 [25:33<08:52,  2.32s/it]"
     ]
    },
    {
     "name": "stdout",
     "output_type": "stream",
     "text": [
      "[Erreur] Échec du chargement de l'image : temp/8_010182.jpg\n",
      "[Erreur] Échec du chargement de l'image : temp/9_010182.jpg\n",
      "[Erreur] Échec du chargement de l'image : temp/3_010182.jpg\n"
     ]
    },
    {
     "name": "stderr",
     "output_type": "stream",
     "text": [
      "Traitement des images:  83%|████████▎ | 1079/1300 [25:39<02:55,  1.26it/s]"
     ]
    },
    {
     "name": "stdout",
     "output_type": "stream",
     "text": [
      "[Erreur] Échec du chargement de l'image : temp/3_130156.jpg\n",
      "[Erreur] Échec du chargement de l'image : temp/4_130156.jpg\n"
     ]
    },
    {
     "name": "stderr",
     "output_type": "stream",
     "text": [
      "Traitement des images:  84%|████████▍ | 1093/1300 [25:47<02:34,  1.34it/s]"
     ]
    },
    {
     "name": "stdout",
     "output_type": "stream",
     "text": [
      "[Erreur] Échec du chargement de l'image : temp/1_110030.jpg\n"
     ]
    },
    {
     "name": "stderr",
     "output_type": "stream",
     "text": [
      "Traitement des images:  84%|████████▍ | 1097/1300 [25:50<03:01,  1.12it/s]"
     ]
    },
    {
     "name": "stdout",
     "output_type": "stream",
     "text": [
      "[Erreur] Échec du chargement de l'image : temp/3_130156.jpg\n",
      "[Erreur] Échec du chargement de l'image : temp/4_130156.jpg\n"
     ]
    },
    {
     "name": "stderr",
     "output_type": "stream",
     "text": [
      "Traitement des images:  84%|████████▍ | 1098/1300 [25:51<03:43,  1.11s/it]"
     ]
    },
    {
     "name": "stdout",
     "output_type": "stream",
     "text": [
      "[Erreur] Échec du chargement de l'image : temp/3_130156.jpg\n",
      "[Erreur] Échec du chargement de l'image : temp/4_130156.jpg\n"
     ]
    },
    {
     "name": "stderr",
     "output_type": "stream",
     "text": [
      "Traitement des images:  86%|████████▌ | 1114/1300 [26:06<03:28,  1.12s/it]"
     ]
    },
    {
     "name": "stdout",
     "output_type": "stream",
     "text": [
      "[Erreur] Échec du chargement de l'image : temp/0_130155.jpg\n"
     ]
    },
    {
     "name": "stderr",
     "output_type": "stream",
     "text": [
      "Traitement des images:  87%|████████▋ | 1126/1300 [26:17<01:57,  1.48it/s]"
     ]
    },
    {
     "name": "stdout",
     "output_type": "stream",
     "text": [
      "[Erreur] Échec du chargement de l'image : temp/0_130155.jpg\n"
     ]
    },
    {
     "name": "stderr",
     "output_type": "stream",
     "text": [
      "Traitement des images:  90%|████████▉ | 1168/1300 [26:47<01:06,  1.99it/s]"
     ]
    },
    {
     "name": "stdout",
     "output_type": "stream",
     "text": [
      "[Erreur] Échec du chargement de l'image : temp/1_120414.jpg\n"
     ]
    },
    {
     "name": "stderr",
     "output_type": "stream",
     "text": [
      "Traitement des images:  93%|█████████▎| 1212/1300 [27:16<01:29,  1.02s/it]"
     ]
    },
    {
     "name": "stdout",
     "output_type": "stream",
     "text": [
      "[Erreur] Échec du chargement de l'image : temp/2_110069.jpg\n",
      "[Erreur] Échec du chargement de l'image : temp/3_110069.jpg\n",
      "[Erreur] Échec du chargement de l'image : temp/4_110069.jpg\n"
     ]
    },
    {
     "name": "stderr",
     "output_type": "stream",
     "text": [
      "Traitement des images:  96%|█████████▋| 1254/1300 [27:57<00:27,  1.65it/s]"
     ]
    },
    {
     "name": "stdout",
     "output_type": "stream",
     "text": [
      "[Erreur] Échec du chargement de l'image : temp/1_150358.jpg\n"
     ]
    },
    {
     "name": "stderr",
     "output_type": "stream",
     "text": [
      "Traitement des images: 100%|██████████| 1300/1300 [28:36<00:00,  1.32s/it]\n"
     ]
    }
   ],
   "source": [
    "import os\n",
    "import shutil\n",
    "import cv2\n",
    "import matplotlib.pyplot as plt\n",
    "from tqdm import tqdm\n",
    "\n",
    "# Définir les chemins\n",
    "fichier_data = \"/Users/rolly/Documents/10-19_Université_et_scolarité/paleo_comput/data\"\n",
    "fichier_data_clean = \"/Users/rolly/Documents/10-19_Université_et_scolarité/paleo_comput/data_clean\"\n",
    "xml_dir = \"/Users/rolly/Documents/10-19_Université_et_scolarité/paleo_comput/inscriptions\"\n",
    "\n",
    "# Récupération de tous les fichiers .jpg\n",
    "all_jpg_files = []\n",
    "for root, dirs, files in os.walk(fichier_data):\n",
    "    for file in files:\n",
    "        if file.endswith(\".jpg\"):\n",
    "            all_jpg_files.append((root, file))\n",
    "show = False\n",
    "# Boucle principale avec tqdm\n",
    "for root, file in tqdm(all_jpg_files, desc=\"Traitement des images\", total=len(all_jpg_files), leave=True):\n",
    "    try:\n",
    "        # On récupère la classe\n",
    "        classe = root.split(\"/\")[-2] if len(root.split(\"/\")) == 9 else root.split(\"/\")[-1]\n",
    "        #print(classe)\n",
    "\n",
    "        # On récupère le nom et l'identifiant de l'image\n",
    "        nom_image = file.split(\".\")[0].strip()\n",
    "        try:\n",
    "            id_image = get_id(file)\n",
    "            #print(f\"[Info] ID de l'image : {id_image}\")\n",
    "        except ValueError:\n",
    "            print(f\"[Erreur] get_id invalide pour : {file}\")\n",
    "            continue\n",
    "        if len(id_image) != 6:\n",
    "            print(f\"[Erreur] ID de l'image invalide : {id_image} pour le fichier {file}\")\n",
    "            continue\n",
    "        # Accès au fichier XML\n",
    "        xml_path = os.path.join(xml_dir, 'iAph' + id_image + '.xml')\n",
    "        if not os.path.exists(xml_path):\n",
    "            print(f\"[Erreur] Le fichier XML {xml_path} n'existe pas.\")\n",
    "            continue\n",
    "\n",
    "        img_links = get_img_link(xml_path)\n",
    "\n",
    "        # Créer un dossier temporaire\n",
    "        if not os.path.exists('temp'):\n",
    "            os.makedirs('temp')\n",
    "\n",
    "        for ind, img in enumerate(img_links):\n",
    "            get_image(img, f'temp/{ind}_{id_image}.jpg')\n",
    "\n",
    "        # Comparaison d'image\n",
    "        img_files = os.listdir('temp')\n",
    "        max_similarity = 0\n",
    "        most_similar_image = None\n",
    "        original_img_path = os.path.join(root, file)\n",
    "\n",
    "        for img_file in img_files:\n",
    "            if img_file.startswith('.'):\n",
    "                continue\n",
    "            temp_img_path = os.path.join('temp', img_file)\n",
    "            similarity = get_img_sim(original_img_path, temp_img_path)\n",
    "            if similarity is None:\n",
    "                continue\n",
    "            if similarity > max_similarity:\n",
    "                max_similarity = similarity\n",
    "                most_similar_image = temp_img_path\n",
    "\n",
    "        # Affichage de la comparaison si souhaité\n",
    "        if show :  \n",
    "            if most_similar_image:\n",
    "                img1 = cv2.imread(original_img_path)\n",
    "                img2 = cv2.imread(most_similar_image)\n",
    "                if img1 is not None and img2 is not None:\n",
    "                    plt.figure(figsize=(8, 4))\n",
    "                    plt.subplot(1, 2, 1)\n",
    "                    plt.imshow(cv2.cvtColor(img1, cv2.COLOR_BGR2RGB))\n",
    "                    plt.axis(\"off\")\n",
    "                    plt.subplot(1, 2, 2)\n",
    "                    plt.imshow(cv2.cvtColor(img2, cv2.COLOR_BGR2RGB))\n",
    "                    plt.axis(\"off\")\n",
    "                    plt.tight_layout()\n",
    "                    plt.show()\n",
    "                    plt.close()\n",
    "            else:\n",
    "                print(f\"[Info] Aucune image similaire trouvée pour {file}\")\n",
    "\n",
    "        # Création du dossier propre\n",
    "        class_dir = os.path.join(fichier_data_clean, classe)\n",
    "        os.makedirs(class_dir, exist_ok=True)\n",
    "\n",
    "        # Enregistrement\n",
    "        target_path = os.path.join(class_dir, file)\n",
    "        if most_similar_image is not None:\n",
    "            shutil.copy(most_similar_image, target_path)\n",
    "        else:\n",
    "            shutil.copy(original_img_path, target_path)\n",
    "\n",
    "    finally:\n",
    "        # Nettoyage\n",
    "        if os.path.exists('temp'):\n",
    "            shutil.rmtree('temp', ignore_errors=True)"
   ]
  },
  {
   "cell_type": "code",
   "execution_count": null,
   "id": "82a2bd56",
   "metadata": {},
   "outputs": [
    {
     "data": {
      "text/plain": [
       "1274"
      ]
     },
     "execution_count": 9,
     "metadata": {},
     "output_type": "execute_result"
    }
   ],
   "source": [
    "import os\n",
    "all_jpg_files_cleaned = []\n",
    "for root, dirs, files in os.walk('/Users/rolly/Documents/10-19_Université_et_scolarité/paleo_comput/data_clean'):\n",
    "    for file in files:\n",
    "        if file.endswith(\".jpg\"):\n",
    "            all_jpg_files_cleaned.append((root, file))\n",
    "len(all_jpg_files_cleaned)"
   ]
  },
  {
   "cell_type": "code",
   "execution_count": null,
   "id": "0ffcb2b9",
   "metadata": {},
   "outputs": [
    {
     "data": {
      "text/plain": [
       "[('/Users/rolly/Documents/10-19_Université_et_scolarité/paleo_comput/data/Factional',\n",
       "  '4.13. Acclamations of the Greens, the City and the Blues A.jpg'),\n",
       " ('/Users/rolly/Documents/10-19_Université_et_scolarité/paleo_comput/data/Factional',\n",
       "  '4.13. Acclamations of the Greens, the City and the Blues C.jpg'),\n",
       " ('/Users/rolly/Documents/10-19_Université_et_scolarité/paleo_comput/data/Factional',\n",
       "  '2.18. Seat inscriptions, Odeon block D.jpg'),\n",
       " ('/Users/rolly/Documents/10-19_Université_et_scolarité/paleo_comput/data/Factional',\n",
       "  '4.13. Acclamations of the Greens, the City and the Blues B.jpg'),\n",
       " ('/Users/rolly/Documents/10-19_Université_et_scolarité/paleo_comput/data/Factional',\n",
       "  '10.4. Seat inscriptions Stadium Block 18.jpg'),\n",
       " ('/Users/rolly/Documents/10-19_Université_et_scolarité/paleo_comput/data/Factional',\n",
       "  '8.106. Acclamation of city Tyche and the Greens.jpg'),\n",
       " ('/Users/rolly/Documents/10-19_Université_et_scolarité/paleo_comput/data/Factional',\n",
       "  '8.55. Seat inscriptions Theatre, Block C.jpg'),\n",
       " ('/Users/rolly/Documents/10-19_Université_et_scolarité/paleo_comput/data/Factional',\n",
       "  '1.403. Acclamation of the Greens A.jpg'),\n",
       " ('/Users/rolly/Documents/10-19_Université_et_scolarité/paleo_comput/data/Factional',\n",
       "  '8.57. Seat inscriptions Theatre, Block E.jpg'),\n",
       " ('/Users/rolly/Documents/10-19_Université_et_scolarité/paleo_comput/data/Factional',\n",
       "  '1.403. Acclamation of the Greens B.jpg'),\n",
       " ('/Users/rolly/Documents/10-19_Université_et_scolarité/paleo_comput/data/Factional',\n",
       "  '8.54. Seat inscriptions Theatre, Block B A.jpg'),\n",
       " ('/Users/rolly/Documents/10-19_Université_et_scolarité/paleo_comput/data/Factional',\n",
       "  '8.61. Seat inscriptions Theatre, Block J.jpg'),\n",
       " ('/Users/rolly/Documents/10-19_Université_et_scolarité/paleo_comput/data/Factional',\n",
       "  '8.104. Acclamation for the Greens and their mimes.jpg'),\n",
       " ('/Users/rolly/Documents/10-19_Université_et_scolarité/paleo_comput/data/Posthumous honors',\n",
       "  '11.68. Verse posthumous honours, apparently , for Asclepiodotus.jpg'),\n",
       " ('/Users/rolly/Documents/10-19_Université_et_scolarité/paleo_comput/data/Posthumous honors',\n",
       "  '11.6. Posthumous honours for Papylos son of Iason.jpg'),\n",
       " ('/Users/rolly/Documents/10-19_Université_et_scolarité/paleo_comput/data/Posthumous honors',\n",
       "  '12.104. Posthumous honours for Theodotos son of Andronikos.jpg'),\n",
       " ('/Users/rolly/Documents/10-19_Université_et_scolarité/paleo_comput/data/Posthumous honors',\n",
       "  '11.18. Posthumous honours for M. Quintilius Pedukaios.jpg'),\n",
       " ('/Users/rolly/Documents/10-19_Université_et_scolarité/paleo_comput/data/Posthumous honors',\n",
       "  '12.1006. Posthumous honours for Iason son of Menodotos.jpg'),\n",
       " ('/Users/rolly/Documents/10-19_Université_et_scolarité/paleo_comput/data/Posthumous honors',\n",
       "  '13.6. Posthumous honours for Pyrrhos son of Pyrrhos A.jpg'),\n",
       " ('/Users/rolly/Documents/10-19_Université_et_scolarité/paleo_comput/data/Posthumous honors',\n",
       "  '13.6. Posthumous honours for Pyrrhos son of Pyrrhos B.jpg'),\n",
       " ('/Users/rolly/Documents/10-19_Université_et_scolarité/paleo_comput/data/Posthumous honors',\n",
       "  '12.203. Posthumous honours for Attinas son of Theodoros.jpg'),\n",
       " ('/Users/rolly/Documents/10-19_Université_et_scolarité/paleo_comput/data/Posthumous honors',\n",
       "  '12.308. Posthumous honours for Adrastos son of Nikotimos.jpg'),\n",
       " ('/Users/rolly/Documents/10-19_Université_et_scolarité/paleo_comput/data/Posthumous honors',\n",
       "  '12.1019. Posthumous honours for Tiberius Cl(audius) Antonius [Am]mianos.jpg'),\n",
       " ('/Users/rolly/Documents/10-19_Université_et_scolarité/paleo_comput/data/Posthumous honors',\n",
       "  '11.22. Posthumous honours for Zenon son of Zenon.jpg'),\n",
       " ('/Users/rolly/Documents/10-19_Université_et_scolarité/paleo_comput/data/Posthumous honors',\n",
       "  '12.307. Posthumous honours for Dionysios son of Artemidoros.jpg'),\n",
       " ('/Users/rolly/Documents/10-19_Université_et_scolarité/paleo_comput/data/Posthumous honors',\n",
       "  '12.28. Posthumous honours for Tiberius Claudius Ktesias, who established a foundation.jpg'),\n",
       " ('/Users/rolly/Documents/10-19_Université_et_scolarité/paleo_comput/data/Posthumous honors',\n",
       "  '1.160. Posthumous honours for Dionysios, and a foundation A.jpg'),\n",
       " ('/Users/rolly/Documents/10-19_Université_et_scolarité/paleo_comput/data/Posthumous honors',\n",
       "  '12.312. Posthumous honours for Attalos son of Makedon.jpg'),\n",
       " ('/Users/rolly/Documents/10-19_Université_et_scolarité/paleo_comput/data/Posthumous honors',\n",
       "  '11.23. Posthumous honours for [····]nios, who has established a foundation.jpg'),\n",
       " ('/Users/rolly/Documents/10-19_Université_et_scolarité/paleo_comput/data/Posthumous honors',\n",
       "  '1.160. Posthumous honours for Dionysios, and a foundation B.jpg'),\n",
       " ('/Users/rolly/Documents/10-19_Université_et_scolarité/paleo_comput/data/Posthumous honors',\n",
       "  '12.5. Posthumous honours for Ammia daughter of Attalos A.jpg'),\n",
       " ('/Users/rolly/Documents/10-19_Université_et_scolarité/paleo_comput/data/Posthumous honors',\n",
       "  '7.8. Posthumous honours for Lykidas Zenon.jpg'),\n",
       " ('/Users/rolly/Documents/10-19_Université_et_scolarité/paleo_comput/data/Posthumous honors',\n",
       "  '12.5. Posthumous honours for Ammia daughter of Attalos C.jpg'),\n",
       " ('/Users/rolly/Documents/10-19_Université_et_scolarité/paleo_comput/data/Posthumous honors',\n",
       "  '12.5. Posthumous honours for Ammia daughter of Attalos B.jpg'),\n",
       " ('/Users/rolly/Documents/10-19_Université_et_scolarité/paleo_comput/data/Graffiti/Graffiti',\n",
       "  '8.95. Graffiti.jpg'),\n",
       " ('/Users/rolly/Documents/10-19_Université_et_scolarité/paleo_comput/data/Graffiti/Graffiti',\n",
       "  '13.107. -Jewish graffiti in a bath-building.jpg'),\n",
       " ('/Users/rolly/Documents/10-19_Université_et_scolarité/paleo_comput/data/Graffiti/Graffiti',\n",
       "  '1.33. Graffiti names and prayers B.jpg'),\n",
       " ('/Users/rolly/Documents/10-19_Université_et_scolarité/paleo_comput/data/Graffiti/Graffiti',\n",
       "  '1.33. Graffiti names and prayers A.jpg'),\n",
       " ('/Users/rolly/Documents/10-19_Université_et_scolarité/paleo_comput/data/Graffiti/Graffiti',\n",
       "  '8.11. Graffiti of a -pyrrhic dancer B.jpg'),\n",
       " ('/Users/rolly/Documents/10-19_Université_et_scolarité/paleo_comput/data/Graffiti/Graffiti',\n",
       "  '8.12. Graffiti on Theatre stage.jpg'),\n",
       " ('/Users/rolly/Documents/10-19_Université_et_scolarité/paleo_comput/data/Graffiti/Graffiti',\n",
       "  '8.11. Graffiti of a -pyrrhic dancer A.jpg'),\n",
       " ('/Users/rolly/Documents/10-19_Université_et_scolarité/paleo_comput/data/Graffiti/Graffiti',\n",
       "  '2.402. Graffiti Prayers and names D.jpg'),\n",
       " ('/Users/rolly/Documents/10-19_Université_et_scolarité/paleo_comput/data/Graffiti/Graffiti',\n",
       "  '8.10. Graffiti on Theatre stage building A.jpg'),\n",
       " ('/Users/rolly/Documents/10-19_Université_et_scolarité/paleo_comput/data/Graffiti/Graffiti',\n",
       "  '2.3. Graffiti insults and acclamations B.jpg'),\n",
       " ('/Users/rolly/Documents/10-19_Université_et_scolarité/paleo_comput/data/Graffiti/Graffiti',\n",
       "  '2.402. Graffiti Prayers and names A.jpg'),\n",
       " ('/Users/rolly/Documents/10-19_Université_et_scolarité/paleo_comput/data/Graffiti/Graffiti',\n",
       "  '2.402. Graffiti Prayers and names C.jpg'),\n",
       " ('/Users/rolly/Documents/10-19_Université_et_scolarité/paleo_comput/data/Graffiti/Graffiti',\n",
       "  '8.10. Graffiti on Theatre stage building B.jpg'),\n",
       " ('/Users/rolly/Documents/10-19_Université_et_scolarité/paleo_comput/data/Graffiti/Graffiti',\n",
       "  '2.3. Graffiti insults and acclamations A.jpg'),\n",
       " ('/Users/rolly/Documents/10-19_Université_et_scolarité/paleo_comput/data/Graffiti/Graffiti',\n",
       "  '2.402. Graffiti Prayers and names B.jpg'),\n",
       " ('/Users/rolly/Documents/10-19_Université_et_scolarité/paleo_comput/data/Prayers + prayer invocation',\n",
       "  '1.22. Prayers on West Door of Temple-Church (north).jpg'),\n",
       " ('/Users/rolly/Documents/10-19_Université_et_scolarité/paleo_comput/data/Prayers + prayer invocation',\n",
       "  '4.310. i. Verse honours for Anthemios; ii. Invocation.jpg'),\n",
       " ('/Users/rolly/Documents/10-19_Université_et_scolarité/paleo_comput/data/Prayers + prayer invocation',\n",
       "  '1.33. Graffiti names and prayers.jpg'),\n",
       " ('/Users/rolly/Documents/10-19_Université_et_scolarité/paleo_comput/data/Prayers + prayer invocation',\n",
       "  '15.353. Invocation.jpg'),\n",
       " ('/Users/rolly/Documents/10-19_Université_et_scolarité/paleo_comput/data/Prayers + prayer invocation',\n",
       "  '1.32. Names.jpg'),\n",
       " ('/Users/rolly/Documents/10-19_Université_et_scolarité/paleo_comput/data/Prayers + prayer invocation',\n",
       "  '1.14. Prayer of Anastasios, donor B.jpg'),\n",
       " ('/Users/rolly/Documents/10-19_Université_et_scolarité/paleo_comput/data/Prayers + prayer invocation',\n",
       "  '11.67. Name.jpg'),\n",
       " ('/Users/rolly/Documents/10-19_Université_et_scolarité/paleo_comput/data/Prayers + prayer invocation',\n",
       "  '1.14. Prayer of Anastasios, donor C.jpg'),\n",
       " ('/Users/rolly/Documents/10-19_Université_et_scolarité/paleo_comput/data/Prayers + prayer invocation',\n",
       "  '1.14. Prayer of Anastasios, donor A.jpg'),\n",
       " ('/Users/rolly/Documents/10-19_Université_et_scolarité/paleo_comput/data/Prayers + prayer invocation',\n",
       "  '1.193. Warning against approaching the bema (verse); invocations.jpg'),\n",
       " ('/Users/rolly/Documents/10-19_Université_et_scolarité/paleo_comput/data/Prayers + prayer invocation',\n",
       "  '1.14. Prayer of Anastasios, donor D.jpg'),\n",
       " ('/Users/rolly/Documents/10-19_Université_et_scolarité/paleo_comput/data/Prayers + prayer invocation',\n",
       "  '1.21. Prayers on West Door of Temple-Church (south).jpg'),\n",
       " ('/Users/rolly/Documents/10-19_Université_et_scolarité/paleo_comput/data/Prayers + prayer invocation',\n",
       "  '1.14. Prayer of Anastasios, donor E.jpg'),\n",
       " ('/Users/rolly/Documents/10-19_Université_et_scolarité/paleo_comput/data/Prayers + prayer invocation',\n",
       "  '8.269. Invocation.jpg'),\n",
       " ('/Users/rolly/Documents/10-19_Université_et_scolarité/paleo_comput/data/Prayers + prayer invocation',\n",
       "  '1.3. Prayer of the builders.jpg'),\n",
       " ('/Users/rolly/Documents/10-19_Université_et_scolarité/paleo_comput/data/Prayers + prayer invocation',\n",
       "  '1.19. Prayer of Asterios A.jpg'),\n",
       " ('/Users/rolly/Documents/10-19_Université_et_scolarité/paleo_comput/data/Prayers + prayer invocation',\n",
       "  '1.19. Prayer of Asterios B.jpg'),\n",
       " ('/Users/rolly/Documents/10-19_Université_et_scolarité/paleo_comput/data/Prayers + prayer invocation',\n",
       "  \"11.225. Prayer of Theodoros, 'the Bell'.jpg\"),\n",
       " ('/Users/rolly/Documents/10-19_Université_et_scolarité/paleo_comput/data/Prayers + prayer invocation',\n",
       "  '8.110. Invocation.jpg'),\n",
       " ('/Users/rolly/Documents/10-19_Université_et_scolarité/paleo_comput/data/Prayers + prayer invocation',\n",
       "  '1.16. Prayer of donor.jpg'),\n",
       " ('/Users/rolly/Documents/10-19_Université_et_scolarité/paleo_comput/data/Prayers + prayer invocation',\n",
       "  '1.13. Prayer of donors, including Theodoretos and Kyriakos A.jpg'),\n",
       " ('/Users/rolly/Documents/10-19_Université_et_scolarité/paleo_comput/data/Prayers + prayer invocation',\n",
       "  '1.23. Prayer of or to Michael.jpg'),\n",
       " ('/Users/rolly/Documents/10-19_Université_et_scolarité/paleo_comput/data/Prayers + prayer invocation',\n",
       "  '1.13. Prayer of donors, including Theodoretos and Kyriakos B.jpg'),\n",
       " ('/Users/rolly/Documents/10-19_Université_et_scolarité/paleo_comput/data/Prayers + prayer invocation',\n",
       "  '11.516. Text at an entrance.jpg'),\n",
       " ('/Users/rolly/Documents/10-19_Université_et_scolarité/paleo_comput/data/Prayers + prayer invocation',\n",
       "  '1.20. Prayer of Theodoros.jpg'),\n",
       " ('/Users/rolly/Documents/10-19_Université_et_scolarité/paleo_comput/data/Prayers + prayer invocation',\n",
       "  '11.64. Prayer of Damocharis, cursor.jpg'),\n",
       " ('/Users/rolly/Documents/10-19_Université_et_scolarité/paleo_comput/data/Prayers + prayer invocation',\n",
       "  '1.12. Prayer of Theodoretos and Kyriakos A.jpg'),\n",
       " ('/Users/rolly/Documents/10-19_Université_et_scolarité/paleo_comput/data/Prayers + prayer invocation',\n",
       "  '1.34. Graffiti names and prayers A.jpg'),\n",
       " ('/Users/rolly/Documents/10-19_Université_et_scolarité/paleo_comput/data/Prayers + prayer invocation',\n",
       "  \"1.17. Fragment of donor's prayer.jpg\"),\n",
       " ('/Users/rolly/Documents/10-19_Université_et_scolarité/paleo_comput/data/Prayers + prayer invocation',\n",
       "  '1.26. Name, Philippos (prayer or invocation).jpg'),\n",
       " ('/Users/rolly/Documents/10-19_Université_et_scolarité/paleo_comput/data/Prayers + prayer invocation',\n",
       "  '1.34. Graffiti names and prayers C.jpg'),\n",
       " ('/Users/rolly/Documents/10-19_Université_et_scolarité/paleo_comput/data/Prayers + prayer invocation',\n",
       "  '1.12. Prayer of Theodoretos and Kyriakos B.jpg'),\n",
       " ('/Users/rolly/Documents/10-19_Université_et_scolarité/paleo_comput/data/Prayers + prayer invocation',\n",
       "  '1.34. Graffiti names and prayers B.jpg'),\n",
       " ('/Users/rolly/Documents/10-19_Université_et_scolarité/paleo_comput/data/Prayers + prayer invocation',\n",
       "  '5.122. Donor prayer from a church.jpg'),\n",
       " ('/Users/rolly/Documents/10-19_Université_et_scolarité/paleo_comput/data/Prayers + prayer invocation',\n",
       "  '1.405. Prayer.jpg'),\n",
       " ('/Users/rolly/Documents/10-19_Université_et_scolarité/paleo_comput/data/Acclamation',\n",
       "  '8.906. Acclamation for Theopompos, magnificentissimus, pater civitatis.jpg'),\n",
       " ('/Users/rolly/Documents/10-19_Université_et_scolarité/paleo_comput/data/Acclamation',\n",
       "  'Acclamation 6.jpg'),\n",
       " ('/Users/rolly/Documents/10-19_Université_et_scolarité/paleo_comput/data/Acclamation',\n",
       "  '4.13. Acclamations of the Greens, the City and the Blues B.jpg'),\n",
       " ('/Users/rolly/Documents/10-19_Université_et_scolarité/paleo_comput/data/Acclamation',\n",
       "  'Acclamation 7.jpg'),\n",
       " ('/Users/rolly/Documents/10-19_Université_et_scolarité/paleo_comput/data/Acclamation',\n",
       "  '1.102. Building dedication to the Divine Augustus by Eusebes son of Menandros.jpg'),\n",
       " ('/Users/rolly/Documents/10-19_Université_et_scolarité/paleo_comput/data/Acclamation',\n",
       "  'Acclamation 3.jpg'),\n",
       " ('/Users/rolly/Documents/10-19_Université_et_scolarité/paleo_comput/data/Acclamation',\n",
       "  '4.12. Acclamation of the sellophoroi C.jpg'),\n",
       " ('/Users/rolly/Documents/10-19_Université_et_scolarité/paleo_comput/data/Acclamation',\n",
       "  'Acclamation 2.jpg'),\n",
       " ('/Users/rolly/Documents/10-19_Université_et_scolarité/paleo_comput/data/Acclamation',\n",
       "  '4.12. Acclamation of the sellophoroi A.jpg'),\n",
       " ('/Users/rolly/Documents/10-19_Université_et_scolarité/paleo_comput/data/Acclamation',\n",
       "  'Acclamation 1.jpg'),\n",
       " ('/Users/rolly/Documents/10-19_Université_et_scolarité/paleo_comput/data/Acclamation',\n",
       "  '8.107. Seat inscriptions Theatre, loose block acclamation for the Greens.jpg'),\n",
       " ('/Users/rolly/Documents/10-19_Université_et_scolarité/paleo_comput/data/Acclamation',\n",
       "  'Acclamation 5 (A).jpg'),\n",
       " ('/Users/rolly/Documents/10-19_Université_et_scolarité/paleo_comput/data/Acclamation',\n",
       "  '8.106. Acclamation of city Tyche and the Greens.jpg'),\n",
       " ('/Users/rolly/Documents/10-19_Université_et_scolarité/paleo_comput/data/Acclamation',\n",
       "  '1.403. Acclamation of the Greens A.jpg'),\n",
       " ('/Users/rolly/Documents/10-19_Université_et_scolarité/paleo_comput/data/Acclamation',\n",
       "  '4.21. 1. Acclamations for Albinos, clarissimus; 2. Acclamation for the city T.jpg'),\n",
       " ('/Users/rolly/Documents/10-19_Université_et_scolarité/paleo_comput/data/Acclamation',\n",
       "  '5.24. Acclamations for imperial family, and a New Theodosius.jpg'),\n",
       " ('/Users/rolly/Documents/10-19_Université_et_scolarité/paleo_comput/data/Acclamation',\n",
       "  '1.403. Acclamation of the Greens B.jpg'),\n",
       " ('/Users/rolly/Documents/10-19_Université_et_scolarité/paleo_comput/data/Acclamation',\n",
       "  '4.21. 1. Acclamations for Albinos, clarissimus; 2. Acclamation for the city W.jpg'),\n",
       " ('/Users/rolly/Documents/10-19_Université_et_scolarité/paleo_comput/data/Acclamation',\n",
       "  '4.21. 1. Acclamations for Albinos, clarissimus; 2. Acclamation for the city D.jpg'),\n",
       " ('/Users/rolly/Documents/10-19_Université_et_scolarité/paleo_comput/data/Acclamation',\n",
       "  '4.21. 1. Acclamations for Albinos, clarissimus; 2. Acclamation for the city E2.jpg'),\n",
       " ('/Users/rolly/Documents/10-19_Université_et_scolarité/paleo_comput/data/Acclamation',\n",
       "  '4.21. 1. Acclamations for Albinos, clarissimus; 2. Acclamation for the city G.jpg'),\n",
       " ('/Users/rolly/Documents/10-19_Université_et_scolarité/paleo_comput/data/Acclamation',\n",
       "  '4.21. 1. Acclamations for Albinos, clarissimus; 2. Acclamation for the city P.jpg'),\n",
       " ('/Users/rolly/Documents/10-19_Université_et_scolarité/paleo_comput/data/Acclamation',\n",
       "  '8.104. Acclamation for the Greens and their mimes A.jpg'),\n",
       " ('/Users/rolly/Documents/10-19_Université_et_scolarité/paleo_comput/data/Acclamation',\n",
       "  'Acclamation 4 (A).jpg'),\n",
       " ('/Users/rolly/Documents/10-19_Université_et_scolarité/paleo_comput/data/Acclamation',\n",
       "  '4.21. 1. Acclamations for Albinos, clarissimus; 2. Acclamation for the city Q.jpg'),\n",
       " ('/Users/rolly/Documents/10-19_Université_et_scolarité/paleo_comput/data/Acclamation',\n",
       "  '4.21. 1. Acclamations for Albinos, clarissimus; 2. Acclamation for the city F.jpg'),\n",
       " ('/Users/rolly/Documents/10-19_Université_et_scolarité/paleo_comput/data/Acclamation',\n",
       "  '4.21. 1. Acclamations for Albinos, clarissimus; 2. Acclamation for the city K.jpg'),\n",
       " ('/Users/rolly/Documents/10-19_Université_et_scolarité/paleo_comput/data/Acclamation',\n",
       "  '8.61. Seat inscriptions Theatre Block J.jpg'),\n",
       " ('/Users/rolly/Documents/10-19_Université_et_scolarité/paleo_comput/data/Acclamation',\n",
       "  'Acclamation 4 (B).jpg'),\n",
       " ('/Users/rolly/Documents/10-19_Université_et_scolarité/paleo_comput/data/Acclamation',\n",
       "  '4.21. 1. Acclamations for Albinos, clarissimus; 2. Acclamation for the city H.jpg'),\n",
       " ('/Users/rolly/Documents/10-19_Université_et_scolarité/paleo_comput/data/Acclamation',\n",
       "  '4.21. 1. Acclamations for Albinos, clarissimus; 2. Acclamation for the city M.jpg'),\n",
       " ('/Users/rolly/Documents/10-19_Université_et_scolarité/paleo_comput/data/Acclamation',\n",
       "  '4.21. 1. Acclamations for Albinos, clarissimus; 2. Acclamation for the city Y.jpg'),\n",
       " ('/Users/rolly/Documents/10-19_Université_et_scolarité/paleo_comput/data/Acclamation',\n",
       "  '4.21. 1. Acclamations for Albinos, clarissimus; 2. Acclamation for the city N.jpg'),\n",
       " ('/Users/rolly/Documents/10-19_Université_et_scolarité/paleo_comput/data/Acclamation',\n",
       "  'Acclamation 5 (B).jpg'),\n",
       " ('/Users/rolly/Documents/10-19_Université_et_scolarité/paleo_comput/data/Acclamation',\n",
       "  '11.70. Acclamation for Pytheas.jpg'),\n",
       " ('/Users/rolly/Documents/10-19_Université_et_scolarité/paleo_comput/data/Acclamation',\n",
       "  '4.21. 1. Acclamations for Albinos, clarissimus; 2. Acclamation for the city O.jpg'),\n",
       " ('/Users/rolly/Documents/10-19_Université_et_scolarité/paleo_comput/data/Acclamation',\n",
       "  '8.1. i. Building dedication to Aphrodite and Demos; ii. Invocation to Ourania; iii. Acclamation for the City A.jpg'),\n",
       " ('/Users/rolly/Documents/10-19_Université_et_scolarité/paleo_comput/data/Acclamation',\n",
       "  'Acclamation 13.jpg'),\n",
       " ('/Users/rolly/Documents/10-19_Université_et_scolarité/paleo_comput/data/Acclamation',\n",
       "  'Acclamation 12.jpg'),\n",
       " ('/Users/rolly/Documents/10-19_Université_et_scolarité/paleo_comput/data/Acclamation',\n",
       "  '8.1. i. Building dedication to Aphrodite and Demos; ii. Invocation to Ourania; iii. Acclamation for the City B.jpg'),\n",
       " ('/Users/rolly/Documents/10-19_Université_et_scolarité/paleo_comput/data/Acclamation',\n",
       "  'Acclamation 10.jpg'),\n",
       " ('/Users/rolly/Documents/10-19_Université_et_scolarité/paleo_comput/data/Acclamation',\n",
       "  'Acclamation 11.jpg'),\n",
       " ('/Users/rolly/Documents/10-19_Université_et_scolarité/paleo_comput/data/Acclamation',\n",
       "  'Acclamation 15.jpg'),\n",
       " ('/Users/rolly/Documents/10-19_Université_et_scolarité/paleo_comput/data/Acclamation',\n",
       "  'Acclamation 14.jpg'),\n",
       " ('/Users/rolly/Documents/10-19_Université_et_scolarité/paleo_comput/data/Acclamation',\n",
       "  'Acclamation 9.jpg'),\n",
       " ('/Users/rolly/Documents/10-19_Université_et_scolarité/paleo_comput/data/Acclamation',\n",
       "  '2.3. Graffiti - insults and acclamations.jpg'),\n",
       " ('/Users/rolly/Documents/10-19_Université_et_scolarité/paleo_comput/data/Acclamation',\n",
       "  '4.21. 1. Acclamations for Albinos, clarissimus; 2. Acclamation for the city A2.jpg'),\n",
       " ('/Users/rolly/Documents/10-19_Université_et_scolarité/paleo_comput/data/Acclamation',\n",
       "  'Acclamation 16.jpg'),\n",
       " ('/Users/rolly/Documents/10-19_Université_et_scolarité/paleo_comput/data/Acclamation',\n",
       "  'Acclamation 8.jpg'),\n",
       " ('/Users/rolly/Documents/10-19_Université_et_scolarité/paleo_comput/data/Gladiator + Gladiator memorial/Gladiator',\n",
       "  '8.701. Funerary inscription for Eirenion, gladiator.jpg'),\n",
       " ('/Users/rolly/Documents/10-19_Université_et_scolarité/paleo_comput/data/Gladiator + Gladiator memorial/Gladiator memorial',\n",
       "  '14.9. Gladiator memorial of Eupithanos A.jpg'),\n",
       " ('/Users/rolly/Documents/10-19_Université_et_scolarité/paleo_comput/data/Gladiator + Gladiator memorial/Gladiator memorial',\n",
       "  '15.279. Gladiator memorial for Narkissos.jpg'),\n",
       " ('/Users/rolly/Documents/10-19_Université_et_scolarité/paleo_comput/data/Gladiator + Gladiator memorial/Gladiator memorial',\n",
       "  '14.9. Gladiator memorial of Eupithanos B.jpg'),\n",
       " ('/Users/rolly/Documents/10-19_Université_et_scolarité/paleo_comput/data/Gladiator + Gladiator memorial/Gladiator memorial',\n",
       "  '12.1211. Gladiator memorial for familia of M. Antonius Apellas Severinos.jpg'),\n",
       " ('/Users/rolly/Documents/10-19_Université_et_scolarité/paleo_comput/data/Gladiator + Gladiator memorial/Gladiator memorial',\n",
       "  '4.104. Gladiator memorial for familia of Tiberius Claudius Pauleinos.jpg'),\n",
       " ('/Users/rolly/Documents/10-19_Université_et_scolarité/paleo_comput/data/Gladiator + Gladiator memorial/Gladiator memorial',\n",
       "  '13.123. Gladiator memorial, for Unio A.jpg'),\n",
       " ('/Users/rolly/Documents/10-19_Université_et_scolarité/paleo_comput/data/Gladiator + Gladiator memorial/Gladiator memorial',\n",
       "  '13.123. Gladiator memorial, for Unio B.jpg'),\n",
       " ('/Users/rolly/Documents/10-19_Université_et_scolarité/paleo_comput/data/Gladiator + Gladiator memorial/Gladiator memorial',\n",
       "  '12.615. Gladiator memorial for Skirtos.jpg'),\n",
       " ('/Users/rolly/Documents/10-19_Université_et_scolarité/paleo_comput/data/Gladiator + Gladiator memorial/Gladiator memorial',\n",
       "  '12.622. Gladiator memorial for Aniketos.jpg'),\n",
       " ('/Users/rolly/Documents/10-19_Université_et_scolarité/paleo_comput/data/Gladiator + Gladiator memorial/Gladiator memorial',\n",
       "  '12.15. Gladiator memorial for Xanthos B.jpg'),\n",
       " ('/Users/rolly/Documents/10-19_Université_et_scolarité/paleo_comput/data/Gladiator + Gladiator memorial/Gladiator memorial',\n",
       "  '15.280. Gladiator memorial for Pheropes.jpg'),\n",
       " ('/Users/rolly/Documents/10-19_Université_et_scolarité/paleo_comput/data/Gladiator + Gladiator memorial/Gladiator memorial',\n",
       "  '12.15. Gladiator memorial for Xanthos A.jpg'),\n",
       " ('/Users/rolly/Documents/10-19_Université_et_scolarité/paleo_comput/data/Gladiator + Gladiator memorial/Gladiator memorial',\n",
       "  '14.8. Gladiator memorial for Euplous B.jpg'),\n",
       " ('/Users/rolly/Documents/10-19_Université_et_scolarité/paleo_comput/data/Gladiator + Gladiator memorial/Gladiator memorial',\n",
       "  '11.502. Gladiator memorial for Menandros, bestiarius.jpg'),\n",
       " ('/Users/rolly/Documents/10-19_Université_et_scolarité/paleo_comput/data/Gladiator + Gladiator memorial/Gladiator memorial',\n",
       "  '14.8. Gladiator memorial for Euplous A.jpg'),\n",
       " ('/Users/rolly/Documents/10-19_Université_et_scolarité/paleo_comput/data/Gladiator + Gladiator memorial/Gladiator memorial',\n",
       "  '11.507. Gladiator memorial for familia of Zenon Hypsikles.jpg'),\n",
       " ('/Users/rolly/Documents/10-19_Université_et_scolarité/paleo_comput/data/Gladiator + Gladiator memorial/Gladiator memorial',\n",
       "  '12.621. Gladiator memorial for Fortis.jpg'),\n",
       " ('/Users/rolly/Documents/10-19_Université_et_scolarité/paleo_comput/data/Gladiator + Gladiator memorial/Gladiator memorial',\n",
       "  '13.304. Gladiator memorial for Podenemos B.jpg'),\n",
       " ('/Users/rolly/Documents/10-19_Université_et_scolarité/paleo_comput/data/Gladiator + Gladiator memorial/Gladiator memorial',\n",
       "  '13.304. Gladiator memorial for Podenemos A.jpg'),\n",
       " ('/Users/rolly/Documents/10-19_Université_et_scolarité/paleo_comput/data/Gladiator + Gladiator memorial/Gladiator memorial',\n",
       "  '11.501. Gladiator memorial for Secundus.jpg'),\n",
       " ('/Users/rolly/Documents/10-19_Université_et_scolarité/paleo_comput/data/Gladiator + Gladiator memorial/Gladiator memorial',\n",
       "  '12.13. Gladiator memorial for Patroklos.jpg'),\n",
       " ('/Users/rolly/Documents/10-19_Université_et_scolarité/paleo_comput/data/Gladiator + Gladiator memorial/Gladiator memorial',\n",
       "  '14.10. Gladiator memorial for Kalandion.jpg'),\n",
       " ('/Users/rolly/Documents/10-19_Université_et_scolarité/paleo_comput/data/Title',\n",
       "  '12.10. Title for images of Troilos and Achilles.jpg'),\n",
       " ('/Users/rolly/Documents/10-19_Université_et_scolarité/paleo_comput/data/Title',\n",
       "  '9.12. Title for image of People of the Judaeans.jpg'),\n",
       " ('/Users/rolly/Documents/10-19_Université_et_scolarité/paleo_comput/data/Title',\n",
       "  '8.503. Title for a statue of the Council.jpg'),\n",
       " ('/Users/rolly/Documents/10-19_Université_et_scolarité/paleo_comput/data/Title',\n",
       "  '9.17. Title for image of people of the Callaeci.jpg'),\n",
       " ('/Users/rolly/Documents/10-19_Université_et_scolarité/paleo_comput/data/Title',\n",
       "  '9.24. Title for image of people of the Dardanoi.jpg'),\n",
       " ('/Users/rolly/Documents/10-19_Université_et_scolarité/paleo_comput/data/Title',\n",
       "  '9.22. Title for image of People of the Iapodes.jpg'),\n",
       " ('/Users/rolly/Documents/10-19_Université_et_scolarité/paleo_comput/data/Title',\n",
       "  '12.7. Title for images of the Graces.jpg'),\n",
       " ('/Users/rolly/Documents/10-19_Université_et_scolarité/paleo_comput/data/Title',\n",
       "  '9.23. Title for image of People of the Andizetoi.jpg'),\n",
       " ('/Users/rolly/Documents/10-19_Université_et_scolarité/paleo_comput/data/Title',\n",
       "  '9.16. Title for image of Victory of the Augusti.jpg'),\n",
       " ('/Users/rolly/Documents/10-19_Université_et_scolarité/paleo_comput/data/Title',\n",
       "  '9.20. Title for image of the people of the Dacians.jpg'),\n",
       " ('/Users/rolly/Documents/10-19_Université_et_scolarité/paleo_comput/data/Title',\n",
       "  '9.15. Title for images of Rome and Earth.jpg'),\n",
       " ('/Users/rolly/Documents/10-19_Université_et_scolarité/paleo_comput/data/Title',\n",
       "  '9.21. Title for image of people of the Bosporoi.jpg'),\n",
       " ('/Users/rolly/Documents/10-19_Université_et_scolarité/paleo_comput/data/Title',\n",
       "  '9.6. Title for image of Hemera.jpg'),\n",
       " ('/Users/rolly/Documents/10-19_Université_et_scolarité/paleo_comput/data/Title',\n",
       "  '9.2. Title for image of people of the Rhaeti.jpg'),\n",
       " ('/Users/rolly/Documents/10-19_Université_et_scolarité/paleo_comput/data/Title',\n",
       "  '9.11. Title for image of Sicily.jpg'),\n",
       " ('/Users/rolly/Documents/10-19_Université_et_scolarité/paleo_comput/data/Title',\n",
       "  '9.14. Title for images of Armenia and Nero.jpg'),\n",
       " ('/Users/rolly/Documents/10-19_Université_et_scolarité/paleo_comput/data/Title',\n",
       "  '9.125. Titles on philosopher portraits C.jpg'),\n",
       " ('/Users/rolly/Documents/10-19_Université_et_scolarité/paleo_comput/data/Title',\n",
       "  '11.212. Titles for images on the funerary monument of Zoilos A.jpg'),\n",
       " ('/Users/rolly/Documents/10-19_Université_et_scolarité/paleo_comput/data/Title',\n",
       "  '9.7. Title for image of Ocean.jpg'),\n",
       " ('/Users/rolly/Documents/10-19_Université_et_scolarité/paleo_comput/data/Title',\n",
       "  '9.9. Title of image of People of the Bessi.jpg'),\n",
       " ('/Users/rolly/Documents/10-19_Université_et_scolarité/paleo_comput/data/Title',\n",
       "  '9.125. Titles on philosopher portraits B.jpg'),\n",
       " ('/Users/rolly/Documents/10-19_Université_et_scolarité/paleo_comput/data/Title',\n",
       "  '11.212. Titles for images on the funerary monument of Zoilos B.jpg'),\n",
       " ('/Users/rolly/Documents/10-19_Université_et_scolarité/paleo_comput/data/Title',\n",
       "  '9.4. Title for image of the [Ar]abs.jpg'),\n",
       " ('/Users/rolly/Documents/10-19_Université_et_scolarité/paleo_comput/data/Title',\n",
       "  '11.212. Titles for images on the funerary monument of Zoilos C.jpg'),\n",
       " ('/Users/rolly/Documents/10-19_Université_et_scolarité/paleo_comput/data/Title',\n",
       "  '9.125. Titles on philosopher portraits A.jpg'),\n",
       " ('/Users/rolly/Documents/10-19_Université_et_scolarité/paleo_comput/data/Title',\n",
       "  '9.125. Titles on philosopher portraits E.jpg'),\n",
       " ('/Users/rolly/Documents/10-19_Université_et_scolarité/paleo_comput/data/Title',\n",
       "  '9.125. Titles on philosopher portraits D.jpg'),\n",
       " ('/Users/rolly/Documents/10-19_Université_et_scolarité/paleo_comput/data/Title',\n",
       "  '9.13. Title for image of Armenia.jpg'),\n",
       " ('/Users/rolly/Documents/10-19_Université_et_scolarité/paleo_comput/data/Title',\n",
       "  '9.41. Title for images of Claudius and Britannia.jpg'),\n",
       " ('/Users/rolly/Documents/10-19_Université_et_scolarité/paleo_comput/data/Imperial + imperial letter',\n",
       "  '8.211. Statue dedication of Hygeia to emperors.jpg'),\n",
       " ('/Users/rolly/Documents/10-19_Université_et_scolarité/paleo_comput/data/Imperial + imperial letter',\n",
       "  '12.108. Dedication for Emperors and Caesars.jpg'),\n",
       " ('/Users/rolly/Documents/10-19_Université_et_scolarité/paleo_comput/data/Imperial + imperial letter',\n",
       "  '9.112. Building dedication to Tiberius and Livia D.jpg'),\n",
       " ('/Users/rolly/Documents/10-19_Université_et_scolarité/paleo_comput/data/Imperial + imperial letter',\n",
       "  '8.405. Honours for Julian by Antonius Tatianos.jpg'),\n",
       " ('/Users/rolly/Documents/10-19_Université_et_scolarité/paleo_comput/data/Imperial + imperial letter',\n",
       "  '8.236. Honours for Domitian.jpg'),\n",
       " ('/Users/rolly/Documents/10-19_Université_et_scolarité/paleo_comput/data/Imperial + imperial letter',\n",
       "  '9.112. Building dedication to Tiberius and Livia A.jpg'),\n",
       " ('/Users/rolly/Documents/10-19_Université_et_scolarité/paleo_comput/data/Imperial + imperial letter',\n",
       "  '9.112. Building dedication to Tiberius and Livia B.jpg'),\n",
       " ('/Users/rolly/Documents/10-19_Université_et_scolarité/paleo_comput/data/Imperial + imperial letter',\n",
       "  '12.902. Statue dedication to the Emperor.jpg'),\n",
       " ('/Users/rolly/Documents/10-19_Université_et_scolarité/paleo_comput/data/Imperial + imperial letter',\n",
       "  '11.62. Honours for Cornelia Salonina.jpg'),\n",
       " ('/Users/rolly/Documents/10-19_Université_et_scolarité/paleo_comput/data/Imperial + imperial letter',\n",
       "  '9.112. Building dedication to Tiberius and Livia C.jpg'),\n",
       " ('/Users/rolly/Documents/10-19_Université_et_scolarité/paleo_comput/data/Imperial + imperial letter',\n",
       "  '4.10. Fl. Eutolmius Tatianos honours Arcadius B.jpg'),\n",
       " ('/Users/rolly/Documents/10-19_Université_et_scolarité/paleo_comput/data/Imperial + imperial letter',\n",
       "  '12.643. Honours for a son of Gallienus A.jpg'),\n",
       " ('/Users/rolly/Documents/10-19_Université_et_scolarité/paleo_comput/data/Imperial + imperial letter',\n",
       "  '9.43. Letter of Valerian and Gallienus B.jpg'),\n",
       " ('/Users/rolly/Documents/10-19_Université_et_scolarité/paleo_comput/data/Imperial + imperial letter',\n",
       "  '4.10. Fl. Eutolmius Tatianos honours Arcadius C.jpg'),\n",
       " ('/Users/rolly/Documents/10-19_Université_et_scolarité/paleo_comput/data/Imperial + imperial letter',\n",
       "  '4.10. Fl. Eutolmius Tatianos honours Arcadius A.jpg'),\n",
       " ('/Users/rolly/Documents/10-19_Université_et_scolarité/paleo_comput/data/Imperial + imperial letter',\n",
       "  '12.643. Honours for a son of Gallienus B.jpg'),\n",
       " ('/Users/rolly/Documents/10-19_Université_et_scolarité/paleo_comput/data/Imperial + imperial letter',\n",
       "  '9.43. Letter of Valerian and Gallienus A.jpg'),\n",
       " ('/Users/rolly/Documents/10-19_Université_et_scolarité/paleo_comput/data/Imperial + imperial letter',\n",
       "  '9.40. Honours for Atia mother of Augustus.jpg'),\n",
       " ('/Users/rolly/Documents/10-19_Université_et_scolarité/paleo_comput/data/Imperial + imperial letter',\n",
       "  '12.641. Honours for Caracalla.jpg'),\n",
       " ('/Users/rolly/Documents/10-19_Université_et_scolarité/paleo_comput/data/Imperial + imperial letter',\n",
       "  '2.110. i. Honours for Septimus Severus; ii. Building inscription of Antonius Priskos D.jpg'),\n",
       " ('/Users/rolly/Documents/10-19_Université_et_scolarité/paleo_comput/data/Imperial + imperial letter',\n",
       "  '9.26. Honours for Antonia Augusta.jpg'),\n",
       " ('/Users/rolly/Documents/10-19_Université_et_scolarité/paleo_comput/data/Imperial + imperial letter',\n",
       "  '12.326. Honours for emperor Caracalla.jpg'),\n",
       " ('/Users/rolly/Documents/10-19_Université_et_scolarité/paleo_comput/data/Imperial + imperial letter',\n",
       "  '2.110. i. Honours for Septimus Severus; ii. Building inscription of Antonius Priskos E.jpg'),\n",
       " ('/Users/rolly/Documents/10-19_Université_et_scolarité/paleo_comput/data/Imperial + imperial letter',\n",
       "  '12.642. Statue dedication to empress Julia Domna.jpg'),\n",
       " ('/Users/rolly/Documents/10-19_Université_et_scolarité/paleo_comput/data/Imperial + imperial letter',\n",
       "  '9.38. Honours for Germanicus Caesar.jpg'),\n",
       " ('/Users/rolly/Documents/10-19_Université_et_scolarité/paleo_comput/data/Imperial + imperial letter',\n",
       "  '4.311. Honours for an Emperor, Justinian.jpg'),\n",
       " ('/Users/rolly/Documents/10-19_Université_et_scolarité/paleo_comput/data/Imperial + imperial letter',\n",
       "  '2.110. i. Honours for Septimus Severus; ii. Building inscription of Antonius Priskos B.jpg'),\n",
       " ('/Users/rolly/Documents/10-19_Université_et_scolarité/paleo_comput/data/Imperial + imperial letter',\n",
       "  '2.110. i. Honours for Septimus Severus; ii. Building inscription of Antonius Priskos C.jpg'),\n",
       " ('/Users/rolly/Documents/10-19_Université_et_scolarité/paleo_comput/data/Imperial + imperial letter',\n",
       "  '2.110. i. Honours for Septimus Severus; ii. Building inscription of Antonius Priskos A.jpg'),\n",
       " ('/Users/rolly/Documents/10-19_Université_et_scolarité/paleo_comput/data/Imperial + imperial letter',\n",
       "  '12.614. Honours for Titus Caesar.jpg'),\n",
       " ('/Users/rolly/Documents/10-19_Université_et_scolarité/paleo_comput/data/Imperial + imperial letter',\n",
       "  '12.515. Statue dedication for emperor Claudius.jpg'),\n",
       " ('/Users/rolly/Documents/10-19_Université_et_scolarité/paleo_comput/data/Imperial + imperial letter',\n",
       "  '5.217. Fl. Eutolmius Tatianos honours Honorius.jpg'),\n",
       " ('/Users/rolly/Documents/10-19_Université_et_scolarité/paleo_comput/data/Imperial + imperial letter',\n",
       "  '5.216. Honours for Aelia Flaccilla A.jpg'),\n",
       " ('/Users/rolly/Documents/10-19_Université_et_scolarité/paleo_comput/data/Imperial + imperial letter',\n",
       "  '12.1001. Dedication to Constantius II and a Caesar by Fl. Quint. Eros Monaxios.jpg'),\n",
       " ('/Users/rolly/Documents/10-19_Université_et_scolarité/paleo_comput/data/Imperial + imperial letter',\n",
       "  '5.216. Honours for Aelia Flaccilla B.jpg'),\n",
       " ('/Users/rolly/Documents/10-19_Université_et_scolarité/paleo_comput/data/Imperial + imperial letter',\n",
       "  '9.36. Honours for Aemilia Lepida.jpg'),\n",
       " ('/Users/rolly/Documents/10-19_Université_et_scolarité/paleo_comput/data/Verse',\n",
       "  '9.126. Dedicatory poem B.jpg'),\n",
       " ('/Users/rolly/Documents/10-19_Université_et_scolarité/paleo_comput/data/Verse',\n",
       "  '9.126. Dedicatory poem C.jpg'),\n",
       " ('/Users/rolly/Documents/10-19_Université_et_scolarité/paleo_comput/data/Verse',\n",
       "  '5.121. Verse honours for Menandros, vicar B.jpg'),\n",
       " ('/Users/rolly/Documents/10-19_Université_et_scolarité/paleo_comput/data/Verse',\n",
       "  '9.126. Dedicatory poem A.jpg'),\n",
       " ('/Users/rolly/Documents/10-19_Université_et_scolarité/paleo_comput/data/Verse',\n",
       "  '8.608. i. Verse honours for Doulkitios from Balerianos; ii. Place inscription.jpg'),\n",
       " ('/Users/rolly/Documents/10-19_Université_et_scolarité/paleo_comput/data/Verse',\n",
       "  '4.202. Verse honours i. for Ampelios father of the city ii. and iii. for Doulkitios governor on the Agora Gate A.jpg'),\n",
       " ('/Users/rolly/Documents/10-19_Université_et_scolarité/paleo_comput/data/Verse',\n",
       "  '11.68. Verse posthumous honours, apparently , for Asclepiodotus.jpg'),\n",
       " ('/Users/rolly/Documents/10-19_Université_et_scolarité/paleo_comput/data/Verse',\n",
       "  '4.310. i. Verse honours for Anthemios; ii. Invocation.jpg'),\n",
       " ('/Users/rolly/Documents/10-19_Université_et_scolarité/paleo_comput/data/Verse',\n",
       "  '5.121. Verse honours for Menandros, vicar.jpg'),\n",
       " ('/Users/rolly/Documents/10-19_Université_et_scolarité/paleo_comput/data/Verse',\n",
       "  '2.20. Epigram for Pytheas C.jpg'),\n",
       " ('/Users/rolly/Documents/10-19_Université_et_scolarité/paleo_comput/data/Verse',\n",
       "  '5.16. First honours for Rhodopaios, in verse B.jpg'),\n",
       " ('/Users/rolly/Documents/10-19_Université_et_scolarité/paleo_comput/data/Verse',\n",
       "  '2.20. Epigram for Pytheas B.jpg'),\n",
       " ('/Users/rolly/Documents/10-19_Université_et_scolarité/paleo_comput/data/Verse',\n",
       "  '11.307. Funerary verse.jpg'),\n",
       " ('/Users/rolly/Documents/10-19_Université_et_scolarité/paleo_comput/data/Verse',\n",
       "  '5.16. First honours for Rhodopaios, in verse A.jpg'),\n",
       " ('/Users/rolly/Documents/10-19_Université_et_scolarité/paleo_comput/data/Verse',\n",
       "  '2.20. Epigram for Pytheas A.jpg'),\n",
       " ('/Users/rolly/Documents/10-19_Université_et_scolarité/paleo_comput/data/Verse',\n",
       "  '1.131. i. Fragmentary text; ii. Verse honours for Helladios.jpg'),\n",
       " ('/Users/rolly/Documents/10-19_Université_et_scolarité/paleo_comput/data/Verse',\n",
       "  '5.120. Verse honours for Eupeithios.jpg'),\n",
       " ('/Users/rolly/Documents/10-19_Université_et_scolarité/paleo_comput/data/Verse',\n",
       "  '2.526. Funerary verse.jpg'),\n",
       " ('/Users/rolly/Documents/10-19_Université_et_scolarité/paleo_comput/data/Verse',\n",
       "  '1.193. Warning against approaching the bema (verse); invocations A.jpg'),\n",
       " ('/Users/rolly/Documents/10-19_Université_et_scolarité/paleo_comput/data/Verse',\n",
       "  '3.4. i. Dedication to Patris by Zenon son of Euthymos and others; ii. The Phrygian Metropolis honours Alexandros, in verse B.jpg'),\n",
       " ('/Users/rolly/Documents/10-19_Université_et_scolarité/paleo_comput/data/Verse',\n",
       "  '2.20. Epigram for Pytheas D.jpg'),\n",
       " ('/Users/rolly/Documents/10-19_Université_et_scolarité/paleo_comput/data/Verse',\n",
       "  '5.18. Eugenios is honoured by the boule.jpg'),\n",
       " ('/Users/rolly/Documents/10-19_Université_et_scolarité/paleo_comput/data/Verse',\n",
       "  '1.193. Warning against approaching the bema (verse); invocations B.jpg'),\n",
       " ('/Users/rolly/Documents/10-19_Université_et_scolarité/paleo_comput/data/Verse',\n",
       "  '3.4. i. Dedication to Patris by Zenon son of Euthymos and others; ii. The Phrygian Metropolis honours Alexandros, in verse A.jpg'),\n",
       " ('/Users/rolly/Documents/10-19_Université_et_scolarité/paleo_comput/data/Verse',\n",
       "  '1.195. Fragment of funerary verse.jpg'),\n",
       " ('/Users/rolly/Documents/10-19_Université_et_scolarité/paleo_comput/data/Verse',\n",
       "  '4.202. Verse honours i. for Ampelios, father of the city; ii. and iii. for Doulkitios governor on the Agora Gate D.jpg'),\n",
       " ('/Users/rolly/Documents/10-19_Université_et_scolarité/paleo_comput/data/Verse',\n",
       "  '4.202. Verse honours i. for Ampelios, father of the city; ii. and iii. for Doulkitios governor on the Agora Gate E.jpg'),\n",
       " ('/Users/rolly/Documents/10-19_Université_et_scolarité/paleo_comput/data/Verse',\n",
       "  '1.201. Verse honours for a governor.jpg'),\n",
       " ('/Users/rolly/Documents/10-19_Université_et_scolarité/paleo_comput/data/Verse',\n",
       "  '4.20. Verse honours for Albinos A.jpg'),\n",
       " ('/Users/rolly/Documents/10-19_Université_et_scolarité/paleo_comput/data/Verse',\n",
       "  '8.407. Verse honours for a governor A.jpg'),\n",
       " ('/Users/rolly/Documents/10-19_Université_et_scolarité/paleo_comput/data/Verse',\n",
       "  '8.407. Verse honours for a governor C.jpg'),\n",
       " ('/Users/rolly/Documents/10-19_Université_et_scolarité/paleo_comput/data/Verse',\n",
       "  '8.260. Funerary verse, fragmentary.jpg'),\n",
       " ('/Users/rolly/Documents/10-19_Université_et_scolarité/paleo_comput/data/Verse',\n",
       "  '2.315. Funerary verse for Arkimos.jpg'),\n",
       " ('/Users/rolly/Documents/10-19_Université_et_scolarité/paleo_comput/data/Verse',\n",
       "  '4.20. Verse honours for Albinos B.jpg'),\n",
       " ('/Users/rolly/Documents/10-19_Université_et_scolarité/paleo_comput/data/Verse',\n",
       "  '11.69. Funerary verse, for Asklepiodotos.jpg'),\n",
       " ('/Users/rolly/Documents/10-19_Université_et_scolarité/paleo_comput/data/Verse',\n",
       "  '8.407. Verse honours for a governor B.jpg'),\n",
       " ('/Users/rolly/Documents/10-19_Université_et_scolarité/paleo_comput/data/Verse',\n",
       "  '5.204. i. Honours for Pyrron son of Itharos; ii. Verse honours for Hermias, benefactor A.jpg'),\n",
       " ('/Users/rolly/Documents/10-19_Université_et_scolarité/paleo_comput/data/Verse',\n",
       "  '4.202. Verse honours i. for Ampelios, father of the city; ii. and iii. for Doulkitios governor on the Agora Gate B.jpg'),\n",
       " ('/Users/rolly/Documents/10-19_Université_et_scolarité/paleo_comput/data/Verse',\n",
       "  '4.202. Verse honours i. for Ampelios, father of the city; ii. and iii. for Doulkitios governor on the Agora Gate C.jpg'),\n",
       " ('/Users/rolly/Documents/10-19_Université_et_scolarité/paleo_comput/data/Verse',\n",
       "  '3.8. i. Verse honours for Oikoumenios; ii. Invocation.jpg'),\n",
       " ('/Users/rolly/Documents/10-19_Université_et_scolarité/paleo_comput/data/Verse',\n",
       "  '5.204. i. Honours for Pyrron son of Itharos; ii. Verse honours for Hermias, benefactor B.jpg'),\n",
       " ('/Users/rolly/Documents/10-19_Université_et_scolarité/paleo_comput/data/Verse',\n",
       "  '1.196. Verse honours for Ioannes, leader of the Council.jpg'),\n",
       " ('/Users/rolly/Documents/10-19_Université_et_scolarité/paleo_comput/data/Verse',\n",
       "  '8.270. Funerary verse for Jordanes B.jpg'),\n",
       " ('/Users/rolly/Documents/10-19_Université_et_scolarité/paleo_comput/data/Verse',\n",
       "  '6.5. Verse honours for Ioannes, governor of Caria B.jpg'),\n",
       " ('/Users/rolly/Documents/10-19_Université_et_scolarité/paleo_comput/data/Verse',\n",
       "  '7.2. Dedicatory poem A.jpg'),\n",
       " ('/Users/rolly/Documents/10-19_Université_et_scolarité/paleo_comput/data/Verse',\n",
       "  '7.2. Dedicatory poem C.jpg'),\n",
       " ('/Users/rolly/Documents/10-19_Université_et_scolarité/paleo_comput/data/Verse',\n",
       "  '8.270. Funerary verse for Jordanes A.jpg'),\n",
       " ('/Users/rolly/Documents/10-19_Université_et_scolarité/paleo_comput/data/Verse',\n",
       "  '6.5. Verse honours for Ioannes, governor of Caria A.jpg'),\n",
       " ('/Users/rolly/Documents/10-19_Université_et_scolarité/paleo_comput/data/Verse',\n",
       "  '11.39. Funerary verse.jpg'),\n",
       " ('/Users/rolly/Documents/10-19_Université_et_scolarité/paleo_comput/data/Verse',\n",
       "  '7.2. Dedicatory poem B.jpg'),\n",
       " ('/Users/rolly/Documents/10-19_Université_et_scolarité/paleo_comput/data/Verse',\n",
       "  '5.218. Tatianos, governor, restores the statue of Tatianos, PPO; verse.jpg'),\n",
       " ('/Users/rolly/Documents/10-19_Université_et_scolarité/paleo_comput/data/Verse',\n",
       "  '5.303. Building inscription of Pytheas, in verse.jpg'),\n",
       " ('/Users/rolly/Documents/10-19_Université_et_scolarité/paleo_comput/data/Verse',\n",
       "  '13.125. Funerary verse for Eupeithios.jpg'),\n",
       " ('/Users/rolly/Documents/10-19_Université_et_scolarité/paleo_comput/data/Letter',\n",
       "  '8.24. Letter of Nikomedes IV D.jpg'),\n",
       " ('/Users/rolly/Documents/10-19_Université_et_scolarité/paleo_comput/data/Letter',\n",
       "  '8.2. Letter of Quintus Oppius B.jpg'),\n",
       " ('/Users/rolly/Documents/10-19_Université_et_scolarité/paleo_comput/data/Letter',\n",
       "  '8.29. Letter of Octavian to Stephanos B.jpg'),\n",
       " ('/Users/rolly/Documents/10-19_Université_et_scolarité/paleo_comput/data/Letter',\n",
       "  '1.189. Honours for Licinius Valerianus D.jpg'),\n",
       " ('/Users/rolly/Documents/10-19_Université_et_scolarité/paleo_comput/data/Letter',\n",
       "  '8.2. Letter of Quintus Oppius A.jpg'),\n",
       " ('/Users/rolly/Documents/10-19_Université_et_scolarité/paleo_comput/data/Letter',\n",
       "  '8.29. Letter of Octavian to Stephanos A.jpg'),\n",
       " ('/Users/rolly/Documents/10-19_Université_et_scolarité/paleo_comput/data/Letter',\n",
       "  '1.189. Honours for Licinius Valerianus E.jpg'),\n",
       " ('/Users/rolly/Documents/10-19_Université_et_scolarité/paleo_comput/data/Letter',\n",
       "  '1.189. Honours for Licinius Valerianus A.jpg'),\n",
       " ('/Users/rolly/Documents/10-19_Université_et_scolarité/paleo_comput/data/Letter',\n",
       "  '8.24. Letter of Nikomedes IV C.jpg'),\n",
       " ('/Users/rolly/Documents/10-19_Université_et_scolarité/paleo_comput/data/Letter',\n",
       "  '8.102. Letter of Gordian III to Aphrodisias.jpg'),\n",
       " ('/Users/rolly/Documents/10-19_Université_et_scolarité/paleo_comput/data/Letter',\n",
       "  '8.33. Letter subscript of Trajan to Smyrna A.jpg'),\n",
       " ('/Users/rolly/Documents/10-19_Université_et_scolarité/paleo_comput/data/Letter',\n",
       "  '8.24. Letter of Nikomedes IV B.jpg'),\n",
       " ('/Users/rolly/Documents/10-19_Université_et_scolarité/paleo_comput/data/Letter',\n",
       "  '1.301. i. Letter from a Roman official (a curator) to Aphrodisias. ii Place inscription of Kyriakos, trouser-maker A.jpg'),\n",
       " ('/Users/rolly/Documents/10-19_Université_et_scolarité/paleo_comput/data/Letter',\n",
       "  '1.189. Honours for Licinius Valerianus B.jpg'),\n",
       " ('/Users/rolly/Documents/10-19_Université_et_scolarité/paleo_comput/data/Letter',\n",
       "  '8.33. Letter subscript of Trajan to Smyrna B.jpg'),\n",
       " ('/Users/rolly/Documents/10-19_Université_et_scolarité/paleo_comput/data/Letter',\n",
       "  '8.24. Letter of Nikomedes IV A.jpg'),\n",
       " ('/Users/rolly/Documents/10-19_Université_et_scolarité/paleo_comput/data/Letter',\n",
       "  '1.301. i. Letter from a Roman official (a curator) to Aphrodisias. ii Place inscription of Kyriakos, trouser-maker B.jpg'),\n",
       " ('/Users/rolly/Documents/10-19_Université_et_scolarité/paleo_comput/data/Letter',\n",
       "  '1.189. Honours for Licinius Valerianus C.jpg'),\n",
       " ('/Users/rolly/Documents/10-19_Université_et_scolarité/paleo_comput/data/Letter',\n",
       "  '8.99. Letter of Severus Alexander to Aphrodisias.jpg'),\n",
       " ('/Users/rolly/Documents/10-19_Université_et_scolarité/paleo_comput/data/Letter',\n",
       "  '9.43. Letter of Valerian and Gallienus B.jpg'),\n",
       " ('/Users/rolly/Documents/10-19_Université_et_scolarité/paleo_comput/data/Letter',\n",
       "  '8.35. Letter of Commodus to Aphrodisias A.jpg'),\n",
       " ('/Users/rolly/Documents/10-19_Université_et_scolarité/paleo_comput/data/Letter',\n",
       "  '8.35. Letter of Commodus to Aphrodisias C.jpg'),\n",
       " ('/Users/rolly/Documents/10-19_Université_et_scolarité/paleo_comput/data/Letter',\n",
       "  '8.34. Letter of Hadrian to Aphrodisias.jpg'),\n",
       " ('/Users/rolly/Documents/10-19_Université_et_scolarité/paleo_comput/data/Letter',\n",
       "  '9.43. Letter of Valerian and Gallienus A.jpg'),\n",
       " ('/Users/rolly/Documents/10-19_Université_et_scolarité/paleo_comput/data/Letter',\n",
       "  '8.35. Letter of Commodus to Aphrodisias B.jpg'),\n",
       " ('/Users/rolly/Documents/10-19_Université_et_scolarité/paleo_comput/data/Letter',\n",
       "  '8.31. Letter of Octavian to Ephesus.jpg'),\n",
       " ('/Users/rolly/Documents/10-19_Université_et_scolarité/paleo_comput/data/Letter',\n",
       "  '8.30. Letter of Stephanos to Plarasa or Aphrodisias A.jpg'),\n",
       " ('/Users/rolly/Documents/10-19_Université_et_scolarité/paleo_comput/data/Letter',\n",
       "  '8.30. Letter of Stephanos to Plarasa or Aphrodisias B.jpg'),\n",
       " ('/Users/rolly/Documents/10-19_Université_et_scolarité/paleo_comput/data/Letter',\n",
       "  '8.35. Letter of Commodus to Aphrodisias D.jpg'),\n",
       " ('/Users/rolly/Documents/10-19_Université_et_scolarité/paleo_comput/data/Letter',\n",
       "  '8.25. Letter of Octavian to Plarasa or Aphrodisias.jpg'),\n",
       " ('/Users/rolly/Documents/10-19_Université_et_scolarité/paleo_comput/data/Letter',\n",
       "  '8.100. Letter of Gordian III to Epaphras.jpg'),\n",
       " ('/Users/rolly/Documents/10-19_Université_et_scolarité/paleo_comput/data/Letter',\n",
       "  '8.36. Letter of Severus and Caracalla to Aphrodisias A.jpg'),\n",
       " ('/Users/rolly/Documents/10-19_Université_et_scolarité/paleo_comput/data/Letter',\n",
       "  '8.36. Letter of Severus and Caracalla to Aphrodisias C.jpg'),\n",
       " ('/Users/rolly/Documents/10-19_Université_et_scolarité/paleo_comput/data/Letter',\n",
       "  '8.36. Letter of Severus and Caracalla to Aphrodisias B.jpg'),\n",
       " ('/Users/rolly/Documents/10-19_Université_et_scolarité/paleo_comput/data/Letter',\n",
       "  '8.114. Letter of Traianus Decius and Herennius Etruscus to Aphrodisias.jpg'),\n",
       " ('/Users/rolly/Documents/10-19_Université_et_scolarité/paleo_comput/data/Place inscription',\n",
       "  '4.7. i Place inscription of Eugraphios phylarchos; ii Place inscription of Zotikos C.jpg'),\n",
       " ('/Users/rolly/Documents/10-19_Université_et_scolarité/paleo_comput/data/Place inscription',\n",
       "  '4.7. i Place inscription of Eugraphios phylarchos; ii Place inscription of Zotikos B.jpg'),\n",
       " ('/Users/rolly/Documents/10-19_Université_et_scolarité/paleo_comput/data/Place inscription',\n",
       "  '8.18. Place inscription of Neikanor.jpg'),\n",
       " ('/Users/rolly/Documents/10-19_Université_et_scolarité/paleo_comput/data/Place inscription',\n",
       "  '8.608. i. Verse honours for Doulkitios from Balerianos; ii. Place inscription.jpg'),\n",
       " ('/Users/rolly/Documents/10-19_Université_et_scolarité/paleo_comput/data/Place inscription',\n",
       "  '4.7. i Place inscription of Eugraphios phylarchos; ii Place inscription of Zotikos A.jpg'),\n",
       " ('/Users/rolly/Documents/10-19_Université_et_scolarité/paleo_comput/data/Place inscription',\n",
       "  '8.22. Place inscription of a biologos.jpg'),\n",
       " ('/Users/rolly/Documents/10-19_Université_et_scolarité/paleo_comput/data/Place inscription',\n",
       "  '8.8. Place inscription of Philistion.jpg'),\n",
       " ('/Users/rolly/Documents/10-19_Université_et_scolarité/paleo_comput/data/Place inscription',\n",
       "  '8.255. Place inscription for Aelius Benouseinos.jpg'),\n",
       " ('/Users/rolly/Documents/10-19_Université_et_scolarité/paleo_comput/data/Place inscription',\n",
       "  '5.11. Place inscription of Epiktetos, cloakroom-attendant.jpg'),\n",
       " ('/Users/rolly/Documents/10-19_Université_et_scolarité/paleo_comput/data/Place inscription',\n",
       "  '1.301. i. Letter from a Roman official (a curator) to Aphrodisias. ii Place inscription of Kyriakos, trouser-maker A.jpg'),\n",
       " ('/Users/rolly/Documents/10-19_Université_et_scolarité/paleo_comput/data/Place inscription',\n",
       "  '1.301. i. Letter from a Roman official (a curator) to Aphrodisias. ii Place inscription of Kyriakos, trouser-maker B.jpg'),\n",
       " ('/Users/rolly/Documents/10-19_Université_et_scolarité/paleo_comput/data/Place inscription',\n",
       "  '8.602. Place inscription of Aelianos.jpg'),\n",
       " ('/Users/rolly/Documents/10-19_Université_et_scolarité/paleo_comput/data/Place inscription',\n",
       "  '8.15. Place inscription of archeologoi.jpg'),\n",
       " ('/Users/rolly/Documents/10-19_Université_et_scolarité/paleo_comput/data/Place inscription',\n",
       "  '4.18. Place inscription of Ioan(nes) B.jpg'),\n",
       " ('/Users/rolly/Documents/10-19_Université_et_scolarité/paleo_comput/data/Place inscription',\n",
       "  '8.265. Reserved benches for associations A.jpg'),\n",
       " ('/Users/rolly/Documents/10-19_Université_et_scolarité/paleo_comput/data/Place inscription',\n",
       "  '8.265. Reserved benches for associations C.jpg'),\n",
       " ('/Users/rolly/Documents/10-19_Université_et_scolarité/paleo_comput/data/Place inscription',\n",
       "  '4.18. Place inscription of Ioan(nes) A.jpg'),\n",
       " ('/Users/rolly/Documents/10-19_Université_et_scolarité/paleo_comput/data/Place inscription',\n",
       "  '8.265. Reserved benches for associations B.jpg'),\n",
       " ('/Users/rolly/Documents/10-19_Université_et_scolarité/paleo_comput/data/Place inscription',\n",
       "  '1.11. Place inscription of Loukas, philoponus.jpg'),\n",
       " ('/Users/rolly/Documents/10-19_Université_et_scolarité/paleo_comput/data/Place inscription',\n",
       "  '8.265. Reserved benches for associations F.jpg'),\n",
       " ('/Users/rolly/Documents/10-19_Université_et_scolarité/paleo_comput/data/Place inscription',\n",
       "  '8.17. Place inscription of Kapuras and Philologos A.jpg'),\n",
       " ('/Users/rolly/Documents/10-19_Université_et_scolarité/paleo_comput/data/Place inscription',\n",
       "  '5.12. i. Fragment of verse. ii. Place inscription of Synodios B.jpg'),\n",
       " ('/Users/rolly/Documents/10-19_Université_et_scolarité/paleo_comput/data/Place inscription',\n",
       "  '8.507. Place inscription of Heortasios.jpg'),\n",
       " ('/Users/rolly/Documents/10-19_Université_et_scolarité/paleo_comput/data/Place inscription',\n",
       "  '4.8. Place inscription of Kes.jpg'),\n",
       " ('/Users/rolly/Documents/10-19_Université_et_scolarité/paleo_comput/data/Place inscription',\n",
       "  '8.265. Reserved benches for associations E.jpg'),\n",
       " ('/Users/rolly/Documents/10-19_Université_et_scolarité/paleo_comput/data/Place inscription',\n",
       "  '8.17. Place inscription of Kapuras and Philologos B.jpg'),\n",
       " ('/Users/rolly/Documents/10-19_Université_et_scolarité/paleo_comput/data/Place inscription',\n",
       "  '5.12. i. Fragment of verse. ii. Place inscription of Synodios A.jpg'),\n",
       " ('/Users/rolly/Documents/10-19_Université_et_scolarité/paleo_comput/data/Place inscription',\n",
       "  '8.19. Place inscription of Bassos; invocation.jpg'),\n",
       " ('/Users/rolly/Documents/10-19_Université_et_scolarité/paleo_comput/data/Place inscription',\n",
       "  '8.17. Place inscription of Kapuras and Philologos C.jpg'),\n",
       " ('/Users/rolly/Documents/10-19_Université_et_scolarité/paleo_comput/data/Place inscription',\n",
       "  '8.265. Reserved benches for associations D.jpg'),\n",
       " ('/Users/rolly/Documents/10-19_Université_et_scolarité/paleo_comput/data/Place inscription',\n",
       "  '12.516. Place inscription of Philothe[os].jpg'),\n",
       " ('/Users/rolly/Documents/10-19_Université_et_scolarité/paleo_comput/data/Place inscription',\n",
       "  '4.16. Place inscription of Theoktistos A.jpg'),\n",
       " ('/Users/rolly/Documents/10-19_Université_et_scolarité/paleo_comput/data/Place inscription',\n",
       "  '4.16. Place inscription of Theoktistos B.jpg'),\n",
       " ('/Users/rolly/Documents/10-19_Université_et_scolarité/paleo_comput/data/Place inscription',\n",
       "  '3.5. Place inscription of Philip(pos).jpg'),\n",
       " ('/Users/rolly/Documents/10-19_Université_et_scolarité/paleo_comput/data/Place inscription',\n",
       "  '4.15. Place inscription of Kallinikos.jpg'),\n",
       " ('/Users/rolly/Documents/10-19_Université_et_scolarité/paleo_comput/data/Place inscription',\n",
       "  '8.21. Place inscription of Demetrios, homerist A.jpg'),\n",
       " ('/Users/rolly/Documents/10-19_Université_et_scolarité/paleo_comput/data/Place inscription',\n",
       "  '8.606. Place inscription of Theodoros.jpg'),\n",
       " ('/Users/rolly/Documents/10-19_Université_et_scolarité/paleo_comput/data/Place inscription',\n",
       "  '8.16. Place inscription of Autolykos.jpg'),\n",
       " ('/Users/rolly/Documents/10-19_Université_et_scolarité/paleo_comput/data/Place inscription',\n",
       "  '8.21. Place inscription of Demetrios, homerist B.jpg'),\n",
       " ('/Users/rolly/Documents/10-19_Université_et_scolarité/paleo_comput/data/Place inscription',\n",
       "  '1.402. Place inscription of Heptamenios et al..jpg'),\n",
       " ('/Users/rolly/Documents/10-19_Université_et_scolarité/paleo_comput/data/Place inscription',\n",
       "  '8.9. Place inscription of Pardalas, mimologos A.jpg'),\n",
       " ('/Users/rolly/Documents/10-19_Université_et_scolarité/paleo_comput/data/Place inscription',\n",
       "  '8.9. Place inscription of Pardalas, mimologos C.jpg'),\n",
       " ('/Users/rolly/Documents/10-19_Université_et_scolarité/paleo_comput/data/Place inscription',\n",
       "  '8.9. Place inscription of Pardalas, mimologos B.jpg'),\n",
       " ('/Users/rolly/Documents/10-19_Université_et_scolarité/paleo_comput/data/Place inscription',\n",
       "  '8.20. Place inscriptions of Ioulianos and Bassos.jpg'),\n",
       " ('/Users/rolly/Documents/10-19_Université_et_scolarité/paleo_comput/data/Place inscription',\n",
       "  '4.9. Place inscription of Zotikos, peddlar.jpg'),\n",
       " ('/Users/rolly/Documents/10-19_Université_et_scolarité/paleo_comput/data/Decree',\n",
       "  '12.207. Consolatory decree, on death of Titus Antonius Lysimachos Grypos.jpg'),\n",
       " ('/Users/rolly/Documents/10-19_Université_et_scolarité/paleo_comput/data/Decree',\n",
       "  '2.506. Decree of honours by Plyareis for Agroitas Kallikrat[ous].jpg'),\n",
       " ('/Users/rolly/Documents/10-19_Université_et_scolarité/paleo_comput/data/Decree',\n",
       "  '15.327. Second decree of the synod of athletes in honour of Kallikrates.jpg'),\n",
       " ('/Users/rolly/Documents/10-19_Université_et_scolarité/paleo_comput/data/Decree',\n",
       "  '12.719. Decree of honours for Kallikrates son of Diogenes,pancratiast.jpg'),\n",
       " ('/Users/rolly/Documents/10-19_Université_et_scolarité/paleo_comput/data/Decree',\n",
       "  '12.309. Consolatory decree, on death of Apphia daughter of Timotheos.jpg'),\n",
       " ('/Users/rolly/Documents/10-19_Université_et_scolarité/paleo_comput/data/Decree',\n",
       "  '12.206. Decree of honours for Attinas Meliton.jpg'),\n",
       " ('/Users/rolly/Documents/10-19_Université_et_scolarité/paleo_comput/data/Decree',\n",
       "  '12.319. Decree of honours for Praxiteles son of Aristeas B.jpg'),\n",
       " ('/Users/rolly/Documents/10-19_Université_et_scolarité/paleo_comput/data/Decree',\n",
       "  '12.319. Decree of honours for Praxiteles son of Aristeas A.jpg'),\n",
       " ('/Users/rolly/Documents/10-19_Université_et_scolarité/paleo_comput/data/Decree',\n",
       "  '12.605. Fragment from a decree.jpg'),\n",
       " ('/Users/rolly/Documents/10-19_Université_et_scolarité/paleo_comput/data/Decree',\n",
       "  '12.201. Decree of honours for Pereitas.jpg'),\n",
       " ('/Users/rolly/Documents/10-19_Université_et_scolarité/paleo_comput/data/Decree',\n",
       "  '2.525. Fragments of a consolatory decree.jpg'),\n",
       " ('/Users/rolly/Documents/10-19_Université_et_scolarité/paleo_comput/data/Decree',\n",
       "  '12.1015. Funerary copy of a consolatory decree.jpg'),\n",
       " ('/Users/rolly/Documents/10-19_Université_et_scolarité/paleo_comput/data/Decree',\n",
       "  '12.704. Consolatory decree for three brothers A.jpg'),\n",
       " ('/Users/rolly/Documents/10-19_Université_et_scolarité/paleo_comput/data/Decree',\n",
       "  '12.704. Consolatory decree for three brothers C.jpg'),\n",
       " ('/Users/rolly/Documents/10-19_Université_et_scolarité/paleo_comput/data/Decree',\n",
       "  '1.503. Heading to decree.jpg'),\n",
       " ('/Users/rolly/Documents/10-19_Université_et_scolarité/paleo_comput/data/Decree',\n",
       "  '12.704. Consolatory decree for three brothers B.jpg'),\n",
       " ('/Users/rolly/Documents/10-19_Université_et_scolarité/paleo_comput/data/Decree',\n",
       "  '8.26. Triumviral decree F.jpg'),\n",
       " ('/Users/rolly/Documents/10-19_Université_et_scolarité/paleo_comput/data/Decree',\n",
       "  '12.19. a Funerary inscription and b consolatory decree.jpg'),\n",
       " ('/Users/rolly/Documents/10-19_Université_et_scolarité/paleo_comput/data/Decree',\n",
       "  '8.26. Triumviral decree E.jpg'),\n",
       " ('/Users/rolly/Documents/10-19_Université_et_scolarité/paleo_comput/data/Decree',\n",
       "  '8.26. Triumviral decree D.jpg'),\n",
       " ('/Users/rolly/Documents/10-19_Université_et_scolarité/paleo_comput/data/Decree',\n",
       "  '12.612. Decree of honours for Dionysios son of Papylos.jpg'),\n",
       " ('/Users/rolly/Documents/10-19_Université_et_scolarité/paleo_comput/data/Decree',\n",
       "  '8.26. Triumviral decree A.jpg'),\n",
       " ('/Users/rolly/Documents/10-19_Université_et_scolarité/paleo_comput/data/Decree',\n",
       "  '12.205. Consolatory decree for Tatia Attalis A.jpg'),\n",
       " ('/Users/rolly/Documents/10-19_Université_et_scolarité/paleo_comput/data/Decree',\n",
       "  '8.26. Triumviral decree C.jpg'),\n",
       " ('/Users/rolly/Documents/10-19_Université_et_scolarité/paleo_comput/data/Decree',\n",
       "  '8.26. Triumviral decree B.jpg'),\n",
       " ('/Users/rolly/Documents/10-19_Université_et_scolarité/paleo_comput/data/Decree',\n",
       "  '12.205. Consolatory decree for Tatia Attalis B.jpg'),\n",
       " ('/Users/rolly/Documents/10-19_Université_et_scolarité/paleo_comput/data/Agonistic',\n",
       "  '2.2. Invocation of Ourania.jpg'),\n",
       " ('/Users/rolly/Documents/10-19_Université_et_scolarité/paleo_comput/data/Agonistic',\n",
       "  '1.177. Honours for Zenon son of Zenon, wrestler A.jpg'),\n",
       " ('/Users/rolly/Documents/10-19_Université_et_scolarité/paleo_comput/data/Agonistic',\n",
       "  '1.177. Honours for Zenon son of Zenon, wrestler C.jpg'),\n",
       " ('/Users/rolly/Documents/10-19_Université_et_scolarité/paleo_comput/data/Agonistic',\n",
       "  '1.177. Honours for Zenon son of Zenon, wrestler B.jpg'),\n",
       " ('/Users/rolly/Documents/10-19_Université_et_scolarité/paleo_comput/data/Agonistic',\n",
       "  '1.182. Honours for Meliton, kitharist F.jpg'),\n",
       " ('/Users/rolly/Documents/10-19_Université_et_scolarité/paleo_comput/data/Agonistic',\n",
       "  '1.182. Honours for Meliton, kitharist G.jpg'),\n",
       " ('/Users/rolly/Documents/10-19_Université_et_scolarité/paleo_comput/data/Agonistic',\n",
       "  '1.182. Honours for Meliton, kitharist E.jpg'),\n",
       " ('/Users/rolly/Documents/10-19_Université_et_scolarité/paleo_comput/data/Agonistic',\n",
       "  '1.182. Honours for Meliton, kitharist D.jpg'),\n",
       " ('/Users/rolly/Documents/10-19_Université_et_scolarité/paleo_comput/data/Agonistic',\n",
       "  '1.182. Honours for Meliton, kitharist A.jpg'),\n",
       " ('/Users/rolly/Documents/10-19_Université_et_scolarité/paleo_comput/data/Agonistic',\n",
       "  '1.182. Honours for Meliton, kitharist C.jpg'),\n",
       " ('/Users/rolly/Documents/10-19_Université_et_scolarité/paleo_comput/data/Agonistic',\n",
       "  '1.182. Honours for Meliton, kitharist B.jpg'),\n",
       " ('/Users/rolly/Documents/10-19_Université_et_scolarité/paleo_comput/data/Religious',\n",
       "  '8.211. Statue dedication of Hygeia to emperors.jpg'),\n",
       " ('/Users/rolly/Documents/10-19_Université_et_scolarité/paleo_comput/data/Religious',\n",
       "  '2.309. Funerary formula from sarcophagus.jpg'),\n",
       " ('/Users/rolly/Documents/10-19_Université_et_scolarité/paleo_comput/data/Religious',\n",
       "  '13.108. Funerary inscription for Aurelia Zotike and her father.jpg'),\n",
       " ('/Users/rolly/Documents/10-19_Université_et_scolarité/paleo_comput/data/Religious',\n",
       "  '8.209. Votive offering to Kore Plyarei by Diogenes and Tatias.jpg'),\n",
       " ('/Users/rolly/Documents/10-19_Université_et_scolarité/paleo_comput/data/Religious',\n",
       "  '14.19. Funerary inscription for Tatia B.jpg'),\n",
       " ('/Users/rolly/Documents/10-19_Université_et_scolarité/paleo_comput/data/Religious',\n",
       "  '12.716. Honours for Kallimorphos, flautist.jpg'),\n",
       " ('/Users/rolly/Documents/10-19_Université_et_scolarité/paleo_comput/data/Religious',\n",
       "  '2.2. Invocation of Ourania.jpg'),\n",
       " ('/Users/rolly/Documents/10-19_Université_et_scolarité/paleo_comput/data/Religious',\n",
       "  '1.22. Prayers on West Door of Temple-Church (north).jpg'),\n",
       " ('/Users/rolly/Documents/10-19_Université_et_scolarité/paleo_comput/data/Religious',\n",
       "  '11.66. Dedication by Flavius Eusebios.jpg'),\n",
       " ('/Users/rolly/Documents/10-19_Université_et_scolarité/paleo_comput/data/Religious',\n",
       "  '9.112. Building dedication to Tiberius and Livia D.jpg'),\n",
       " ('/Users/rolly/Documents/10-19_Université_et_scolarité/paleo_comput/data/Religious',\n",
       "  '11.407. Building dedication to Aphrodite.jpg'),\n",
       " ('/Users/rolly/Documents/10-19_Université_et_scolarité/paleo_comput/data/Religious',\n",
       "  '15.352. Dedication from a church (building inscription).jpg'),\n",
       " ('/Users/rolly/Documents/10-19_Université_et_scolarité/paleo_comput/data/Religious',\n",
       "  '1.7. Column dedication by Attalos and Attalis.jpg'),\n",
       " ('/Users/rolly/Documents/10-19_Université_et_scolarité/paleo_comput/data/Religious',\n",
       "  '14.19. Funerary inscription for Tatia A.jpg'),\n",
       " ('/Users/rolly/Documents/10-19_Université_et_scolarité/paleo_comput/data/Religious',\n",
       "  '11.51. Dedication by Tiberius Claudius Apollonios Aurelianos.jpg'),\n",
       " ('/Users/rolly/Documents/10-19_Université_et_scolarité/paleo_comput/data/Religious',\n",
       "  '8.405. Honours for Julian by Antonius Tatianos.jpg'),\n",
       " ('/Users/rolly/Documents/10-19_Université_et_scolarité/paleo_comput/data/Religious',\n",
       "  '12.1020. Honours for Ulpia Carminia Claudiana.jpg'),\n",
       " ('/Users/rolly/Documents/10-19_Université_et_scolarité/paleo_comput/data/Religious',\n",
       "  '5.7. Dedication of a caryatid by Attalis.jpg'),\n",
       " ('/Users/rolly/Documents/10-19_Université_et_scolarité/paleo_comput/data/Religious',\n",
       "  '12.1211. Gladiator memorial for familia of M. Antonius Apellas Severinos.jpg'),\n",
       " ('/Users/rolly/Documents/10-19_Université_et_scolarité/paleo_comput/data/Religious',\n",
       "  '1.186. Honours for Aurelia Apphia daughter of Epiktetos.jpg'),\n",
       " ('/Users/rolly/Documents/10-19_Université_et_scolarité/paleo_comput/data/Religious',\n",
       "  '4.202. Verse honours i. for Ampelios father of the city ii. and iii. for Doulkitios governor on the Agora Gate A.jpg'),\n",
       " ('/Users/rolly/Documents/10-19_Université_et_scolarité/paleo_comput/data/Religious',\n",
       "  '11.43. Funerary inscription for Meltinianos.jpg'),\n",
       " ('/Users/rolly/Documents/10-19_Université_et_scolarité/paleo_comput/data/Religious',\n",
       "  '9.112. Building dedication to Tiberius and Livia A.jpg'),\n",
       " ('/Users/rolly/Documents/10-19_Université_et_scolarité/paleo_comput/data/Religious',\n",
       "  '8.263. Epitaph of Athanasios.jpg'),\n",
       " ('/Users/rolly/Documents/10-19_Université_et_scolarité/paleo_comput/data/Religious',\n",
       "  '8.82. Building dedication to Nemesis B.jpg'),\n",
       " ('/Users/rolly/Documents/10-19_Université_et_scolarité/paleo_comput/data/Religious',\n",
       "  '8.276. Dedicatory poem, church of SS. Barbara and Anastasia C.jpg'),\n",
       " ('/Users/rolly/Documents/10-19_Université_et_scolarité/paleo_comput/data/Religious',\n",
       "  '8.708. Altar dedication for Hadrian.jpg'),\n",
       " ('/Users/rolly/Documents/10-19_Université_et_scolarité/paleo_comput/data/Religious',\n",
       "  '8.276. Dedicatory poem, church of SS. Barbara and Anastasia B.jpg'),\n",
       " ('/Users/rolly/Documents/10-19_Université_et_scolarité/paleo_comput/data/Religious',\n",
       "  '1.33. Graffiti names and prayers.jpg'),\n",
       " ('/Users/rolly/Documents/10-19_Université_et_scolarité/paleo_comput/data/Religious',\n",
       "  '1.177. Honours for Zenon son of Zenon, wrestler A.jpg'),\n",
       " ('/Users/rolly/Documents/10-19_Université_et_scolarité/paleo_comput/data/Religious',\n",
       "  '12.807. Honours for Marcus Antonius Popillios Agelaos.jpg'),\n",
       " ('/Users/rolly/Documents/10-19_Université_et_scolarité/paleo_comput/data/Religious',\n",
       "  '12.918. Funerary inscription for anonymous.jpg'),\n",
       " ('/Users/rolly/Documents/10-19_Université_et_scolarité/paleo_comput/data/Religious',\n",
       "  '9.112. Building dedication to Tiberius and Livia B.jpg'),\n",
       " ('/Users/rolly/Documents/10-19_Université_et_scolarité/paleo_comput/data/Religious',\n",
       "  '1.177. Honours for Zenon son of Zenon, wrestler C.jpg'),\n",
       " ('/Users/rolly/Documents/10-19_Université_et_scolarité/paleo_comput/data/Religious',\n",
       "  '12.902. Statue dedication to the Emperor.jpg'),\n",
       " ('/Users/rolly/Documents/10-19_Université_et_scolarité/paleo_comput/data/Religious',\n",
       "  '8.82. Building dedication to Nemesis A.jpg'),\n",
       " ('/Users/rolly/Documents/10-19_Université_et_scolarité/paleo_comput/data/Religious',\n",
       "  '15.353. Invocation.jpg'),\n",
       " ('/Users/rolly/Documents/10-19_Université_et_scolarité/paleo_comput/data/Religious',\n",
       "  '12.912. Honours for Marcus Aurelius Gaitulikos.jpg'),\n",
       " ('/Users/rolly/Documents/10-19_Université_et_scolarité/paleo_comput/data/Religious',\n",
       "  '15.319. Honours for Tib. Cl. [Apollonios] Aurelianos.jpg'),\n",
       " ('/Users/rolly/Documents/10-19_Université_et_scolarité/paleo_comput/data/Religious',\n",
       "  '8.276. Dedicatory poem, church of SS. Barbara and Anastasia A.jpg'),\n",
       " ('/Users/rolly/Documents/10-19_Université_et_scolarité/paleo_comput/data/Religious',\n",
       "  '8.108. Building dedication by Aristokles Molossos.jpg'),\n",
       " ('/Users/rolly/Documents/10-19_Université_et_scolarité/paleo_comput/data/Religious',\n",
       "  '1.177. Honours for Zenon son of Zenon, wrestler B.jpg'),\n",
       " ('/Users/rolly/Documents/10-19_Université_et_scolarité/paleo_comput/data/Religious',\n",
       "  '9.112. Building dedication to Tiberius and Livia C.jpg'),\n",
       " ('/Users/rolly/Documents/10-19_Université_et_scolarité/paleo_comput/data/Religious',\n",
       "  '5.6. Building dedication of the Eusebian Bath to the Emperors and Aphrodite.jpg'),\n",
       " ('/Users/rolly/Documents/10-19_Université_et_scolarité/paleo_comput/data/Religious',\n",
       "  '9.15. Title for images of Rome and Earth.jpg'),\n",
       " ('/Users/rolly/Documents/10-19_Université_et_scolarité/paleo_comput/data/Religious',\n",
       "  '4.310. i. Verse honours for Anthemios ii. Invocation B.jpg'),\n",
       " ('/Users/rolly/Documents/10-19_Université_et_scolarité/paleo_comput/data/Religious',\n",
       "  '12.703. Dedication of trapeza by Kallikrates son of Molossos.jpg'),\n",
       " ('/Users/rolly/Documents/10-19_Université_et_scolarité/paleo_comput/data/Religious',\n",
       "  '4.21. 1. Acclamations for Albinos, clarissimus; 2. Acclamation for the city B.jpg'),\n",
       " ('/Users/rolly/Documents/10-19_Université_et_scolarité/paleo_comput/data/Religious',\n",
       "  '1.14. Prayer of Anastasios, donor B.jpg'),\n",
       " ('/Users/rolly/Documents/10-19_Université_et_scolarité/paleo_comput/data/Religious',\n",
       "  '2.20. Epigram for Pytheas C.jpg'),\n",
       " ('/Users/rolly/Documents/10-19_Université_et_scolarité/paleo_comput/data/Religious',\n",
       "  '9.25. Building dedication of Sebasteion portico for Aphrodite, Emperors and Demos D.jpg'),\n",
       " ('/Users/rolly/Documents/10-19_Université_et_scolarité/paleo_comput/data/Religious',\n",
       "  '4.10. Fl. Eutolmius Tatianos honours Arcadius B.jpg'),\n",
       " ('/Users/rolly/Documents/10-19_Université_et_scolarité/paleo_comput/data/Religious',\n",
       "  '13.111. Funerary inscription for Marcus Aurelius Zotikos son of Dionysios.jpg'),\n",
       " ('/Users/rolly/Documents/10-19_Université_et_scolarité/paleo_comput/data/Religious',\n",
       "  '8.233. Building dedication for Aphrodite, Emperors and Demos B.jpg'),\n",
       " ('/Users/rolly/Documents/10-19_Université_et_scolarité/paleo_comput/data/Religious',\n",
       "  '9.43. Letter of Valerian and Gallienus B.jpg'),\n",
       " ('/Users/rolly/Documents/10-19_Université_et_scolarité/paleo_comput/data/Religious',\n",
       "  '8.39. Honours for Hosidius Ioulianos A.jpg'),\n",
       " ('/Users/rolly/Documents/10-19_Université_et_scolarité/paleo_comput/data/Religious',\n",
       "  '4.10. Fl. Eutolmius Tatianos honours Arcadius C.jpg'),\n",
       " ('/Users/rolly/Documents/10-19_Université_et_scolarité/paleo_comput/data/Religious',\n",
       "  '9.25. Building dedication of Sebasteion portico for Aphrodite, Emperors and Demos E.jpg'),\n",
       " ('/Users/rolly/Documents/10-19_Université_et_scolarité/paleo_comput/data/Religious',\n",
       "  '5.16. First honours for Rhodopaios, in verse B.jpg'),\n",
       " ('/Users/rolly/Documents/10-19_Université_et_scolarité/paleo_comput/data/Religious',\n",
       "  '2.20. Epigram for Pytheas B.jpg'),\n",
       " ('/Users/rolly/Documents/10-19_Université_et_scolarité/paleo_comput/data/Religious',\n",
       "  '1.4. Column dedication by Eumachos and Amias.jpg'),\n",
       " ('/Users/rolly/Documents/10-19_Université_et_scolarité/paleo_comput/data/Religious',\n",
       "  '1.14. Prayer of Anastasios, donor C.jpg'),\n",
       " ('/Users/rolly/Documents/10-19_Université_et_scolarité/paleo_comput/data/Religious',\n",
       "  '4.21. 1. Acclamations for Albinos, clarissimus; 2. Acclamation for the city C.jpg'),\n",
       " ('/Users/rolly/Documents/10-19_Université_et_scolarité/paleo_comput/data/Religious',\n",
       "  '15.347. Funerary verse for Claudia.jpg'),\n",
       " ('/Users/rolly/Documents/10-19_Université_et_scolarité/paleo_comput/data/Religious',\n",
       "  '4.310. i. Verse honours for Anthemios ii. Invocation A.jpg'),\n",
       " ('/Users/rolly/Documents/10-19_Université_et_scolarité/paleo_comput/data/Religious',\n",
       "  '4.21. 1. Acclamations for Albinos, clarissimus; 2. Acclamation for the city A.jpg'),\n",
       " ('/Users/rolly/Documents/10-19_Université_et_scolarité/paleo_comput/data/Religious',\n",
       "  '9.6. Title for image of Hemera.jpg'),\n",
       " ('/Users/rolly/Documents/10-19_Université_et_scolarité/paleo_comput/data/Religious',\n",
       "  '1.14. Prayer of Anastasios, donor A.jpg'),\n",
       " ('/Users/rolly/Documents/10-19_Université_et_scolarité/paleo_comput/data/Religious',\n",
       "  '9.25. Building dedication of Sebasteion portico for Aphrodite, Emperors and Demos G.jpg'),\n",
       " ('/Users/rolly/Documents/10-19_Université_et_scolarité/paleo_comput/data/Religious',\n",
       "  '5.301. Statue dedication by Flavius Zenon.jpg'),\n",
       " ('/Users/rolly/Documents/10-19_Université_et_scolarité/paleo_comput/data/Religious',\n",
       "  '15.362. Funerary verse for Euphemia.jpg'),\n",
       " ('/Users/rolly/Documents/10-19_Université_et_scolarité/paleo_comput/data/Religious',\n",
       "  '4.10. Fl. Eutolmius Tatianos honours Arcadius A.jpg'),\n",
       " ('/Users/rolly/Documents/10-19_Université_et_scolarité/paleo_comput/data/Religious',\n",
       "  '8.39. Honours for Hosidius Ioulianos C.jpg'),\n",
       " ('/Users/rolly/Documents/10-19_Université_et_scolarité/paleo_comput/data/Religious',\n",
       "  '8.233. Building dedication for Aphrodite, Emperors and Demos A.jpg'),\n",
       " ('/Users/rolly/Documents/10-19_Université_et_scolarité/paleo_comput/data/Religious',\n",
       "  '9.43. Letter of Valerian and Gallienus A.jpg'),\n",
       " ('/Users/rolly/Documents/10-19_Université_et_scolarité/paleo_comput/data/Religious',\n",
       "  '8.39. Honours for Hosidius Ioulianos B.jpg'),\n",
       " ('/Users/rolly/Documents/10-19_Université_et_scolarité/paleo_comput/data/Religious',\n",
       "  '9.25. Building dedication of Sebasteion portico for Aphrodite, Emperors and Demos F.jpg'),\n",
       " ('/Users/rolly/Documents/10-19_Université_et_scolarité/paleo_comput/data/Religious',\n",
       "  '5.16. First honours for Rhodopaios, in verse A.jpg'),\n",
       " ('/Users/rolly/Documents/10-19_Université_et_scolarité/paleo_comput/data/Religious',\n",
       "  '2.20. Epigram for Pytheas A.jpg'),\n",
       " ('/Users/rolly/Documents/10-19_Université_et_scolarité/paleo_comput/data/Religious',\n",
       "  '1.11. Place inscription of Loukas, philoponus.jpg'),\n",
       " ('/Users/rolly/Documents/10-19_Université_et_scolarité/paleo_comput/data/Religious',\n",
       "  '4.21. 1. Acclamations for Albinos, clarissimus; 2. Acclamation for the city D.jpg'),\n",
       " ('/Users/rolly/Documents/10-19_Université_et_scolarité/paleo_comput/data/Religious',\n",
       "  '14.16. Funerary verse for Stephanos.jpg'),\n",
       " ('/Users/rolly/Documents/10-19_Université_et_scolarité/paleo_comput/data/Religious',\n",
       "  '1.14. Prayer of Anastasios, donor D.jpg'),\n",
       " ('/Users/rolly/Documents/10-19_Université_et_scolarité/paleo_comput/data/Religious',\n",
       "  '2.20. Epigram for Pytheas E.jpg'),\n",
       " ('/Users/rolly/Documents/10-19_Université_et_scolarité/paleo_comput/data/Religious',\n",
       "  '1.193. Warning against approaching the bema (verse); invocations A.jpg'),\n",
       " ('/Users/rolly/Documents/10-19_Université_et_scolarité/paleo_comput/data/Religious',\n",
       "  '9.25. Building dedication of Sebasteion portico for Aphrodite, Emperors and Demos B.jpg'),\n",
       " ('/Users/rolly/Documents/10-19_Université_et_scolarité/paleo_comput/data/Religious',\n",
       "  '13.104. Funerary inscription for Aurelia Meltine.jpg'),\n",
       " ('/Users/rolly/Documents/10-19_Université_et_scolarité/paleo_comput/data/Religious',\n",
       "  '15.5. Funerary inscription of Aurelia Dionysia A.jpg'),\n",
       " ('/Users/rolly/Documents/10-19_Université_et_scolarité/paleo_comput/data/Religious',\n",
       "  '9.25. Building dedication of Sebasteion portico for Aphrodite, Emperors and Demos C.jpg'),\n",
       " ('/Users/rolly/Documents/10-19_Université_et_scolarité/paleo_comput/data/Religious',\n",
       "  '12.920. Honours for Aelius Aurelius Menandros.jpg'),\n",
       " ('/Users/rolly/Documents/10-19_Université_et_scolarité/paleo_comput/data/Religious',\n",
       "  '8.275. Epitaph of Theodokios.jpg'),\n",
       " ('/Users/rolly/Documents/10-19_Université_et_scolarité/paleo_comput/data/Religious',\n",
       "  '1.21. Prayers on West Door of Temple-Church (south).jpg'),\n",
       " ('/Users/rolly/Documents/10-19_Université_et_scolarité/paleo_comput/data/Religious',\n",
       "  '2.20. Epigram for Pytheas D.jpg'),\n",
       " ('/Users/rolly/Documents/10-19_Université_et_scolarité/paleo_comput/data/Religious',\n",
       "  '1.14. Prayer of Anastasios, donor E.jpg'),\n",
       " ('/Users/rolly/Documents/10-19_Université_et_scolarité/paleo_comput/data/Religious',\n",
       "  '4.21. 1. Acclamations for Albinos, clarissimus; 2. Acclamation for the city R.jpg'),\n",
       " ('/Users/rolly/Documents/10-19_Université_et_scolarité/paleo_comput/data/Religious',\n",
       "  '13.126. Funerary fragment.jpg'),\n",
       " ('/Users/rolly/Documents/10-19_Université_et_scolarité/paleo_comput/data/Religious',\n",
       "  '4.21. 1. Acclamations for Albinos, clarissimus; 2. Acclamation for the city E.jpg'),\n",
       " ('/Users/rolly/Documents/10-19_Université_et_scolarité/paleo_comput/data/Religious',\n",
       "  '4.21. 1. Acclamations for Albinos, clarissimus; 2. Acclamation for the city G.jpg'),\n",
       " ('/Users/rolly/Documents/10-19_Université_et_scolarité/paleo_comput/data/Religious',\n",
       "  '4.21. 1. Acclamations for Albinos, clarissimus; 2. Acclamation for the city P.jpg'),\n",
       " ('/Users/rolly/Documents/10-19_Université_et_scolarité/paleo_comput/data/Religious',\n",
       "  '1.193. Warning against approaching the bema (verse); invocations B.jpg'),\n",
       " ('/Users/rolly/Documents/10-19_Université_et_scolarité/paleo_comput/data/Religious',\n",
       "  '2.20. Epigram for Pytheas F.jpg'),\n",
       " ('/Users/rolly/Documents/10-19_Université_et_scolarité/paleo_comput/data/Religious',\n",
       "  '9.25. Building dedication of Sebasteion portico for Aphrodite, Emperors and Demos A.jpg'),\n",
       " ('/Users/rolly/Documents/10-19_Université_et_scolarité/paleo_comput/data/Religious',\n",
       "  '8.39. Honours for Hosidius Ioulianos E.jpg'),\n",
       " ('/Users/rolly/Documents/10-19_Université_et_scolarité/paleo_comput/data/Religious',\n",
       "  '13.112. Funerary inscription for M. Aur. Polychronios Charmides.jpg'),\n",
       " ('/Users/rolly/Documents/10-19_Université_et_scolarité/paleo_comput/data/Religious',\n",
       "  '15.5. Funerary inscription of Aurelia Dionysia C.jpg'),\n",
       " ('/Users/rolly/Documents/10-19_Université_et_scolarité/paleo_comput/data/Religious',\n",
       "  '15.5. Funerary inscription of Aurelia Dionysia B.jpg'),\n",
       " ('/Users/rolly/Documents/10-19_Université_et_scolarité/paleo_comput/data/Religious',\n",
       "  '8.39. Honours for Hosidius Ioulianos D.jpg'),\n",
       " ('/Users/rolly/Documents/10-19_Université_et_scolarité/paleo_comput/data/Religious',\n",
       "  '1.193. Warning against approaching the bema (verse); invocations C.jpg'),\n",
       " ('/Users/rolly/Documents/10-19_Université_et_scolarité/paleo_comput/data/Religious',\n",
       "  '2.20. Epigram for Pytheas G.jpg'),\n",
       " ('/Users/rolly/Documents/10-19_Université_et_scolarité/paleo_comput/data/Religious',\n",
       "  '15.245. Funerary inscription for Adrastos Polychronios.jpg'),\n",
       " ('/Users/rolly/Documents/10-19_Université_et_scolarité/paleo_comput/data/Religious',\n",
       "  '4.21. 1. Acclamations for Albinos, clarissimus; 2. Acclamation for the city Q.jpg'),\n",
       " ('/Users/rolly/Documents/10-19_Université_et_scolarité/paleo_comput/data/Religious',\n",
       "  '4.21. 1. Acclamations for Albinos, clarissimus; 2. Acclamation for the city F.jpg'),\n",
       " ('/Users/rolly/Documents/10-19_Université_et_scolarité/paleo_comput/data/Religious',\n",
       "  '13.501. Funerary verse for Zenon son of Artemidoros B.jpg'),\n",
       " ('/Users/rolly/Documents/10-19_Université_et_scolarité/paleo_comput/data/Religious',\n",
       "  '4.21. 1. Acclamations for Albinos, clarissimus; 2. Acclamation for the city K.jpg'),\n",
       " ('/Users/rolly/Documents/10-19_Université_et_scolarité/paleo_comput/data/Religious',\n",
       "  '1.154. Panel fragment from Temple.jpg'),\n",
       " ('/Users/rolly/Documents/10-19_Université_et_scolarité/paleo_comput/data/Religious',\n",
       "  '9.34. Honours for Aphrodite ancestress of the Augusti.jpg'),\n",
       " ('/Users/rolly/Documents/10-19_Université_et_scolarité/paleo_comput/data/Religious',\n",
       "  '4.4. Building dedication to Aphrodite and emperors B.jpg'),\n",
       " ('/Users/rolly/Documents/10-19_Université_et_scolarité/paleo_comput/data/Religious',\n",
       "  '4.202. Verse honours i. for Ampelios, father of the city; ii. and iii. for Doulkitios governor on the Agora Gate D.jpg'),\n",
       " ('/Users/rolly/Documents/10-19_Université_et_scolarité/paleo_comput/data/Religious',\n",
       "  '4.202. Verse honours i. for Ampelios, father of the city; ii. and iii. for Doulkitios governor on the Agora Gate E.jpg'),\n",
       " ('/Users/rolly/Documents/10-19_Université_et_scolarité/paleo_comput/data/Religious',\n",
       "  '4.4. Building dedication to Aphrodite and emperors C.jpg'),\n",
       " ('/Users/rolly/Documents/10-19_Université_et_scolarité/paleo_comput/data/Religious',\n",
       "  '1.159. Honours for daughter of Hephaistion B.jpg'),\n",
       " ('/Users/rolly/Documents/10-19_Université_et_scolarité/paleo_comput/data/Religious',\n",
       "  '9.7. Title for image of Ocean.jpg'),\n",
       " ('/Users/rolly/Documents/10-19_Université_et_scolarité/paleo_comput/data/Religious',\n",
       "  '5.24. Acclamations for imperial family, and a New Theodosius A.jpg'),\n",
       " ('/Users/rolly/Documents/10-19_Université_et_scolarité/paleo_comput/data/Religious',\n",
       "  '4.20. Verse honours for Albinos A.jpg'),\n",
       " ('/Users/rolly/Documents/10-19_Université_et_scolarité/paleo_comput/data/Religious',\n",
       "  '4.21. 1. Acclamations for Albinos, clarissimus; 2. Acclamation for the city J.jpg'),\n",
       " ('/Users/rolly/Documents/10-19_Université_et_scolarité/paleo_comput/data/Religious',\n",
       "  '8.407. Verse honours for a governor A.jpg'),\n",
       " ('/Users/rolly/Documents/10-19_Université_et_scolarité/paleo_comput/data/Religious',\n",
       "  '8.407. Verse honours for a governor C.jpg'),\n",
       " ('/Users/rolly/Documents/10-19_Université_et_scolarité/paleo_comput/data/Religious',\n",
       "  '13.501. Funerary verse for Zenon son of Artemidoros A.jpg'),\n",
       " ('/Users/rolly/Documents/10-19_Université_et_scolarité/paleo_comput/data/Religious',\n",
       "  '4.21. 1. Acclamations for Albinos, clarissimus; 2. Acclamation for the city H.jpg'),\n",
       " ('/Users/rolly/Documents/10-19_Université_et_scolarité/paleo_comput/data/Religious',\n",
       "  '8.256. Panel dedication with imperial reference.jpg'),\n",
       " ('/Users/rolly/Documents/10-19_Université_et_scolarité/paleo_comput/data/Religious',\n",
       "  '2.20. Epigram for Pytheas I.jpg'),\n",
       " ('/Users/rolly/Documents/10-19_Université_et_scolarité/paleo_comput/data/Religious',\n",
       "  '5.24. Acclamations for imperial family, and a New Theodosius C.jpg'),\n",
       " ('/Users/rolly/Documents/10-19_Université_et_scolarité/paleo_comput/data/Religious',\n",
       "  '13.149. Funerary formula from sarcophagus.jpg'),\n",
       " ('/Users/rolly/Documents/10-19_Université_et_scolarité/paleo_comput/data/Religious',\n",
       "  '13.110. Funerary inscription for Marcus Aurelius Apollonios and his son.jpg'),\n",
       " ('/Users/rolly/Documents/10-19_Université_et_scolarité/paleo_comput/data/Religious',\n",
       "  '4.4. Building dedication to Aphrodite and emperors A.jpg'),\n",
       " ('/Users/rolly/Documents/10-19_Université_et_scolarité/paleo_comput/data/Religious',\n",
       "  '4.309. Honours for T. Oppius Aelianus Asklepiodotos.jpg'),\n",
       " ('/Users/rolly/Documents/10-19_Université_et_scolarité/paleo_comput/data/Religious',\n",
       "  '5.207. Building dedication to Aphrodite and Hadrian by Pereitas Attalos.jpg'),\n",
       " ('/Users/rolly/Documents/10-19_Université_et_scolarité/paleo_comput/data/Religious',\n",
       "  '1.159. Honours for daughter of Hephaistion A.jpg'),\n",
       " ('/Users/rolly/Documents/10-19_Université_et_scolarité/paleo_comput/data/Religious',\n",
       "  '5.24. Acclamations for imperial family, and a New Theodosius B.jpg'),\n",
       " ('/Users/rolly/Documents/10-19_Université_et_scolarité/paleo_comput/data/Religious',\n",
       "  '1.12. Prayer of Theodoretos and Kyriakos.jpg'),\n",
       " ('/Users/rolly/Documents/10-19_Université_et_scolarité/paleo_comput/data/Religious',\n",
       "  '2.20. Epigram for Pytheas H.jpg'),\n",
       " ('/Users/rolly/Documents/10-19_Université_et_scolarité/paleo_comput/data/Religious',\n",
       "  '4.20. Verse honours for Albinos B.jpg'),\n",
       " ('/Users/rolly/Documents/10-19_Université_et_scolarité/paleo_comput/data/Religious',\n",
       "  '13.604. Funerary inscription for Aemilius Aristeas.jpg'),\n",
       " ('/Users/rolly/Documents/10-19_Université_et_scolarité/paleo_comput/data/Religious',\n",
       "  '4.21. 1. Acclamations for Albinos, clarissimus; 2. Acclamation for the city I.jpg'),\n",
       " ('/Users/rolly/Documents/10-19_Université_et_scolarité/paleo_comput/data/Religious',\n",
       "  '8.407. Verse honours for a governor B.jpg'),\n",
       " ('/Users/rolly/Documents/10-19_Université_et_scolarité/paleo_comput/data/Religious',\n",
       "  '4.21. 1. Acclamations for Albinos, clarissimus; 2. Acclamation for the city M.jpg'),\n",
       " ('/Users/rolly/Documents/10-19_Université_et_scolarité/paleo_comput/data/Religious',\n",
       "  '1.109. Dedication to Aphrodite by Artemidoros.jpg'),\n",
       " ('/Users/rolly/Documents/10-19_Université_et_scolarité/paleo_comput/data/Religious',\n",
       "  '4.202. Verse honours i. for Ampelios, father of the city; ii. and iii. for Doulkitios governor on the Agora Gate B.jpg'),\n",
       " ('/Users/rolly/Documents/10-19_Université_et_scolarité/paleo_comput/data/Religious',\n",
       "  '4.4. Building dedication to Aphrodite and emperors D.jpg'),\n",
       " ('/Users/rolly/Documents/10-19_Université_et_scolarité/paleo_comput/data/Religious',\n",
       "  '5.10. i. Honours for Marcus Antonius Popillius Andronikos ii. Fl. Photios gives a gameboard.jpg'),\n",
       " ('/Users/rolly/Documents/10-19_Université_et_scolarité/paleo_comput/data/Religious',\n",
       "  '8.110. Invocation.jpg'),\n",
       " ('/Users/rolly/Documents/10-19_Université_et_scolarité/paleo_comput/data/Religious',\n",
       "  '4.4. Building dedication to Aphrodite and emperors E.jpg'),\n",
       " ('/Users/rolly/Documents/10-19_Université_et_scolarité/paleo_comput/data/Religious',\n",
       "  '4.202. Verse honours i. for Ampelios, father of the city; ii. and iii. for Doulkitios governor on the Agora Gate C.jpg'),\n",
       " ('/Users/rolly/Documents/10-19_Université_et_scolarité/paleo_comput/data/Religious',\n",
       "  '1.16. Prayer of donor.jpg'),\n",
       " ('/Users/rolly/Documents/10-19_Université_et_scolarité/paleo_comput/data/Religious',\n",
       "  '13.154. Funerary inscription for Menippos.jpg'),\n",
       " ('/Users/rolly/Documents/10-19_Université_et_scolarité/paleo_comput/data/Religious',\n",
       "  '2.109. Statue dedication of Aphrodite.jpg'),\n",
       " ('/Users/rolly/Documents/10-19_Université_et_scolarité/paleo_comput/data/Religious',\n",
       "  '13.156. Funerary inscription for Antonius Antiochos and Antonia Eiphianassa.jpg'),\n",
       " ('/Users/rolly/Documents/10-19_Université_et_scolarité/paleo_comput/data/Religious',\n",
       "  '4.113. Votive to Asklepios.jpg'),\n",
       " ('/Users/rolly/Documents/10-19_Université_et_scolarité/paleo_comput/data/Religious',\n",
       "  '4.21. 1. Acclamations for Albinos, clarissimus; 2. Acclamation for the city L.jpg'),\n",
       " ('/Users/rolly/Documents/10-19_Université_et_scolarité/paleo_comput/data/Religious',\n",
       "  '1.187. Honours for [...] daughter of ...]lianos A.jpg'),\n",
       " ('/Users/rolly/Documents/10-19_Université_et_scolarité/paleo_comput/data/Religious',\n",
       "  '4.21. 1. Acclamations for Albinos, clarissimus; 2. Acclamation for the city N.jpg'),\n",
       " ('/Users/rolly/Documents/10-19_Université_et_scolarité/paleo_comput/data/Religious',\n",
       "  '9.25. Building dedication of Sebasteion portico for Aphrodite, Emperors and Demos H.jpg'),\n",
       " ('/Users/rolly/Documents/10-19_Université_et_scolarité/paleo_comput/data/Religious',\n",
       "  '4.4. Building dedication to Aphrodite and emperors F.jpg'),\n",
       " ('/Users/rolly/Documents/10-19_Université_et_scolarité/paleo_comput/data/Religious',\n",
       "  '11.207. Heading for a document.jpg'),\n",
       " ('/Users/rolly/Documents/10-19_Université_et_scolarité/paleo_comput/data/Religious',\n",
       "  '5.24. Acclamations for imperial family, and a New Theodosius D.jpg'),\n",
       " ('/Users/rolly/Documents/10-19_Université_et_scolarité/paleo_comput/data/Religious',\n",
       "  '9.25. Building dedication of Sebasteion portico for Aphrodite, Emperors and Demos I.jpg'),\n",
       " ('/Users/rolly/Documents/10-19_Université_et_scolarité/paleo_comput/data/Religious',\n",
       "  '15.217. Votive offering to Kore by Alexandros.jpg'),\n",
       " ('/Users/rolly/Documents/10-19_Université_et_scolarité/paleo_comput/data/Religious',\n",
       "  '4.21. 1. Acclamations for Albinos, clarissimus; 2. Acclamation for the city O.jpg'),\n",
       " ('/Users/rolly/Documents/10-19_Université_et_scolarité/paleo_comput/data/Religious',\n",
       "  '1.187. Honours for [...] daughter of ...]lianos B.jpg'),\n",
       " ('/Users/rolly/Documents/10-19_Université_et_scolarité/paleo_comput/data/Religious',\n",
       "  '8.270. Funerary verse for Jordanes B.jpg'),\n",
       " ('/Users/rolly/Documents/10-19_Université_et_scolarité/paleo_comput/data/Religious',\n",
       "  '11.401. Statue and altar dedication by Titus Flavius Staberianos, doctor.jpg'),\n",
       " ('/Users/rolly/Documents/10-19_Université_et_scolarité/paleo_comput/data/Religious',\n",
       "  '8.1. i. Building dedication to Aphrodite and Demos; ii. Invocation to Ourania; iii. Acclamation for the City A.jpg'),\n",
       " ('/Users/rolly/Documents/10-19_Université_et_scolarité/paleo_comput/data/Religious',\n",
       "  '5.9. Building dedication to Aphrodite and Hadrian C.jpg'),\n",
       " ('/Users/rolly/Documents/10-19_Université_et_scolarité/paleo_comput/data/Religious',\n",
       "  '11.515. Honours for Rhodopaios, for the third time C.jpg'),\n",
       " ('/Users/rolly/Documents/10-19_Université_et_scolarité/paleo_comput/data/Religious',\n",
       "  '8.262. Dedication (building inscription), to a saint.jpg'),\n",
       " ('/Users/rolly/Documents/10-19_Université_et_scolarité/paleo_comput/data/Religious',\n",
       "  '13.101. Funerary inscription for Aurelia Tate, also called Epithymia.jpg'),\n",
       " ('/Users/rolly/Documents/10-19_Université_et_scolarité/paleo_comput/data/Religious',\n",
       "  '1.104. Fragments of panel.jpg'),\n",
       " ('/Users/rolly/Documents/10-19_Université_et_scolarité/paleo_comput/data/Religious',\n",
       "  '13.610. Funerary fragment.jpg'),\n",
       " ('/Users/rolly/Documents/10-19_Université_et_scolarité/paleo_comput/data/Religious',\n",
       "  '11.515. Honours for Rhodopaios, for the third time B.jpg'),\n",
       " ('/Users/rolly/Documents/10-19_Université_et_scolarité/paleo_comput/data/Religious',\n",
       "  '3.2. Building inscription by priest of Libertas.jpg'),\n",
       " ('/Users/rolly/Documents/10-19_Université_et_scolarité/paleo_comput/data/Religious',\n",
       "  '5.9. Building dedication to Aphrodite and Hadrian B.jpg'),\n",
       " ('/Users/rolly/Documents/10-19_Université_et_scolarité/paleo_comput/data/Religious',\n",
       "  '13.109. Funerary inscription for Marcus Aurelius Alexandros and Aurelia Tatia.jpg'),\n",
       " ('/Users/rolly/Documents/10-19_Université_et_scolarité/paleo_comput/data/Religious',\n",
       "  '11.301. Statue dedication by Kallikrates.jpg'),\n",
       " ('/Users/rolly/Documents/10-19_Université_et_scolarité/paleo_comput/data/Religious',\n",
       "  '7.2. Dedicatory poem A.jpg'),\n",
       " ('/Users/rolly/Documents/10-19_Université_et_scolarité/paleo_comput/data/Religious',\n",
       "  '7.2. Dedicatory poem C.jpg'),\n",
       " ('/Users/rolly/Documents/10-19_Université_et_scolarité/paleo_comput/data/Religious',\n",
       "  '8.270. Funerary verse for Jordanes A.jpg'),\n",
       " ('/Users/rolly/Documents/10-19_Université_et_scolarité/paleo_comput/data/Religious',\n",
       "  '8.1. i. Building dedication to Aphrodite and Demos; ii. Invocation to Ourania; iii. Acclamation for the City B.jpg'),\n",
       " ('/Users/rolly/Documents/10-19_Université_et_scolarité/paleo_comput/data/Religious',\n",
       "  '11.104. Honours for an emperor, Augustus Germanicus.jpg'),\n",
       " ('/Users/rolly/Documents/10-19_Université_et_scolarité/paleo_comput/data/Religious',\n",
       "  '1.5. Column dedication by Eumachos and Ammias.jpg'),\n",
       " ('/Users/rolly/Documents/10-19_Université_et_scolarité/paleo_comput/data/Religious',\n",
       "  '2.113. Statue dedication by Flavius Andronikos.jpg'),\n",
       " ('/Users/rolly/Documents/10-19_Université_et_scolarité/paleo_comput/data/Religious',\n",
       "  '8.84. Honours for Claudius Zelos D.jpg'),\n",
       " ('/Users/rolly/Documents/10-19_Université_et_scolarité/paleo_comput/data/Religious',\n",
       "  '8.410. The city honours Fl. Palmatos, governor.jpg'),\n",
       " ('/Users/rolly/Documents/10-19_Université_et_scolarité/paleo_comput/data/Religious',\n",
       "  '8.84. Honours for Claudius Zelos E.jpg'),\n",
       " ('/Users/rolly/Documents/10-19_Université_et_scolarité/paleo_comput/data/Religious',\n",
       "  '8.905. Panel fragment funerary.jpg'),\n",
       " ('/Users/rolly/Documents/10-19_Université_et_scolarité/paleo_comput/data/Religious',\n",
       "  '11.515. Honours for Rhodopaios, for the third time A.jpg'),\n",
       " ('/Users/rolly/Documents/10-19_Université_et_scolarité/paleo_comput/data/Religious',\n",
       "  '12.612. Decree of honours for Dionysios son of Papylos.jpg'),\n",
       " ('/Users/rolly/Documents/10-19_Université_et_scolarité/paleo_comput/data/Religious',\n",
       "  '5.9. Building dedication to Aphrodite and Hadrian A.jpg'),\n",
       " ('/Users/rolly/Documents/10-19_Université_et_scolarité/paleo_comput/data/Religious',\n",
       "  '5.204. i. Honours for Pyrron son of Itharos; ii. Verse honours for Hermias, benefactor.jpg'),\n",
       " ('/Users/rolly/Documents/10-19_Université_et_scolarité/paleo_comput/data/Religious',\n",
       "  '15.8. Funerary fragment.jpg'),\n",
       " ('/Users/rolly/Documents/10-19_Université_et_scolarité/paleo_comput/data/Religious',\n",
       "  '7.2. Dedicatory poem B.jpg'),\n",
       " ('/Users/rolly/Documents/10-19_Université_et_scolarité/paleo_comput/data/Religious',\n",
       "  '8.10. Graffiti on Theatre stage building A.jpg'),\n",
       " ('/Users/rolly/Documents/10-19_Université_et_scolarité/paleo_comput/data/Religious',\n",
       "  '12.1001. Dedication to Constantius II and a Caesar by Fl. Quint. Eros Monaxios.jpg'),\n",
       " ('/Users/rolly/Documents/10-19_Université_et_scolarité/paleo_comput/data/Religious',\n",
       "  '5.9. Building dedication to Aphrodite and Hadrian E.jpg'),\n",
       " ('/Users/rolly/Documents/10-19_Université_et_scolarité/paleo_comput/data/Religious',\n",
       "  '11.515. Honours for Rhodopaios, for the third time E.jpg'),\n",
       " ('/Users/rolly/Documents/10-19_Université_et_scolarité/paleo_comput/data/Religious',\n",
       "  '5.214. Honours for Aurelius Achilles B.jpg'),\n",
       " ('/Users/rolly/Documents/10-19_Université_et_scolarité/paleo_comput/data/Religious',\n",
       "  '15.357. Epitaph of Eutychia.jpg'),\n",
       " ('/Users/rolly/Documents/10-19_Université_et_scolarité/paleo_comput/data/Religious',\n",
       "  '8.84. Honours for Claudius Zelos A.jpg'),\n",
       " ('/Users/rolly/Documents/10-19_Université_et_scolarité/paleo_comput/data/Religious',\n",
       "  '11.515. Honours for Rhodopaios, for the third time D.jpg'),\n",
       " ('/Users/rolly/Documents/10-19_Université_et_scolarité/paleo_comput/data/Religious',\n",
       "  '1.34. Graffiti names and prayers A.jpg'),\n",
       " ('/Users/rolly/Documents/10-19_Université_et_scolarité/paleo_comput/data/Religious',\n",
       "  '5.9. Building dedication to Aphrodite and Hadrian D.jpg'),\n",
       " ('/Users/rolly/Documents/10-19_Université_et_scolarité/paleo_comput/data/Religious',\n",
       "  \"1.17. Fragment of donor's prayer.jpg\"),\n",
       " ('/Users/rolly/Documents/10-19_Université_et_scolarité/paleo_comput/data/Religious',\n",
       "  '15.240. Votive offering to Asklepios.jpg'),\n",
       " ('/Users/rolly/Documents/10-19_Université_et_scolarité/paleo_comput/data/Religious',\n",
       "  '8.10. Graffiti on Theatre stage building B.jpg'),\n",
       " ('/Users/rolly/Documents/10-19_Université_et_scolarité/paleo_comput/data/Religious',\n",
       "  '1.34. Graffiti names and prayers C.jpg'),\n",
       " ('/Users/rolly/Documents/10-19_Université_et_scolarité/paleo_comput/data/Religious',\n",
       "  '12.1016. Funerary inscription for Publius Aelius Aurelius [···].jpg'),\n",
       " ('/Users/rolly/Documents/10-19_Université_et_scolarité/paleo_comput/data/Religious',\n",
       "  '5.214. Honours for Aurelius Achilles A.jpg'),\n",
       " ('/Users/rolly/Documents/10-19_Université_et_scolarité/paleo_comput/data/Religious',\n",
       "  '8.84. Honours for Claudius Zelos B.jpg'),\n",
       " ('/Users/rolly/Documents/10-19_Université_et_scolarité/paleo_comput/data/Religious',\n",
       "  '8.84. Honours for Claudius Zelos C.jpg'),\n",
       " ('/Users/rolly/Documents/10-19_Université_et_scolarité/paleo_comput/data/Religious',\n",
       "  '1.34. Graffiti names and prayers B.jpg'),\n",
       " ('/Users/rolly/Documents/10-19_Université_et_scolarité/paleo_comput/data/Dedication + dedication to demos + dedication to emperor donor/dedication to demos',\n",
       "  '11.401. Statue and altar dedication by Titus Flavius Staberianos, doctor.jpg'),\n",
       " ('/Users/rolly/Documents/10-19_Université_et_scolarité/paleo_comput/data/Dedication + dedication to demos + dedication to emperor donor/dedication',\n",
       "  '9.126. Dedicatory poem B.jpg'),\n",
       " ('/Users/rolly/Documents/10-19_Université_et_scolarité/paleo_comput/data/Dedication + dedication to demos + dedication to emperor donor/dedication',\n",
       "  '5.208. Building dedication to Aphrodite and Hadrian by Pereitas Attalos E.jpg'),\n",
       " ('/Users/rolly/Documents/10-19_Université_et_scolarité/paleo_comput/data/Dedication + dedication to demos + dedication to emperor donor/dedication',\n",
       "  '11.66. Dedication by Flavius Eusebios.jpg'),\n",
       " ('/Users/rolly/Documents/10-19_Université_et_scolarité/paleo_comput/data/Dedication + dedication to demos + dedication to emperor donor/dedication',\n",
       "  '12.108. Dedication for Emperors and Caesars.jpg'),\n",
       " ('/Users/rolly/Documents/10-19_Université_et_scolarité/paleo_comput/data/Dedication + dedication to demos + dedication to emperor donor/dedication',\n",
       "  '5.208. Building dedication to Aphrodite and Hadrian by Pereitas Attalos D.jpg'),\n",
       " ('/Users/rolly/Documents/10-19_Université_et_scolarité/paleo_comput/data/Dedication + dedication to demos + dedication to emperor donor/dedication',\n",
       "  '9.126. Dedicatory poem C.jpg'),\n",
       " ('/Users/rolly/Documents/10-19_Université_et_scolarité/paleo_comput/data/Dedication + dedication to demos + dedication to emperor donor/dedication',\n",
       "  '9.126. Dedicatory poem A.jpg'),\n",
       " ('/Users/rolly/Documents/10-19_Université_et_scolarité/paleo_comput/data/Dedication + dedication to demos + dedication to emperor donor/dedication',\n",
       "  '15.352. Dedication from a church (building inscription).jpg'),\n",
       " ('/Users/rolly/Documents/10-19_Université_et_scolarité/paleo_comput/data/Dedication + dedication to demos + dedication to emperor donor/dedication',\n",
       "  '11.51. Dedication by Tiberius Claudius Apollonios Aurelianos.jpg'),\n",
       " ('/Users/rolly/Documents/10-19_Université_et_scolarité/paleo_comput/data/Dedication + dedication to demos + dedication to emperor donor/dedication',\n",
       "  '5.7. Dedication of a caryatid by Attalis.jpg'),\n",
       " ('/Users/rolly/Documents/10-19_Université_et_scolarité/paleo_comput/data/Dedication + dedication to demos + dedication to emperor donor/dedication',\n",
       "  '12.305. Dedication by M. Iulius Attalos, imperial freedman, to Aphrodite, the imperial house, and the Senate and People of Rome.jpg'),\n",
       " ('/Users/rolly/Documents/10-19_Université_et_scolarité/paleo_comput/data/Dedication + dedication to demos + dedication to emperor donor/dedication',\n",
       "  '2.531. Table-dish fragment Dedication.jpg'),\n",
       " ('/Users/rolly/Documents/10-19_Université_et_scolarité/paleo_comput/data/Dedication + dedication to demos + dedication to emperor donor/dedication',\n",
       "  '11.206. Dedication by Antipatros son of Artemidoros.jpg'),\n",
       " ('/Users/rolly/Documents/10-19_Université_et_scolarité/paleo_comput/data/Dedication + dedication to demos + dedication to emperor donor/dedication',\n",
       "  '11.105. Dedication by Kallikles son of Kallikles via his brother Molossos.jpg'),\n",
       " ('/Users/rolly/Documents/10-19_Université_et_scolarité/paleo_comput/data/Dedication + dedication to demos + dedication to emperor donor/dedication',\n",
       "  '5.208. Building dedication to Aphrodite and Hadrian by Pereitas Attalos C.jpg'),\n",
       " ('/Users/rolly/Documents/10-19_Université_et_scolarité/paleo_comput/data/Dedication + dedication to demos + dedication to emperor donor/dedication',\n",
       "  '8.708. Altar dedication for Hadrian.jpg'),\n",
       " ('/Users/rolly/Documents/10-19_Université_et_scolarité/paleo_comput/data/Dedication + dedication to demos + dedication to emperor donor/dedication',\n",
       "  '5.208. Building dedication to Aphrodite and Hadrian by Pereitas Attalos B.jpg'),\n",
       " ('/Users/rolly/Documents/10-19_Université_et_scolarité/paleo_comput/data/Dedication + dedication to demos + dedication to emperor donor/dedication',\n",
       "  '1.6. Column dedication by Eumachos and Amias.jpg'),\n",
       " ('/Users/rolly/Documents/10-19_Université_et_scolarité/paleo_comput/data/Dedication + dedication to demos + dedication to emperor donor/dedication',\n",
       "  '15.266. Honours or dedication A.jpg'),\n",
       " ('/Users/rolly/Documents/10-19_Université_et_scolarité/paleo_comput/data/Dedication + dedication to demos + dedication to emperor donor/dedication',\n",
       "  '12.408. Building dedication to Demos.jpg'),\n",
       " ('/Users/rolly/Documents/10-19_Université_et_scolarité/paleo_comput/data/Dedication + dedication to demos + dedication to emperor donor/dedication',\n",
       "  '5.208. Building dedication to Aphrodite and Hadrian by Pereitas Attalos A.jpg'),\n",
       " ('/Users/rolly/Documents/10-19_Université_et_scolarité/paleo_comput/data/Dedication + dedication to demos + dedication to emperor donor/dedication',\n",
       "  '15.266. Honours or dedication B.jpg'),\n",
       " ('/Users/rolly/Documents/10-19_Université_et_scolarité/paleo_comput/data/Dedication + dedication to demos + dedication to emperor donor/dedication',\n",
       "  '11.3. Dedication by Dionysios on behalf of Ammia.jpg'),\n",
       " ('/Users/rolly/Documents/10-19_Université_et_scolarité/paleo_comput/data/Dedication + dedication to demos + dedication to emperor donor/dedication',\n",
       "  '12.703. Dedication of trapeza by Kallikrates son of Molossos.jpg'),\n",
       " ('/Users/rolly/Documents/10-19_Université_et_scolarité/paleo_comput/data/Dedication + dedication to demos + dedication to emperor donor/dedication',\n",
       "  '13.402. Dedication of a foundation by Titus Aelius -dianos A.jpg'),\n",
       " ('/Users/rolly/Documents/10-19_Université_et_scolarité/paleo_comput/data/Dedication + dedication to demos + dedication to emperor donor/dedication',\n",
       "  '5.119. Dedication by Flavius Palladios.jpg'),\n",
       " ('/Users/rolly/Documents/10-19_Université_et_scolarité/paleo_comput/data/Dedication + dedication to demos + dedication to emperor donor/dedication',\n",
       "  '12.406. Building dedication to Demos.jpg'),\n",
       " ('/Users/rolly/Documents/10-19_Université_et_scolarité/paleo_comput/data/Dedication + dedication to demos + dedication to emperor donor/dedication',\n",
       "  '13.402. Dedication of a foundation by Titus Aelius -dianos B.jpg'),\n",
       " ('/Users/rolly/Documents/10-19_Université_et_scolarité/paleo_comput/data/Dedication + dedication to demos + dedication to emperor donor/dedication',\n",
       "  '1.162. Fragment of dedication.jpg'),\n",
       " ('/Users/rolly/Documents/10-19_Université_et_scolarité/paleo_comput/data/Dedication + dedication to demos + dedication to emperor donor/dedication',\n",
       "  '5.302. Dedication (post mortem) by Flavius Zenon.jpg'),\n",
       " ('/Users/rolly/Documents/10-19_Université_et_scolarité/paleo_comput/data/Dedication + dedication to demos + dedication to emperor donor/dedication',\n",
       "  '8.276. Dedicatory poem, church of SS. Barbara and Anastasia.jpg'),\n",
       " ('/Users/rolly/Documents/10-19_Université_et_scolarité/paleo_comput/data/Dedication + dedication to demos + dedication to emperor donor/dedication',\n",
       "  '3.4. i. Dedication to Patris by Zenon son of Euthymos and others; ii. The Phrygian Metropolis honours Alexandros, in verse B.jpg'),\n",
       " ('/Users/rolly/Documents/10-19_Université_et_scolarité/paleo_comput/data/Dedication + dedication to demos + dedication to emperor donor/dedication',\n",
       "  '4.308. Dedication and restoration of statues after an earthquake, authorised by Trajan, undertaken by Kallikrates Grypos B.jpg'),\n",
       " ('/Users/rolly/Documents/10-19_Université_et_scolarité/paleo_comput/data/Dedication + dedication to demos + dedication to emperor donor/dedication',\n",
       "  '15.274. Fragment of dedication by Myre and . . ..jpg'),\n",
       " ('/Users/rolly/Documents/10-19_Université_et_scolarité/paleo_comput/data/Dedication + dedication to demos + dedication to emperor donor/dedication',\n",
       "  '3.4. i. Dedication to Patris by Zenon son of Euthymos and others; ii. The Phrygian Metropolis honours Alexandros, in verse A.jpg'),\n",
       " ('/Users/rolly/Documents/10-19_Université_et_scolarité/paleo_comput/data/Dedication + dedication to demos + dedication to emperor donor/dedication',\n",
       "  '4.308. Dedication and restoration of statues after an earthquake, authorised by Trajan, undertaken by Kallikrates Grypos A.jpg'),\n",
       " ('/Users/rolly/Documents/10-19_Université_et_scolarité/paleo_comput/data/Dedication + dedication to demos + dedication to emperor donor/dedication',\n",
       "  '4.109. Dedication to Aphrodite.jpg'),\n",
       " ('/Users/rolly/Documents/10-19_Université_et_scolarité/paleo_comput/data/Dedication + dedication to demos + dedication to emperor donor/dedication',\n",
       "  '13.116. Restoration, by Kallikrates of the dedication made by his ancestors B.jpg'),\n",
       " ('/Users/rolly/Documents/10-19_Université_et_scolarité/paleo_comput/data/Dedication + dedication to demos + dedication to emperor donor/dedication',\n",
       "  '12.1001. Dedication to Constantius II and a Caesar by Fl. Quint. Eros Monaxios D.jpg'),\n",
       " ('/Users/rolly/Documents/10-19_Université_et_scolarité/paleo_comput/data/Dedication + dedication to demos + dedication to emperor donor/dedication',\n",
       "  '5.2. Column dedication to Demos by Artemon son of Adrastos D.jpg'),\n",
       " ('/Users/rolly/Documents/10-19_Université_et_scolarité/paleo_comput/data/Dedication + dedication to demos + dedication to emperor donor/dedication',\n",
       "  '13.116. Restoration, by Kallikrates of the dedication made by his ancestors A.jpg'),\n",
       " ('/Users/rolly/Documents/10-19_Université_et_scolarité/paleo_comput/data/Dedication + dedication to demos + dedication to emperor donor/dedication',\n",
       "  '8.256. Panel dedication with imperial reference.jpg'),\n",
       " ('/Users/rolly/Documents/10-19_Université_et_scolarité/paleo_comput/data/Dedication + dedication to demos + dedication to emperor donor/dedication',\n",
       "  '7.2. Dedicatory poem.jpg'),\n",
       " ('/Users/rolly/Documents/10-19_Université_et_scolarité/paleo_comput/data/Dedication + dedication to demos + dedication to emperor donor/dedication',\n",
       "  '5.207. Building dedication to Aphrodite and Hadrian by Pereitas Attalos.jpg'),\n",
       " ('/Users/rolly/Documents/10-19_Université_et_scolarité/paleo_comput/data/Dedication + dedication to demos + dedication to emperor donor/dedication',\n",
       "  '2.110. i. Honours for Septimus Severus; ii. Building inscription of Antonius Priskos B.jpg'),\n",
       " ('/Users/rolly/Documents/10-19_Université_et_scolarité/paleo_comput/data/Dedication + dedication to demos + dedication to emperor donor/dedication',\n",
       "  '5.2. Column dedication to Demos by Artemon son of Adrastos c.jpg'),\n",
       " ('/Users/rolly/Documents/10-19_Université_et_scolarité/paleo_comput/data/Dedication + dedication to demos + dedication to emperor donor/dedication',\n",
       "  '1.109. Dedication to Aphrodite by Artemidoros.jpg'),\n",
       " ('/Users/rolly/Documents/10-19_Université_et_scolarité/paleo_comput/data/Dedication + dedication to demos + dedication to emperor donor/dedication',\n",
       "  '12.505. Building dedication to Demos.jpg'),\n",
       " ('/Users/rolly/Documents/10-19_Université_et_scolarité/paleo_comput/data/Dedication + dedication to demos + dedication to emperor donor/dedication',\n",
       "  '12.1001. Dedication to Constantius II and a Caesar by Fl. Quint. Eros Monaxios B.jpg'),\n",
       " ('/Users/rolly/Documents/10-19_Université_et_scolarité/paleo_comput/data/Dedication + dedication to demos + dedication to emperor donor/dedication',\n",
       "  '12.1001. Dedication to Constantius II and a Caesar by Fl. Quint. Eros Monaxios C.jpg'),\n",
       " ('/Users/rolly/Documents/10-19_Université_et_scolarité/paleo_comput/data/Dedication + dedication to demos + dedication to emperor donor/dedication',\n",
       "  '8.212. Dedication by Gaius Volousios, mime actor.jpg'),\n",
       " ('/Users/rolly/Documents/10-19_Université_et_scolarité/paleo_comput/data/Dedication + dedication to demos + dedication to emperor donor/dedication',\n",
       "  '5.2. Column dedication to Demos by Artemon son of Adrastos B.jpg'),\n",
       " ('/Users/rolly/Documents/10-19_Université_et_scolarité/paleo_comput/data/Dedication + dedication to demos + dedication to emperor donor/dedication',\n",
       "  '2.110. i. Honours for Septimus Severus; ii. Building inscription of Antonius Priskos C.jpg'),\n",
       " ('/Users/rolly/Documents/10-19_Université_et_scolarité/paleo_comput/data/Dedication + dedication to demos + dedication to emperor donor/dedication',\n",
       "  '2.110. i. Honours for Septimus Severus; ii. Building inscription of Antonius Priskos A.jpg'),\n",
       " ('/Users/rolly/Documents/10-19_Université_et_scolarité/paleo_comput/data/Dedication + dedication to demos + dedication to emperor donor/dedication',\n",
       "  '12.1001. Dedication to Constantius II and a Caesar by Fl. Quint. Eros Monaxios A.jpg'),\n",
       " ('/Users/rolly/Documents/10-19_Université_et_scolarité/paleo_comput/data/Dedication + dedication to demos + dedication to emperor donor/dedication',\n",
       "  '5.2. Column dedication to Demos by Artemon son of Adrastos A.jpg'),\n",
       " ('/Users/rolly/Documents/10-19_Université_et_scolarité/paleo_comput/data/Dedication + dedication to demos + dedication to emperor donor/dedication',\n",
       "  '8.262. Dedication (building inscription), to a saint.jpg'),\n",
       " ('/Users/rolly/Documents/10-19_Université_et_scolarité/paleo_comput/data/Dedication + dedication to demos + dedication to emperor donor/dedication',\n",
       "  '3.3. Building dedication to a god.jpg'),\n",
       " ('/Users/rolly/Documents/10-19_Université_et_scolarité/paleo_comput/data/Dedication + dedication to demos + dedication to emperor donor/dedication',\n",
       "  '12.404. Building dedications, by Antipatros and by Dionysios, to Demos A.jpg'),\n",
       " ('/Users/rolly/Documents/10-19_Université_et_scolarité/paleo_comput/data/Dedication + dedication to demos + dedication to emperor donor/dedication',\n",
       "  '12.404. Building dedications, by Antipatros and by Dionysios, to Demos B.jpg'),\n",
       " ('/Users/rolly/Documents/10-19_Université_et_scolarité/paleo_comput/data/Dedication + dedication to demos + dedication to emperor donor/dedication',\n",
       "  '13.119. Votive dedication by children of Hermias.jpg'),\n",
       " ('/Users/rolly/Documents/10-19_Université_et_scolarité/paleo_comput/data/Dedication + dedication to demos + dedication to emperor donor/dedication',\n",
       "  '5.206. Column dedication to Demos by Menippos Kodios and Papianos Kodios.jpg'),\n",
       " ('/Users/rolly/Documents/10-19_Université_et_scolarité/paleo_comput/data/Dedication + dedication to demos + dedication to emperor donor/dedication',\n",
       "  '11.513. Dedication by [M.. Fl. Antonius] Lysimachos.jpg'),\n",
       " ('/Users/rolly/Documents/10-19_Université_et_scolarité/paleo_comput/data/Building dedication - building inscription/Building dedication',\n",
       "  '9.112. Building dedication to Tiberius and Livia D.jpg'),\n",
       " ('/Users/rolly/Documents/10-19_Université_et_scolarité/paleo_comput/data/Building dedication - building inscription/Building dedication',\n",
       "  '11.407. Building dedication to Aphrodite.jpg'),\n",
       " ('/Users/rolly/Documents/10-19_Université_et_scolarité/paleo_comput/data/Building dedication - building inscription/Building dedication',\n",
       "  '9.112. Building dedication to Tiberius and Livia A.jpg'),\n",
       " ('/Users/rolly/Documents/10-19_Université_et_scolarité/paleo_comput/data/Building dedication - building inscription/Building dedication',\n",
       "  '1.174. Building dedication for Hadrian A.jpg'),\n",
       " ('/Users/rolly/Documents/10-19_Université_et_scolarité/paleo_comput/data/Building dedication - building inscription/Building dedication',\n",
       "  '8.82. Building dedication to Nemesis B.jpg'),\n",
       " ('/Users/rolly/Documents/10-19_Université_et_scolarité/paleo_comput/data/Building dedication - building inscription/Building dedication',\n",
       "  '5.9. Building dedication to Aphrodite and Hadrian.jpg'),\n",
       " ('/Users/rolly/Documents/10-19_Université_et_scolarité/paleo_comput/data/Building dedication - building inscription/Building dedication',\n",
       "  '9.112. Building dedication to Tiberius and Livia B.jpg'),\n",
       " ('/Users/rolly/Documents/10-19_Université_et_scolarité/paleo_comput/data/Building dedication - building inscription/Building dedication',\n",
       "  '1.174. Building dedication for Hadrian B.jpg'),\n",
       " ('/Users/rolly/Documents/10-19_Université_et_scolarité/paleo_comput/data/Building dedication - building inscription/Building dedication',\n",
       "  '8.82. Building dedication to Nemesis A.jpg'),\n",
       " ('/Users/rolly/Documents/10-19_Université_et_scolarité/paleo_comput/data/Building dedication - building inscription/Building dedication',\n",
       "  '8.108. Building dedication by Aristokles Molossos.jpg'),\n",
       " ('/Users/rolly/Documents/10-19_Université_et_scolarité/paleo_comput/data/Building dedication - building inscription/Building dedication',\n",
       "  '9.112. Building dedication to Tiberius and Livia C.jpg'),\n",
       " ('/Users/rolly/Documents/10-19_Université_et_scolarité/paleo_comput/data/Building dedication - building inscription/Building dedication',\n",
       "  '5.6. Building dedication of the Eusebian Bath to the Emperors and Aphrodite.jpg'),\n",
       " ('/Users/rolly/Documents/10-19_Université_et_scolarité/paleo_comput/data/Building dedication - building inscription/Building dedication',\n",
       "  '9.25. Building dedication of Sebasteion portico for Aphrodite, Emperors and Demos D.jpg'),\n",
       " ('/Users/rolly/Documents/10-19_Université_et_scolarité/paleo_comput/data/Building dedication - building inscription/Building dedication',\n",
       "  '9.25. Building dedication of Sebasteion portico for Aphrodite, Emperors and Demos G.jpg'),\n",
       " ('/Users/rolly/Documents/10-19_Université_et_scolarité/paleo_comput/data/Building dedication - building inscription/Building dedication',\n",
       "  '9.25. Building dedication of Sebasteion portico for Aphrodite, Emperors and Demos F.jpg'),\n",
       " ('/Users/rolly/Documents/10-19_Université_et_scolarité/paleo_comput/data/Building dedication - building inscription/Building dedication',\n",
       "  '8.113. Building dedication by Aristokles Molossos.jpg'),\n",
       " ('/Users/rolly/Documents/10-19_Université_et_scolarité/paleo_comput/data/Building dedication - building inscription/Building dedication',\n",
       "  '9.25. Building dedication of Sebasteion portico for Aphrodite, Emperors and Demos B.jpg'),\n",
       " ('/Users/rolly/Documents/10-19_Université_et_scolarité/paleo_comput/data/Building dedication - building inscription/Building dedication',\n",
       "  '9.25. Building dedication of Sebasteion portico for Aphrodite, Emperors and Demos C.jpg'),\n",
       " ('/Users/rolly/Documents/10-19_Université_et_scolarité/paleo_comput/data/Building dedication - building inscription/Building dedication',\n",
       "  '9.25. Building dedication of Sebasteion portico for Aphrodite, Emperors and Demos A.jpg'),\n",
       " ('/Users/rolly/Documents/10-19_Université_et_scolarité/paleo_comput/data/Building dedication - building inscription/Building dedication',\n",
       "  '12.314. Building dedication under Domitian..jpg'),\n",
       " ('/Users/rolly/Documents/10-19_Université_et_scolarité/paleo_comput/data/Building dedication - building inscription/Building dedication',\n",
       "  '12.505. Building dedication to Demos.jpg'),\n",
       " ('/Users/rolly/Documents/10-19_Université_et_scolarité/paleo_comput/data/Building dedication - building inscription/Building dedication',\n",
       "  '8.233. Building dedication for Aphrodite, Emperors and Demos.jpg'),\n",
       " ('/Users/rolly/Documents/10-19_Université_et_scolarité/paleo_comput/data/Building dedication - building inscription/Building dedication',\n",
       "  '9.25. Building dedication of Sebasteion portico for Aphrodite, Emperors and Demos H.jpg'),\n",
       " ('/Users/rolly/Documents/10-19_Université_et_scolarité/paleo_comput/data/Building dedication - building inscription/Building dedication',\n",
       "  '3.3. Building dedication to a god.jpg'),\n",
       " ('/Users/rolly/Documents/10-19_Université_et_scolarité/paleo_comput/data/Building dedication - building inscription/Building dedication',\n",
       "  '12.415. Monumental fragment of building dedication.jpg'),\n",
       " ('/Users/rolly/Documents/10-19_Université_et_scolarité/paleo_comput/data/Building dedication - building inscription/Building dedication',\n",
       "  '12.304. Building dedication to Zeus.jpg'),\n",
       " ('/Users/rolly/Documents/10-19_Université_et_scolarité/paleo_comput/data/Building dedication - building inscription/Building inscription',\n",
       "  '13.508. Heliodoros, builder or donor.jpg'),\n",
       " ('/Users/rolly/Documents/10-19_Université_et_scolarité/paleo_comput/data/Building dedication - building inscription/Building inscription',\n",
       "  '15.352. Dedication from a church (building inscription).jpg'),\n",
       " ('/Users/rolly/Documents/10-19_Université_et_scolarité/paleo_comput/data/Building dedication - building inscription/Building inscription',\n",
       "  '5.118. Building inscription of Helladios.jpg'),\n",
       " ('/Users/rolly/Documents/10-19_Université_et_scolarité/paleo_comput/data/Building dedication - building inscription/Building inscription',\n",
       "  '12.302. Building inscription, late Hellenistic A.jpg'),\n",
       " ('/Users/rolly/Documents/10-19_Université_et_scolarité/paleo_comput/data/Building dedication - building inscription/Building inscription',\n",
       "  '1.302. Eustochios, responsible for building work.jpg'),\n",
       " ('/Users/rolly/Documents/10-19_Université_et_scolarité/paleo_comput/data/Building dedication - building inscription/Building inscription',\n",
       "  '5.303. Building inscription of Pytheas, in verse A.jpg'),\n",
       " ('/Users/rolly/Documents/10-19_Université_et_scolarité/paleo_comput/data/Building dedication - building inscription/Building inscription',\n",
       "  '1.14. Prayer of Anastasios, donor.jpg'),\n",
       " ('/Users/rolly/Documents/10-19_Université_et_scolarité/paleo_comput/data/Building dedication - building inscription/Building inscription',\n",
       "  '5.303. Building inscription of Pytheas, in verse B.jpg'),\n",
       " ('/Users/rolly/Documents/10-19_Université_et_scolarité/paleo_comput/data/Building dedication - building inscription/Building inscription',\n",
       "  '5.22. Flavius undertakes building works in the Hadrianic Baths.jpg'),\n",
       " ('/Users/rolly/Documents/10-19_Université_et_scolarité/paleo_comput/data/Building dedication - building inscription/Building inscription',\n",
       "  \"1.192. Church donor's inscription.jpg\"),\n",
       " ('/Users/rolly/Documents/10-19_Université_et_scolarité/paleo_comput/data/Building dedication - building inscription/Building inscription',\n",
       "  '12.318. Building inscription restoration of building by Eusebes.jpg'),\n",
       " ('/Users/rolly/Documents/10-19_Université_et_scolarité/paleo_comput/data/Building dedication - building inscription/Building inscription',\n",
       "  '2.532. Building inscription of bishop Euphemius.jpg'),\n",
       " ('/Users/rolly/Documents/10-19_Université_et_scolarité/paleo_comput/data/Building dedication - building inscription/Building inscription',\n",
       "  '8.274. Orthagoras, bishop, undertakes building work.jpg'),\n",
       " ('/Users/rolly/Documents/10-19_Université_et_scolarité/paleo_comput/data/Building dedication - building inscription/Building inscription',\n",
       "  '12.101. i. Honours for Flavius Constantius, governor, for building the wall; ii. Flavius Ampelios restores the gate D.jpg'),\n",
       " ('/Users/rolly/Documents/10-19_Université_et_scolarité/paleo_comput/data/Building dedication - building inscription/Building inscription',\n",
       "  '12.101. i. Honours for Flavius Constantius, governor, for building the wall; ii. Flavius Ampelios restores the gate A.jpg'),\n",
       " ('/Users/rolly/Documents/10-19_Université_et_scolarité/paleo_comput/data/Building dedication - building inscription/Building inscription',\n",
       "  '6.4. Building inscription by Fl. Constantius, governor A.jpg'),\n",
       " ('/Users/rolly/Documents/10-19_Université_et_scolarité/paleo_comput/data/Building dedication - building inscription/Building inscription',\n",
       "  '1.18. Anatolios donor.jpg'),\n",
       " ('/Users/rolly/Documents/10-19_Université_et_scolarité/paleo_comput/data/Building dedication - building inscription/Building inscription',\n",
       "  '12.101. i. Honours for Flavius Constantius, governor, for building the wall; ii. Flavius Ampelios restores the gate B.jpg'),\n",
       " ('/Users/rolly/Documents/10-19_Université_et_scolarité/paleo_comput/data/Building dedication - building inscription/Building inscription',\n",
       "  '6.4. Building inscription by Fl. Constantius, governor B.jpg'),\n",
       " ('/Users/rolly/Documents/10-19_Université_et_scolarité/paleo_comput/data/Building dedication - building inscription/Building inscription',\n",
       "  '12.101. i. Honours for Flavius Constantius, governor, for building the wall; ii. Flavius Ampelios restores the gate C.jpg'),\n",
       " ('/Users/rolly/Documents/10-19_Université_et_scolarité/paleo_comput/data/Building dedication - building inscription/Building inscription',\n",
       "  '1.15. Prayer of Anastasios, donor.jpg'),\n",
       " ('/Users/rolly/Documents/10-19_Université_et_scolarité/paleo_comput/data/Building dedication - building inscription/Building inscription',\n",
       "  '11.25. Building inscription of Melition son of Pythion A.jpg'),\n",
       " ('/Users/rolly/Documents/10-19_Université_et_scolarité/paleo_comput/data/Building dedication - building inscription/Building inscription',\n",
       "  '8.405. Honours for Julian by Antonius Tatianos F.jpg'),\n",
       " ('/Users/rolly/Documents/10-19_Université_et_scolarité/paleo_comput/data/Building dedication - building inscription/Building inscription',\n",
       "  '12.1001. Dedication to Constantius II and a Caesar by Fl. Quint. Eros Monaxios D.jpg'),\n",
       " ('/Users/rolly/Documents/10-19_Université_et_scolarité/paleo_comput/data/Building dedication - building inscription/Building inscription',\n",
       "  '12.1001. Dedication to Constantius II and a Caesar by Fl. Quint. Eros Monaxios E.jpg'),\n",
       " ('/Users/rolly/Documents/10-19_Université_et_scolarité/paleo_comput/data/Building dedication - building inscription/Building inscription',\n",
       "  '4.19. Philippos, admirandissimus, pays for work in the South Agora F.jpg'),\n",
       " ('/Users/rolly/Documents/10-19_Université_et_scolarité/paleo_comput/data/Building dedication - building inscription/Building inscription',\n",
       "  '5.12. i. Fragment of verse. ii. Place inscription of Synodios.jpg'),\n",
       " ('/Users/rolly/Documents/10-19_Université_et_scolarité/paleo_comput/data/Building dedication - building inscription/Building inscription',\n",
       "  '11.25. Building inscription of Melition son of Pythion B.jpg'),\n",
       " ('/Users/rolly/Documents/10-19_Université_et_scolarité/paleo_comput/data/Building dedication - building inscription/Building inscription',\n",
       "  '12.8. Building inscription by Claudia.jpg'),\n",
       " ('/Users/rolly/Documents/10-19_Université_et_scolarité/paleo_comput/data/Building dedication - building inscription/Building inscription',\n",
       "  '4.19. Philippos, admirandissimus, pays for work in the South Agora D.jpg'),\n",
       " ('/Users/rolly/Documents/10-19_Université_et_scolarité/paleo_comput/data/Building dedication - building inscription/Building inscription',\n",
       "  '4.19. Philippos, admirandissimus, pays for work in the South Agora E.jpg'),\n",
       " ('/Users/rolly/Documents/10-19_Université_et_scolarité/paleo_comput/data/Building dedication - building inscription/Building inscription',\n",
       "  '8.405. Honours for Julian by Antonius Tatianos D.jpg'),\n",
       " ('/Users/rolly/Documents/10-19_Université_et_scolarité/paleo_comput/data/Building dedication - building inscription/Building inscription',\n",
       "  '11.25. Building inscription of Melition son of Pythion C.jpg'),\n",
       " ('/Users/rolly/Documents/10-19_Université_et_scolarité/paleo_comput/data/Building dedication - building inscription/Building inscription',\n",
       "  '1.12. Prayer of Theodoretos and Kyriakos.jpg'),\n",
       " ('/Users/rolly/Documents/10-19_Université_et_scolarité/paleo_comput/data/Building dedication - building inscription/Building inscription',\n",
       "  '5.21. Flavius undertakes building works in the Hadrianic Baths.jpg'),\n",
       " ('/Users/rolly/Documents/10-19_Université_et_scolarité/paleo_comput/data/Building dedication - building inscription/Building inscription',\n",
       "  '8.610. Building inscription of Pytheas, in verse.jpg'),\n",
       " ('/Users/rolly/Documents/10-19_Université_et_scolarité/paleo_comput/data/Building dedication - building inscription/Building inscription',\n",
       "  '2.110. i. Honours for Septimus Severus; ii. Building inscription of Antonius Priskos B.jpg'),\n",
       " ('/Users/rolly/Documents/10-19_Université_et_scolarité/paleo_comput/data/Building dedication - building inscription/Building inscription',\n",
       "  \"2.19. Ampelios, father of the city, restores the 'palaestra'.jpg\"),\n",
       " ('/Users/rolly/Documents/10-19_Université_et_scolarité/paleo_comput/data/Building dedication - building inscription/Building inscription',\n",
       "  '4.19. Philippos, admirandissimus, pays for work in the South Agora A.jpg'),\n",
       " ('/Users/rolly/Documents/10-19_Université_et_scolarité/paleo_comput/data/Building dedication - building inscription/Building inscription',\n",
       "  '12.1001. Dedication to Constantius II and a Caesar by Fl. Quint. Eros Monaxios B.jpg'),\n",
       " ('/Users/rolly/Documents/10-19_Université_et_scolarité/paleo_comput/data/Building dedication - building inscription/Building inscription',\n",
       "  '12.1001. Dedication to Constantius II and a Caesar by Fl. Quint. Eros Monaxios C.jpg'),\n",
       " ('/Users/rolly/Documents/10-19_Université_et_scolarité/paleo_comput/data/Building dedication - building inscription/Building inscription',\n",
       "  '8.405. Honours for Julian by Antonius Tatianos A.jpg'),\n",
       " ('/Users/rolly/Documents/10-19_Université_et_scolarité/paleo_comput/data/Building dedication - building inscription/Building inscription',\n",
       "  '4.120. Building inscription of Helladios A.jpg'),\n",
       " ('/Users/rolly/Documents/10-19_Université_et_scolarité/paleo_comput/data/Building dedication - building inscription/Building inscription',\n",
       "  '2.110. i. Honours for Septimus Severus; ii. Building inscription of Antonius Priskos A.jpg'),\n",
       " ('/Users/rolly/Documents/10-19_Université_et_scolarité/paleo_comput/data/Building dedication - building inscription/Building inscription',\n",
       "  '11.25. Building inscription of Melition son of Pythion D.jpg'),\n",
       " ('/Users/rolly/Documents/10-19_Université_et_scolarité/paleo_comput/data/Building dedication - building inscription/Building inscription',\n",
       "  '4.19. Philippos, admirandissimus, pays for work in the South Agora B.jpg'),\n",
       " ('/Users/rolly/Documents/10-19_Université_et_scolarité/paleo_comput/data/Building dedication - building inscription/Building inscription',\n",
       "  '8.405. Honours for Julian by Antonius Tatianos C.jpg'),\n",
       " ('/Users/rolly/Documents/10-19_Université_et_scolarité/paleo_comput/data/Building dedication - building inscription/Building inscription',\n",
       "  '12.1001. Dedication to Constantius II and a Caesar by Fl. Quint. Eros Monaxios A.jpg'),\n",
       " ('/Users/rolly/Documents/10-19_Université_et_scolarité/paleo_comput/data/Building dedication - building inscription/Building inscription',\n",
       "  '8.405. Honours for Julian by Antonius Tatianos B.jpg'),\n",
       " ('/Users/rolly/Documents/10-19_Université_et_scolarité/paleo_comput/data/Building dedication - building inscription/Building inscription',\n",
       "  '4.19. Philippos, admirandissimus, pays for work in the South Agora C.jpg'),\n",
       " ('/Users/rolly/Documents/10-19_Université_et_scolarité/paleo_comput/data/Building dedication - building inscription/Building inscription',\n",
       "  '4.120. Building inscription of Helladios B.jpg'),\n",
       " ('/Users/rolly/Documents/10-19_Université_et_scolarité/paleo_comput/data/Building dedication - building inscription/Building inscription',\n",
       "  '1.13. Prayer of donors, including Theodoretos and Kyriakos A.jpg'),\n",
       " ('/Users/rolly/Documents/10-19_Université_et_scolarité/paleo_comput/data/Building dedication - building inscription/Building inscription',\n",
       "  '6.5. Verse honours for Ioannes, governor of Caria B.jpg'),\n",
       " ('/Users/rolly/Documents/10-19_Université_et_scolarité/paleo_comput/data/Building dedication - building inscription/Building inscription',\n",
       "  '8.262. Dedication (building inscription), to a saint.jpg'),\n",
       " ('/Users/rolly/Documents/10-19_Université_et_scolarité/paleo_comput/data/Building dedication - building inscription/Building inscription',\n",
       "  '6.5. Verse honours for Ioannes, governor of Caria C.jpg'),\n",
       " ('/Users/rolly/Documents/10-19_Université_et_scolarité/paleo_comput/data/Building dedication - building inscription/Building inscription',\n",
       "  '3.2. Building inscription by priest of Libertas.jpg'),\n",
       " ('/Users/rolly/Documents/10-19_Université_et_scolarité/paleo_comput/data/Building dedication - building inscription/Building inscription',\n",
       "  '7.2. Dedicatory poem A.jpg'),\n",
       " ('/Users/rolly/Documents/10-19_Université_et_scolarité/paleo_comput/data/Building dedication - building inscription/Building inscription',\n",
       "  '7.2. Dedicatory poem C.jpg'),\n",
       " ('/Users/rolly/Documents/10-19_Université_et_scolarité/paleo_comput/data/Building dedication - building inscription/Building inscription',\n",
       "  '1.13. Prayer of donors, including Theodoretos and Kyriakos B.jpg'),\n",
       " ('/Users/rolly/Documents/10-19_Université_et_scolarité/paleo_comput/data/Building dedication - building inscription/Building inscription',\n",
       "  '6.5. Verse honours for Ioannes, governor of Caria A.jpg'),\n",
       " ('/Users/rolly/Documents/10-19_Université_et_scolarité/paleo_comput/data/Building dedication - building inscription/Building inscription',\n",
       "  '7.2. Dedicatory poem B.jpg'),\n",
       " ('/Users/rolly/Documents/10-19_Université_et_scolarité/paleo_comput/data/Building dedication - building inscription/Building inscription',\n",
       "  \"1.17. Fragment of donor's prayer.jpg\"),\n",
       " ('/Users/rolly/Documents/10-19_Université_et_scolarité/paleo_comput/data/Building dedication - building inscription/Building inscription',\n",
       "  '1.507. Building inscription.jpg'),\n",
       " ('/Users/rolly/Documents/10-19_Université_et_scolarité/paleo_comput/data/Honours',\n",
       "  '13.146. Honours for L. Cl. Iberinos Eudaimon.jpg'),\n",
       " ('/Users/rolly/Documents/10-19_Université_et_scolarité/paleo_comput/data/Honours',\n",
       "  '12.924. Honours for the People of Keretapa.jpg'),\n",
       " ('/Users/rolly/Documents/10-19_Université_et_scolarité/paleo_comput/data/Honours',\n",
       "  '9.30. Honours for Tiberius Claudius Drusus.jpg'),\n",
       " ('/Users/rolly/Documents/10-19_Université_et_scolarité/paleo_comput/data/Honours',\n",
       "  '13.152. Honours for Zenon son of Zenon, boy runner Victor at the ninth Philemoniea.jpg'),\n",
       " ('/Users/rolly/Documents/10-19_Université_et_scolarité/paleo_comput/data/Honours',\n",
       "  '12.716. Honours for Kallimorphos, flautist.jpg'),\n",
       " ('/Users/rolly/Documents/10-19_Université_et_scolarité/paleo_comput/data/Honours',\n",
       "  '2.508. Funerary honours for Kastor son of Menekrates.jpg'),\n",
       " ('/Users/rolly/Documents/10-19_Université_et_scolarité/paleo_comput/data/Honours',\n",
       "  '12.108. Dedication for Emperors and Caesars.jpg'),\n",
       " ('/Users/rolly/Documents/10-19_Université_et_scolarité/paleo_comput/data/Honours',\n",
       "  '1.170. Fragmentary honours A.jpg'),\n",
       " ('/Users/rolly/Documents/10-19_Université_et_scolarité/paleo_comput/data/Honours',\n",
       "  '2.705. Fragment of honours for Marcus Aurelius[···].jpg'),\n",
       " ('/Users/rolly/Documents/10-19_Université_et_scolarité/paleo_comput/data/Honours',\n",
       "  '1.179. Honours for Marcus Aurelius Zenas D.jpg'),\n",
       " ('/Users/rolly/Documents/10-19_Université_et_scolarité/paleo_comput/data/Honours',\n",
       "  '15.265. Fragmentary honours.jpg'),\n",
       " ('/Users/rolly/Documents/10-19_Université_et_scolarité/paleo_comput/data/Honours',\n",
       "  '11.50. Honours for Claudia Paulina.jpg'),\n",
       " ('/Users/rolly/Documents/10-19_Université_et_scolarité/paleo_comput/data/Honours',\n",
       "  '11.16. Honours for Adrastos.jpg'),\n",
       " ('/Users/rolly/Documents/10-19_Université_et_scolarité/paleo_comput/data/Honours',\n",
       "  '12.1020. Honours for Ulpia Carminia Claudiana.jpg'),\n",
       " ('/Users/rolly/Documents/10-19_Université_et_scolarité/paleo_comput/data/Honours',\n",
       "  '8.608. i. Verse honours for Doulkitios from Balerianos; ii. Place inscription.jpg'),\n",
       " ('/Users/rolly/Documents/10-19_Université_et_scolarité/paleo_comput/data/Honours',\n",
       "  '14.13. Honours for Tiberius Claudius Capitolinus.jpg'),\n",
       " ('/Users/rolly/Documents/10-19_Université_et_scolarité/paleo_comput/data/Honours',\n",
       "  '1.170. Fragmentary honours B.jpg'),\n",
       " ('/Users/rolly/Documents/10-19_Université_et_scolarité/paleo_comput/data/Honours',\n",
       "  '2.506. Decree of honours by Plyareis for Agroitas Kallikrat[ous].jpg'),\n",
       " ('/Users/rolly/Documents/10-19_Université_et_scolarité/paleo_comput/data/Honours',\n",
       "  '12.701. Honours for an anonymous benefactor.jpg'),\n",
       " ('/Users/rolly/Documents/10-19_Université_et_scolarité/paleo_comput/data/Honours',\n",
       "  '8.236. Honours for Domitian.jpg'),\n",
       " ('/Users/rolly/Documents/10-19_Université_et_scolarité/paleo_comput/data/Honours',\n",
       "  '12.317. Honours for [Lucius] Antonius Zosas, who has established a foundation.jpg'),\n",
       " ('/Users/rolly/Documents/10-19_Université_et_scolarité/paleo_comput/data/Honours',\n",
       "  '1.186. Honours for Aurelia Apphia daughter of Epiktetos.jpg'),\n",
       " ('/Users/rolly/Documents/10-19_Université_et_scolarité/paleo_comput/data/Honours',\n",
       "  '9.32. Honours for Agrippina, daughter of Germanicus.jpg'),\n",
       " ('/Users/rolly/Documents/10-19_Université_et_scolarité/paleo_comput/data/Honours',\n",
       "  '15.214. Honours for Papias.jpg'),\n",
       " ('/Users/rolly/Documents/10-19_Université_et_scolarité/paleo_comput/data/Honours',\n",
       "  '1.189. Honours for Licinius Valerianus A.jpg'),\n",
       " ('/Users/rolly/Documents/10-19_Université_et_scolarité/paleo_comput/data/Honours',\n",
       "  '12.402. Restoration of the honours for his ancestor by Kallikrates.jpg'),\n",
       " ('/Users/rolly/Documents/10-19_Université_et_scolarité/paleo_comput/data/Honours',\n",
       "  '1.179. Honours for Marcus Aurelius Zenas C.jpg'),\n",
       " ('/Users/rolly/Documents/10-19_Université_et_scolarité/paleo_comput/data/Honours',\n",
       "  '5.215. Honours for a comes A.jpg'),\n",
       " ('/Users/rolly/Documents/10-19_Université_et_scolarité/paleo_comput/data/Honours',\n",
       "  '11.5. Honours for Papulos, contest-president.jpg'),\n",
       " ('/Users/rolly/Documents/10-19_Université_et_scolarité/paleo_comput/data/Honours',\n",
       "  '11.23. Posthumous honours for [···]nios, who has established a foundation.jpg'),\n",
       " ('/Users/rolly/Documents/10-19_Université_et_scolarité/paleo_comput/data/Honours',\n",
       "  '8.406. i. Honours for Titus Falvius Sallustios Athenagoras; ii. Honours for Valens by Antonius Tatianos.jpg'),\n",
       " ('/Users/rolly/Documents/10-19_Université_et_scolarité/paleo_comput/data/Honours',\n",
       "  '13.302. Funerary honours for Kallippos, Athenagoras and [···] C.jpg'),\n",
       " ('/Users/rolly/Documents/10-19_Université_et_scolarité/paleo_comput/data/Honours',\n",
       "  '13.302. Funerary honours for Kallippos, Athenagoras and [···] B.jpg'),\n",
       " ('/Users/rolly/Documents/10-19_Université_et_scolarité/paleo_comput/data/Honours',\n",
       "  '11.409. Honours for Chaireas.jpg'),\n",
       " ('/Users/rolly/Documents/10-19_Université_et_scolarité/paleo_comput/data/Honours',\n",
       "  '12.639. Honours for Marcus Aurelius [...]nus son of Artemon.jpg'),\n",
       " ('/Users/rolly/Documents/10-19_Université_et_scolarité/paleo_comput/data/Honours',\n",
       "  '12.403. Funerary honours by Artemeis for her brother Bacchios.jpg'),\n",
       " ('/Users/rolly/Documents/10-19_Université_et_scolarité/paleo_comput/data/Honours',\n",
       "  '11.58. Honours for anonymous, boy runner victor at the fifteenth Philemoniea.jpg'),\n",
       " ('/Users/rolly/Documents/10-19_Université_et_scolarité/paleo_comput/data/Honours',\n",
       "  '11.6. Posthumous honours for Papylos son of Iason.jpg'),\n",
       " ('/Users/rolly/Documents/10-19_Université_et_scolarité/paleo_comput/data/Honours',\n",
       "  '12.644. Honours for M. Aurelius Diogenes B.jpg'),\n",
       " ('/Users/rolly/Documents/10-19_Université_et_scolarité/paleo_comput/data/Honours',\n",
       "  '1.179. Honours for Marcus Aurelius Zenas B.jpg'),\n",
       " ('/Users/rolly/Documents/10-19_Université_et_scolarité/paleo_comput/data/Honours',\n",
       "  \"2.13. a. Honours for Claudia Antonia Tatiane; b. Sculptor's signature, of Alexandros.jpg\"),\n",
       " ('/Users/rolly/Documents/10-19_Université_et_scolarité/paleo_comput/data/Honours',\n",
       "  '1.177. Honours for Zenon son of Zenon, wrestler A.jpg'),\n",
       " ('/Users/rolly/Documents/10-19_Université_et_scolarité/paleo_comput/data/Honours',\n",
       "  '12.807. Honours for Marcus Antonius Popillios Agelaos.jpg'),\n",
       " ('/Users/rolly/Documents/10-19_Université_et_scolarité/paleo_comput/data/Honours',\n",
       "  '12.719. Decree of honours for Kallikrates son of Diogenes,pancratiast.jpg'),\n",
       " ('/Users/rolly/Documents/10-19_Université_et_scolarité/paleo_comput/data/Honours',\n",
       "  '1.189. Honours for Licinius Valerianus B.jpg'),\n",
       " ('/Users/rolly/Documents/10-19_Université_et_scolarité/paleo_comput/data/Honours',\n",
       "  '1.177. Honours for Zenon son of Zenon, wrestler C.jpg'),\n",
       " ('/Users/rolly/Documents/10-19_Université_et_scolarité/paleo_comput/data/Honours',\n",
       "  '7.14. Honours for anonymous.jpg'),\n",
       " ('/Users/rolly/Documents/10-19_Université_et_scolarité/paleo_comput/data/Honours',\n",
       "  '5.215. Honours for a comes B.jpg'),\n",
       " ('/Users/rolly/Documents/10-19_Université_et_scolarité/paleo_comput/data/Honours',\n",
       "  '12.708. Honours for M. Antonius Zenon Ulpianos.jpg'),\n",
       " ('/Users/rolly/Documents/10-19_Université_et_scolarité/paleo_comput/data/Honours',\n",
       "  '12.912. Honours for Marcus Aurelius Gaitulikos.jpg'),\n",
       " ('/Users/rolly/Documents/10-19_Université_et_scolarité/paleo_comput/data/Honours',\n",
       "  '12.12. Honours probably for Kallikrates son of Molossos.jpg'),\n",
       " ('/Users/rolly/Documents/10-19_Université_et_scolarité/paleo_comput/data/Honours',\n",
       "  '13.302. Funerary honours for Kallippos, Athenagoras and [···] A.jpg'),\n",
       " ('/Users/rolly/Documents/10-19_Université_et_scolarité/paleo_comput/data/Honours',\n",
       "  '15.319. Honours for Tib. Cl. [Apollonios] Aurelianos.jpg'),\n",
       " ('/Users/rolly/Documents/10-19_Université_et_scolarité/paleo_comput/data/Honours',\n",
       "  '12.636. Opening line of honours formula.jpg'),\n",
       " ('/Users/rolly/Documents/10-19_Université_et_scolarité/paleo_comput/data/Honours',\n",
       "  '12.17. Honours for Publius Aelius Hilarianos from his father.jpg'),\n",
       " ('/Users/rolly/Documents/10-19_Université_et_scolarité/paleo_comput/data/Honours',\n",
       "  '15.7. Funerary fragment or honours.jpg'),\n",
       " ('/Users/rolly/Documents/10-19_Université_et_scolarité/paleo_comput/data/Honours',\n",
       "  '12.644. Honours for M. Aurelius Diogenes A.jpg'),\n",
       " ('/Users/rolly/Documents/10-19_Université_et_scolarité/paleo_comput/data/Honours',\n",
       "  '12.311. Funerary inscription and honours for Attalos son of Attalos.jpg'),\n",
       " ('/Users/rolly/Documents/10-19_Université_et_scolarité/paleo_comput/data/Honours',\n",
       "  '11.62. Honours for Cornelia Salonina.jpg'),\n",
       " ('/Users/rolly/Documents/10-19_Université_et_scolarité/paleo_comput/data/Honours',\n",
       "  '1.177. Honours for Zenon son of Zenon, wrestler B.jpg'),\n",
       " ('/Users/rolly/Documents/10-19_Université_et_scolarité/paleo_comput/data/Honours',\n",
       "  '8.23. Honours for T. Claudius Diogenes.jpg'),\n",
       " ('/Users/rolly/Documents/10-19_Université_et_scolarité/paleo_comput/data/Honours',\n",
       "  '1.179. Honours for Marcus Aurelius Zenas A.jpg'),\n",
       " ('/Users/rolly/Documents/10-19_Université_et_scolarité/paleo_comput/data/Honours',\n",
       "  '1.189. Honours for Licinius Valerianus C.jpg'),\n",
       " ('/Users/rolly/Documents/10-19_Université_et_scolarité/paleo_comput/data/Honours',\n",
       "  '5.121. Verse honours for Menandros, vicar.jpg'),\n",
       " ('/Users/rolly/Documents/10-19_Université_et_scolarité/paleo_comput/data/Honours',\n",
       "  '12.646. Honours for Sallustius family B.jpg'),\n",
       " ('/Users/rolly/Documents/10-19_Université_et_scolarité/paleo_comput/data/Honours',\n",
       "  '9.28. Honours for Drusus Caesar.jpg'),\n",
       " ('/Users/rolly/Documents/10-19_Université_et_scolarité/paleo_comput/data/Honours',\n",
       "  '12.534. Honours for M. Aurelius Ariston; establishment of a foundation by Aurelia Ammia B.jpg'),\n",
       " ('/Users/rolly/Documents/10-19_Université_et_scolarité/paleo_comput/data/Honours',\n",
       "  '2.20. Epigram for Pytheas C.jpg'),\n",
       " ('/Users/rolly/Documents/10-19_Université_et_scolarité/paleo_comput/data/Honours',\n",
       "  '12.715. Fragmentary honours.jpg'),\n",
       " ('/Users/rolly/Documents/10-19_Université_et_scolarité/paleo_comput/data/Honours',\n",
       "  '15.219. Fragment from honours (or funerary) for Attalos.jpg'),\n",
       " ('/Users/rolly/Documents/10-19_Université_et_scolarité/paleo_comput/data/Honours',\n",
       "  '12.919. Honours for Hypsikleia Apphia (relative of) N[ikotimos].jpg'),\n",
       " ('/Users/rolly/Documents/10-19_Université_et_scolarité/paleo_comput/data/Honours',\n",
       "  '12.643. Honours for a son of Gallienus A.jpg'),\n",
       " ('/Users/rolly/Documents/10-19_Université_et_scolarité/paleo_comput/data/Honours',\n",
       "  '1.171. Honours for Lucius Antonius Karpion Aurelianos, who has established a foundation A.jpg'),\n",
       " ('/Users/rolly/Documents/10-19_Université_et_scolarité/paleo_comput/data/Honours',\n",
       "  '8.39. Honours for Hosidius Ioulianos A.jpg'),\n",
       " ('/Users/rolly/Documents/10-19_Université_et_scolarité/paleo_comput/data/Honours',\n",
       "  '12.1011. Honours for Zenon son of Menippos.jpg'),\n",
       " ('/Users/rolly/Documents/10-19_Université_et_scolarité/paleo_comput/data/Honours',\n",
       "  '11.104. Honours for an emperor, Augustus Germanicus B.jpg'),\n",
       " ('/Users/rolly/Documents/10-19_Université_et_scolarité/paleo_comput/data/Honours',\n",
       "  '5.16. First honours for Rhodopaios, in verse B.jpg'),\n",
       " ('/Users/rolly/Documents/10-19_Université_et_scolarité/paleo_comput/data/Honours',\n",
       "  '12.413. Honours for anonymous, having held every office in the city A.jpg'),\n",
       " ('/Users/rolly/Documents/10-19_Université_et_scolarité/paleo_comput/data/Honours',\n",
       "  '2.20. Epigram for Pytheas B.jpg'),\n",
       " ('/Users/rolly/Documents/10-19_Université_et_scolarité/paleo_comput/data/Honours',\n",
       "  '8.38. Honours for Hosidius Ioulianos A.jpg'),\n",
       " ('/Users/rolly/Documents/10-19_Université_et_scolarité/paleo_comput/data/Honours',\n",
       "  '12.613. Honours for Tiberius Claudius Hierokles.jpg'),\n",
       " ('/Users/rolly/Documents/10-19_Université_et_scolarité/paleo_comput/data/Honours',\n",
       "  '9.31. Honours for Julia, daughter of Drusus.jpg'),\n",
       " ('/Users/rolly/Documents/10-19_Université_et_scolarité/paleo_comput/data/Honours',\n",
       "  '12.534. Honours for M. Aurelius Ariston; establishment of a foundation by Aurelia Ammia C.jpg'),\n",
       " ('/Users/rolly/Documents/10-19_Université_et_scolarité/paleo_comput/data/Honours',\n",
       "  '4.201. Honours for Antoninus Pius.jpg'),\n",
       " ('/Users/rolly/Documents/10-19_Université_et_scolarité/paleo_comput/data/Honours',\n",
       "  '12.646. Honours for Sallustius family A.jpg'),\n",
       " ('/Users/rolly/Documents/10-19_Université_et_scolarité/paleo_comput/data/Honours',\n",
       "  '12.534. Honours for M. Aurelius Ariston; establishment of a foundation by Aurelia Ammia A.jpg'),\n",
       " ('/Users/rolly/Documents/10-19_Université_et_scolarité/paleo_comput/data/Honours',\n",
       "  '12.413. Honours for anonymous, having held every office in the city C.jpg'),\n",
       " ('/Users/rolly/Documents/10-19_Université_et_scolarité/paleo_comput/data/Honours',\n",
       "  '1.148. Fragmentary honours in Temple.jpg'),\n",
       " ('/Users/rolly/Documents/10-19_Université_et_scolarité/paleo_comput/data/Honours',\n",
       "  '8.39. Honours for Hosidius Ioulianos C.jpg'),\n",
       " ('/Users/rolly/Documents/10-19_Université_et_scolarité/paleo_comput/data/Honours',\n",
       "  '12.514. Honours for Emperor Tiberius.jpg'),\n",
       " ('/Users/rolly/Documents/10-19_Université_et_scolarité/paleo_comput/data/Honours',\n",
       "  '12.643. Honours for a son of Gallienus B.jpg'),\n",
       " ('/Users/rolly/Documents/10-19_Université_et_scolarité/paleo_comput/data/Honours',\n",
       "  '1.171. Honours for Lucius Antonius Karpion Aurelianos, who has established a foundation C.jpg'),\n",
       " ('/Users/rolly/Documents/10-19_Université_et_scolarité/paleo_comput/data/Honours',\n",
       "  '1.171. Honours for Lucius Antonius Karpion Aurelianos, who has established a foundation B.jpg'),\n",
       " ('/Users/rolly/Documents/10-19_Université_et_scolarité/paleo_comput/data/Honours',\n",
       "  '11.18. Posthumous honours for M. Quintilius Pedukaios.jpg'),\n",
       " ('/Users/rolly/Documents/10-19_Université_et_scolarité/paleo_comput/data/Honours',\n",
       "  '9.40. Honours for Atia mother of Augustus.jpg'),\n",
       " ('/Users/rolly/Documents/10-19_Université_et_scolarité/paleo_comput/data/Honours',\n",
       "  '8.39. Honours for Hosidius Ioulianos B.jpg'),\n",
       " ('/Users/rolly/Documents/10-19_Université_et_scolarité/paleo_comput/data/Honours',\n",
       "  '12.925. Honours for the People of Hierapolis.jpg'),\n",
       " ('/Users/rolly/Documents/10-19_Université_et_scolarité/paleo_comput/data/Honours',\n",
       "  '11.104. Honours for an emperor, Augustus Germanicus A.jpg'),\n",
       " ('/Users/rolly/Documents/10-19_Université_et_scolarité/paleo_comput/data/Honours',\n",
       "  '12.319. Decree of honours for Praxiteles son of Aristeas.jpg'),\n",
       " ('/Users/rolly/Documents/10-19_Université_et_scolarité/paleo_comput/data/Honours',\n",
       "  '5.16. First honours for Rhodopaios, in verse A.jpg'),\n",
       " ('/Users/rolly/Documents/10-19_Université_et_scolarité/paleo_comput/data/Honours',\n",
       "  '12.413. Honours for anonymous, having held every office in the city B.jpg'),\n",
       " ('/Users/rolly/Documents/10-19_Université_et_scolarité/paleo_comput/data/Honours',\n",
       "  '12.1018. Honours for M. Fl. Karminios Athenagoras Livianos.jpg'),\n",
       " ('/Users/rolly/Documents/10-19_Université_et_scolarité/paleo_comput/data/Honours',\n",
       "  '2.20. Epigram for Pytheas A.jpg'),\n",
       " ('/Users/rolly/Documents/10-19_Université_et_scolarité/paleo_comput/data/Honours',\n",
       "  '8.38. Honours for Hosidius Ioulianos B.jpg'),\n",
       " ('/Users/rolly/Documents/10-19_Université_et_scolarité/paleo_comput/data/Honours',\n",
       "  '12.641. Honours for Caracalla.jpg'),\n",
       " ('/Users/rolly/Documents/10-19_Université_et_scolarité/paleo_comput/data/Honours',\n",
       "  '11.15. Honours for [Tiberius Claudius Dioge]nes.jpg'),\n",
       " ('/Users/rolly/Documents/10-19_Université_et_scolarité/paleo_comput/data/Honours',\n",
       "  '15.2. Fragmentary honours.jpg'),\n",
       " ('/Users/rolly/Documents/10-19_Université_et_scolarité/paleo_comput/data/Honours',\n",
       "  '12.534. Honours for M. Aurelius Ariston; establishment of a foundation by Aurelia Ammia D.jpg'),\n",
       " ('/Users/rolly/Documents/10-19_Université_et_scolarité/paleo_comput/data/Honours',\n",
       "  '1.128. Honours for [···] son of Hypsikles son of Hypsikles.jpg'),\n",
       " ('/Users/rolly/Documents/10-19_Université_et_scolarité/paleo_comput/data/Honours',\n",
       "  '5.120. Verse honours for Eupeithios.jpg'),\n",
       " ('/Users/rolly/Documents/10-19_Université_et_scolarité/paleo_comput/data/Honours',\n",
       "  '13.301. Funerary honours for Neaira and Metrodoros B.jpg'),\n",
       " ('/Users/rolly/Documents/10-19_Université_et_scolarité/paleo_comput/data/Honours',\n",
       "  '5.10. i. Honours for Marcus Antonius Popillius Andronikos; ii. Fl. Photios gives a gameboard B.jpg'),\n",
       " ('/Users/rolly/Documents/10-19_Université_et_scolarité/paleo_comput/data/Honours',\n",
       "  '2.20. Epigram for Pytheas E.jpg'),\n",
       " ('/Users/rolly/Documents/10-19_Université_et_scolarité/paleo_comput/data/Honours',\n",
       "  '9.27. Honours for Lucius Caesar.jpg'),\n",
       " ('/Users/rolly/Documents/10-19_Université_et_scolarité/paleo_comput/data/Honours',\n",
       "  '6.103. Honours for P. Aelius Septimius Mannus, governor.jpg'),\n",
       " ('/Users/rolly/Documents/10-19_Université_et_scolarité/paleo_comput/data/Honours',\n",
       "  '12.101. i. Honours for Flavius Constantius, governor, for building the wall; ii. Flavius Ampelios restores the gate A.jpg'),\n",
       " ('/Users/rolly/Documents/10-19_Université_et_scolarité/paleo_comput/data/Honours',\n",
       "  '12.316. Fragmentary honours.jpg'),\n",
       " ('/Users/rolly/Documents/10-19_Université_et_scolarité/paleo_comput/data/Honours',\n",
       "  '12.602. Funerary honours for Geis and Heraios.jpg'),\n",
       " ('/Users/rolly/Documents/10-19_Université_et_scolarité/paleo_comput/data/Honours',\n",
       "  '12.1006. Posthumous honours for Iason son of Menodotos.jpg'),\n",
       " ('/Users/rolly/Documents/10-19_Université_et_scolarité/paleo_comput/data/Honours',\n",
       "  '15.260. Honours for Attalis Apphion.jpg'),\n",
       " ('/Users/rolly/Documents/10-19_Université_et_scolarité/paleo_comput/data/Honours',\n",
       "  '15.257. Fragmentary honours.jpg'),\n",
       " ('/Users/rolly/Documents/10-19_Université_et_scolarité/paleo_comput/data/Honours',\n",
       "  '2.101. Honours by People for Council B.jpg'),\n",
       " ('/Users/rolly/Documents/10-19_Université_et_scolarité/paleo_comput/data/Honours',\n",
       "  '12.206. Decree of honours for Attinas Meliton.jpg'),\n",
       " ('/Users/rolly/Documents/10-19_Université_et_scolarité/paleo_comput/data/Honours',\n",
       "  '12.920. Honours for Aelius Aurelius Menandros.jpg'),\n",
       " ('/Users/rolly/Documents/10-19_Université_et_scolarité/paleo_comput/data/Honours',\n",
       "  '2.20. Epigram for Pytheas D.jpg'),\n",
       " ('/Users/rolly/Documents/10-19_Université_et_scolarité/paleo_comput/data/Honours',\n",
       "  '5.18. Eugenios is honoured by the boule.jpg'),\n",
       " ('/Users/rolly/Documents/10-19_Université_et_scolarité/paleo_comput/data/Honours',\n",
       "  '13.6. Posthumous honours for Pyrrhos son of Pyrrhos A.jpg'),\n",
       " ('/Users/rolly/Documents/10-19_Université_et_scolarité/paleo_comput/data/Honours',\n",
       "  '12.31. Honours for , son of Apollonios, victor in a contest for sculptors at the first celebration of the Lysimachea Tatianea.jpg'),\n",
       " ('/Users/rolly/Documents/10-19_Université_et_scolarité/paleo_comput/data/Honours',\n",
       "  '12.534. Honours for M. Aurelius Ariston; establishment of a foundation by Aurelia Ammia E.jpg'),\n",
       " ('/Users/rolly/Documents/10-19_Université_et_scolarité/paleo_comput/data/Honours',\n",
       "  '12.306. Funerary honours for Hermias Glykon, his wife Apphia, and their daughter Apphia.jpg'),\n",
       " ('/Users/rolly/Documents/10-19_Université_et_scolarité/paleo_comput/data/Honours',\n",
       "  '11.223. Honours for anonymus, son of Artemidoros, boy boxer.jpg'),\n",
       " ('/Users/rolly/Documents/10-19_Université_et_scolarité/paleo_comput/data/Honours',\n",
       "  '15.322. Honours for anonymous.jpg'),\n",
       " ('/Users/rolly/Documents/10-19_Université_et_scolarité/paleo_comput/data/Honours',\n",
       "  '8.273. The city honours Bitianos, governor.jpg'),\n",
       " ('/Users/rolly/Documents/10-19_Université_et_scolarité/paleo_comput/data/Honours',\n",
       "  '5.10. i. Honours for Marcus Antonius Popillius Andronikos; ii. Fl. Photios gives a gameboard A.jpg'),\n",
       " ('/Users/rolly/Documents/10-19_Université_et_scolarité/paleo_comput/data/Honours',\n",
       "  '13.301. Funerary honours for Neaira and Metrodoros A.jpg'),\n",
       " ('/Users/rolly/Documents/10-19_Université_et_scolarité/paleo_comput/data/Honours',\n",
       "  '15.258. Honours for anonymous.jpg'),\n",
       " ('/Users/rolly/Documents/10-19_Université_et_scolarité/paleo_comput/data/Honours',\n",
       "  '2.20. Epigram for Pytheas F.jpg'),\n",
       " ('/Users/rolly/Documents/10-19_Université_et_scolarité/paleo_comput/data/Honours',\n",
       "  '12.535. Honours for Publius Aelius Hilarianos from his mother.jpg'),\n",
       " ('/Users/rolly/Documents/10-19_Université_et_scolarité/paleo_comput/data/Honours',\n",
       "  '8.252. Honours.jpg'),\n",
       " ('/Users/rolly/Documents/10-19_Université_et_scolarité/paleo_comput/data/Honours',\n",
       "  '12.101. i. Honours for Flavius Constantius, governor, for building the wall; ii. Flavius Ampelios restores the gate B.jpg'),\n",
       " ('/Users/rolly/Documents/10-19_Université_et_scolarité/paleo_comput/data/Honours',\n",
       "  '8.39. Honours for Hosidius Ioulianos E.jpg'),\n",
       " ('/Users/rolly/Documents/10-19_Université_et_scolarité/paleo_comput/data/Honours',\n",
       "  '2.101. Honours by People for Council A.jpg'),\n",
       " ('/Users/rolly/Documents/10-19_Université_et_scolarité/paleo_comput/data/Honours',\n",
       "  '8.39. Honours for Hosidius Ioulianos D.jpg'),\n",
       " ('/Users/rolly/Documents/10-19_Université_et_scolarité/paleo_comput/data/Honours',\n",
       "  '12.101. i. Honours for Flavius Constantius, governor, for building the wall; ii. Flavius Ampelios restores the gate C.jpg'),\n",
       " ('/Users/rolly/Documents/10-19_Université_et_scolarité/paleo_comput/data/Honours',\n",
       "  '12.802. Honours for female stephanephorus.jpg'),\n",
       " ('/Users/rolly/Documents/10-19_Université_et_scolarité/paleo_comput/data/Honours',\n",
       "  '2.20. Epigram for Pytheas G.jpg'),\n",
       " ('/Users/rolly/Documents/10-19_Université_et_scolarité/paleo_comput/data/Honours',\n",
       "  '12.413. Honours for anonymous, having held every office in the city D.jpg'),\n",
       " ('/Users/rolly/Documents/10-19_Université_et_scolarité/paleo_comput/data/Honours',\n",
       "  '13.6. Posthumous honours for Pyrrhos son of Pyrrhos B.jpg'),\n",
       " ('/Users/rolly/Documents/10-19_Université_et_scolarité/paleo_comput/data/Honours',\n",
       "  '15.266. Honours or dedication.jpg'),\n",
       " ('/Users/rolly/Documents/10-19_Université_et_scolarité/paleo_comput/data/Honours',\n",
       "  \"8.88. i. Honours for Piseas, circuit-victor. ii. Sculptor's signature Polyneikes.jpg\"),\n",
       " ('/Users/rolly/Documents/10-19_Université_et_scolarité/paleo_comput/data/Honours',\n",
       "  '8.235. Honours for Lucius Antonius Ze[···].jpg'),\n",
       " ('/Users/rolly/Documents/10-19_Université_et_scolarité/paleo_comput/data/Honours',\n",
       "  '5.17. Second honours for Rhodopaios A.jpg'),\n",
       " ('/Users/rolly/Documents/10-19_Université_et_scolarité/paleo_comput/data/Honours',\n",
       "  '12.104. Posthumous honours for Theodotos son of Andronikos A.jpg'),\n",
       " ('/Users/rolly/Documents/10-19_Université_et_scolarité/paleo_comput/data/Honours',\n",
       "  '2.110. i. Honours for Septimus Severus; ii. Building inscription of Antonius Priskos D.jpg'),\n",
       " ('/Users/rolly/Documents/10-19_Université_et_scolarité/paleo_comput/data/Honours',\n",
       "  '15.324. Fragmentary honours.jpg'),\n",
       " ('/Users/rolly/Documents/10-19_Université_et_scolarité/paleo_comput/data/Honours',\n",
       "  '2.16. Honours for Attalos and Diogenes, brothers C.jpg'),\n",
       " ('/Users/rolly/Documents/10-19_Université_et_scolarité/paleo_comput/data/Honours',\n",
       "  '1.158. Honours for anonymous C.jpg'),\n",
       " ('/Users/rolly/Documents/10-19_Université_et_scolarité/paleo_comput/data/Honours',\n",
       "  '12.645. Honours for M. Aurelius Diogenes.jpg'),\n",
       " ('/Users/rolly/Documents/10-19_Université_et_scolarité/paleo_comput/data/Honours',\n",
       "  '2.505. Fragment, of honours.jpg'),\n",
       " ('/Users/rolly/Documents/10-19_Université_et_scolarité/paleo_comput/data/Honours',\n",
       "  '12.511. Fragmentary honours.jpg'),\n",
       " ('/Users/rolly/Documents/10-19_Université_et_scolarité/paleo_comput/data/Honours',\n",
       "  '15.17. Fragmentary honours.jpg'),\n",
       " ('/Users/rolly/Documents/10-19_Université_et_scolarité/paleo_comput/data/Honours',\n",
       "  '9.26. Honours for Antonia Augusta.jpg'),\n",
       " ('/Users/rolly/Documents/10-19_Université_et_scolarité/paleo_comput/data/Honours',\n",
       "  '12.326. Honours for emperor Caracalla.jpg'),\n",
       " ('/Users/rolly/Documents/10-19_Université_et_scolarité/paleo_comput/data/Honours',\n",
       "  '1.159. Honours for daughter of Hephaistion B.jpg'),\n",
       " ('/Users/rolly/Documents/10-19_Université_et_scolarité/paleo_comput/data/Honours',\n",
       "  '12.201. Decree of honours for Pereitas.jpg'),\n",
       " ('/Users/rolly/Documents/10-19_Université_et_scolarité/paleo_comput/data/Honours',\n",
       "  '4.10. Fl. Eutolmius Tatianos honours Arcadius.jpg'),\n",
       " ('/Users/rolly/Documents/10-19_Université_et_scolarité/paleo_comput/data/Honours',\n",
       "  '4.20. Verse honours for Albinos A.jpg'),\n",
       " ('/Users/rolly/Documents/10-19_Université_et_scolarité/paleo_comput/data/Honours',\n",
       "  '1.158. Honours for anonymous B.jpg'),\n",
       " ('/Users/rolly/Documents/10-19_Université_et_scolarité/paleo_comput/data/Honours',\n",
       "  '2.16. Honours for Attalos and Diogenes, brothers B.jpg'),\n",
       " ('/Users/rolly/Documents/10-19_Université_et_scolarité/paleo_comput/data/Honours',\n",
       "  '3.101. Honours for Marcus and Publius Vinicius.jpg'),\n",
       " ('/Users/rolly/Documents/10-19_Université_et_scolarité/paleo_comput/data/Honours',\n",
       "  '2.110. i. Honours for Septimus Severus; ii. Building inscription of Antonius Priskos E.jpg'),\n",
       " ('/Users/rolly/Documents/10-19_Université_et_scolarité/paleo_comput/data/Honours',\n",
       "  '12.520. Honours for [Tiber]ius Claudius Attalos.jpg'),\n",
       " ('/Users/rolly/Documents/10-19_Université_et_scolarité/paleo_comput/data/Honours',\n",
       "  '1.201. Verse honours for a governor A.jpg'),\n",
       " ('/Users/rolly/Documents/10-19_Université_et_scolarité/paleo_comput/data/Honours',\n",
       "  '8.407. Verse honours for a governor A.jpg'),\n",
       " ('/Users/rolly/Documents/10-19_Université_et_scolarité/paleo_comput/data/Honours',\n",
       "  '5.17. Second honours for Rhodopaios B.jpg'),\n",
       " ('/Users/rolly/Documents/10-19_Université_et_scolarité/paleo_comput/data/Honours',\n",
       "  '8.709. Honours for Flavius Carminius Klaudianos.jpg'),\n",
       " ('/Users/rolly/Documents/10-19_Université_et_scolarité/paleo_comput/data/Honours',\n",
       "  '12.804. Honours for anonymous.jpg'),\n",
       " ('/Users/rolly/Documents/10-19_Université_et_scolarité/paleo_comput/data/Honours',\n",
       "  '12.203. Posthumous honours for Attinas son of Theodoros.jpg'),\n",
       " ('/Users/rolly/Documents/10-19_Université_et_scolarité/paleo_comput/data/Honours',\n",
       "  '9.38. Honours for Germanicus Caesar.jpg'),\n",
       " ('/Users/rolly/Documents/10-19_Université_et_scolarité/paleo_comput/data/Honours',\n",
       "  '2.20. Epigram for Pytheas I.jpg'),\n",
       " ('/Users/rolly/Documents/10-19_Université_et_scolarité/paleo_comput/data/Honours',\n",
       "  '9.19. Honours for anonymous, high-priest.jpg'),\n",
       " ('/Users/rolly/Documents/10-19_Université_et_scolarité/paleo_comput/data/Honours',\n",
       "  '4.309. Honours for T. Oppius Aelianus Asklepiodotos.jpg'),\n",
       " ('/Users/rolly/Documents/10-19_Université_et_scolarité/paleo_comput/data/Honours',\n",
       "  '12.308. Posthumous honours for Adrastos son of Nikotimos.jpg'),\n",
       " ('/Users/rolly/Documents/10-19_Université_et_scolarité/paleo_comput/data/Honours',\n",
       "  '1.159. Honours for daughter of Hephaistion A.jpg'),\n",
       " ('/Users/rolly/Documents/10-19_Université_et_scolarité/paleo_comput/data/Honours',\n",
       "  '4.311. Honours for an Emperor, Justinian.jpg'),\n",
       " ('/Users/rolly/Documents/10-19_Université_et_scolarité/paleo_comput/data/Honours',\n",
       "  '2.20. Epigram for Pytheas H.jpg'),\n",
       " ('/Users/rolly/Documents/10-19_Université_et_scolarité/paleo_comput/data/Honours',\n",
       "  '12.710. Fragmentary honours, second or third century.jpg'),\n",
       " ('/Users/rolly/Documents/10-19_Université_et_scolarité/paleo_comput/data/Honours',\n",
       "  '4.20. Verse honours for Albinos B.jpg'),\n",
       " ('/Users/rolly/Documents/10-19_Université_et_scolarité/paleo_comput/data/Honours',\n",
       "  '4.101. Honours for an anonymous benefactor, Solon son of Demetrios.jpg'),\n",
       " ('/Users/rolly/Documents/10-19_Université_et_scolarité/paleo_comput/data/Honours',\n",
       "  '2.16. Honours for Attalos and Diogenes, brothers A.jpg'),\n",
       " ('/Users/rolly/Documents/10-19_Université_et_scolarité/paleo_comput/data/Honours',\n",
       "  '1.158. Honours for anonymous A.jpg'),\n",
       " ('/Users/rolly/Documents/10-19_Université_et_scolarité/paleo_comput/data/Honours',\n",
       "  '12.502. Funerary honours for Epainetos.jpg'),\n",
       " ('/Users/rolly/Documents/10-19_Université_et_scolarité/paleo_comput/data/Honours',\n",
       "  '12.1008. Public honours for anonymous.jpg'),\n",
       " ('/Users/rolly/Documents/10-19_Université_et_scolarité/paleo_comput/data/Honours',\n",
       "  '12.1019. Posthumous honours for Tiberius Cl(audius) Antonius [Am]mianos.jpg'),\n",
       " ('/Users/rolly/Documents/10-19_Université_et_scolarité/paleo_comput/data/Honours',\n",
       "  '8.407. Verse honours for a governor B.jpg'),\n",
       " ('/Users/rolly/Documents/10-19_Université_et_scolarité/paleo_comput/data/Honours',\n",
       "  '1.201. Verse honours for a governor B.jpg'),\n",
       " ('/Users/rolly/Documents/10-19_Université_et_scolarité/paleo_comput/data/Honours',\n",
       "  '2.110. i. Honours for Septimus Severus; ii. Building inscription of Antonius Priskos B.jpg'),\n",
       " ('/Users/rolly/Documents/10-19_Université_et_scolarité/paleo_comput/data/Honours',\n",
       "  '1.118. Honours for anonymous, overseen by Marcus Aurelius Zenas A.jpg'),\n",
       " ('/Users/rolly/Documents/10-19_Université_et_scolarité/paleo_comput/data/Honours',\n",
       "  '5.204. i. Honours for Pyrron son of Itharos; ii. Verse honours for Hermias, benefactor A.jpg'),\n",
       " ('/Users/rolly/Documents/10-19_Université_et_scolarité/paleo_comput/data/Honours',\n",
       "  '1.158. Honours for anonymous E.jpg'),\n",
       " ('/Users/rolly/Documents/10-19_Université_et_scolarité/paleo_comput/data/Honours',\n",
       "  '1.176. Honours for anonymous.jpg'),\n",
       " ('/Users/rolly/Documents/10-19_Université_et_scolarité/paleo_comput/data/Honours',\n",
       "  '8.405. Honours for Julian by Antonius Tatianos A.jpg'),\n",
       " ('/Users/rolly/Documents/10-19_Université_et_scolarité/paleo_comput/data/Honours',\n",
       "  '11.4. Honours for Panphilos Krokion.jpg'),\n",
       " ('/Users/rolly/Documents/10-19_Université_et_scolarité/paleo_comput/data/Honours',\n",
       "  '11.22. Posthumous honours for Zenon son of Zenon.jpg'),\n",
       " ('/Users/rolly/Documents/10-19_Université_et_scolarité/paleo_comput/data/Honours',\n",
       "  '2.16. Honours for Attalos and Diogenes, brothers D.jpg'),\n",
       " ('/Users/rolly/Documents/10-19_Université_et_scolarité/paleo_comput/data/Honours',\n",
       "  '1.158. Honours for anonymous D.jpg'),\n",
       " ('/Users/rolly/Documents/10-19_Université_et_scolarité/paleo_comput/data/Honours',\n",
       "  '1.187. Honours for [...] daughter of ...]lianos A.jpg'),\n",
       " ('/Users/rolly/Documents/10-19_Université_et_scolarité/paleo_comput/data/Honours',\n",
       "  '2.110. i. Honours for Septimus Severus; ii. Building inscription of Antonius Priskos C.jpg'),\n",
       " ('/Users/rolly/Documents/10-19_Université_et_scolarité/paleo_comput/data/Honours',\n",
       "  '2.110. i. Honours for Septimus Severus; ii. Building inscription of Antonius Priskos A.jpg'),\n",
       " ('/Users/rolly/Documents/10-19_Université_et_scolarité/paleo_comput/data/Honours',\n",
       "  '1.118. Honours for anonymous, overseen by Marcus Aurelius Zenas B.jpg'),\n",
       " ('/Users/rolly/Documents/10-19_Université_et_scolarité/paleo_comput/data/Honours',\n",
       "  '3.8. i. Verse honours for Oikoumenios; ii. Invocation.jpg'),\n",
       " ('/Users/rolly/Documents/10-19_Université_et_scolarité/paleo_comput/data/Honours',\n",
       "  '8.243. Honours.jpg'),\n",
       " ('/Users/rolly/Documents/10-19_Université_et_scolarité/paleo_comput/data/Honours',\n",
       "  '5.204. i. Honours for Pyrron son of Itharos; ii. Verse honours for Hermias, benefactor B.jpg'),\n",
       " ('/Users/rolly/Documents/10-19_Université_et_scolarité/paleo_comput/data/Honours',\n",
       "  '5.116. Honours for Marcus [···].jpg'),\n",
       " ('/Users/rolly/Documents/10-19_Université_et_scolarité/paleo_comput/data/Honours',\n",
       "  '12.929. Honours for the People of Tabae.jpg'),\n",
       " ('/Users/rolly/Documents/10-19_Université_et_scolarité/paleo_comput/data/Honours',\n",
       "  '12.614. Honours for Titus Caesar.jpg'),\n",
       " ('/Users/rolly/Documents/10-19_Université_et_scolarité/paleo_comput/data/Honours',\n",
       "  '8.405. Honours for Julian by Antonius Tatianos B.jpg'),\n",
       " ('/Users/rolly/Documents/10-19_Université_et_scolarité/paleo_comput/data/Honours',\n",
       "  '12.417. Honours for Apollonios the high-priest.jpg'),\n",
       " ('/Users/rolly/Documents/10-19_Université_et_scolarité/paleo_comput/data/Honours',\n",
       "  '8.203. Honours for Gaius Julius Zoilos.jpg'),\n",
       " ('/Users/rolly/Documents/10-19_Université_et_scolarité/paleo_comput/data/Honours',\n",
       "  '11.48. Honours for Dionysios son of Mo[···].jpg'),\n",
       " ('/Users/rolly/Documents/10-19_Université_et_scolarité/paleo_comput/data/Honours',\n",
       "  '5.204. i. Honours for Pyrron son of Itharos; ii. Verse honours for Hermias, benefactor C.jpg'),\n",
       " ('/Users/rolly/Documents/10-19_Université_et_scolarité/paleo_comput/data/Honours',\n",
       "  '12.931. Honours for Aur(elius) Gaius, centurio frumentarius.jpg'),\n",
       " ('/Users/rolly/Documents/10-19_Université_et_scolarité/paleo_comput/data/Honours',\n",
       "  '11.222. Honours for Andreas, son of Androneikianos, boy runner.jpg'),\n",
       " ('/Users/rolly/Documents/10-19_Université_et_scolarité/paleo_comput/data/Honours',\n",
       "  '1.187. Honours for [...] daughter of ...]lianos B.jpg'),\n",
       " ('/Users/rolly/Documents/10-19_Université_et_scolarité/paleo_comput/data/Honours',\n",
       "  '1.182. Honours for Meliton, kitharist F.jpg'),\n",
       " ('/Users/rolly/Documents/10-19_Université_et_scolarité/paleo_comput/data/Honours',\n",
       "  '12.307. Posthumous honours for Dionysios son of Artemidoros.jpg'),\n",
       " ('/Users/rolly/Documents/10-19_Université_et_scolarité/paleo_comput/data/Honours',\n",
       "  '6.5. Verse honours for Ioannes, governor of Caria B.jpg'),\n",
       " ('/Users/rolly/Documents/10-19_Université_et_scolarité/paleo_comput/data/Honours',\n",
       "  '11.515. Honours for Rhodopaios, for the third time C.jpg'),\n",
       " ('/Users/rolly/Documents/10-19_Université_et_scolarité/paleo_comput/data/Honours',\n",
       "  '4.202. Verse honours i. for Ampelios, father of the city; ii. and iii. for Doulkitios, governor, on the Agora Gate B.jpg'),\n",
       " ('/Users/rolly/Documents/10-19_Université_et_scolarité/paleo_comput/data/Honours',\n",
       "  '12.711. Funerary honours for anonymous, pancratiast E.jpg'),\n",
       " ('/Users/rolly/Documents/10-19_Université_et_scolarité/paleo_comput/data/Honours',\n",
       "  '12.1102. Honours for Sokrates son of Theophrastos.jpg'),\n",
       " ('/Users/rolly/Documents/10-19_Université_et_scolarité/paleo_comput/data/Honours',\n",
       "  '12.711. Funerary honours for anonymous, pancratiast D.jpg'),\n",
       " ('/Users/rolly/Documents/10-19_Université_et_scolarité/paleo_comput/data/Honours',\n",
       "  '12.623. Honours for M. Valerius Epaphrodeitos, singer to the kithara.jpg'),\n",
       " ('/Users/rolly/Documents/10-19_Université_et_scolarité/paleo_comput/data/Honours',\n",
       "  '4.202. Verse honours i. for Ampelios, father of the city; ii. and iii. for Doulkitios, governor, on the Agora Gate C.jpg'),\n",
       " ('/Users/rolly/Documents/10-19_Université_et_scolarité/paleo_comput/data/Honours',\n",
       "  '12.301. Honours for Sextus Appuleius.jpg'),\n",
       " ('/Users/rolly/Documents/10-19_Université_et_scolarité/paleo_comput/data/Honours',\n",
       "  '11.515. Honours for Rhodopaios, for the third time B.jpg'),\n",
       " ('/Users/rolly/Documents/10-19_Université_et_scolarité/paleo_comput/data/Honours',\n",
       "  '6.5. Verse honours for Ioannes, governor of Caria C.jpg'),\n",
       " ...]"
      ]
     },
     "execution_count": 13,
     "metadata": {},
     "output_type": "execute_result"
    }
   ],
   "source": [
    "import os\n",
    "all_jpg_files = []\n",
    "for root, dirs, files in os.walk('/Users/rolly/Documents/10-19_Université_et_scolarité/paleo_comput/data'):\n",
    "    for file in files:\n",
    "        if file.endswith(\".jpg\"):\n",
    "            all_jpg_files.append((root, file))\n",
    "\n",
    "all_jpg_files"
   ]
  },
  {
   "cell_type": "code",
   "execution_count": 11,
   "id": "1d965f5f",
   "metadata": {},
   "outputs": [],
   "source": [
    "missing_file = [i for i in all_jpg_files if i not in all_jpg_files_cleaned ]"
   ]
  },
  {
   "cell_type": "code",
   "execution_count": 14,
   "id": "08b3c036",
   "metadata": {},
   "outputs": [],
   "source": [
    "\n",
    "## move missing files from data to data clean\n",
    "\n",
    "import os\n",
    "import shutil\n",
    "\n",
    "#all_jpg_files = []\n",
    "for root, dirs, files in os.walk('/Users/rolly/Documents/10-19_Université_et_scolarité/paleo_comput/data'):\n",
    "    for file in files : \n",
    "        if file in missing_file : \n",
    "            classe = root.split(\"/\")[-2] if len(root.split(\"/\")) == 9 else root.split(\"/\")[-1]\n",
    "            shutil.copy(os.path.join(root, file),os.path.join('/Users/rolly/Documents/10-19_Université_et_scolarité/paleo_comput/data_clean',classe,file))\n",
    "\n",
    "#all_jpg_files\n"
   ]
  },
  {
   "cell_type": "code",
   "execution_count": null,
   "id": "7b1f4f86",
   "metadata": {},
   "outputs": [],
   "source": []
  }
 ],
 "metadata": {
  "kernelspec": {
   "display_name": "python-S2",
   "language": "python",
   "name": "python3"
  },
  "language_info": {
   "codemirror_mode": {
    "name": "ipython",
    "version": 3
   },
   "file_extension": ".py",
   "mimetype": "text/x-python",
   "name": "python",
   "nbconvert_exporter": "python",
   "pygments_lexer": "ipython3",
   "version": "3.8.20"
  }
 },
 "nbformat": 4,
 "nbformat_minor": 5
}
